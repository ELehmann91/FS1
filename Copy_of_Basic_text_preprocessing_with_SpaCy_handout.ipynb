{
  "nbformat": 4,
  "nbformat_minor": 0,
  "metadata": {
    "kernelspec": {
      "display_name": "Python 3",
      "language": "python",
      "name": "python3"
    },
    "language_info": {
      "codemirror_mode": {
        "name": "ipython",
        "version": 3
      },
      "file_extension": ".py",
      "mimetype": "text/x-python",
      "name": "python",
      "nbconvert_exporter": "python",
      "pygments_lexer": "ipython3",
      "version": "3.6.8"
    },
    "toc": {
      "base_numbering": 1,
      "nav_menu": {},
      "number_sections": true,
      "sideBar": true,
      "skip_h1_title": false,
      "title_cell": "Table of Contents",
      "title_sidebar": "Contents",
      "toc_cell": false,
      "toc_position": {},
      "toc_section_display": true,
      "toc_window_display": false
    },
    "varInspector": {
      "cols": {
        "lenName": 16,
        "lenType": 16,
        "lenVar": 40
      },
      "kernels_config": {
        "python": {
          "delete_cmd_postfix": "",
          "delete_cmd_prefix": "del ",
          "library": "var_list.py",
          "varRefreshCmd": "print(var_dic_list())"
        },
        "r": {
          "delete_cmd_postfix": ") ",
          "delete_cmd_prefix": "rm(",
          "library": "var_list.r",
          "varRefreshCmd": "cat(var_dic_list()) "
        }
      },
      "types_to_exclude": [
        "module",
        "function",
        "builtin_function_or_method",
        "instance",
        "_Feature"
      ],
      "window_display": false
    },
    "colab": {
      "name": "Copy of Basic_text_preprocessing_with_SpaCy_handout.ipynb",
      "provenance": [],
      "collapsed_sections": [],
      "include_colab_link": true
    }
  },
  "cells": [
    {
      "cell_type": "markdown",
      "metadata": {
        "id": "view-in-github",
        "colab_type": "text"
      },
      "source": [
        "<a href=\"https://colab.research.google.com/github/ELehmann91/FS1/blob/master/Copy_of_Basic_text_preprocessing_with_SpaCy_handout.ipynb\" target=\"_parent\"><img src=\"https://colab.research.google.com/assets/colab-badge.svg\" alt=\"Open In Colab\"/></a>"
      ]
    },
    {
      "cell_type": "markdown",
      "metadata": {
        "id": "xXRPK64TPrgb",
        "colab_type": "text"
      },
      "source": [
        "# Using the SpaCy pipeline\n",
        "\n",
        "This task is aiming to demonstrate the tokenization capabilites of [SpaCy](https://spacy.io/), as well as to serve as an introduction to the pipeline's capabilities combined with [rule based matching](https://spacy.io/usage/rule-based-matching).\n",
        "\n",
        "Our goal will be to process the demonstration text, as well as to correct for some peculiarities, like special pronunciation marks, wide-spread abbreviations and foreign language insertions into our text.\n",
        "\n",
        "It is mandatory, to stick to SpaCy based pipeline operations so as to make our analysis reproducible by running the pipeline on other texts presumably coming from the same corpus."
      ]
    },
    {
      "cell_type": "markdown",
      "metadata": {
        "id": "dIZAlJjSPrgf",
        "colab_type": "text"
      },
      "source": [
        "## Our demonstration text\n",
        "\n",
        "Original from [Deutsche Sprache](https://de.wikipedia.org/wiki/Deutsche_Sprache) Wikipedia entry - with some modifications."
      ]
    },
    {
      "cell_type": "code",
      "metadata": {
        "ExecuteTime": {
          "end_time": "2019-11-08T11:44:03.801971Z",
          "start_time": "2019-11-08T11:44:03.798661Z"
        },
        "id": "MRol7FVTPrgi",
        "colab_type": "code",
        "colab": {}
      },
      "source": [
        "text= '''Die deutsche Sprache bzw. Deutsch ([dɔʏ̯t͡ʃ]; abgekürzt dt. oder dtsch.) ist eine westgermanische Sprache.\n",
        "\n",
        "And this is an English sentence inbetween.\n",
        "\n",
        "Ihr Sprachraum umfasst Deutschland, Österreich, die Deutschschweiz, Liechtenstein, Luxemburg, Ostbelgien, Südtirol, das Elsass und Lothringen sowie Nordschleswig. Außerdem ist sie eine Minderheitensprache in einigen europäischen und außereuropäischen Ländern, z. B. in Rumänien und Südafrika, sowie Nationalsprache im afrikanischen Namibia.'''"
      ],
      "execution_count": 0,
      "outputs": []
    },
    {
      "cell_type": "markdown",
      "metadata": {
        "id": "DcYyYKoxPrgs",
        "colab_type": "text"
      },
      "source": [
        "## Basic usage\n",
        "\n",
        "After installing SpaCy, let us demonstrate it's basic usage by analysing our text."
      ]
    },
    {
      "cell_type": "code",
      "metadata": {
        "ExecuteTime": {
          "end_time": "2019-11-08T11:44:04.978496Z",
          "start_time": "2019-11-08T11:44:03.810849Z"
        },
        "id": "zEYjEDhDPrgv",
        "colab_type": "code",
        "colab": {}
      },
      "source": [
        "%%capture\n",
        "!pip install tabulate\n",
        "!pip install spacy\n"
      ],
      "execution_count": 0,
      "outputs": []
    },
    {
      "cell_type": "code",
      "metadata": {
        "id": "r09ltN_6Prg5",
        "colab_type": "code",
        "outputId": "8a7844ce-7e4f-46f0-cc92-d74335856ac8",
        "colab": {
          "base_uri": "https://localhost:8080/",
          "height": 87
        }
      },
      "source": [
        "# Ok, we installed SpaCy, but do we have a model for German?\n",
        "# Something has to be done here to get it!\n",
        "!python -m spacy download de_core_news_sm\n"
      ],
      "execution_count": 3,
      "outputs": [
        {
          "output_type": "stream",
          "text": [
            "Requirement already satisfied: de_core_news_sm==2.1.0 from https://github.com/explosion/spacy-models/releases/download/de_core_news_sm-2.1.0/de_core_news_sm-2.1.0.tar.gz#egg=de_core_news_sm==2.1.0 in /usr/local/lib/python3.6/dist-packages (2.1.0)\n",
            "\u001b[38;5;2m✔ Download and installation successful\u001b[0m\n",
            "You can now load the model via spacy.load('de_core_news_sm')\n"
          ],
          "name": "stdout"
        }
      ]
    },
    {
      "cell_type": "code",
      "metadata": {
        "ExecuteTime": {
          "end_time": "2019-11-08T11:44:06.365430Z",
          "start_time": "2019-11-08T11:44:04.981233Z"
        },
        "id": "TaWZvj8KPrhE",
        "colab_type": "code",
        "colab": {}
      },
      "source": [
        "# Please do the appropriate imports for SpaCy and it's rule based Matcher class!\n",
        "\n",
        "import spacy\n",
        "\n",
        "# Please don't forget to instantiate the language model that we will use later on for analysis\n",
        "\n",
        "nlp = spacy.load(\"de_core_news_sm\")"
      ],
      "execution_count": 0,
      "outputs": []
    },
    {
      "cell_type": "code",
      "metadata": {
        "ExecuteTime": {
          "end_time": "2019-11-08T11:44:06.385990Z",
          "start_time": "2019-11-08T11:44:06.366784Z"
        },
        "id": "acrETC_qPrhP",
        "colab_type": "code",
        "colab": {}
      },
      "source": [
        "# And please use the model to analyse the text from above!\n",
        "\n",
        "doc= nlp(text)"
      ],
      "execution_count": 0,
      "outputs": []
    },
    {
      "cell_type": "markdown",
      "metadata": {
        "id": "OfQ5JilePrhU",
        "colab_type": "text"
      },
      "source": [
        "### Helper functions for nice printout\n",
        "\n",
        "We just define some helper functions for nice printout. Nothing to do here, except to observe the ways one can iterate over a corpus or sentence, as well as the nice output of [Tabulate](https://bitbucket.org/astanin/python-tabulate/src/master/). "
      ]
    },
    {
      "cell_type": "code",
      "metadata": {
        "ExecuteTime": {
          "end_time": "2019-11-08T11:44:06.395057Z",
          "start_time": "2019-11-08T11:44:06.387362Z"
        },
        "id": "m4Tl6LdTPrhX",
        "colab_type": "code",
        "colab": {}
      },
      "source": [
        "from tabulate import tabulate\n",
        "\n",
        "def print_sentences(doc):\n",
        "    for sentence in doc.sents:\n",
        "        print(sentence,\"\\n\")\n",
        "\n",
        "def print_tokens_for_sentence(doc,sentence_num, stopwords=False):\n",
        "    attribs=[]\n",
        "    for token in list(doc.sents)[sentence_num]:\n",
        "        if token.has_extension(\"is_lemma_stop\"):\n",
        "            if stopwords and token._.is_lemma_stop:\n",
        "                pass\n",
        "            else:\n",
        "                attribs.append([token.text, token.lemma_, token.pos_])\n",
        "        else:\n",
        "            attribs.append([token.text, token.lemma_, token.pos_])\n",
        "    print(tabulate(attribs))\n"
      ],
      "execution_count": 0,
      "outputs": []
    },
    {
      "cell_type": "code",
      "metadata": {
        "ExecuteTime": {
          "end_time": "2019-11-08T11:44:06.401099Z",
          "start_time": "2019-11-08T11:44:06.397107Z"
        },
        "id": "fV37_E03Prhb",
        "colab_type": "code",
        "outputId": "b8c63a0e-8a9b-4be4-e955-47b1776ef1fa",
        "colab": {
          "base_uri": "https://localhost:8080/",
          "height": 253
        }
      },
      "source": [
        "print_sentences(doc)"
      ],
      "execution_count": 7,
      "outputs": [
        {
          "output_type": "stream",
          "text": [
            "Die deutsche Sprache bzw. Deutsch ([dɔʏ̯t͡ʃ]; abgekürzt dt. oder dtsch.) ist eine westgermanische Sprache.\n",
            "\n",
            " \n",
            "\n",
            "And this is an \n",
            "\n",
            "English sentence inbetween.\n",
            "\n",
            " \n",
            "\n",
            "Ihr Sprachraum umfasst Deutschland, Österreich, die Deutschschweiz, Liechtenstein, Luxemburg, Ostbelgien, Südtirol, das Elsass und Lothringen sowie Nordschleswig. \n",
            "\n",
            "Außerdem ist sie eine Minderheitensprache in einigen europäischen und außereuropäischen Ländern, z. B. in Rumänien und Südafrika, sowie Nationalsprache im afrikanischen Namibia. \n",
            "\n"
          ],
          "name": "stdout"
        }
      ]
    },
    {
      "cell_type": "code",
      "metadata": {
        "ExecuteTime": {
          "end_time": "2019-11-08T11:44:06.410817Z",
          "start_time": "2019-11-08T11:44:06.404499Z"
        },
        "id": "yexmuM-VPrhf",
        "colab_type": "code",
        "outputId": "2699b2af-c1af-4d35-c939-349aaa7c1276",
        "colab": {
          "base_uri": "https://localhost:8080/",
          "height": 472
        }
      },
      "source": [
        "print_tokens_for_sentence(doc,-1)"
      ],
      "execution_count": 8,
      "outputs": [
        {
          "output_type": "stream",
          "text": [
            "-------------------  -------------------  -----\n",
            "Außerdem             Außerdem             ADV\n",
            "ist                  sein                 AUX\n",
            "sie                  ich                  PRON\n",
            "eine                 einen                DET\n",
            "Minderheitensprache  Minderheitensprache  NOUN\n",
            "in                   in                   ADP\n",
            "einigen              einig                DET\n",
            "europäischen         europäisch           ADJ\n",
            "und                  und                  CONJ\n",
            "außereuropäischen    außereuropäisch      ADJ\n",
            "Ländern              Land                 NOUN\n",
            ",                    ,                    PUNCT\n",
            "z.                   z.                   ADP\n",
            "B.                   B.                   NOUN\n",
            "in                   in                   ADP\n",
            "Rumänien             Rumänien             PROPN\n",
            "und                  und                  CONJ\n",
            "Südafrika            Südafrika            PROPN\n",
            ",                    ,                    PUNCT\n",
            "sowie                sowie                CONJ\n",
            "Nationalsprache      Nationalsprache      NOUN\n",
            "im                   im                   ADP\n",
            "afrikanischen        afrikanisch          ADJ\n",
            "Namibia              Namibia              PROPN\n",
            ".                    .                    PUNCT\n",
            "-------------------  -------------------  -----\n"
          ],
          "name": "stdout"
        }
      ]
    },
    {
      "cell_type": "markdown",
      "metadata": {
        "id": "Bjn8jBL-Prhi",
        "colab_type": "text"
      },
      "source": [
        "## Matching \"zum Beispiel\"\n",
        "\n",
        "We are a bit frustrated, that the standard analysis pipeline does not know, that in German, \"z. B.\" is the abbreviation of \"zum Beispiel\" (like eg. is for \"for example\"), thus we would like to correct this.\n",
        "\n",
        "Our approach is to extend the pipeline and do a matching, whereby we replace the `lemma` form of \"z. B.\" to the appropriate long form.\n",
        "\n",
        "**IMPORTANT** design principle by SpaCy is, that one **always keeps the possibility to restore the original text**, so we are **NOT to modify `token.text`**. In the analysed form, we can do whatever we want.\n",
        "\n",
        "It is typical to add layers to the pipeline which modify the analysis."
      ]
    },
    {
      "cell_type": "markdown",
      "metadata": {
        "id": "M3jipw69Prhj",
        "colab_type": "text"
      },
      "source": [
        "For our purposes, we will use rule based matching to achieve our goals.\n",
        "\n",
        "A detailed description on rule based matching in SpaCy can be found [here](https://spacy.io/usage/rule-based-matching), or [here](https://medium.com/@ashiqgiga07/rule-based-matching-with-spacy-295b76ca2b68)"
      ]
    },
    {
      "cell_type": "markdown",
      "metadata": {
        "id": "wzuvLOSUPrhk",
        "colab_type": "text"
      },
      "source": [
        "### Build the matcher\n",
        "\n",
        "With the help of rule based matching we create a matcher that reacts to the presence of \"z. B.\" exactly, then we use this matcher to define a pipeline step, that after matching, replaces the lemmas of the tokens \"z.\" and \"B.\" to  their full written equivalent.  "
      ]
    },
    {
      "cell_type": "code",
      "metadata": {
        "ExecuteTime": {
          "end_time": "2019-11-08T11:44:06.417129Z",
          "start_time": "2019-11-08T11:44:06.412535Z"
        },
        "id": "Xh74C3KlPrhk",
        "colab_type": "code",
        "colab": {}
      },
      "source": [
        "from spacy.matcher import Matcher\n",
        "\n",
        "#or b.\n",
        "\n",
        "zb_matcher = Matcher(nlp.vocab) # Please instantiate a matcher with the appropriate parameters - think about all the words of the corpus...\n",
        "pattern1 = [{\"TEXT\": \"z.\"}]\n",
        "pattern2 = [{\"LOWER\": \"b.\"}]\n",
        "zb_matcher.add(\"z.\", None, pattern1) # Please add an appropriate pattern to the matcher to match \"z. B.\"\n",
        "zb_matcher.add(\"b.\", None, pattern2)\n",
        "\n",
        "def zb_replacer(doc):\n",
        "    matched_spans = []\n",
        "    # Please use the matcher to get matches!\n",
        "    matches = zb_matcher(doc)\n",
        "    # Plsease iterate over the matches!\n",
        "    for match_id, start, end in matches:\n",
        "        span = doc[start:end]   # get the span of text based on the matches coordinates!\n",
        "        matched_spans.append(span)\n",
        "        print(\"ZB MATCH!!!\")\n",
        "\n",
        "    # Please iterate over matched spans\n",
        "    for span in matched_spans:\n",
        "      if span.text[0].lower() == 'z':\n",
        "        span[0].lemma_ = 'zum'\n",
        "      elif span.text[0].lower() == 'b':\n",
        "        span[0].lemma_ = 'Beispiel'\n",
        "        # And replace their lemmas to the appropriate ones!\n",
        "        # Please observe, that you don't have the ID of the desired lemmas, just the their string form.\n",
        "    return doc"
      ],
      "execution_count": 0,
      "outputs": []
    },
    {
      "cell_type": "code",
      "metadata": {
        "id": "G1QXy_anhdr7",
        "colab_type": "code",
        "colab": {
          "base_uri": "https://localhost:8080/",
          "height": 155
        },
        "outputId": "857b63fe-3764-4555-e670-da388733b44a"
      },
      "source": [
        "zb_replacer(doc)"
      ],
      "execution_count": 10,
      "outputs": [
        {
          "output_type": "stream",
          "text": [
            "ZB MATCH!!!\n",
            "ZB MATCH!!!\n"
          ],
          "name": "stdout"
        },
        {
          "output_type": "execute_result",
          "data": {
            "text/plain": [
              "Die deutsche Sprache bzw. Deutsch ([dɔʏ̯t͡ʃ]; abgekürzt dt. oder dtsch.) ist eine westgermanische Sprache.\n",
              "\n",
              "And this is an English sentence inbetween.\n",
              "\n",
              "Ihr Sprachraum umfasst Deutschland, Österreich, die Deutschschweiz, Liechtenstein, Luxemburg, Ostbelgien, Südtirol, das Elsass und Lothringen sowie Nordschleswig. Außerdem ist sie eine Minderheitensprache in einigen europäischen und außereuropäischen Ländern, z. B. in Rumänien und Südafrika, sowie Nationalsprache im afrikanischen Namibia."
            ]
          },
          "metadata": {
            "tags": []
          },
          "execution_count": 10
        }
      ]
    },
    {
      "cell_type": "markdown",
      "metadata": {
        "id": "Fl2DnXFXPrhp",
        "colab_type": "text"
      },
      "source": [
        "### Register it to the pipeline\n",
        "\n",
        "After creating this processing step, we register it to be part of the pipeline and then run our analysis again."
      ]
    },
    {
      "cell_type": "code",
      "metadata": {
        "ExecuteTime": {
          "end_time": "2019-11-08T11:44:06.421259Z",
          "start_time": "2019-11-08T11:44:06.418628Z"
        },
        "id": "InhKYs46Prhq",
        "colab_type": "code",
        "colab": {}
      },
      "source": [
        "# Plase register the new zb_replacer to the pipeline!\n",
        "# Think about, where to place it!\n",
        "\n",
        "nlp.add_pipe(zb_replacer, after='tagger')"
      ],
      "execution_count": 0,
      "outputs": []
    },
    {
      "cell_type": "markdown",
      "metadata": {
        "id": "vtMyJGlEPrhs",
        "colab_type": "text"
      },
      "source": [
        "### Re-do the analysis and observe results"
      ]
    },
    {
      "cell_type": "code",
      "metadata": {
        "ExecuteTime": {
          "end_time": "2019-11-08T11:44:06.442000Z",
          "start_time": "2019-11-08T11:44:06.422574Z"
        },
        "id": "E3BUOghRPrht",
        "colab_type": "code",
        "outputId": "70cbf112-9de6-4723-8111-0fea06bfbd94",
        "colab": {
          "base_uri": "https://localhost:8080/",
          "height": 50
        }
      },
      "source": [
        "\n",
        "doc=nlp(text)\n",
        "#doc = matched_spans(doc)"
      ],
      "execution_count": 12,
      "outputs": [
        {
          "output_type": "stream",
          "text": [
            "ZB MATCH!!!\n",
            "ZB MATCH!!!\n"
          ],
          "name": "stdout"
        }
      ]
    },
    {
      "cell_type": "code",
      "metadata": {
        "ExecuteTime": {
          "end_time": "2019-11-08T11:44:06.448772Z",
          "start_time": "2019-11-08T11:44:06.443720Z"
        },
        "id": "bMw8x9qGPrhv",
        "colab_type": "code",
        "outputId": "13a82400-0d53-46cb-ca52-f49f7d922859",
        "colab": {
          "base_uri": "https://localhost:8080/",
          "height": 472
        }
      },
      "source": [
        "print_tokens_for_sentence(doc,-1)"
      ],
      "execution_count": 13,
      "outputs": [
        {
          "output_type": "stream",
          "text": [
            "-------------------  -------------------  -----\n",
            "Außerdem             Außerdem             ADV\n",
            "ist                  sein                 AUX\n",
            "sie                  ich                  PRON\n",
            "eine                 einen                DET\n",
            "Minderheitensprache  Minderheitensprache  NOUN\n",
            "in                   in                   ADP\n",
            "einigen              einig                DET\n",
            "europäischen         europäisch           ADJ\n",
            "und                  und                  CONJ\n",
            "außereuropäischen    außereuropäisch      ADJ\n",
            "Ländern              Land                 NOUN\n",
            ",                    ,                    PUNCT\n",
            "z.                   zum                  ADP\n",
            "B.                   Beispiel             NOUN\n",
            "in                   in                   ADP\n",
            "Rumänien             Rumänien             PROPN\n",
            "und                  und                  CONJ\n",
            "Südafrika            Südafrika            PROPN\n",
            ",                    ,                    PUNCT\n",
            "sowie                sowie                CONJ\n",
            "Nationalsprache      Nationalsprache      NOUN\n",
            "im                   im                   ADP\n",
            "afrikanischen        afrikanisch          ADJ\n",
            "Namibia              Namibia              PROPN\n",
            ".                    .                    PUNCT\n",
            "-------------------  -------------------  -----\n"
          ],
          "name": "stdout"
        }
      ]
    },
    {
      "cell_type": "markdown",
      "metadata": {
        "id": "_hxUgPf0Prhx",
        "colab_type": "text"
      },
      "source": [
        "## What are those ugly pronunciation signs doing there?\n",
        "\n",
        "OK, so far so good. Let's observe, what is the problem with the first sentence!"
      ]
    },
    {
      "cell_type": "code",
      "metadata": {
        "ExecuteTime": {
          "end_time": "2019-11-08T11:44:06.473528Z",
          "start_time": "2019-11-08T11:44:06.450123Z"
        },
        "id": "L4wFYbcQPrhx",
        "colab_type": "code",
        "colab": {
          "base_uri": "https://localhost:8080/",
          "height": 50
        },
        "outputId": "2d3474d4-6bff-421f-9356-f58b11e98319"
      },
      "source": [
        "doc=nlp(text)"
      ],
      "execution_count": 14,
      "outputs": [
        {
          "output_type": "stream",
          "text": [
            "ZB MATCH!!!\n",
            "ZB MATCH!!!\n"
          ],
          "name": "stdout"
        }
      ]
    },
    {
      "cell_type": "code",
      "metadata": {
        "ExecuteTime": {
          "end_time": "2019-11-08T11:44:06.484081Z",
          "start_time": "2019-11-08T11:44:06.476136Z"
        },
        "id": "Ay4sndkJPrhz",
        "colab_type": "code",
        "outputId": "889e8ee8-d814-4735-dafb-371fa192e439",
        "colab": {
          "base_uri": "https://localhost:8080/",
          "height": 439
        }
      },
      "source": [
        "print_tokens_for_sentence(doc,0)\n"
      ],
      "execution_count": 15,
      "outputs": [
        {
          "output_type": "stream",
          "text": [
            "---------------  ---------------  -----\n",
            "Die              der              DET\n",
            "deutsche         deutsch          ADJ\n",
            "Sprache          Sprache          NOUN\n",
            "bzw.             beziehungsweise  CONJ\n",
            "Deutsch          Deutsch          NOUN\n",
            "(                (                PUNCT\n",
            "[                [                PROPN\n",
            "dɔʏ̯t͡ʃ            dɔʏ̯t͡ʃ            PROPN\n",
            "]                ]                NOUN\n",
            ";                ;                PUNCT\n",
            "abgekürzt        abkürzen         VERB\n",
            "dt               dt               PRON\n",
            ".                .                PUNCT\n",
            "oder             oder             CONJ\n",
            "dtsch            dtsch            ADJ\n",
            ".                .                PUNCT\n",
            ")                )                PUNCT\n",
            "ist              sein             AUX\n",
            "eine             einen            DET\n",
            "westgermanische  westgermanische  ADJ\n",
            "Sprache          Sprache          NOUN\n",
            ".                .                PUNCT\n",
            "                                  SPACE\n",
            "---------------  ---------------  -----\n"
          ],
          "name": "stdout"
        }
      ]
    },
    {
      "cell_type": "markdown",
      "metadata": {
        "id": "DI5NudwcPrh1",
        "colab_type": "text"
      },
      "source": [
        "As we can see, poor pipeline can not really cope with the pronunciation markings of the phonetic alphabet, and thus thinks, that the signs are representing a foreign proper noun. \n",
        "\n",
        "We would like to remedy this, and since we do expect further texts from the corpus to contain these inserted phonetics, we would like to match, merge and replace."
      ]
    },
    {
      "cell_type": "markdown",
      "metadata": {
        "id": "w2991t47Prh2",
        "colab_type": "text"
      },
      "source": [
        "## Building up matcher for PRONUNCIATION\n",
        "\n",
        "To be more specific, we again first build up a matcher, that aims at the \"square brackets\" markings around the pronunciation. The task is to match everything between square brackets, or to be more specific: **everything that starts with an opening square bracket, and finishes with \";\"**.\n",
        "\n",
        "This matcher can then be used to:\n",
        "\n",
        "1. Merge the resulting matching `span` into one token\n",
        "2. Replace the token's lemma to \"PRONUNCIATION\"\n",
        "\n",
        "For this to be achievable, we have to first register \"PRONUNCIATION\" as part of the vocabulary, moreover mark it as [\"stopword\"](https://en.wikipedia.org/wiki/Stop_words). (More on SpaCy's stopword handling [here](https://medium.com/@makcedward/nlp-pipeline-stop-words-part-5-d6770df8a936)) See below."
      ]
    },
    {
      "cell_type": "code",
      "metadata": {
        "ExecuteTime": {
          "end_time": "2019-11-08T11:44:06.497568Z",
          "start_time": "2019-11-08T11:44:06.486489Z"
        },
        "id": "r1Wr0VSxPrh2",
        "colab_type": "code",
        "outputId": "242f54f7-2802-4d1e-dd66-781c479934d2",
        "colab": {
          "base_uri": "https://localhost:8080/",
          "height": 138
        }
      },
      "source": [
        "# Please instantiate and build the matcher as before with the appropriate pattern!\n",
        "# Make it so, that the pattern will match ALL future pronunciations, not just the present one!\n",
        "\n",
        "pronunciation_matcher = Matcher(nlp.vocab) \n",
        "pattern1 = [{\"TEXT\": \"[\"}, {},{\"TEXT\": \"]\"},{\"IS_PUNCT\": True}]\n",
        "pronunciation_matcher.add(\"[\", None, pattern1) # Please add an appropriate pattern to the matcher to match \"z. B.\"\n",
        "\n",
        "\n",
        "# We set the properties for the new word \"PRONUNCIATION\"\n",
        "lex = nlp.vocab['PRONUNCIATION']\n",
        "lex.is_oov = False\n",
        "lex.is_stop = True\n",
        "\n",
        "def pronunciation_replacer(doc):\n",
        "  matched_spans = []\n",
        "  # Please use the matcher to get matches!\n",
        "  matches = pronunciation_matcher(doc)\n",
        "  # Plsease iterate over the matches!\n",
        "  for match_id, start, end in matches:\n",
        "    span = doc[start:end]   # get the span of text based on the matches coordinates!\n",
        "    matched_spans.append(span)\n",
        "    print(\"ZB MATCH!!!\")\n",
        "\n",
        "  # Please iterate over matched spans\n",
        "  for span in matched_spans:\n",
        "    span.merge()\n",
        "    span[0].lemma_ = 'PRONUNCIATION'\n",
        "    span[0].lemma = doc.vocab.strings['PRONUNCIATION']\n",
        "    span[0].pos_ = \"NOUN\"\n",
        "    \n",
        "\n",
        "      # And replace their lemmas to the appropriate ones!\n",
        "      # Please observe, that you don't have the ID of the desired lemmas, just the their string form.\n",
        "  return doc\n",
        "\n",
        "pronunciation_replacer(doc)  \n",
        "    # Using the template above, please build a pronunciation replacer, that\n",
        "    # 1. gets the matches\n",
        "    # 2. merges them into one\n",
        "    # 3. Replaces their lemma string and lemma ID\n",
        "    # 4. sets it's POS to \"NOUN\"\n",
        "    \n",
        "    \n",
        "\n"
      ],
      "execution_count": 16,
      "outputs": [
        {
          "output_type": "stream",
          "text": [
            "ZB MATCH!!!\n"
          ],
          "name": "stdout"
        },
        {
          "output_type": "execute_result",
          "data": {
            "text/plain": [
              "Die deutsche Sprache bzw. Deutsch ([dɔʏ̯t͡ʃ]; abgekürzt dt. oder dtsch.) ist eine westgermanische Sprache.\n",
              "\n",
              "And this is an English sentence inbetween.\n",
              "\n",
              "Ihr Sprachraum umfasst Deutschland, Österreich, die Deutschschweiz, Liechtenstein, Luxemburg, Ostbelgien, Südtirol, das Elsass und Lothringen sowie Nordschleswig. Außerdem ist sie eine Minderheitensprache in einigen europäischen und außereuropäischen Ländern, z. B. in Rumänien und Südafrika, sowie Nationalsprache im afrikanischen Namibia."
            ]
          },
          "metadata": {
            "tags": []
          },
          "execution_count": 16
        }
      ]
    },
    {
      "cell_type": "code",
      "metadata": {
        "id": "xIJpwrdU0ZL7",
        "colab_type": "code",
        "colab": {}
      },
      "source": [
        "nlp.add_pipe(pronunciation_replacer, after=\"zb_replacer\") \n",
        "#nlp.replace_pipe(pronunciation_replacer,component=pronunciation_replacer) "
      ],
      "execution_count": 0,
      "outputs": []
    },
    {
      "cell_type": "markdown",
      "metadata": {
        "id": "8l8snPWNPrh4",
        "colab_type": "text"
      },
      "source": [
        "### Observing result"
      ]
    },
    {
      "cell_type": "code",
      "metadata": {
        "ExecuteTime": {
          "end_time": "2019-11-08T11:44:06.623259Z",
          "start_time": "2019-11-08T11:44:06.500096Z"
        },
        "id": "UHeWNe4RPrh5",
        "colab_type": "code",
        "outputId": "a07f660e-3754-4364-e3a4-b13415bf4eab",
        "colab": {
          "base_uri": "https://localhost:8080/",
          "height": 439
        }
      },
      "source": [
        "doc=nlp(text)\n",
        "print_tokens_for_sentence(doc,0)"
      ],
      "execution_count": 18,
      "outputs": [
        {
          "output_type": "stream",
          "text": [
            "ZB MATCH!!!\n",
            "ZB MATCH!!!\n",
            "ZB MATCH!!!\n",
            "---------------  ---------------  -----\n",
            "Die              der              DET\n",
            "deutsche         deutsch          ADJ\n",
            "Sprache          Sprache          NOUN\n",
            "bzw.             beziehungsweise  CONJ\n",
            "Deutsch          Deutsch          NOUN\n",
            "(                (                PUNCT\n",
            "[dɔʏ̯t͡ʃ];         PRONUNCIATION    NOUN\n",
            "abgekürzt        abkürzen         VERB\n",
            "dt               dt               PRON\n",
            ".                .                PUNCT\n",
            "oder             oder             CONJ\n",
            "dtsch            dtsch            ADJ\n",
            ".                .                PUNCT\n",
            ")                )                PUNCT\n",
            "ist              sein             AUX\n",
            "eine             einen            DET\n",
            "westgermanische  westgermanische  ADJ\n",
            "Sprache          Sprache          NOUN\n",
            ".                .                PUNCT\n",
            "                                  SPACE\n",
            "---------------  ---------------  -----\n"
          ],
          "name": "stdout"
        }
      ]
    },
    {
      "cell_type": "markdown",
      "metadata": {
        "id": "jGJY97KbPrh6",
        "colab_type": "text"
      },
      "source": [
        "In the future, we decide, we would not want to include the pronunciation tokens in our view. So we have to mark them as wtopwords."
      ]
    },
    {
      "cell_type": "markdown",
      "metadata": {
        "id": "VDscLtw6Prh7",
        "colab_type": "text"
      },
      "source": [
        "### Registering PRONUNCIATION as a stopword\n",
        "\n",
        "Stopwords are typically those words, which do not contribute to the meaning of the sentence, are just there for syntactic reasons. There is a vague running list of these for languages. We will use and extend the German one in SpaCy.\n"
      ]
    },
    {
      "cell_type": "code",
      "metadata": {
        "ExecuteTime": {
          "end_time": "2019-11-08T11:44:06.627929Z",
          "start_time": "2019-11-08T11:44:06.625286Z"
        },
        "id": "YelUVWUWPrh8",
        "colab_type": "code",
        "colab": {
          "base_uri": "https://localhost:8080/",
          "height": 34
        },
        "outputId": "09ee85e5-6e7c-4d50-f59a-c6f9c726279c"
      },
      "source": [
        "# import stop words from GERMAN language data\n",
        "spacy_stopwords = spacy.lang.de.stop_words.STOP_WORDS\n",
        "# Add PRONUNCIATION to stopwords\n",
        "spacy_stopwords.add('PRONUNCIATION')\n",
        "'PRONUNCIATION' in (spacy_stopwords)"
      ],
      "execution_count": 19,
      "outputs": [
        {
          "output_type": "execute_result",
          "data": {
            "text/plain": [
              "True"
            ]
          },
          "metadata": {
            "tags": []
          },
          "execution_count": 19
        }
      ]
    },
    {
      "cell_type": "markdown",
      "metadata": {
        "id": "Hd874-ZsPrh_",
        "colab_type": "text"
      },
      "source": [
        "But since we will only be able to manipulate the lemmas of the pronunciation markings, we would have to let SpaCy know, that - in contrast to the default behavior, where stopwords are filtered on `text` level, we would like to have a new property for words, that is based on `lemma` level stopword filtering.\n",
        "\n",
        "For these we will use extensions!\n",
        "\n",
        "For more info please see [here](https://spacy.io/api/token#set_extension)!"
      ]
    },
    {
      "cell_type": "code",
      "metadata": {
        "ExecuteTime": {
          "end_time": "2019-11-08T11:44:06.635721Z",
          "start_time": "2019-11-08T11:44:06.629472Z"
        },
        "id": "38cfY0X3PriA",
        "colab_type": "code",
        "colab": {}
      },
      "source": [
        "from spacy.tokens import Token\n",
        "\n",
        "# Please define a function (or lambda expression!) that checks if a Token, or its lower case for, \n",
        "# OR it's lemma string is contained it he stopword list above.\n",
        "stop_words_getter = lambda token: (token.lemma_ or token.text.lower() or token.text)  in spacy_stopwords\n",
        "\n",
        "# Set the above defined function as a extension for Token under the name \"is_lemma_stop\" as a getter!\n",
        "\n",
        "Token.set_extension(\"is_lemma_stop\", getter=stop_words_getter)\n",
        "doc2 = nlp(\"I have an ein PRONUNCIATION\")\n",
        "assert doc2[3]._.is_lemma_stop"
      ],
      "execution_count": 0,
      "outputs": []
    },
    {
      "cell_type": "code",
      "metadata": {
        "id": "f2tv5Oql4ECO",
        "colab_type": "code",
        "colab": {
          "base_uri": "https://localhost:8080/",
          "height": 135
        },
        "outputId": "a673ec46-30ee-4571-8424-c01785ee506c"
      },
      "source": [
        "for a in nlp(\"I have an ein PRONUNCIATION [fdf]; \"):\n",
        "\n",
        "  print(a,a.lemma_, a._.is_lemma_stop)"
      ],
      "execution_count": 21,
      "outputs": [
        {
          "output_type": "stream",
          "text": [
            "ZB MATCH!!!\n",
            "I I False\n",
            "have have False\n",
            "an an True\n",
            "ein einen True\n",
            "PRONUNCIATION PRONUNCIATION True\n",
            "[fdf]; PRONUNCIATION True\n"
          ],
          "name": "stdout"
        }
      ]
    },
    {
      "cell_type": "code",
      "metadata": {
        "ExecuteTime": {
          "end_time": "2019-11-08T11:44:06.672287Z",
          "start_time": "2019-11-08T11:44:06.637068Z"
        },
        "id": "G0pwMieSPriB",
        "colab_type": "code",
        "outputId": "4ee90f7b-2c7a-40d1-ee8e-fe38048ee044",
        "colab": {
          "base_uri": "https://localhost:8080/",
          "height": 67
        }
      },
      "source": [
        "doc=nlp(text)"
      ],
      "execution_count": 22,
      "outputs": [
        {
          "output_type": "stream",
          "text": [
            "ZB MATCH!!!\n",
            "ZB MATCH!!!\n",
            "ZB MATCH!!!\n"
          ],
          "name": "stdout"
        }
      ]
    },
    {
      "cell_type": "code",
      "metadata": {
        "ExecuteTime": {
          "end_time": "2019-11-08T11:44:06.677941Z",
          "start_time": "2019-11-08T11:44:06.673660Z"
        },
        "id": "Wil_pX6JPriG",
        "colab_type": "code",
        "outputId": "a0916fd0-5ab0-485f-df39-6a8f249ab42b",
        "colab": {
          "base_uri": "https://localhost:8080/",
          "height": 304
        }
      },
      "source": [
        "print_tokens_for_sentence(doc,0, stopwords=True)\n",
        "\n",
        "assert len(list(doc.sents)[0]) == 20"
      ],
      "execution_count": 23,
      "outputs": [
        {
          "output_type": "stream",
          "text": [
            "---------------  ---------------  -----\n",
            "deutsche         deutsch          ADJ\n",
            "Sprache          Sprache          NOUN\n",
            "bzw.             beziehungsweise  CONJ\n",
            "Deutsch          Deutsch          NOUN\n",
            "(                (                PUNCT\n",
            "abgekürzt        abkürzen         VERB\n",
            "dt               dt               PRON\n",
            ".                .                PUNCT\n",
            "dtsch            dtsch            ADJ\n",
            ".                .                PUNCT\n",
            ")                )                PUNCT\n",
            "westgermanische  westgermanische  ADJ\n",
            "Sprache          Sprache          NOUN\n",
            ".                .                PUNCT\n",
            "                                  SPACE\n",
            "---------------  ---------------  -----\n"
          ],
          "name": "stdout"
        }
      ]
    },
    {
      "cell_type": "markdown",
      "metadata": {
        "id": "_izfztrtPriJ",
        "colab_type": "text"
      },
      "source": [
        "## Language detection\n",
        "\n",
        "We could also observe, that there is some English text inbetween our nice German sentences. We would like to detect foreign sentences and by later processing, ignore / skip them.\n",
        "\n",
        "For this to be achievable, we need some language detection capabilities.\n",
        "\n",
        "Luckily enough, we can make it part of our pipeline via [this extension](#https://spacy.io/universe/project/spacy-langdetect)."
      ]
    },
    {
      "cell_type": "markdown",
      "metadata": {
        "id": "pr2Mz1PuPriJ",
        "colab_type": "text"
      },
      "source": [
        "### Standard installation"
      ]
    },
    {
      "cell_type": "code",
      "metadata": {
        "ExecuteTime": {
          "end_time": "2019-11-08T11:44:07.709209Z",
          "start_time": "2019-11-08T11:44:06.679245Z"
        },
        "id": "fMMe0-qCPriK",
        "colab_type": "code",
        "colab": {}
      },
      "source": [
        "%%capture\n",
        "!pip install spacy-langdetect"
      ],
      "execution_count": 0,
      "outputs": []
    },
    {
      "cell_type": "code",
      "metadata": {
        "ExecuteTime": {
          "end_time": "2019-11-08T11:44:07.732209Z",
          "start_time": "2019-11-08T11:44:07.714434Z"
        },
        "id": "SMLDscu0PriN",
        "colab_type": "code",
        "colab": {}
      },
      "source": [
        "#Please import the language detector!\n",
        "from spacy_langdetect import LanguageDetector\n"
      ],
      "execution_count": 0,
      "outputs": []
    },
    {
      "cell_type": "markdown",
      "metadata": {
        "id": "lKU8XiEYPriO",
        "colab_type": "text"
      },
      "source": [
        "### Adding language detection to our pipeline"
      ]
    },
    {
      "cell_type": "code",
      "metadata": {
        "ExecuteTime": {
          "end_time": "2019-11-08T11:44:07.736304Z",
          "start_time": "2019-11-08T11:44:07.733828Z"
        },
        "id": "ohtaFPQHPriP",
        "colab_type": "code",
        "colab": {}
      },
      "source": [
        "# Please register it to the pipeline as the final step of processing!\n",
        "nlp.add_pipe(LanguageDetector(), name='language_detector', last=True)"
      ],
      "execution_count": 0,
      "outputs": []
    },
    {
      "cell_type": "markdown",
      "metadata": {
        "id": "f5E295cOPric",
        "colab_type": "text"
      },
      "source": [
        "### Observing results"
      ]
    },
    {
      "cell_type": "code",
      "metadata": {
        "ExecuteTime": {
          "end_time": "2019-11-08T11:44:07.776361Z",
          "start_time": "2019-11-08T11:44:07.737797Z"
        },
        "id": "7oqenKtLPrid",
        "colab_type": "code",
        "outputId": "d820463f-ed6f-483f-e018-849a0839fbb3",
        "colab": {
          "base_uri": "https://localhost:8080/",
          "height": 67
        }
      },
      "source": [
        "doc = nlp(text)"
      ],
      "execution_count": 27,
      "outputs": [
        {
          "output_type": "stream",
          "text": [
            "ZB MATCH!!!\n",
            "ZB MATCH!!!\n",
            "ZB MATCH!!!\n"
          ],
          "name": "stdout"
        }
      ]
    },
    {
      "cell_type": "code",
      "metadata": {
        "ExecuteTime": {
          "end_time": "2019-11-08T11:44:08.097242Z",
          "start_time": "2019-11-08T11:44:07.780914Z"
        },
        "id": "fVWOxz8rPrig",
        "colab_type": "code",
        "outputId": "7856e4f8-0425-48cc-dc95-1ef69c611aba",
        "colab": {
          "base_uri": "https://localhost:8080/",
          "height": 169
        }
      },
      "source": [
        "attribs = []\n",
        "for sentence in doc.sents:\n",
        "    attribs.append([list(sentence)[:5],\"...\", sentence._.language])\n",
        "print(tabulate(attribs))\n",
        "\n",
        "# Please observe how one accesses anextension!!"
      ],
      "execution_count": 28,
      "outputs": [
        {
          "output_type": "stream",
          "text": [
            "-----------------------------------------------  ---  -----------------------------------------------\n",
            "[Die, deutsche, Sprache, bzw., Deutsch]          ...  {'language': 'de', 'score': 0.9999983994915319}\n",
            "[And, this, is, an]                              ...  {'language': 'en', 'score': 0.9999963155680539}\n",
            "[English, sentence, inbetween, .,                ...  {'language': 'en', 'score': 0.5714272948549555}\n",
            "\n",
            "]\n",
            "[Ihr, Sprachraum, umfasst, Deutschland, ,]       ...  {'language': 'de', 'score': 0.9999962913503454}\n",
            "[Außerdem, ist, sie, eine, Minderheitensprache]  ...  {'language': 'de', 'score': 0.9999978205374813}\n",
            "-----------------------------------------------  ---  -----------------------------------------------\n"
          ],
          "name": "stdout"
        }
      ]
    },
    {
      "cell_type": "markdown",
      "metadata": {
        "id": "rLZyYa5GPrih",
        "colab_type": "text"
      },
      "source": [
        "# Creating final generator for cleaned text\n",
        "\n",
        "Typically for a later stage of NLP, we would like to have a generator like function, which allows us to iteratively access the corpus, albeit in it's cleaned and encoded form. Integer encoding (as well as one hot encoding) are quite typical representations of text.\n",
        "\n",
        "In this spirit, we would like to implement a generator, that gives back an **array of lemmas OR lemma IDs for each sentence in the corpus, filtering out non-German sentences and punctuation / space marks**. "
      ]
    },
    {
      "cell_type": "code",
      "metadata": {
        "ExecuteTime": {
          "end_time": "2019-11-08T11:44:08.105282Z",
          "start_time": "2019-11-08T11:44:08.101443Z"
        },
        "id": "5TyW2XbGPrii",
        "colab_type": "code",
        "colab": {}
      },
      "source": [
        "# Please implement a generator function that yields the text of the corpus as lists of sentences\n",
        "# Based on the parameters either as a list of strings or a list of IDs\n",
        "# It should filter out non-German sentences\n",
        "# as well as topwords based on lemmas\n",
        "# and punctuation and \"space like\" characters!\n",
        "\n",
        "def sentence_generator(doc, ids=False):\n",
        "  for sentence in doc.sents:\n",
        "    if ids:\n",
        "      line = [word.lemma_ for word in sentence if word._.is_lemma_stop==False] \n",
        "    else:\n",
        "      line = [word.lemma for word in sentence if word._.is_lemma_stop==False] \n",
        "\n",
        "    yield line\n",
        "\n"
      ],
      "execution_count": 0,
      "outputs": []
    },
    {
      "cell_type": "code",
      "metadata": {
        "ExecuteTime": {
          "end_time": "2019-11-08T11:44:08.144266Z",
          "start_time": "2019-11-08T11:44:08.106651Z"
        },
        "id": "5qPRmN6xPrij",
        "colab_type": "code",
        "outputId": "bc3185dc-89f6-435c-bce9-fd990baa830e",
        "colab": {
          "base_uri": "https://localhost:8080/",
          "height": 459
        }
      },
      "source": [
        "for i in sentence_generator(doc):\n",
        "    print(i,\"\\n\")\n",
        "    print()\n",
        "    \n",
        "for i in sentence_generator(doc, ids=True):\n",
        "    print(i,\"\\n\")"
      ],
      "execution_count": 53,
      "outputs": [
        {
          "output_type": "stream",
          "text": [
            "[5968319817064592459, 8431935777423264011, 16143637279988465102, 13347145995516113707, 12638816674900267446, 12068858602874567954, 5135506797272647618, 12646065887601541794, 2552743035069842888, 12646065887601541794, 3842344029291005339, 7654685629011980891, 8431935777423264011, 12646065887601541794, 908432558851201422] \n",
            "\n",
            "\n",
            "[12172435438170721471, 1995909169258310477, 3411606890003347522] \n",
            "\n",
            "\n",
            "[2363646560689767403, 18108853898452662235, 3114748133431203866, 12646065887601541794, 908432558851201422] \n",
            "\n",
            "\n",
            "[11854469037278879099, 7289263729939212449, 3491614202785599281, 2593208677638477497, 16047064563126251420, 2593208677638477497, 3469156011154928224, 2593208677638477497, 10833980334450146958, 2593208677638477497, 15216956676957942053, 2593208677638477497, 14493420987399493547, 2593208677638477497, 14425170055224073740, 2593208677638477497, 14854674721094831692, 5682654018506929560, 10694615845175474381, 12646065887601541794] \n",
            "\n",
            "\n",
            "[8557358084144623261, 13853446524293058697, 2130075938147343825, 512110525822973470, 15751849195492229329, 731233208058718707, 2593208677638477497, 176351906757609250, 16018282812866072734, 14398131728093720111, 2593208677638477497, 13884865873598079458, 9226656959411645728, 2911802427415368037, 12646065887601541794] \n",
            "\n",
            "\n",
            "['deutsch', 'Sprache', 'beziehungsweise', 'Deutsch', '(', 'abkürzen', 'dt', '.', 'dtsch', '.', ')', 'westgermanische', 'Sprache', '.', '\\n\\n'] \n",
            "\n",
            "['And', 'this', 'is'] \n",
            "\n",
            "['English', 'sentence', 'inbetween', '.', '\\n\\n'] \n",
            "\n",
            "['Sprachraum', 'umfasst', 'Deutschland', ',', 'Österreich', ',', 'Deutschschweiz', ',', 'Liechtenstein', ',', 'Luxemburg', ',', 'Ostbelgien', ',', 'Südtirol', ',', 'Elsass', 'Lothringen', 'Nordschleswig', '.'] \n",
            "\n",
            "['Außerdem', 'Minderheitensprache', 'einig', 'europäisch', 'außereuropäisch', 'Land', ',', 'Beispiel', 'Rumänien', 'Südafrika', ',', 'Nationalsprache', 'afrikanisch', 'Namibia', '.'] \n",
            "\n"
          ],
          "name": "stdout"
        }
      ]
    },
    {
      "cell_type": "code",
      "metadata": {
        "id": "bty6JePqBWQD",
        "colab_type": "code",
        "colab": {}
      },
      "source": [
        ""
      ],
      "execution_count": 0,
      "outputs": []
    }
  ]
}