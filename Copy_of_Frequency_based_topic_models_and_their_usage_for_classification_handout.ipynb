{
  "nbformat": 4,
  "nbformat_minor": 0,
  "metadata": {
    "colab": {
      "name": "Copy of Frequency_based_topic_models_and_their_usage_for_classification_handout.ipynb",
      "provenance": [],
      "collapsed_sections": [],
      "toc_visible": true,
      "include_colab_link": true
    },
    "kernelspec": {
      "display_name": "Python 3",
      "language": "python",
      "name": "python3"
    },
    "language_info": {
      "codemirror_mode": {
        "name": "ipython",
        "version": 3
      },
      "file_extension": ".py",
      "mimetype": "text/x-python",
      "name": "python",
      "nbconvert_exporter": "python",
      "pygments_lexer": "ipython3",
      "version": "3.6.8"
    },
    "toc": {
      "base_numbering": 1,
      "nav_menu": {},
      "number_sections": true,
      "sideBar": true,
      "skip_h1_title": false,
      "title_cell": "Table of Contents",
      "title_sidebar": "Contents",
      "toc_cell": false,
      "toc_position": {},
      "toc_section_display": true,
      "toc_window_display": false
    },
    "varInspector": {
      "cols": {
        "lenName": 16,
        "lenType": 16,
        "lenVar": 40
      },
      "kernels_config": {
        "python": {
          "delete_cmd_postfix": "",
          "delete_cmd_prefix": "del ",
          "library": "var_list.py",
          "varRefreshCmd": "print(var_dic_list())"
        },
        "r": {
          "delete_cmd_postfix": ") ",
          "delete_cmd_prefix": "rm(",
          "library": "var_list.r",
          "varRefreshCmd": "cat(var_dic_list()) "
        }
      },
      "types_to_exclude": [
        "module",
        "function",
        "builtin_function_or_method",
        "instance",
        "_Feature"
      ],
      "window_display": false
    }
  },
  "cells": [
    {
      "cell_type": "markdown",
      "metadata": {
        "id": "view-in-github",
        "colab_type": "text"
      },
      "source": [
        "<a href=\"https://colab.research.google.com/github/ELehmann91/FS1/blob/master/Copy_of_Frequency_based_topic_models_and_their_usage_for_classification_handout.ipynb\" target=\"_parent\"><img src=\"https://colab.research.google.com/assets/colab-badge.svg\" alt=\"Open In Colab\"/></a>"
      ]
    },
    {
      "cell_type": "markdown",
      "metadata": {
        "colab_type": "text",
        "id": "LJVjZcS0nbxe"
      },
      "source": [
        "# Constructing an LDA model with spaCy and Gensim"
      ]
    },
    {
      "cell_type": "code",
      "metadata": {
        "ExecuteTime": {
          "end_time": "2019-11-26T07:57:56.805869Z",
          "start_time": "2019-11-26T07:57:51.932585Z"
        },
        "colab_type": "code",
        "id": "OiQBAJ-Qnbxl",
        "colab": {}
      },
      "source": [
        "%%capture\n",
        "!pip install spacy gensim pprint\n",
        "!python -m spacy download en_core_web_sm\n",
        "!pip install pyldavis wordcloud bokeh"
      ],
      "execution_count": 0,
      "outputs": []
    },
    {
      "cell_type": "markdown",
      "metadata": {
        "colab_type": "text",
        "id": "Lh_VJC7cDpDb"
      },
      "source": [
        "Initial imports"
      ]
    },
    {
      "cell_type": "code",
      "metadata": {
        "ExecuteTime": {
          "end_time": "2019-11-26T07:57:57.882444Z",
          "start_time": "2019-11-26T07:57:56.813496Z"
        },
        "colab_type": "code",
        "id": "k_vaMzMYnbx1",
        "colab": {
          "base_uri": "https://localhost:8080/",
          "height": 71
        },
        "outputId": "55f342de-bc20-46e4-8a15-176e72136cd5"
      },
      "source": [
        "import pandas as pd\n",
        "import numpy as np \n",
        "from pprint import pprint\n",
        "\n",
        "import gensim, spacy, logging, warnings\n",
        "from gensim import corpora\n",
        "import pyLDAvis\n",
        "\n",
        "%matplotlib inline\n",
        "warnings.filterwarnings(\"ignore\",category=DeprecationWarning)\n",
        "logging.basicConfig(format='%(asctime)s : %(levelname)s : %(message)s', level=logging.ERROR)"
      ],
      "execution_count": 2,
      "outputs": [
        {
          "output_type": "stream",
          "text": [
            "/usr/local/lib/python3.6/dist-packages/_pytest/mark/structures.py:426: DeprecationWarning: The usage of `cmp` is deprecated and will be removed on or after 2021-06-01.  Please use `eq` and `order` instead.\n",
            "  @attr.s(cmp=False, hash=False)\n"
          ],
          "name": "stderr"
        }
      ]
    },
    {
      "cell_type": "markdown",
      "metadata": {
        "colab_type": "text",
        "id": "1sJgp-1KSJ7k"
      },
      "source": [
        "We start with importing our data set into a Pandas dataframe"
      ]
    },
    {
      "cell_type": "code",
      "metadata": {
        "ExecuteTime": {
          "end_time": "2019-11-26T07:58:00.286317Z",
          "start_time": "2019-11-26T07:57:57.883701Z"
        },
        "colab_type": "code",
        "id": "JgvI5qWEnbyI",
        "outputId": "c5c64197-7b81-4777-84c9-7e979dc9d700",
        "colab": {
          "base_uri": "https://localhost:8080/",
          "height": 204
        }
      },
      "source": [
        "# Import Dataset\n",
        "df = pd.read_json('https://raw.githubusercontent.com/selva86/datasets/master/newsgroups.json')\n",
        "df.head()"
      ],
      "execution_count": 3,
      "outputs": [
        {
          "output_type": "execute_result",
          "data": {
            "text/html": [
              "<div>\n",
              "<style scoped>\n",
              "    .dataframe tbody tr th:only-of-type {\n",
              "        vertical-align: middle;\n",
              "    }\n",
              "\n",
              "    .dataframe tbody tr th {\n",
              "        vertical-align: top;\n",
              "    }\n",
              "\n",
              "    .dataframe thead th {\n",
              "        text-align: right;\n",
              "    }\n",
              "</style>\n",
              "<table border=\"1\" class=\"dataframe\">\n",
              "  <thead>\n",
              "    <tr style=\"text-align: right;\">\n",
              "      <th></th>\n",
              "      <th>content</th>\n",
              "      <th>target</th>\n",
              "      <th>target_names</th>\n",
              "    </tr>\n",
              "  </thead>\n",
              "  <tbody>\n",
              "    <tr>\n",
              "      <th>0</th>\n",
              "      <td>From: lerxst@wam.umd.edu (where's my thing)\\nS...</td>\n",
              "      <td>7</td>\n",
              "      <td>rec.autos</td>\n",
              "    </tr>\n",
              "    <tr>\n",
              "      <th>1</th>\n",
              "      <td>From: guykuo@carson.u.washington.edu (Guy Kuo)...</td>\n",
              "      <td>4</td>\n",
              "      <td>comp.sys.mac.hardware</td>\n",
              "    </tr>\n",
              "    <tr>\n",
              "      <th>2</th>\n",
              "      <td>From: twillis@ec.ecn.purdue.edu (Thomas E Will...</td>\n",
              "      <td>4</td>\n",
              "      <td>comp.sys.mac.hardware</td>\n",
              "    </tr>\n",
              "    <tr>\n",
              "      <th>3</th>\n",
              "      <td>From: jgreen@amber (Joe Green)\\nSubject: Re: W...</td>\n",
              "      <td>1</td>\n",
              "      <td>comp.graphics</td>\n",
              "    </tr>\n",
              "    <tr>\n",
              "      <th>4</th>\n",
              "      <td>From: jcm@head-cfa.harvard.edu (Jonathan McDow...</td>\n",
              "      <td>14</td>\n",
              "      <td>sci.space</td>\n",
              "    </tr>\n",
              "  </tbody>\n",
              "</table>\n",
              "</div>"
            ],
            "text/plain": [
              "                                             content  ...           target_names\n",
              "0  From: lerxst@wam.umd.edu (where's my thing)\\nS...  ...              rec.autos\n",
              "1  From: guykuo@carson.u.washington.edu (Guy Kuo)...  ...  comp.sys.mac.hardware\n",
              "2  From: twillis@ec.ecn.purdue.edu (Thomas E Will...  ...  comp.sys.mac.hardware\n",
              "3  From: jgreen@amber (Joe Green)\\nSubject: Re: W...  ...          comp.graphics\n",
              "4  From: jcm@head-cfa.harvard.edu (Jonathan McDow...  ...              sci.space\n",
              "\n",
              "[5 rows x 3 columns]"
            ]
          },
          "metadata": {
            "tags": []
          },
          "execution_count": 3
        }
      ]
    },
    {
      "cell_type": "code",
      "metadata": {
        "ExecuteTime": {
          "end_time": "2019-11-26T07:58:00.291252Z",
          "start_time": "2019-11-26T07:58:00.288358Z"
        },
        "colab_type": "code",
        "id": "zeO9ZwLlnbyU",
        "outputId": "67ac226c-2bf6-4cbc-fe03-8fa27206b258",
        "colab": {
          "base_uri": "https://localhost:8080/",
          "height": 34
        }
      },
      "source": [
        "df.shape"
      ],
      "execution_count": 4,
      "outputs": [
        {
          "output_type": "execute_result",
          "data": {
            "text/plain": [
              "(11314, 3)"
            ]
          },
          "metadata": {
            "tags": []
          },
          "execution_count": 4
        }
      ]
    },
    {
      "cell_type": "code",
      "metadata": {
        "ExecuteTime": {
          "end_time": "2019-11-26T07:58:00.308971Z",
          "start_time": "2019-11-26T07:58:00.293222Z"
        },
        "colab_type": "code",
        "id": "rwI9a57xnbye",
        "outputId": "b6c10fe3-eecc-4c3b-ee7b-9e677b5a8b89",
        "colab": {
          "base_uri": "https://localhost:8080/",
          "height": 221
        }
      },
      "source": [
        "df.drop(columns=[\"target\"], inplace=True)\n",
        "df = df.loc[df.target_names.isin(['soc.religion.christian', 'rec.sport.hockey', 'talk.politics.mideast', 'rec.motorcycles']) , :].reset_index()\n",
        "print(df.shape)\n",
        "df.head()"
      ],
      "execution_count": 5,
      "outputs": [
        {
          "output_type": "stream",
          "text": [
            "(2361, 3)\n"
          ],
          "name": "stdout"
        },
        {
          "output_type": "execute_result",
          "data": {
            "text/html": [
              "<div>\n",
              "<style scoped>\n",
              "    .dataframe tbody tr th:only-of-type {\n",
              "        vertical-align: middle;\n",
              "    }\n",
              "\n",
              "    .dataframe tbody tr th {\n",
              "        vertical-align: top;\n",
              "    }\n",
              "\n",
              "    .dataframe thead th {\n",
              "        text-align: right;\n",
              "    }\n",
              "</style>\n",
              "<table border=\"1\" class=\"dataframe\">\n",
              "  <thead>\n",
              "    <tr style=\"text-align: right;\">\n",
              "      <th></th>\n",
              "      <th>index</th>\n",
              "      <th>content</th>\n",
              "      <th>target_names</th>\n",
              "    </tr>\n",
              "  </thead>\n",
              "  <tbody>\n",
              "    <tr>\n",
              "      <th>0</th>\n",
              "      <td>10</td>\n",
              "      <td>From: irwin@cmptrc.lonestar.org (Irwin Arnstei...</td>\n",
              "      <td>rec.motorcycles</td>\n",
              "    </tr>\n",
              "    <tr>\n",
              "      <th>1</th>\n",
              "      <td>21</td>\n",
              "      <td>From: leunggm@odin.control.utoronto.ca (Gary L...</td>\n",
              "      <td>rec.sport.hockey</td>\n",
              "    </tr>\n",
              "    <tr>\n",
              "      <th>2</th>\n",
              "      <td>28</td>\n",
              "      <td>From: jonh@david.wheaton.edu (Jonathan Hayward...</td>\n",
              "      <td>soc.religion.christian</td>\n",
              "    </tr>\n",
              "    <tr>\n",
              "      <th>3</th>\n",
              "      <td>33</td>\n",
              "      <td>From: ayr1@cunixa.cc.columbia.edu (Amir Y Rose...</td>\n",
              "      <td>talk.politics.mideast</td>\n",
              "    </tr>\n",
              "    <tr>\n",
              "      <th>4</th>\n",
              "      <td>35</td>\n",
              "      <td>From: dchhabra@stpl.ists.ca (Deepak Chhabra)\\n...</td>\n",
              "      <td>rec.sport.hockey</td>\n",
              "    </tr>\n",
              "  </tbody>\n",
              "</table>\n",
              "</div>"
            ],
            "text/plain": [
              "   index  ...            target_names\n",
              "0     10  ...         rec.motorcycles\n",
              "1     21  ...        rec.sport.hockey\n",
              "2     28  ...  soc.religion.christian\n",
              "3     33  ...   talk.politics.mideast\n",
              "4     35  ...        rec.sport.hockey\n",
              "\n",
              "[5 rows x 3 columns]"
            ]
          },
          "metadata": {
            "tags": []
          },
          "execution_count": 5
        }
      ]
    },
    {
      "cell_type": "code",
      "metadata": {
        "id": "kFkar57wfIJ2",
        "colab_type": "code",
        "colab": {
          "base_uri": "https://localhost:8080/",
          "height": 54
        },
        "outputId": "af6a621d-1741-4cce-f053-30787df16107"
      },
      "source": [
        "df['content'][0]"
      ],
      "execution_count": 90,
      "outputs": [
        {
          "output_type": "execute_result",
          "data": {
            "text/plain": [
              "'From: irwin@cmptrc.lonestar.org (Irwin Arnstein)\\nSubject: Re: Recommendation on Duc\\nSummary: What\\'s it worth?\\nDistribution: usa\\nExpires: Sat, 1 May 1993 05:00:00 GMT\\nOrganization: CompuTrac Inc., Richardson TX\\nKeywords: Ducati, GTS, How much? \\nLines: 13\\n\\nI have a line on a Ducati 900GTS 1978 model with 17k on the clock.  Runs\\nvery well, paint is the bronze/brown/orange faded out, leaks a bit of oil\\nand pops out of 1st with hard accel.  The shop will fix trans and oil \\nleak.  They sold the bike to the 1 and only owner.  They want $3495, and\\nI am thinking more like $3K.  Any opinions out there?  Please email me.\\nThanks.  It would be a nice stable mate to the Beemer.  Then I\\'ll get\\na jap bike and call myself Axis Motors!\\n\\n-- \\n-----------------------------------------------------------------------\\n\"Tuba\" (Irwin)      \"I honk therefore I am\"     CompuTrac-Richardson,Tx\\nirwin@cmptrc.lonestar.org    DoD #0826          (R75/6)\\n-----------------------------------------------------------------------\\n'"
            ]
          },
          "metadata": {
            "tags": []
          },
          "execution_count": 90
        },
        {
          "output_type": "execute_result",
          "data": {
            "text/plain": [
              "'From: irwin@cmptrc.lonestar.org (Irwin Arnstein)\\nSubject: Re: Recommendation on Duc\\nSummary: What\\'s it worth?\\nDistribution: usa\\nExpires: Sat, 1 May 1993 05:00:00 GMT\\nOrganization: CompuTrac Inc., Richardson TX\\nKeywords: Ducati, GTS, How much? \\nLines: 13\\n\\nI have a line on a Ducati 900GTS 1978 model with 17k on the clock.  Runs\\nvery well, paint is the bronze/brown/orange faded out, leaks a bit of oil\\nand pops out of 1st with hard accel.  The shop will fix trans and oil \\nleak.  They sold the bike to the 1 and only owner.  They want $3495, and\\nI am thinking more like $3K.  Any opinions out there?  Please email me.\\nThanks.  It would be a nice stable mate to the Beemer.  Then I\\'ll get\\na jap bike and call myself Axis Motors!\\n\\n-- \\n-----------------------------------------------------------------------\\n\"Tuba\" (Irwin)      \"I honk therefore I am\"     CompuTrac-Richardson,Tx\\nirwin@cmptrc.lonestar.org    DoD #0826          (R75/6)\\n-----------------------------------------------------------------------\\n'"
            ]
          },
          "metadata": {
            "tags": []
          },
          "execution_count": 91
        }
      ]
    },
    {
      "cell_type": "markdown",
      "metadata": {
        "colab_type": "text",
        "id": "BzXNoE92S2bK"
      },
      "source": [
        "Before starting, we extend the stopword list of the English spaCy model with some domain-specific ones."
      ]
    },
    {
      "cell_type": "code",
      "metadata": {
        "ExecuteTime": {
          "end_time": "2019-11-26T07:58:00.814756Z",
          "start_time": "2019-11-26T07:58:00.311910Z"
        },
        "colab_type": "code",
        "id": "MI6JzQOwnbx_",
        "colab": {}
      },
      "source": [
        "nlp = spacy.load(\"en_core_web_sm\", disable=['parser', 'ner'])\n",
        "\n",
        "nlp.Defaults.stop_words.update(['from', 'subject', 're', 'edu', 'use', 'not', \n",
        "                               'would', 'say', 'could', '_', 'be', 'know', 'good', \n",
        "                               'go', 'get', 'do', 'done', 'try', 'many', 'some',\n",
        "                               'nice', 'thank', 'think', 'see', 'rather', 'easy', 'easily',\n",
        "                               'lot', 'lack', 'make', 'want', 'seem', 'run', 'need', 'even',\n",
        "                               'right', 'line', 'even', 'also', 'may', 'take', 'come'])"
      ],
      "execution_count": 0,
      "outputs": []
    },
    {
      "cell_type": "markdown",
      "metadata": {
        "colab_type": "text",
        "id": "Jzl2DqR1TTcM"
      },
      "source": [
        "First processing round: we tokenize, filter out non-alphabetic and too short or long tokens and lowercase.\n"
      ]
    },
    {
      "cell_type": "code",
      "metadata": {
        "ExecuteTime": {
          "end_time": "2019-11-26T07:58:47.926013Z",
          "start_time": "2019-11-26T07:58:00.816184Z"
        },
        "colab_type": "code",
        "id": "gDchxfWvnbyk",
        "outputId": "3ad50c74-4d53-468d-9606-e192c77ecb3d",
        "colab": {
          "base_uri": "https://localhost:8080/",
          "height": 88
        }
      },
      "source": [
        "%%time\n",
        "import re\n",
        "MIN_WORD_LEN = 2\n",
        "MAX_WORD_LEN = 15\n",
        "\n",
        "def text_to_words(text):\n",
        "    \"\"\"Tokenize a text and do some prefiltering for n-gram processing.\n",
        "    Please take the lowercased form of a token (after spacy analysis of text), \n",
        "    if it is not a number (consists of only letters), and it's character length is between the min and the max\n",
        "    \"\"\"\n",
        "    list_ = []\n",
        "    sen = nlp(text)\n",
        "    for token in sen:\n",
        "      tok = re.sub('[^a-zA-Z]+','',token.lower_)\n",
        "      if len(tok) >= MIN_WORD_LEN and len(tok) <= MAX_WORD_LEN:\n",
        "        list_.append(tok)\n",
        "    return list_\n",
        "\n",
        "texts = df.content.values.tolist()\n",
        "texts_words = [text_to_words(text) for text in texts]\n",
        "print(texts_words[:1])"
      ],
      "execution_count": 93,
      "outputs": [
        {
          "output_type": "stream",
          "text": [
            "[['from', 'irwin', 'arnstein', 'subject', 're', 'recommendation', 'on', 'duc', 'summary', 'what', 'it', 'worth', 'distribution', 'usa', 'expires', 'sat', 'may', 'gmt', 'organization', 'computrac', 'inc', 'richardson', 'tx', 'keywords', 'ducati', 'gts', 'how', 'much', 'lines', 'have', 'line', 'on', 'ducati', 'gts', 'model', 'with', 'on', 'the', 'clock', 'runs', 'very', 'well', 'paint', 'is', 'the', 'bronze', 'brown', 'orange', 'faded', 'out', 'leaks', 'bit', 'of', 'oil', 'and', 'pops', 'out', 'of', 'st', 'with', 'hard', 'accel', 'the', 'shop', 'will', 'fix', 'trans', 'and', 'oil', 'leak', 'they', 'sold', 'the', 'bike', 'to', 'the', 'and', 'only', 'owner', 'they', 'want', 'and', 'am', 'thinking', 'more', 'like', 'any', 'opinions', 'out', 'there', 'please', 'email', 'me', 'thanks', 'it', 'would', 'be', 'nice', 'stable', 'mate', 'to', 'the', 'beemer', 'then', 'll', 'get', 'jap', 'bike', 'and', 'call', 'myself', 'axis', 'motors', 'tuba', 'irwin', 'honk', 'therefore', 'am', 'computrac', 'richardson', 'tx', 'dod']]\n",
            "CPU times: user 46.8 s, sys: 467 ms, total: 47.3 s\n",
            "Wall time: 47.3 s\n"
          ],
          "name": "stdout"
        }
      ]
    },
    {
      "cell_type": "markdown",
      "metadata": {
        "id": "MQPV2mdNe099",
        "colab_type": "text"
      },
      "source": [
        "'from', 'irwin', 'arnstein', 'subject', 're', 'recommendation', 'on', 'duc', 'summary', 'what', 'it', 'worth', 'distribution', 'usa', 'expires', 'sat', 'may', 'gmt', 'organization', 'computrac', 'richardson', 'tx', 'keywords', 'ducati', 'gts', 'how', 'much', 'lines', 'have',"
      ]
    },
    {
      "cell_type": "markdown",
      "metadata": {
        "colab_type": "text",
        "id": "bjHxNuOYgKy-"
      },
      "source": [
        "Merge bi-, tri- and four-gram collocations with Gensim"
      ]
    },
    {
      "cell_type": "code",
      "metadata": {
        "ExecuteTime": {
          "end_time": "2019-11-26T07:59:02.175610Z",
          "start_time": "2019-11-26T07:58:47.928632Z"
        },
        "colab_type": "code",
        "id": "_Ali9tuGnbys",
        "outputId": "3c544098-c521-46c6-9310-3763a112b6f6",
        "colab": {
          "base_uri": "https://localhost:8080/",
          "height": 105
        }
      },
      "source": [
        "%%time\n",
        "from gensim.models.phrases import Phrases, Phraser\n",
        "# Build the bigram and trigram models\n",
        "# The minimum occurency of a bigram phrase should be 5\n",
        "# Both the bigram and trigram phrases should have the threshold 100\n",
        "bigram_phrases = Phrases(texts_words, min_count=5, threshold=100) #You should operate on text_phrases here\n",
        "trigram_phrases = Phrases(bigram_phrases[texts_words],min_count=5, threshold=100)  # You should use the previously defined bigram_phrases to \"look up\" text_phrases again\n",
        "\n",
        "# This is a kind of technical pruning only.\n",
        "bigram_phraser = gensim.models.phrases.Phraser(bigram_phrases)\n",
        "trigram_phraser = gensim.models.phrases.Phraser(trigram_phrases)"
      ],
      "execution_count": 94,
      "outputs": [
        {
          "output_type": "stream",
          "text": [
            "/usr/local/lib/python3.6/dist-packages/gensim/models/phrases.py:598: UserWarning: For a faster implementation, use the gensim.models.phrases.Phraser class\n",
            "  warnings.warn(\"For a faster implementation, use the gensim.models.phrases.Phraser class\")\n"
          ],
          "name": "stderr"
        },
        {
          "output_type": "stream",
          "text": [
            "CPU times: user 11.4 s, sys: 5.88 ms, total: 11.4 s\n",
            "Wall time: 11.4 s\n"
          ],
          "name": "stdout"
        }
      ]
    },
    {
      "cell_type": "code",
      "metadata": {
        "ExecuteTime": {
          "end_time": "2019-11-26T07:59:06.227070Z",
          "start_time": "2019-11-26T07:59:02.177359Z"
        },
        "colab_type": "code",
        "id": "x4uc0Ng1nbyz",
        "colab": {}
      },
      "source": [
        "# Apply the n-gram models to the data\n",
        "texts_words = [trigram_phraser[bigram_phraser[words]] for words in texts_words]"
      ],
      "execution_count": 0,
      "outputs": []
    },
    {
      "cell_type": "markdown",
      "metadata": {
        "colab_type": "text",
        "id": "YlrStopXgpaG"
      },
      "source": [
        "Having merged the collocations, we do another (final) round of filtering on the basis of stopwords and POS-tags, and lemmatize all tokens."
      ]
    },
    {
      "cell_type": "code",
      "metadata": {
        "ExecuteTime": {
          "end_time": "2019-11-26T07:59:33.598159Z",
          "start_time": "2019-11-26T07:59:06.229025Z"
        },
        "colab_type": "code",
        "id": "17UZacVLnby6",
        "outputId": "c5ceb7b5-b87a-41e2-cd90-ed6d78bf0cc7",
        "colab": {
          "base_uri": "https://localhost:8080/",
          "height": 88
        }
      },
      "source": [
        "%%time\n",
        "# Now we use spacy to filter based on stopwords, POS-tags and lemmatize\n",
        "\n",
        "filtered_texts_lemmas = []\n",
        "\n",
        "for words in texts_words:\n",
        "    doc = spacy.tokens.Doc(nlp.vocab, words=words)\n",
        "    tagged = nlp.get_pipe(\"tagger\")(doc)\n",
        "    # Please filter again, and keep only the lemma of tokens which are non stopwords and are either 'NOUN', 'ADJ', 'VERB' or 'ADV\n",
        "    # with regards to their part of speech tags\n",
        "    lemmas = [token.lemma_ for token in tagged if token.pos_ in ['NOUN', 'ADJ', 'VERB', 'ADV'] and token.is_stop == False] # you can do  this with a list comprehension or a for cycle, up to you\n",
        "    #print(lemmas)\n",
        "\n",
        "    filtered_texts_lemmas.append(lemmas)\n",
        "\n",
        "print(filtered_texts_lemmas[0])"
      ],
      "execution_count": 96,
      "outputs": [
        {
          "output_type": "stream",
          "text": [
            "['irwin', 'arnstein', 'recommendation', 'duc', 'summary', 'worth', 'expire', 'sat', 'gmt', 'organization', 'computrac', 'inc', 'richardson_tx', 'keyword', 'ducati', 'gt', 'line', 'ducati', 'gt', 'model', 'clock', 'run', 'paint', 'bronze', 'brown', 'orange', 'fade', 'leak', 'bit', 'oil', 'pop', 'st', 'hard', 'accel', 'shop', 'fix', 'tran', 'oil', 'leak', 'sell', 'bike', 'owner', 'think', 'opinion', 'email', 'thank', 'stable', 'mate', 'beemer', 'jap', 'bike', 'axis', 'motor', 'tuba', 'irwin', 'honk', 'computrac', 'richardson_tx', 'dod']\n",
            "CPU times: user 29.8 s, sys: 199 ms, total: 30 s\n",
            "Wall time: 30.1 s\n"
          ],
          "name": "stdout"
        }
      ]
    },
    {
      "cell_type": "markdown",
      "metadata": {
        "id": "Qlz7uwT1XDqa",
        "colab_type": "text"
      },
      "source": [
        "['recommendation', 'duc', 'summary', 'worth', 'expire', 'gmt', 'ducati', 'line', 'ducati', 'model', 'clock', 'run', 'paint', 'bronze', 'orange', 'fade', 'leak', 'bit', 'oil', 'pop', 'hard', 'accel', 'shop', 'fix', 'tran', 'oil', 'leak', 'sell', 'bike', 'owner', 'think', 'opinion', 'email', 'thank', 'stable', 'mate', 'beemer', 'bike', 'motor', 'computrac_richardson_tx']"
      ]
    },
    {
      "cell_type": "markdown",
      "metadata": {
        "colab_type": "text",
        "id": "eAjPzzC1iLk0"
      },
      "source": [
        "Time to build the LDA model!"
      ]
    },
    {
      "cell_type": "code",
      "metadata": {
        "ExecuteTime": {
          "end_time": "2019-11-26T08:00:01.294724Z",
          "start_time": "2019-11-26T07:59:33.600945Z"
        },
        "colab_type": "code",
        "id": "JJUfx2_ZnbzD",
        "colab": {}
      },
      "source": [
        "%%capture\n",
        "# Create Dictionary\n",
        "from gensim.corpora import Dictionary\n",
        "\n",
        "id2word = Dictionary(filtered_texts_lemmas) #create a Gensim dictionary from the final \"filtered_texts_lemmas\"\n",
        "\n",
        "id2word.filter_extremes(keep_n=5000) # use a function of the dictionary to filter out the \"extremes\", meaning: keep only 5000 elements.\n",
        "\n",
        "# Create Corpus: Term Document Frequency\n",
        "corpus = [id2word.doc2bow(words) for words in filtered_texts_lemmas]\n",
        "\n",
        "# Build LDA model with the corpus, the dictionary mapping and 4 topics! (All other parameters we have given...)\n",
        "lda_model = gensim.models.ldamodel.LdaModel(corpus, \n",
        "                                            id2word = id2word,\n",
        "                                            num_topics=4,\n",
        "                                           random_state=100,\n",
        "                                           update_every=1,\n",
        "                                           chunksize=100,\n",
        "                                           passes=20,\n",
        "                                           alpha='auto',\n",
        "                                           iterations=400,\n",
        "                                           per_word_topics=True)"
      ],
      "execution_count": 0,
      "outputs": []
    },
    {
      "cell_type": "code",
      "metadata": {
        "ExecuteTime": {
          "end_time": "2019-11-26T08:00:01.302542Z",
          "start_time": "2019-11-26T08:00:01.296856Z"
        },
        "colab_type": "code",
        "id": "DrKjqaOkhZfd",
        "outputId": "d0e7af97-1d53-424f-fd84-37856dbbdcde",
        "colab": {
          "base_uri": "https://localhost:8080/",
          "height": 272
        }
      },
      "source": [
        "pprint(lda_model.print_topics())"
      ],
      "execution_count": 98,
      "outputs": [
        {
          "output_type": "stream",
          "text": [
            "[(0,\n",
            "  '0.012*\"go\" + 0.010*\"article\" + 0.010*\"bike\" + 0.010*\"say\" + 0.007*\"time\" + '\n",
            "  '0.006*\"look\" + 0.006*\"get\" + 0.006*\"tell\" + 0.005*\"see\" + 0.005*\"thing\"'),\n",
            " (1,\n",
            "  '0.014*\"israel\" + 0.013*\"armenian\" + 0.010*\"people\" + 0.010*\"israeli\" + '\n",
            "  '0.007*\"kill\" + 0.007*\"arab\" + 0.007*\"jew\" + 0.007*\"state\" + 0.006*\"greek\" + '\n",
            "  '0.006*\"say\"'),\n",
            " (2,\n",
            "  '0.022*\"god\" + 0.011*\"people\" + 0.010*\"christian\" + 0.010*\"believe\" + '\n",
            "  '0.007*\"question\" + 0.006*\"say\" + 0.006*\"reason\" + 0.006*\"church\" + '\n",
            "  '0.005*\"thing\" + 0.005*\"christ\"'),\n",
            " (3,\n",
            "  '0.026*\"team\" + 0.022*\"game\" + 0.015*\"hockey\" + 0.013*\"play\" + '\n",
            "  '0.012*\"player\" + 0.012*\"win\" + 0.011*\"year\" + 0.010*\"nhl\" + '\n",
            "  '0.008*\"university\" + 0.008*\"season\"')]\n"
          ],
          "name": "stdout"
        }
      ]
    },
    {
      "cell_type": "markdown",
      "metadata": {
        "colab_type": "text",
        "id": "oUJJJF2rirHK"
      },
      "source": [
        "# Inference and visualizations"
      ]
    },
    {
      "cell_type": "markdown",
      "metadata": {
        "colab_type": "text",
        "id": "x0Dk_eM2nbzM"
      },
      "source": [
        "### Dominant topic and its percentage in documents"
      ]
    },
    {
      "cell_type": "code",
      "metadata": {
        "ExecuteTime": {
          "end_time": "2019-11-26T08:00:10.758116Z",
          "start_time": "2019-11-26T08:00:01.305054Z"
        },
        "colab_type": "code",
        "id": "HxxmULaEnbzP",
        "outputId": "162f70b2-56b1-45bb-d256-a9638231aab7",
        "colab": {
          "base_uri": "https://localhost:8080/",
          "height": 359
        }
      },
      "source": [
        "texts_topics_df = pd.DataFrame()\n",
        "\n",
        "# Get main topic in each document\n",
        "for topic_probs, text in zip(lda_model.get_document_topics(corpus), filtered_texts_lemmas):\n",
        "    topic_num, topic_prob = max(topic_probs, key=lambda x: x[1])\n",
        "    wp = lda_model.show_topic(topic_num)\n",
        "    topic_keywords = \", \".join([word for word, _ in wp])\n",
        "    texts_topics_df = texts_topics_df.append(pd.Series([topic_num, round(topic_prob,4), topic_keywords, text]), ignore_index=True)\n",
        "\n",
        "texts_topics_df.columns = [\"topic_no\", \"topic_ratio\", \"keywords\", \"text\"]\n",
        "texts_topics_df[\"topic_no\"]=texts_topics_df.topic_no.astype(\"int\")\n",
        "texts_topics_df.head(10)"
      ],
      "execution_count": 99,
      "outputs": [
        {
          "output_type": "execute_result",
          "data": {
            "text/html": [
              "<div>\n",
              "<style scoped>\n",
              "    .dataframe tbody tr th:only-of-type {\n",
              "        vertical-align: middle;\n",
              "    }\n",
              "\n",
              "    .dataframe tbody tr th {\n",
              "        vertical-align: top;\n",
              "    }\n",
              "\n",
              "    .dataframe thead th {\n",
              "        text-align: right;\n",
              "    }\n",
              "</style>\n",
              "<table border=\"1\" class=\"dataframe\">\n",
              "  <thead>\n",
              "    <tr style=\"text-align: right;\">\n",
              "      <th></th>\n",
              "      <th>topic_no</th>\n",
              "      <th>topic_ratio</th>\n",
              "      <th>keywords</th>\n",
              "      <th>text</th>\n",
              "    </tr>\n",
              "  </thead>\n",
              "  <tbody>\n",
              "    <tr>\n",
              "      <th>0</th>\n",
              "      <td>0</td>\n",
              "      <td>0.9648</td>\n",
              "      <td>go, article, bike, say, time, look, get, tell,...</td>\n",
              "      <td>[irwin, arnstein, recommendation, duc, summary...</td>\n",
              "    </tr>\n",
              "    <tr>\n",
              "      <th>1</th>\n",
              "      <td>3</td>\n",
              "      <td>0.7979</td>\n",
              "      <td>team, game, hockey, play, player, win, year, n...</td>\n",
              "      <td>[gary, leung, nhl_team_captains, organization,...</td>\n",
              "    </tr>\n",
              "    <tr>\n",
              "      <th>2</th>\n",
              "      <td>2</td>\n",
              "      <td>0.6997</td>\n",
              "      <td>god, people, christian, believe, question, say...</td>\n",
              "      <td>[jonathan, hayward, pantheism, organization, w...</td>\n",
              "    </tr>\n",
              "    <tr>\n",
              "      <th>3</th>\n",
              "      <td>1</td>\n",
              "      <td>0.9053</td>\n",
              "      <td>israel, armenian, people, israeli, kill, arab,...</td>\n",
              "      <td>[amir_rosenblatt, nntp_posting_host, reply, am...</td>\n",
              "    </tr>\n",
              "    <tr>\n",
              "      <th>4</th>\n",
              "      <td>0</td>\n",
              "      <td>0.5323</td>\n",
              "      <td>go, article, bike, say, time, look, get, tell,...</td>\n",
              "      <td>[deepak_chhabra, goalie_mask, nntp_posting_hos...</td>\n",
              "    </tr>\n",
              "    <tr>\n",
              "      <th>5</th>\n",
              "      <td>0</td>\n",
              "      <td>0.9041</td>\n",
              "      <td>go, article, bike, say, time, look, get, tell,...</td>\n",
              "      <td>[joe, ehrlich, bmw_moa_member, read, organizat...</td>\n",
              "    </tr>\n",
              "    <tr>\n",
              "      <th>6</th>\n",
              "      <td>0</td>\n",
              "      <td>0.8552</td>\n",
              "      <td>go, article, bike, say, time, look, get, tell,...</td>\n",
              "      <td>[chris_behanna, require, organization, line, a...</td>\n",
              "    </tr>\n",
              "    <tr>\n",
              "      <th>7</th>\n",
              "      <td>0</td>\n",
              "      <td>0.7460</td>\n",
              "      <td>go, article, bike, say, time, look, get, tell,...</td>\n",
              "      <td>[speedy_mercer, look, movie, bike, organizatio...</td>\n",
              "    </tr>\n",
              "    <tr>\n",
              "      <th>8</th>\n",
              "      <td>2</td>\n",
              "      <td>0.9695</td>\n",
              "      <td>god, people, christian, believe, question, say...</td>\n",
              "      <td>[dariuslecointe, sabbath_admission, organizati...</td>\n",
              "    </tr>\n",
              "    <tr>\n",
              "      <th>9</th>\n",
              "      <td>1</td>\n",
              "      <td>0.8332</td>\n",
              "      <td>israel, armenian, people, israeli, kill, arab,...</td>\n",
              "      <td>[serazuma_uucp_serdar_argic, day, night, armen...</td>\n",
              "    </tr>\n",
              "  </tbody>\n",
              "</table>\n",
              "</div>"
            ],
            "text/plain": [
              "   topic_no  ...                                               text\n",
              "0         0  ...  [irwin, arnstein, recommendation, duc, summary...\n",
              "1         3  ...  [gary, leung, nhl_team_captains, organization,...\n",
              "2         2  ...  [jonathan, hayward, pantheism, organization, w...\n",
              "3         1  ...  [amir_rosenblatt, nntp_posting_host, reply, am...\n",
              "4         0  ...  [deepak_chhabra, goalie_mask, nntp_posting_hos...\n",
              "5         0  ...  [joe, ehrlich, bmw_moa_member, read, organizat...\n",
              "6         0  ...  [chris_behanna, require, organization, line, a...\n",
              "7         0  ...  [speedy_mercer, look, movie, bike, organizatio...\n",
              "8         2  ...  [dariuslecointe, sabbath_admission, organizati...\n",
              "9         1  ...  [serazuma_uucp_serdar_argic, day, night, armen...\n",
              "\n",
              "[10 rows x 4 columns]"
            ]
          },
          "metadata": {
            "tags": []
          },
          "execution_count": 99
        }
      ]
    },
    {
      "cell_type": "markdown",
      "metadata": {
        "colab_type": "text",
        "id": "fONOESC5nbzr"
      },
      "source": [
        "### Wordcloud of the most important keywords in each topic"
      ]
    },
    {
      "cell_type": "code",
      "metadata": {
        "ExecuteTime": {
          "end_time": "2019-11-26T08:00:15.517750Z",
          "start_time": "2019-11-26T08:00:10.760991Z"
        },
        "colab_type": "code",
        "id": "qRGLGQMUnbzu",
        "outputId": "2f28e9cf-5946-4f9e-8f11-9ed1d35ced5b",
        "colab": {
          "base_uri": "https://localhost:8080/",
          "height": 625
        }
      },
      "source": [
        "# 1. Wordcloud of Top N words in each topic\n",
        "from matplotlib import pyplot as plt\n",
        "from wordcloud import WordCloud\n",
        "import matplotlib.colors as mcolors\n",
        "\n",
        "cols = [color for name, color in mcolors.TABLEAU_COLORS.items()]  # more colors: 'mcolors.XKCD_COLORS'\n",
        "\n",
        "cloud = WordCloud(stopwords=nlp.Defaults.stop_words,\n",
        "                  background_color='white',\n",
        "                  width=2500,\n",
        "                  height=1800,\n",
        "                  max_words=10,\n",
        "                  colormap='tab10',\n",
        "                  color_func=lambda *args, **kwargs: cols[i],\n",
        "                  prefer_horizontal=1.0)\n",
        "\n",
        "topics = lda_model.show_topics(formatted=False, num_words=10)\n",
        "\n",
        "fig, axes = plt.subplots(2, 2, figsize=(10,10), sharex=True, sharey=True)\n",
        "\n",
        "for i, ax in enumerate(axes.flatten()):\n",
        "    fig.add_subplot(ax)\n",
        "    topic_words = dict(topics[i][1])\n",
        "    cloud.generate_from_frequencies(topic_words, max_font_size=300)\n",
        "    plt.gca().imshow(cloud)\n",
        "    plt.gca().set_title('Topic ' + str(i), fontdict=dict(size=16))\n",
        "    plt.gca().axis('off')\n",
        "\n",
        "\n",
        "plt.subplots_adjust(wspace=0, hspace=0)\n",
        "plt.axis('off')\n",
        "plt.margins(x=0, y=0)\n",
        "plt.tight_layout()\n",
        "plt.show()"
      ],
      "execution_count": 100,
      "outputs": [
        {
          "output_type": "display_data",
          "data": {
            "image/png": "[encoded data removed]",
            "text/plain": [
              "<Figure size 720x720 with 4 Axes>"
            ]
          },
          "metadata": {
            "tags": []
          }
        }
      ]
    },
    {
      "cell_type": "markdown",
      "metadata": {
        "id": "0Rp8LcUDv55M",
        "colab_type": "text"
      },
      "source": [
        "**Important:**\n",
        "\n",
        "Please bear in mind, that topics can come up in random order, so a mapping between the original labels and LDA's topic numbers is non-trivial! **You have to observe the topics, and try to come up with a mapping / interpretation of them!!** \n",
        "\n",
        "(Naturally, in a \"normal\", unlabeled dataset this in itself is a question, since you do not know the topics upfront.)"
      ]
    },
    {
      "cell_type": "code",
      "metadata": {
        "id": "ABD-LpHjv55N",
        "colab_type": "code",
        "colab": {}
      },
      "source": [
        "# Assign numbers to the topics!\n",
        "\n",
        "topic_to_label_mapping={\n",
        "                        \"rec.motorcycles\": 0, \n",
        "                        \"talk.politics.mideast\": 1, \n",
        "                        \"soc.religion.christian\": 2, \n",
        "                        \"rec.sport.hockey\": 3\n",
        "                        }\n",
        "\n",
        " #Just put this line here to halt the notebook, so you don't skip this. Remove if done! "
      ],
      "execution_count": 0,
      "outputs": []
    },
    {
      "cell_type": "markdown",
      "metadata": {
        "ExecuteTime": {
          "end_time": "2019-11-08T13:47:50.285933Z",
          "start_time": "2019-11-08T13:47:50.283938Z"
        },
        "colab_type": "text",
        "id": "SBBuza1znbz9"
      },
      "source": [
        "### Sentence and word coloring by topic\n",
        "\n",
        "Please observe the results!"
      ]
    },
    {
      "cell_type": "code",
      "metadata": {
        "ExecuteTime": {
          "end_time": "2019-11-26T08:00:17.532818Z",
          "start_time": "2019-11-26T08:00:15.520443Z"
        },
        "colab_type": "code",
        "id": "Qeh3vOVPnbz_",
        "outputId": "8d2e0839-1437-46eb-c18a-e5d8fabff535",
        "colab": {
          "base_uri": "https://localhost:8080/",
          "height": 1000
        }
      },
      "source": [
        "# Sentence Coloring of N Sentences\n",
        "# For simplicity\n",
        "from matplotlib.patches import Rectangle\n",
        "\n",
        "def sentences_chart(lda_model=lda_model, corpus=corpus, start = 0, end = 13):\n",
        "    corp = corpus[start:end]\n",
        "    mycolors = [color for _, color in mcolors.TABLEAU_COLORS.items()]\n",
        "\n",
        "    fig, axes = plt.subplots(end-start, 1, figsize=(9, (end-start)*0.6), dpi=160)       \n",
        "    axes[0].axis('off')\n",
        "    for i, ax in enumerate(axes):\n",
        "        if i > 0:\n",
        "            corp_cur = corp[i-1] \n",
        "            topic_percs, wordid_topics, wordid_phivalues = lda_model.get_document_topics(corp_cur, per_word_topics=True)\n",
        "            word_dominanttopic = [(lda_model.id2word[wd], topic[0]) for wd, topic in wordid_topics]\n",
        "            ax.text(0.01, 0.5, \"Doc \" + str(i-1) + \": \", verticalalignment='center',\n",
        "                    fontsize=6, color='black', transform=ax.transAxes, fontweight=300)\n",
        "\n",
        "            # Draw Rectange\n",
        "            topic_percs_sorted = sorted(topic_percs, key=lambda x: (x[1]), reverse=True)\n",
        "            ax.add_patch(Rectangle((0.0, 0.05), 0.98, 0.9, fill=None, alpha=1, \n",
        "                                   color=mycolors[topic_percs_sorted[0][0]], linewidth=2))\n",
        "\n",
        "            word_pos = 0.06\n",
        "            for j, (word, topics) in enumerate(word_dominanttopic):\n",
        "                if j < 14:\n",
        "                    ax.text(word_pos, 0.5, word,\n",
        "                            horizontalalignment='left',\n",
        "                            verticalalignment='center',\n",
        "                            fontsize=7, color=mycolors[topics],\n",
        "                            transform=ax.transAxes, fontweight=300)\n",
        "                    word_pos += .009 * len(word)  # to move the word for the next iter\n",
        "                    ax.axis('off')\n",
        "            ax.text(word_pos, 0.5, '. . .',\n",
        "                    horizontalalignment='left',\n",
        "                    verticalalignment='center',\n",
        "                    fontsize=7, color='black',\n",
        "                    transform=ax.transAxes)       \n",
        "\n",
        "    plt.subplots_adjust(wspace=0, hspace=0)\n",
        "    plt.suptitle('Sentence topic coloring for documents ' + str(start) + ' to ' + str(end-2), fontsize=16, y=0.95, fontweight=300)\n",
        "    plt.tight_layout()\n",
        "    plt.show()\n",
        "\n",
        "sentences_chart()    "
      ],
      "execution_count": 110,
      "outputs": [
        {
          "output_type": "display_data",
          "data": {
            "image/png": "[encoded data removed]",
            "text/plain": [
              "<Figure size 1440x1248 with 13 Axes>"
            ]
          },
          "metadata": {
            "tags": []
          }
        }
      ]
    },
    {
      "cell_type": "markdown",
      "metadata": {
        "colab_type": "text",
        "id": "4-5ivymrnb0a"
      },
      "source": [
        "### t-SNE visualisation of the documents\n"
      ]
    },
    {
      "cell_type": "code",
      "metadata": {
        "ExecuteTime": {
          "end_time": "2019-11-26T08:00:30.212417Z",
          "start_time": "2019-11-26T08:00:17.535880Z"
        },
        "colab_type": "code",
        "id": "Sr9uG3Menb0c",
        "outputId": "bb2f3409-aef0-4fc6-951e-9cbeb6700f8c",
        "colab": {
          "base_uri": "https://localhost:8080/",
          "height": 870
        }
      },
      "source": [
        "from sklearn.manifold import TSNE\n",
        "from bokeh.plotting import figure, output_file, show\n",
        "from bokeh.models import Label\n",
        "from bokeh.io import output_notebook\n",
        "\n",
        "topic_probs = []\n",
        "\n",
        "# Get the topic probabilities for the whole corpus from the model\n",
        "for probs in lda_model.get_document_topics(corpus, minimum_probability=-1): # minimum_probability=-1 to always get all probs\n",
        "    topic_probs.append([prob for _, prob in probs])\n",
        "\n",
        "# Topic probs df\n",
        "df_topic_probs = pd.DataFrame(topic_probs, columns=[\"topic_0_prob\", \"topic_1_prob\", \"topic_2_prob\", \"topic_3_prob\"])\n",
        "\n",
        "# Topic weights NumPy array\n",
        "arr = df_topic_probs.values\n",
        "\n",
        "# Keep the well separated points (optional)\n",
        "# arr = arr[np.amax(arr, axis=1) > 0.35]\n",
        "\n",
        "# Dominant topic number in each doc\n",
        "topic_num = np.argmax(arr, axis=1)\n",
        "\n",
        "# Fit a tSNE model\n",
        "tsne_model = TSNE(n_components=2, verbose=1, random_state=0, angle=.99, init='pca')\n",
        "tsne_lda = tsne_model.fit_transform(arr)\n",
        "\n",
        "# Plot the Topic Clusters using Bokeh\n",
        "output_notebook()\n",
        "n_topics = 4\n",
        "mycolors = np.array([color for name, color in mcolors.TABLEAU_COLORS.items()])\n",
        "plot = figure(title=\"t-SNE Clustering of {} LDA Topics\".format(n_topics), \n",
        "              plot_width=900, plot_height=700)\n",
        "plot.scatter(x=tsne_lda[:,0], y=tsne_lda[:,1], color=mycolors[topic_num])\n",
        "show(plot);"
      ],
      "execution_count": 111,
      "outputs": [
        {
          "output_type": "stream",
          "text": [
            "[t-SNE] Computing 91 nearest neighbors...\n",
            "[t-SNE] Indexed 2361 samples in 0.001s...\n",
            "[t-SNE] Computed neighbors for 2361 samples in 0.045s...\n",
            "[t-SNE] Computed conditional probabilities for sample 1000 / 2361\n",
            "[t-SNE] Computed conditional probabilities for sample 2000 / 2361\n",
            "[t-SNE] Computed conditional probabilities for sample 2361 / 2361\n",
            "[t-SNE] Mean sigma: 0.009138\n",
            "[t-SNE] KL divergence after 250 iterations with early exaggeration: 57.667572\n",
            "[t-SNE] KL divergence after 1000 iterations: 0.491185\n"
          ],
          "name": "stdout"
        },
        {
          "output_type": "display_data",
          "data": {
            "application/javascript": [
              "\n",
              "(function(root) {\n",
              "  function now() {\n",
              "    return new Date();\n",
              "  }\n",
              "\n",
              "  var force = true;\n",
              "\n",
              "  if (typeof (root._bokeh_onload_callbacks) === \"undefined\" || force === true) {\n",
              "    root._bokeh_onload_callbacks = [];\n",
              "    root._bokeh_is_loading = undefined;\n",
              "  }\n",
              "\n",
              "  var JS_MIME_TYPE = 'application/javascript';\n",
              "  var HTML_MIME_TYPE = 'text/html';\n",
              "  var EXEC_MIME_TYPE = 'application/vnd.bokehjs_exec.v0+json';\n",
              "  var CLASS_NAME = 'output_bokeh rendered_html';\n",
              "\n",
              "  /**\n",
              "   * Render data to the DOM node\n",
              "   */\n",
              "  function render(props, node) {\n",
              "    var script = document.createElement(\"script\");\n",
              "    node.appendChild(script);\n",
              "  }\n",
              "\n",
              "  /**\n",
              "   * Handle when an output is cleared or removed\n",
              "   */\n",
              "  function handleClearOutput(event, handle) {\n",
              "    var cell = handle.cell;\n",
              "\n",
              "    var id = cell.output_area._bokeh_element_id;\n",
              "    var server_id = cell.output_area._bokeh_server_id;\n",
              "    // Clean up Bokeh references\n",
              "    if (id != null && id in Bokeh.index) {\n",
              "      Bokeh.index[id].model.document.clear();\n",
              "      delete Bokeh.index[id];\n",
              "    }\n",
              "\n",
              "    if (server_id !== undefined) {\n",
              "      // Clean up Bokeh references\n",
              "      var cmd = \"from bokeh.io.state import curstate; print(curstate().uuid_to_server['\" + server_id + \"'].get_sessions()[0].document.roots[0]._id)\";\n",
              "      cell.notebook.kernel.execute(cmd, {\n",
              "        iopub: {\n",
              "          output: function(msg) {\n",
              "            var id = msg.content.text.trim();\n",
              "            if (id in Bokeh.index) {\n",
              "              Bokeh.index[id].model.document.clear();\n",
              "              delete Bokeh.index[id];\n",
              "            }\n",
              "          }\n",
              "        }\n",
              "      });\n",
              "      // Destroy server and session\n",
              "      var cmd = \"import bokeh.io.notebook as ion; ion.destroy_server('\" + server_id + \"')\";\n",
              "      cell.notebook.kernel.execute(cmd);\n",
              "    }\n",
              "  }\n",
              "\n",
              "  /**\n",
              "   * Handle when a new output is added\n",
              "   */\n",
              "  function handleAddOutput(event, handle) {\n",
              "    var output_area = handle.output_area;\n",
              "    var output = handle.output;\n",
              "\n",
              "    // limit handleAddOutput to display_data with EXEC_MIME_TYPE content only\n",
              "    if ((output.output_type != \"display_data\") || (!output.data.hasOwnProperty(EXEC_MIME_TYPE))) {\n",
              "      return\n",
              "    }\n",
              "\n",
              "    var toinsert = output_area.element.find(\".\" + CLASS_NAME.split(' ')[0]);\n",
              "\n",
              "    if (output.metadata[EXEC_MIME_TYPE][\"id\"] !== undefined) {\n",
              "      toinsert[toinsert.length - 1].firstChild.textContent = output.data[JS_MIME_TYPE];\n",
              "      // store reference to embed id on output_area\n",
              "      output_area._bokeh_element_id = output.metadata[EXEC_MIME_TYPE][\"id\"];\n",
              "    }\n",
              "    if (output.metadata[EXEC_MIME_TYPE][\"server_id\"] !== undefined) {\n",
              "      var bk_div = document.createElement(\"div\");\n",
              "      bk_div.innerHTML = output.data[HTML_MIME_TYPE];\n",
              "      var script_attrs = bk_div.children[0].attributes;\n",
              "      for (var i = 0; i < script_attrs.length; i++) {\n",
              "        toinsert[toinsert.length - 1].firstChild.setAttribute(script_attrs[i].name, script_attrs[i].value);\n",
              "      }\n",
              "      // store reference to server id on output_area\n",
              "      output_area._bokeh_server_id = output.metadata[EXEC_MIME_TYPE][\"server_id\"];\n",
              "    }\n",
              "  }\n",
              "\n",
              "  function register_renderer(events, OutputArea) {\n",
              "\n",
              "    function append_mime(data, metadata, element) {\n",
              "      // create a DOM node to render to\n",
              "      var toinsert = this.create_output_subarea(\n",
              "        metadata,\n",
              "        CLASS_NAME,\n",
              "        EXEC_MIME_TYPE\n",
              "      );\n",
              "      this.keyboard_manager.register_events(toinsert);\n",
              "      // Render to node\n",
              "      var props = {data: data, metadata: metadata[EXEC_MIME_TYPE]};\n",
              "      render(props, toinsert[toinsert.length - 1]);\n",
              "      element.append(toinsert);\n",
              "      return toinsert\n",
              "    }\n",
              "\n",
              "    /* Handle when an output is cleared or removed */\n",
              "    events.on('clear_output.CodeCell', handleClearOutput);\n",
              "    events.on('delete.Cell', handleClearOutput);\n",
              "\n",
              "    /* Handle when a new output is added */\n",
              "    events.on('output_added.OutputArea', handleAddOutput);\n",
              "\n",
              "    /**\n",
              "     * Register the mime type and append_mime function with output_area\n",
              "     */\n",
              "    OutputArea.prototype.register_mime_type(EXEC_MIME_TYPE, append_mime, {\n",
              "      /* Is output safe? */\n",
              "      safe: true,\n",
              "      /* Index of renderer in `output_area.display_order` */\n",
              "      index: 0\n",
              "    });\n",
              "  }\n",
              "\n",
              "  // register the mime type if in Jupyter Notebook environment and previously unregistered\n",
              "  if (root.Jupyter !== undefined) {\n",
              "    var events = require('base/js/events');\n",
              "    var OutputArea = require('notebook/js/outputarea').OutputArea;\n",
              "\n",
              "    if (OutputArea.prototype.mime_types().indexOf(EXEC_MIME_TYPE) == -1) {\n",
              "      register_renderer(events, OutputArea);\n",
              "    }\n",
              "  }\n",
              "\n",
              "  \n",
              "  if (typeof (root._bokeh_timeout) === \"undefined\" || force === true) {\n",
              "    root._bokeh_timeout = Date.now() + 5000;\n",
              "    root._bokeh_failed_load = false;\n",
              "  }\n",
              "\n",
              "  var NB_LOAD_WARNING = {'data': {'text/html':\n",
              "     \"<div style='background-color: #fdd'>\\n\"+\n",
              "     \"<p>\\n\"+\n",
              "     \"BokehJS does not appear to have successfully loaded. If loading BokehJS from CDN, this \\n\"+\n",
              "     \"may be due to a slow or bad network connection. Possible fixes:\\n\"+\n",
              "     \"</p>\\n\"+\n",
              "     \"<ul>\\n\"+\n",
              "     \"<li>re-rerun `output_notebook()` to attempt to load from CDN again, or</li>\\n\"+\n",
              "     \"<li>use INLINE resources instead, as so:</li>\\n\"+\n",
              "     \"</ul>\\n\"+\n",
              "     \"<code>\\n\"+\n",
              "     \"from bokeh.resources import INLINE\\n\"+\n",
              "     \"output_notebook(resources=INLINE)\\n\"+\n",
              "     \"</code>\\n\"+\n",
              "     \"</div>\"}};\n",
              "\n",
              "  function display_loaded() {\n",
              "    var el = document.getElementById(null);\n",
              "    if (el != null) {\n",
              "      el.textContent = \"BokehJS is loading...\";\n",
              "    }\n",
              "    if (root.Bokeh !== undefined) {\n",
              "      if (el != null) {\n",
              "        el.textContent = \"BokehJS \" + root.Bokeh.version + \" successfully loaded.\";\n",
              "      }\n",
              "    } else if (Date.now() < root._bokeh_timeout) {\n",
              "      setTimeout(display_loaded, 100)\n",
              "    }\n",
              "  }\n",
              "\n",
              "\n",
              "  function run_callbacks() {\n",
              "    try {\n",
              "      root._bokeh_onload_callbacks.forEach(function(callback) { callback() });\n",
              "    }\n",
              "    finally {\n",
              "      delete root._bokeh_onload_callbacks\n",
              "    }\n",
              "    console.info(\"Bokeh: all callbacks have finished\");\n",
              "  }\n",
              "\n",
              "  function load_libs(js_urls, callback) {\n",
              "    root._bokeh_onload_callbacks.push(callback);\n",
              "    if (root._bokeh_is_loading > 0) {\n",
              "      console.log(\"Bokeh: BokehJS is being loaded, scheduling callback at\", now());\n",
              "      return null;\n",
              "    }\n",
              "    if (js_urls == null || js_urls.length === 0) {\n",
              "      run_callbacks();\n",
              "      return null;\n",
              "    }\n",
              "    console.log(\"Bokeh: BokehJS not loaded, scheduling load and callback at\", now());\n",
              "    root._bokeh_is_loading = js_urls.length;\n",
              "    for (var i = 0; i < js_urls.length; i++) {\n",
              "      var url = js_urls[i];\n",
              "      var s = document.createElement('script');\n",
              "      s.src = url;\n",
              "      s.async = false;\n",
              "      s.onreadystatechange = s.onload = function() {\n",
              "        root._bokeh_is_loading--;\n",
              "        if (root._bokeh_is_loading === 0) {\n",
              "          console.log(\"Bokeh: all BokehJS libraries loaded\");\n",
              "          run_callbacks()\n",
              "        }\n",
              "      };\n",
              "      s.onerror = function() {\n",
              "        console.warn(\"failed to load library \" + url);\n",
              "      };\n",
              "      console.log(\"Bokeh: injecting script tag for BokehJS library: \", url);\n",
              "      document.getElementsByTagName(\"head\")[0].appendChild(s);\n",
              "    }\n",
              "  };\n",
              "\n",
              "  var js_urls = [\"https://cdn.pydata.org/bokeh/release/bokeh-1.0.4.min.js\", \"https://cdn.pydata.org/bokeh/release/bokeh-widgets-1.0.4.min.js\", \"https://cdn.pydata.org/bokeh/release/bokeh-tables-1.0.4.min.js\", \"https://cdn.pydata.org/bokeh/release/bokeh-gl-1.0.4.min.js\"];\n",
              "\n",
              "  var inline_js = [\n",
              "    function(Bokeh) {\n",
              "      Bokeh.set_log_level(\"info\");\n",
              "    },\n",
              "    \n",
              "    function(Bokeh) {\n",
              "      \n",
              "    },\n",
              "    function(Bokeh) {\n",
              "      console.log(\"Bokeh: injecting CSS: https://cdn.pydata.org/bokeh/release/bokeh-1.0.4.min.css\");\n",
              "      Bokeh.embed.inject_css(\"https://cdn.pydata.org/bokeh/release/bokeh-1.0.4.min.css\");\n",
              "      console.log(\"Bokeh: injecting CSS: https://cdn.pydata.org/bokeh/release/bokeh-widgets-1.0.4.min.css\");\n",
              "      Bokeh.embed.inject_css(\"https://cdn.pydata.org/bokeh/release/bokeh-widgets-1.0.4.min.css\");\n",
              "      console.log(\"Bokeh: injecting CSS: https://cdn.pydata.org/bokeh/release/bokeh-tables-1.0.4.min.css\");\n",
              "      Bokeh.embed.inject_css(\"https://cdn.pydata.org/bokeh/release/bokeh-tables-1.0.4.min.css\");\n",
              "    }\n",
              "  ];\n",
              "\n",
              "  function run_inline_js() {\n",
              "    \n",
              "    if ((root.Bokeh !== undefined) || (force === true)) {\n",
              "      for (var i = 0; i < inline_js.length; i++) {\n",
              "        inline_js[i].call(root, root.Bokeh);\n",
              "      }} else if (Date.now() < root._bokeh_timeout) {\n",
              "      setTimeout(run_inline_js, 100);\n",
              "    } else if (!root._bokeh_failed_load) {\n",
              "      console.log(\"Bokeh: BokehJS failed to load within specified timeout.\");\n",
              "      root._bokeh_failed_load = true;\n",
              "    } else if (force !== true) {\n",
              "      var cell = $(document.getElementById(null)).parents('.cell').data().cell;\n",
              "      cell.output_area.append_execute_result(NB_LOAD_WARNING)\n",
              "    }\n",
              "\n",
              "  }\n",
              "\n",
              "  if (root._bokeh_is_loading === 0) {\n",
              "    console.log(\"Bokeh: BokehJS loaded, going straight to plotting\");\n",
              "    run_inline_js();\n",
              "  } else {\n",
              "    load_libs(js_urls, function() {\n",
              "      console.log(\"Bokeh: BokehJS plotting callback run at\", now());\n",
              "      run_inline_js();\n",
              "    });\n",
              "  }\n",
              "}(window));"
            ],
            "application/vnd.bokehjs_load.v0+json": "\n(function(root) {\n  function now() {\n    return new Date();\n  }\n\n  var force = true;\n\n  if (typeof (root._bokeh_onload_callbacks) === \"undefined\" || force === true) {\n    root._bokeh_onload_callbacks = [];\n    root._bokeh_is_loading = undefined;\n  }\n\n  \n\n  \n  if (typeof (root._bokeh_timeout) === \"undefined\" || force === true) {\n    root._bokeh_timeout = Date.now() + 5000;\n    root._bokeh_failed_load = false;\n  }\n\n  var NB_LOAD_WARNING = {'data': {'text/html':\n     \"<div style='background-color: #fdd'>\\n\"+\n     \"<p>\\n\"+\n     \"BokehJS does not appear to have successfully loaded. If loading BokehJS from CDN, this \\n\"+\n     \"may be due to a slow or bad network connection. Possible fixes:\\n\"+\n     \"</p>\\n\"+\n     \"<ul>\\n\"+\n     \"<li>re-rerun `output_notebook()` to attempt to load from CDN again, or</li>\\n\"+\n     \"<li>use INLINE resources instead, as so:</li>\\n\"+\n     \"</ul>\\n\"+\n     \"<code>\\n\"+\n     \"from bokeh.resources import INLINE\\n\"+\n     \"output_notebook(resources=INLINE)\\n\"+\n     \"</code>\\n\"+\n     \"</div>\"}};\n\n  function display_loaded() {\n    var el = document.getElementById(null);\n    if (el != null) {\n      el.textContent = \"BokehJS is loading...\";\n    }\n    if (root.Bokeh !== undefined) {\n      if (el != null) {\n        el.textContent = \"BokehJS \" + root.Bokeh.version + \" successfully loaded.\";\n      }\n    } else if (Date.now() < root._bokeh_timeout) {\n      setTimeout(display_loaded, 100)\n    }\n  }\n\n\n  function run_callbacks() {\n    try {\n      root._bokeh_onload_callbacks.forEach(function(callback) { callback() });\n    }\n    finally {\n      delete root._bokeh_onload_callbacks\n    }\n    console.info(\"Bokeh: all callbacks have finished\");\n  }\n\n  function load_libs(js_urls, callback) {\n    root._bokeh_onload_callbacks.push(callback);\n    if (root._bokeh_is_loading > 0) {\n      console.log(\"Bokeh: BokehJS is being loaded, scheduling callback at\", now());\n      return null;\n    }\n    if (js_urls == null || js_urls.length === 0) {\n      run_callbacks();\n      return null;\n    }\n    console.log(\"Bokeh: BokehJS not loaded, scheduling load and callback at\", now());\n    root._bokeh_is_loading = js_urls.length;\n    for (var i = 0; i < js_urls.length; i++) {\n      var url = js_urls[i];\n      var s = document.createElement('script');\n      s.src = url;\n      s.async = false;\n      s.onreadystatechange = s.onload = function() {\n        root._bokeh_is_loading--;\n        if (root._bokeh_is_loading === 0) {\n          console.log(\"Bokeh: all BokehJS libraries loaded\");\n          run_callbacks()\n        }\n      };\n      s.onerror = function() {\n        console.warn(\"failed to load library \" + url);\n      };\n      console.log(\"Bokeh: injecting script tag for BokehJS library: \", url);\n      document.getElementsByTagName(\"head\")[0].appendChild(s);\n    }\n  };\n\n  var js_urls = [\"https://cdn.pydata.org/bokeh/release/bokeh-1.0.4.min.js\", \"https://cdn.pydata.org/bokeh/release/bokeh-widgets-1.0.4.min.js\", \"https://cdn.pydata.org/bokeh/release/bokeh-tables-1.0.4.min.js\", \"https://cdn.pydata.org/bokeh/release/bokeh-gl-1.0.4.min.js\"];\n\n  var inline_js = [\n    function(Bokeh) {\n      Bokeh.set_log_level(\"info\");\n    },\n    \n    function(Bokeh) {\n      \n    },\n    function(Bokeh) {\n      console.log(\"Bokeh: injecting CSS: https://cdn.pydata.org/bokeh/release/bokeh-1.0.4.min.css\");\n      Bokeh.embed.inject_css(\"https://cdn.pydata.org/bokeh/release/bokeh-1.0.4.min.css\");\n      console.log(\"Bokeh: injecting CSS: https://cdn.pydata.org/bokeh/release/bokeh-widgets-1.0.4.min.css\");\n      Bokeh.embed.inject_css(\"https://cdn.pydata.org/bokeh/release/bokeh-widgets-1.0.4.min.css\");\n      console.log(\"Bokeh: injecting CSS: https://cdn.pydata.org/bokeh/release/bokeh-tables-1.0.4.min.css\");\n      Bokeh.embed.inject_css(\"https://cdn.pydata.org/bokeh/release/bokeh-tables-1.0.4.min.css\");\n    }\n  ];\n\n  function run_inline_js() {\n    \n    if ((root.Bokeh !== undefined) || (force === true)) {\n      for (var i = 0; i < inline_js.length; i++) {\n        inline_js[i].call(root, root.Bokeh);\n      }} else if (Date.now() < root._bokeh_timeout) {\n      setTimeout(run_inline_js, 100);\n    } else if (!root._bokeh_failed_load) {\n      console.log(\"Bokeh: BokehJS failed to load within specified timeout.\");\n      root._bokeh_failed_load = true;\n    } else if (force !== true) {\n      var cell = $(document.getElementById(null)).parents('.cell').data().cell;\n      cell.output_area.append_execute_result(NB_LOAD_WARNING)\n    }\n\n  }\n\n  if (root._bokeh_is_loading === 0) {\n    console.log(\"Bokeh: BokehJS loaded, going straight to plotting\");\n    run_inline_js();\n  } else {\n    load_libs(js_urls, function() {\n      console.log(\"Bokeh: BokehJS plotting callback run at\", now());\n      run_inline_js();\n    });\n  }\n}(window));"
          },
          "metadata": {
            "tags": []
          }
        },
        {
          "output_type": "display_data",
          "data": {
            "text/html": [
              "\n",
              "\n",
              "\n",
              "\n",
              "\n",
              "\n",
              "  <div class=\"bk-root\" id=\"9db93a7d-536f-42bf-bb18-3aa154d25914\" data-root-id=\"1317\"></div>\n"
            ]
          },
          "metadata": {
            "tags": []
          }
        },
        {
          "output_type": "display_data",
          "data": {
            "application/javascript": [
              "(function(root) {\n",
              "  function embed_document(root) {\n",
              "    \n",
              "  var docs_json = {\"b09c6f91-a1dc-4121-9991-7ab3009c7a44\":{\"roots\":{\"references\":[{\"attributes\":{\"below\":[{\"id\":\"1327\",\"type\":\"LinearAxis\"}],\"left\":[{\"id\":\"1332\",\"type\":\"LinearAxis\"}],\"plot_height\":700,\"plot_width\":900,\"renderers\":[{\"id\":\"1327\",\"type\":\"LinearAxis\"},{\"id\":\"1331\",\"type\":\"Grid\"},{\"id\":\"1332\",\"type\":\"LinearAxis\"},{\"id\":\"1336\",\"type\":\"Grid\"},{\"id\":\"1345\",\"type\":\"BoxAnnotation\"},{\"id\":\"1355\",\"type\":\"GlyphRenderer\"}],\"title\":{\"id\":\"1316\",\"type\":\"Title\"},\"toolbar\":{\"id\":\"1343\",\"type\":\"Toolbar\"},\"x_range\":{\"id\":\"1319\",\"type\":\"DataRange1d\"},\"x_scale\":{\"id\":\"1323\",\"type\":\"LinearScale\"},\"y_range\":{\"id\":\"1321\",\"type\":\"DataRange1d\"},\"y_scale\":{\"id\":\"1325\",\"type\":\"LinearScale\"}},\"id\":\"1317\",\"subtype\":\"Figure\",\"type\":\"Plot\"},{\"attributes\":{\"plot\":null,\"text\":\"t-SNE Clustering of 4 LDA Topics\"},\"id\":\"1316\",\"type\":\"Title\"},{\"attributes\":{\"active_drag\":\"auto\",\"active_inspect\":\"auto\",\"active_multi\":null,\"active_scroll\":\"auto\",\"active_tap\":\"auto\",\"tools\":[{\"id\":\"1337\",\"type\":\"PanTool\"},{\"id\":\"1338\",\"type\":\"WheelZoomTool\"},{\"id\":\"1339\",\"type\":\"BoxZoomTool\"},{\"id\":\"1340\",\"type\":\"SaveTool\"},{\"id\":\"1341\",\"type\":\"ResetTool\"},{\"id\":\"1342\",\"type\":\"HelpTool\"}]},\"id\":\"1343\",\"type\":\"Toolbar\"},{\"attributes\":{},\"id\":\"1383\",\"type\":\"BasicTickFormatter\"},{\"attributes\":{\"formatter\":{\"id\":\"1383\",\"type\":\"BasicTickFormatter\"},\"plot\":{\"id\":\"1317\",\"subtype\":\"Figure\",\"type\":\"Plot\"},\"ticker\":{\"id\":\"1328\",\"type\":\"BasicTicker\"}},\"id\":\"1327\",\"type\":\"LinearAxis\"},{\"attributes\":{},\"id\":\"1328\",\"type\":\"BasicTicker\"},{\"attributes\":{},\"id\":\"1388\",\"type\":\"UnionRenderers\"},{\"attributes\":{\"formatter\":{\"id\":\"1385\",\"type\":\"BasicTickFormatter\"},\"plot\":{\"id\":\"1317\",\"subtype\":\"Figure\",\"type\":\"Plot\"},\"ticker\":{\"id\":\"1333\",\"type\":\"BasicTicker\"}},\"id\":\"1332\",\"type\":\"LinearAxis\"},{\"attributes\":{\"overlay\":{\"id\":\"1345\",\"type\":\"BoxAnnotation\"}},\"id\":\"1339\",\"type\":\"BoxZoomTool\"},{\"attributes\":{},\"id\":\"1323\",\"type\":\"LinearScale\"},{\"attributes\":{\"callback\":null},\"id\":\"1319\",\"type\":\"DataRange1d\"},{\"attributes\":{},\"id\":\"1338\",\"type\":\"WheelZoomTool\"},{\"attributes\":{},\"id\":\"1333\",\"type\":\"BasicTicker\"},{\"attributes\":{\"callback\":null,\"data\":{\"fill_color\":[\"#1f77b4\",\"#d62728\",\"#2ca02c\",\"#ff7f0e\",\"#1f77b4\",\"#1f77b4\",\"#1f77b4\",\"#1f77b4\",\"#2ca02c\",\"#ff7f0e\",\"#d62728\",\"#ff7f0e\",\"#d62728\",\"#ff7f0e\",\"#1f77b4\",\"#1f77b4\",\"#1f77b4\",\"#ff7f0e\",\"#d62728\",\"#2ca02c\",\"#1f77b4\",\"#2ca02c\",\"#2ca02c\",\"#1f77b4\",\"#ff7f0e\",\"#2ca02c\",\"#1f77b4\",\"#2ca02c\",\"#ff7f0e\",\"#2ca02c\",\"#ff7f0e\",\"#2ca02c\",\"#1f77b4\",\"#d62728\",\"#1f77b4\",\"#1f77b4\",\"#2ca02c\",\"#d62728\",\"#2ca02c\",\"#1f77b4\",\"#2ca02c\",\"#1f77b4\",\"#1f77b4\",\"#ff7f0e\",\"#1f77b4\",\"#1f77b4\",\"#2ca02c\",\"#2ca02c\",\"#d62728\",\"#ff7f0e\",\"#1f77b4\",\"#2ca02c\",\"#2ca02c\",\"#d62728\",\"#1f77b4\",\"#ff7f0e\",\"#1f77b4\",\"#d62728\",\"#ff7f0e\",\"#1f77b4\",\"#1f77b4\",\"#2ca02c\",\"#1f77b4\",\"#ff7f0e\",\"#d62728\",\"#ff7f0e\",\"#2ca02c\",\"#1f77b4\",\"#2ca02c\",\"#d62728\",\"#2ca02c\",\"#ff7f0e\",\"#2ca02c\",\"#1f77b4\",\"#ff7f0e\",\"#1f77b4\",\"#2ca02c\",\"#1f77b4\",\"#ff7f0e\",\"#d62728\",\"#d62728\",\"#1f77b4\",\"#2ca02c\",\"#2ca02c\",\"#1f77b4\",\"#d62728\",\"#1f77b4\",\"#d62728\",\"#2ca02c\",\"#2ca02c\",\"#1f77b4\",\"#2ca02c\",\"#1f77b4\",\"#ff7f0e\",\"#2ca02c\",\"#1f77b4\",\"#2ca02c\",\"#1f77b4\",\"#1f77b4\",\"#2ca02c\",\"#ff7f0e\",\"#d62728\",\"#d62728\",\"#d62728\",\"#ff7f0e\",\"#2ca02c\",\"#2ca02c\",\"#1f77b4\",\"#d62728\",\"#1f77b4\",\"#d62728\",\"#d62728\",\"#ff7f0e\",\"#ff7f0e\",\"#ff7f0e\",\"#2ca02c\",\"#ff7f0e\",\"#1f77b4\",\"#ff7f0e\",\"#2ca02c\",\"#1f77b4\",\"#d62728\",\"#2ca02c\",\"#ff7f0e\",\"#ff7f0e\",\"#2ca02c\",\"#1f77b4\",\"#2ca02c\",\"#1f77b4\",\"#1f77b4\",\"#d62728\",\"#2ca02c\",\"#1f77b4\",\"#2ca02c\",\"#1f77b4\",\"#1f77b4\",\"#d62728\",\"#2ca02c\",\"#2ca02c\",\"#ff7f0e\",\"#2ca02c\",\"#ff7f0e\",\"#ff7f0e\",\"#1f77b4\",\"#2ca02c\",\"#d62728\",\"#ff7f0e\",\"#2ca02c\",\"#ff7f0e\",\"#ff7f0e\",\"#1f77b4\",\"#2ca02c\",\"#d62728\",\"#2ca02c\",\"#2ca02c\",\"#2ca02c\",\"#2ca02c\",\"#d62728\",\"#2ca02c\",\"#1f77b4\",\"#2ca02c\",\"#ff7f0e\",\"#1f77b4\",\"#2ca02c\",\"#ff7f0e\",\"#1f77b4\",\"#2ca02c\",\"#ff7f0e\",\"#2ca02c\",\"#2ca02c\",\"#2ca02c\",\"#d62728\",\"#1f77b4\",\"#1f77b4\",\"#2ca02c\",\"#ff7f0e\",\"#1f77b4\",\"#1f77b4\",\"#1f77b4\",\"#ff7f0e\",\"#ff7f0e\",\"#d62728\",\"#d62728\",\"#d62728\",\"#ff7f0e\",\"#2ca02c\",\"#2ca02c\",\"#2ca02c\",\"#ff7f0e\",\"#ff7f0e\",\"#1f77b4\",\"#1f77b4\",\"#ff7f0e\",\"#ff7f0e\",\"#2ca02c\",\"#ff7f0e\",\"#d62728\",\"#1f77b4\",\"#1f77b4\",\"#1f77b4\",\"#d62728\",\"#1f77b4\",\"#ff7f0e\",\"#ff7f0e\",\"#d62728\",\"#1f77b4\",\"#ff7f0e\",\"#2ca02c\",\"#d62728\",\"#d62728\",\"#d62728\",\"#2ca02c\",\"#1f77b4\",\"#ff7f0e\",\"#d62728\",\"#1f77b4\",\"#d62728\",\"#1f77b4\",\"#ff7f0e\",\"#1f77b4\",\"#2ca02c\",\"#1f77b4\",\"#2ca02c\",\"#2ca02c\",\"#2ca02c\",\"#d62728\",\"#ff7f0e\",\"#ff7f0e\",\"#1f77b4\",\"#ff7f0e\",\"#2ca02c\",\"#1f77b4\",\"#1f77b4\",\"#ff7f0e\",\"#2ca02c\",\"#1f77b4\",\"#ff7f0e\",\"#d62728\",\"#d62728\",\"#1f77b4\",\"#d62728\",\"#1f77b4\",\"#2ca02c\",\"#1f77b4\",\"#d62728\",\"#2ca02c\",\"#2ca02c\",\"#d62728\",\"#2ca02c\",\"#ff7f0e\",\"#d62728\",\"#2ca02c\",\"#2ca02c\",\"#d62728\",\"#1f77b4\",\"#d62728\",\"#2ca02c\",\"#d62728\",\"#d62728\",\"#ff7f0e\",\"#1f77b4\",\"#2ca02c\",\"#1f77b4\",\"#ff7f0e\",\"#d62728\",\"#2ca02c\",\"#1f77b4\",\"#d62728\",\"#1f77b4\",\"#d62728\",\"#d62728\",\"#d62728\",\"#1f77b4\",\"#2ca02c\",\"#d62728\",\"#1f77b4\",\"#2ca02c\",\"#1f77b4\",\"#d62728\",\"#2ca02c\",\"#1f77b4\",\"#2ca02c\",\"#ff7f0e\",\"#ff7f0e\",\"#2ca02c\",\"#1f77b4\",\"#1f77b4\",\"#2ca02c\",\"#ff7f0e\",\"#ff7f0e\",\"#d62728\",\"#1f77b4\",\"#1f77b4\",\"#d62728\",\"#1f77b4\",\"#1f77b4\",\"#1f77b4\",\"#ff7f0e\",\"#ff7f0e\",\"#2ca02c\",\"#1f77b4\",\"#ff7f0e\",\"#1f77b4\",\"#2ca02c\",\"#ff7f0e\",\"#1f77b4\",\"#d62728\",\"#1f77b4\",\"#1f77b4\",\"#ff7f0e\",\"#1f77b4\",\"#ff7f0e\",\"#2ca02c\",\"#2ca02c\",\"#1f77b4\",\"#d62728\",\"#ff7f0e\",\"#d62728\",\"#1f77b4\",\"#1f77b4\",\"#d62728\",\"#ff7f0e\",\"#ff7f0e\",\"#1f77b4\",\"#1f77b4\",\"#1f77b4\",\"#d62728\",\"#1f77b4\",\"#ff7f0e\",\"#d62728\",\"#ff7f0e\",\"#d62728\",\"#1f77b4\",\"#1f77b4\",\"#ff7f0e\",\"#ff7f0e\",\"#d62728\",\"#2ca02c\",\"#2ca02c\",\"#1f77b4\",\"#2ca02c\",\"#d62728\",\"#ff7f0e\",\"#ff7f0e\",\"#d62728\",\"#ff7f0e\",\"#d62728\",\"#2ca02c\",\"#2ca02c\",\"#1f77b4\",\"#2ca02c\",\"#1f77b4\",\"#d62728\",\"#d62728\",\"#d62728\",\"#1f77b4\",\"#2ca02c\",\"#d62728\",\"#1f77b4\",\"#2ca02c\",\"#1f77b4\",\"#2ca02c\",\"#2ca02c\",\"#1f77b4\",\"#2ca02c\",\"#d62728\",\"#ff7f0e\",\"#1f77b4\",\"#ff7f0e\",\"#1f77b4\",\"#ff7f0e\",\"#1f77b4\",\"#d62728\",\"#d62728\",\"#1f77b4\",\"#1f77b4\",\"#2ca02c\",\"#1f77b4\",\"#1f77b4\",\"#d62728\",\"#d62728\",\"#1f77b4\",\"#1f77b4\",\"#1f77b4\",\"#1f77b4\",\"#1f77b4\",\"#1f77b4\",\"#1f77b4\",\"#1f77b4\",\"#1f77b4\",\"#2ca02c\",\"#ff7f0e\",\"#1f77b4\",\"#1f77b4\",\"#2ca02c\",\"#1f77b4\",\"#1f77b4\",\"#d62728\",\"#1f77b4\",\"#1f77b4\",\"#1f77b4\",\"#1f77b4\",\"#ff7f0e\",\"#d62728\",\"#d62728\",\"#1f77b4\",\"#d62728\",\"#d62728\",\"#ff7f0e\",\"#2ca02c\",\"#d62728\",\"#2ca02c\",\"#1f77b4\",\"#ff7f0e\",\"#2ca02c\",\"#1f77b4\",\"#d62728\",\"#ff7f0e\",\"#d62728\",\"#d62728\",\"#1f77b4\",\"#1f77b4\",\"#ff7f0e\",\"#1f77b4\",\"#1f77b4\",\"#1f77b4\",\"#1f77b4\",\"#2ca02c\",\"#1f77b4\",\"#d62728\",\"#2ca02c\",\"#2ca02c\",\"#1f77b4\",\"#d62728\",\"#d62728\",\"#2ca02c\",\"#ff7f0e\",\"#ff7f0e\",\"#2ca02c\",\"#1f77b4\",\"#2ca02c\",\"#1f77b4\",\"#2ca02c\",\"#2ca02c\",\"#d62728\",\"#ff7f0e\",\"#d62728\",\"#1f77b4\",\"#2ca02c\",\"#1f77b4\",\"#d62728\",\"#ff7f0e\",\"#1f77b4\",\"#2ca02c\",\"#1f77b4\",\"#ff7f0e\",\"#d62728\",\"#2ca02c\",\"#2ca02c\",\"#1f77b4\",\"#d62728\",\"#2ca02c\",\"#ff7f0e\",\"#1f77b4\",\"#1f77b4\",\"#1f77b4\",\"#1f77b4\",\"#1f77b4\",\"#1f77b4\",\"#1f77b4\",\"#d62728\",\"#2ca02c\",\"#1f77b4\",\"#2ca02c\",\"#ff7f0e\",\"#ff7f0e\",\"#2ca02c\",\"#ff7f0e\",\"#ff7f0e\",\"#1f77b4\",\"#1f77b4\",\"#2ca02c\",\"#2ca02c\",\"#2ca02c\",\"#2ca02c\",\"#ff7f0e\",\"#1f77b4\",\"#ff7f0e\",\"#2ca02c\",\"#d62728\",\"#2ca02c\",\"#ff7f0e\",\"#1f77b4\",\"#1f77b4\",\"#d62728\",\"#2ca02c\",\"#1f77b4\",\"#1f77b4\",\"#d62728\",\"#ff7f0e\",\"#2ca02c\",\"#1f77b4\",\"#ff7f0e\",\"#2ca02c\",\"#1f77b4\",\"#d62728\",\"#1f77b4\",\"#d62728\",\"#ff7f0e\",\"#d62728\",\"#2ca02c\",\"#2ca02c\",\"#ff7f0e\",\"#ff7f0e\",\"#d62728\",\"#1f77b4\",\"#2ca02c\",\"#ff7f0e\",\"#d62728\",\"#1f77b4\",\"#1f77b4\",\"#d62728\",\"#1f77b4\",\"#1f77b4\",\"#1f77b4\",\"#2ca02c\",\"#2ca02c\",\"#1f77b4\",\"#2ca02c\",\"#1f77b4\",\"#2ca02c\",\"#d62728\",\"#1f77b4\",\"#1f77b4\",\"#ff7f0e\",\"#1f77b4\",\"#ff7f0e\",\"#ff7f0e\",\"#ff7f0e\",\"#d62728\",\"#ff7f0e\",\"#ff7f0e\",\"#d62728\",\"#d62728\",\"#2ca02c\",\"#1f77b4\",\"#1f77b4\",\"#d62728\",\"#ff7f0e\",\"#1f77b4\",\"#d62728\",\"#2ca02c\",\"#1f77b4\",\"#ff7f0e\",\"#1f77b4\",\"#d62728\",\"#2ca02c\",\"#1f77b4\",\"#2ca02c\",\"#2ca02c\",\"#1f77b4\",\"#1f77b4\",\"#d62728\",\"#ff7f0e\",\"#1f77b4\",\"#d62728\",\"#2ca02c\",\"#2ca02c\",\"#1f77b4\",\"#1f77b4\",\"#d62728\",\"#ff7f0e\",\"#d62728\",\"#d62728\",\"#ff7f0e\",\"#2ca02c\",\"#ff7f0e\",\"#1f77b4\",\"#1f77b4\",\"#2ca02c\",\"#2ca02c\",\"#d62728\",\"#ff7f0e\",\"#1f77b4\",\"#d62728\",\"#1f77b4\",\"#ff7f0e\",\"#2ca02c\",\"#1f77b4\",\"#d62728\",\"#2ca02c\",\"#d62728\",\"#1f77b4\",\"#2ca02c\",\"#ff7f0e\",\"#d62728\",\"#d62728\",\"#1f77b4\",\"#d62728\",\"#d62728\",\"#2ca02c\",\"#1f77b4\",\"#1f77b4\",\"#2ca02c\",\"#ff7f0e\",\"#1f77b4\",\"#1f77b4\",\"#d62728\",\"#d62728\",\"#ff7f0e\",\"#1f77b4\",\"#1f77b4\",\"#d62728\",\"#1f77b4\",\"#ff7f0e\",\"#d62728\",\"#d62728\",\"#1f77b4\",\"#1f77b4\",\"#1f77b4\",\"#1f77b4\",\"#1f77b4\",\"#ff7f0e\",\"#d62728\",\"#2ca02c\",\"#d62728\",\"#2ca02c\",\"#ff7f0e\",\"#1f77b4\",\"#2ca02c\",\"#ff7f0e\",\"#ff7f0e\",\"#ff7f0e\",\"#2ca02c\",\"#2ca02c\",\"#1f77b4\",\"#2ca02c\",\"#ff7f0e\",\"#2ca02c\",\"#ff7f0e\",\"#2ca02c\",\"#d62728\",\"#d62728\",\"#1f77b4\",\"#2ca02c\",\"#1f77b4\",\"#1f77b4\",\"#2ca02c\",\"#1f77b4\",\"#1f77b4\",\"#2ca02c\",\"#ff7f0e\",\"#ff7f0e\",\"#1f77b4\",\"#ff7f0e\",\"#d62728\",\"#1f77b4\",\"#2ca02c\",\"#ff7f0e\",\"#ff7f0e\",\"#ff7f0e\",\"#ff7f0e\",\"#1f77b4\",\"#1f77b4\",\"#1f77b4\",\"#ff7f0e\",\"#ff7f0e\",\"#d62728\",\"#1f77b4\",\"#d62728\",\"#2ca02c\",\"#2ca02c\",\"#2ca02c\",\"#ff7f0e\",\"#1f77b4\",\"#2ca02c\",\"#1f77b4\",\"#1f77b4\",\"#2ca02c\",\"#2ca02c\",\"#1f77b4\",\"#2ca02c\",\"#d62728\",\"#2ca02c\",\"#1f77b4\",\"#1f77b4\",\"#ff7f0e\",\"#2ca02c\",\"#ff7f0e\",\"#1f77b4\",\"#1f77b4\",\"#1f77b4\",\"#2ca02c\",\"#1f77b4\",\"#1f77b4\",\"#2ca02c\",\"#1f77b4\",\"#1f77b4\",\"#1f77b4\",\"#1f77b4\",\"#2ca02c\",\"#d62728\",\"#d62728\",\"#ff7f0e\",\"#1f77b4\",\"#1f77b4\",\"#2ca02c\",\"#2ca02c\",\"#1f77b4\",\"#d62728\",\"#ff7f0e\",\"#ff7f0e\",\"#d62728\",\"#ff7f0e\",\"#d62728\",\"#1f77b4\",\"#ff7f0e\",\"#ff7f0e\",\"#2ca02c\",\"#1f77b4\",\"#ff7f0e\",\"#d62728\",\"#1f77b4\",\"#d62728\",\"#d62728\",\"#2ca02c\",\"#2ca02c\",\"#1f77b4\",\"#2ca02c\",\"#ff7f0e\",\"#1f77b4\",\"#d62728\",\"#ff7f0e\",\"#d62728\",\"#2ca02c\",\"#d62728\",\"#d62728\",\"#1f77b4\",\"#d62728\",\"#ff7f0e\",\"#1f77b4\",\"#1f77b4\",\"#2ca02c\",\"#ff7f0e\",\"#1f77b4\",\"#1f77b4\",\"#1f77b4\",\"#d62728\",\"#d62728\",\"#ff7f0e\",\"#1f77b4\",\"#1f77b4\",\"#1f77b4\",\"#2ca02c\",\"#d62728\",\"#2ca02c\",\"#2ca02c\",\"#2ca02c\",\"#d62728\",\"#2ca02c\",\"#ff7f0e\",\"#1f77b4\",\"#d62728\",\"#ff7f0e\",\"#1f77b4\",\"#ff7f0e\",\"#d62728\",\"#d62728\",\"#ff7f0e\",\"#d62728\",\"#d62728\",\"#2ca02c\",\"#2ca02c\",\"#2ca02c\",\"#1f77b4\",\"#d62728\",\"#1f77b4\",\"#d62728\",\"#2ca02c\",\"#d62728\",\"#2ca02c\",\"#1f77b4\",\"#1f77b4\",\"#ff7f0e\",\"#2ca02c\",\"#ff7f0e\",\"#d62728\",\"#d62728\",\"#d62728\",\"#1f77b4\",\"#1f77b4\",\"#d62728\",\"#1f77b4\",\"#2ca02c\",\"#1f77b4\",\"#ff7f0e\",\"#d62728\",\"#d62728\",\"#2ca02c\",\"#ff7f0e\",\"#1f77b4\",\"#2ca02c\",\"#d62728\",\"#ff7f0e\",\"#d62728\",\"#2ca02c\",\"#1f77b4\",\"#1f77b4\",\"#ff7f0e\",\"#ff7f0e\",\"#d62728\",\"#2ca02c\",\"#1f77b4\",\"#1f77b4\",\"#1f77b4\",\"#1f77b4\",\"#2ca02c\",\"#1f77b4\",\"#d62728\",\"#d62728\",\"#2ca02c\",\"#1f77b4\",\"#d62728\",\"#1f77b4\",\"#2ca02c\",\"#2ca02c\",\"#1f77b4\",\"#ff7f0e\",\"#d62728\",\"#2ca02c\",\"#ff7f0e\",\"#1f77b4\",\"#1f77b4\",\"#d62728\",\"#1f77b4\",\"#d62728\",\"#2ca02c\",\"#d62728\",\"#1f77b4\",\"#2ca02c\",\"#1f77b4\",\"#1f77b4\",\"#2ca02c\",\"#ff7f0e\",\"#1f77b4\",\"#d62728\",\"#ff7f0e\",\"#1f77b4\",\"#ff7f0e\",\"#d62728\",\"#2ca02c\",\"#1f77b4\",\"#d62728\",\"#2ca02c\",\"#ff7f0e\",\"#1f77b4\",\"#1f77b4\",\"#d62728\",\"#d62728\",\"#2ca02c\",\"#d62728\",\"#1f77b4\",\"#d62728\",\"#1f77b4\",\"#1f77b4\",\"#ff7f0e\",\"#ff7f0e\",\"#2ca02c\",\"#d62728\",\"#d62728\",\"#d62728\",\"#1f77b4\",\"#1f77b4\",\"#2ca02c\",\"#ff7f0e\",\"#1f77b4\",\"#ff7f0e\",\"#d62728\",\"#d62728\",\"#2ca02c\",\"#1f77b4\",\"#d62728\",\"#ff7f0e\",\"#1f77b4\",\"#1f77b4\",\"#d62728\",\"#1f77b4\",\"#d62728\",\"#ff7f0e\",\"#ff7f0e\",\"#d62728\",\"#1f77b4\",\"#1f77b4\",\"#1f77b4\",\"#ff7f0e\",\"#1f77b4\",\"#1f77b4\",\"#1f77b4\",\"#1f77b4\",\"#d62728\",\"#2ca02c\",\"#d62728\",\"#1f77b4\",\"#2ca02c\",\"#1f77b4\",\"#2ca02c\",\"#d62728\",\"#ff7f0e\",\"#2ca02c\",\"#2ca02c\",\"#2ca02c\",\"#1f77b4\",\"#2ca02c\",\"#2ca02c\",\"#1f77b4\",\"#ff7f0e\",\"#ff7f0e\",\"#ff7f0e\",\"#2ca02c\",\"#ff7f0e\",\"#2ca02c\",\"#ff7f0e\",\"#1f77b4\",\"#1f77b4\",\"#1f77b4\",\"#ff7f0e\",\"#ff7f0e\",\"#1f77b4\",\"#d62728\",\"#2ca02c\",\"#2ca02c\",\"#2ca02c\",\"#2ca02c\",\"#1f77b4\",\"#ff7f0e\",\"#1f77b4\",\"#1f77b4\",\"#d62728\",\"#1f77b4\",\"#d62728\",\"#1f77b4\",\"#1f77b4\",\"#1f77b4\",\"#d62728\",\"#1f77b4\",\"#1f77b4\",\"#1f77b4\",\"#1f77b4\",\"#1f77b4\",\"#ff7f0e\",\"#2ca02c\",\"#1f77b4\",\"#d62728\",\"#ff7f0e\",\"#d62728\",\"#1f77b4\",\"#1f77b4\",\"#d62728\",\"#1f77b4\",\"#ff7f0e\",\"#1f77b4\",\"#2ca02c\",\"#1f77b4\",\"#ff7f0e\",\"#d62728\",\"#d62728\",\"#1f77b4\",\"#ff7f0e\",\"#d62728\",\"#ff7f0e\",\"#ff7f0e\",\"#2ca02c\",\"#d62728\",\"#1f77b4\",\"#d62728\",\"#1f77b4\",\"#2ca02c\",\"#ff7f0e\",\"#2ca02c\",\"#d62728\",\"#ff7f0e\",\"#ff7f0e\",\"#1f77b4\",\"#1f77b4\",\"#d62728\",\"#d62728\",\"#2ca02c\",\"#d62728\",\"#1f77b4\",\"#ff7f0e\",\"#d62728\",\"#d62728\",\"#2ca02c\",\"#2ca02c\",\"#2ca02c\",\"#2ca02c\",\"#d62728\",\"#ff7f0e\",\"#1f77b4\",\"#d62728\",\"#d62728\",\"#1f77b4\",\"#1f77b4\",\"#ff7f0e\",\"#d62728\",\"#1f77b4\",\"#2ca02c\",\"#2ca02c\",\"#2ca02c\",\"#d62728\",\"#d62728\",\"#ff7f0e\",\"#2ca02c\",\"#ff7f0e\",\"#d62728\",\"#1f77b4\",\"#1f77b4\",\"#2ca02c\",\"#ff7f0e\",\"#2ca02c\",\"#2ca02c\",\"#2ca02c\",\"#1f77b4\",\"#d62728\",\"#d62728\",\"#2ca02c\",\"#ff7f0e\",\"#d62728\",\"#d62728\",\"#1f77b4\",\"#1f77b4\",\"#d62728\",\"#d62728\",\"#1f77b4\",\"#d62728\",\"#1f77b4\",\"#1f77b4\",\"#2ca02c\",\"#ff7f0e\",\"#1f77b4\",\"#2ca02c\",\"#2ca02c\",\"#d62728\",\"#ff7f0e\",\"#ff7f0e\",\"#2ca02c\",\"#ff7f0e\",\"#d62728\",\"#d62728\",\"#ff7f0e\",\"#1f77b4\",\"#1f77b4\",\"#1f77b4\",\"#d62728\",\"#ff7f0e\",\"#1f77b4\",\"#d62728\",\"#ff7f0e\",\"#2ca02c\",\"#2ca02c\",\"#ff7f0e\",\"#d62728\",\"#ff7f0e\",\"#ff7f0e\",\"#d62728\",\"#2ca02c\",\"#1f77b4\",\"#2ca02c\",\"#ff7f0e\",\"#d62728\",\"#d62728\",\"#ff7f0e\",\"#1f77b4\",\"#d62728\",\"#d62728\",\"#ff7f0e\",\"#2ca02c\",\"#d62728\",\"#1f77b4\",\"#1f77b4\",\"#d62728\",\"#ff7f0e\",\"#d62728\",\"#1f77b4\",\"#1f77b4\",\"#1f77b4\",\"#1f77b4\",\"#1f77b4\",\"#d62728\",\"#2ca02c\",\"#1f77b4\",\"#ff7f0e\",\"#2ca02c\",\"#ff7f0e\",\"#d62728\",\"#2ca02c\",\"#ff7f0e\",\"#1f77b4\",\"#1f77b4\",\"#2ca02c\",\"#1f77b4\",\"#1f77b4\",\"#1f77b4\",\"#ff7f0e\",\"#d62728\",\"#1f77b4\",\"#ff7f0e\",\"#ff7f0e\",\"#2ca02c\",\"#1f77b4\",\"#ff7f0e\",\"#1f77b4\",\"#1f77b4\",\"#1f77b4\",\"#2ca02c\",\"#d62728\",\"#1f77b4\",\"#2ca02c\",\"#2ca02c\",\"#d62728\",\"#ff7f0e\",\"#2ca02c\",\"#ff7f0e\",\"#2ca02c\",\"#1f77b4\",\"#d62728\",\"#d62728\",\"#ff7f0e\",\"#1f77b4\",\"#ff7f0e\",\"#1f77b4\",\"#2ca02c\",\"#d62728\",\"#ff7f0e\",\"#2ca02c\",\"#1f77b4\",\"#ff7f0e\",\"#1f77b4\",\"#1f77b4\",\"#d62728\",\"#ff7f0e\",\"#ff7f0e\",\"#1f77b4\",\"#ff7f0e\",\"#ff7f0e\",\"#d62728\",\"#1f77b4\",\"#2ca02c\",\"#1f77b4\",\"#d62728\",\"#2ca02c\",\"#1f77b4\",\"#ff7f0e\",\"#d62728\",\"#2ca02c\",\"#ff7f0e\",\"#2ca02c\",\"#2ca02c\",\"#ff7f0e\",\"#d62728\",\"#1f77b4\",\"#2ca02c\",\"#2ca02c\",\"#2ca02c\",\"#1f77b4\",\"#2ca02c\",\"#1f77b4\",\"#1f77b4\",\"#1f77b4\",\"#ff7f0e\",\"#2ca02c\",\"#ff7f0e\",\"#1f77b4\",\"#ff7f0e\",\"#2ca02c\",\"#2ca02c\",\"#ff7f0e\",\"#1f77b4\",\"#1f77b4\",\"#d62728\",\"#2ca02c\",\"#d62728\",\"#1f77b4\",\"#1f77b4\",\"#1f77b4\",\"#1f77b4\",\"#ff7f0e\",\"#1f77b4\",\"#1f77b4\",\"#ff7f0e\",\"#d62728\",\"#2ca02c\",\"#1f77b4\",\"#1f77b4\",\"#2ca02c\",\"#ff7f0e\",\"#2ca02c\",\"#d62728\",\"#ff7f0e\",\"#d62728\",\"#d62728\",\"#2ca02c\",\"#2ca02c\",\"#1f77b4\",\"#ff7f0e\",\"#d62728\",\"#d62728\",\"#2ca02c\",\"#d62728\",\"#d62728\",\"#ff7f0e\",\"#ff7f0e\",\"#2ca02c\",\"#1f77b4\",\"#ff7f0e\",\"#ff7f0e\",\"#2ca02c\",\"#ff7f0e\",\"#d62728\",\"#d62728\",\"#d62728\",\"#1f77b4\",\"#d62728\",\"#ff7f0e\",\"#d62728\",\"#2ca02c\",\"#2ca02c\",\"#ff7f0e\",\"#1f77b4\",\"#1f77b4\",\"#2ca02c\",\"#2ca02c\",\"#2ca02c\",\"#ff7f0e\",\"#1f77b4\",\"#2ca02c\",\"#ff7f0e\",\"#2ca02c\",\"#d62728\",\"#1f77b4\",\"#1f77b4\",\"#2ca02c\",\"#1f77b4\",\"#1f77b4\",\"#d62728\",\"#2ca02c\",\"#ff7f0e\",\"#ff7f0e\",\"#ff7f0e\",\"#ff7f0e\",\"#1f77b4\",\"#1f77b4\",\"#2ca02c\",\"#1f77b4\",\"#d62728\",\"#2ca02c\",\"#d62728\",\"#ff7f0e\",\"#ff7f0e\",\"#ff7f0e\",\"#2ca02c\",\"#1f77b4\",\"#1f77b4\",\"#1f77b4\",\"#1f77b4\",\"#1f77b4\",\"#d62728\",\"#2ca02c\",\"#2ca02c\",\"#2ca02c\",\"#1f77b4\",\"#1f77b4\",\"#1f77b4\",\"#2ca02c\",\"#2ca02c\",\"#d62728\",\"#1f77b4\",\"#ff7f0e\",\"#1f77b4\",\"#d62728\",\"#1f77b4\",\"#1f77b4\",\"#2ca02c\",\"#1f77b4\",\"#d62728\",\"#2ca02c\",\"#d62728\",\"#2ca02c\",\"#1f77b4\",\"#1f77b4\",\"#ff7f0e\",\"#d62728\",\"#d62728\",\"#1f77b4\",\"#2ca02c\",\"#ff7f0e\",\"#1f77b4\",\"#d62728\",\"#1f77b4\",\"#2ca02c\",\"#1f77b4\",\"#ff7f0e\",\"#d62728\",\"#1f77b4\",\"#1f77b4\",\"#d62728\",\"#1f77b4\",\"#2ca02c\",\"#d62728\",\"#2ca02c\",\"#2ca02c\",\"#2ca02c\",\"#2ca02c\",\"#d62728\",\"#1f77b4\",\"#1f77b4\",\"#2ca02c\",\"#ff7f0e\",\"#1f77b4\",\"#1f77b4\",\"#2ca02c\",\"#ff7f0e\",\"#ff7f0e\",\"#d62728\",\"#d62728\",\"#ff7f0e\",\"#1f77b4\",\"#ff7f0e\",\"#d62728\",\"#2ca02c\",\"#ff7f0e\",\"#2ca02c\",\"#2ca02c\",\"#1f77b4\",\"#2ca02c\",\"#d62728\",\"#d62728\",\"#ff7f0e\",\"#2ca02c\",\"#d62728\",\"#2ca02c\",\"#d62728\",\"#1f77b4\",\"#2ca02c\",\"#d62728\",\"#1f77b4\",\"#d62728\",\"#2ca02c\",\"#2ca02c\",\"#1f77b4\",\"#2ca02c\",\"#d62728\",\"#1f77b4\",\"#ff7f0e\",\"#1f77b4\",\"#1f77b4\",\"#2ca02c\",\"#ff7f0e\",\"#1f77b4\",\"#ff7f0e\",\"#2ca02c\",\"#1f77b4\",\"#2ca02c\",\"#2ca02c\",\"#2ca02c\",\"#ff7f0e\",\"#d62728\",\"#2ca02c\",\"#d62728\",\"#d62728\",\"#ff7f0e\",\"#2ca02c\",\"#1f77b4\",\"#2ca02c\",\"#1f77b4\",\"#d62728\",\"#2ca02c\",\"#1f77b4\",\"#2ca02c\",\"#2ca02c\",\"#2ca02c\",\"#ff7f0e\",\"#d62728\",\"#1f77b4\",\"#ff7f0e\",\"#1f77b4\",\"#1f77b4\",\"#d62728\",\"#2ca02c\",\"#ff7f0e\",\"#d62728\",\"#d62728\",\"#d62728\",\"#ff7f0e\",\"#1f77b4\",\"#2ca02c\",\"#ff7f0e\",\"#d62728\",\"#ff7f0e\",\"#1f77b4\",\"#1f77b4\",\"#d62728\",\"#2ca02c\",\"#1f77b4\",\"#ff7f0e\",\"#1f77b4\",\"#2ca02c\",\"#ff7f0e\",\"#2ca02c\",\"#2ca02c\",\"#1f77b4\",\"#1f77b4\",\"#d62728\",\"#d62728\",\"#2ca02c\",\"#ff7f0e\",\"#d62728\",\"#1f77b4\",\"#ff7f0e\",\"#2ca02c\",\"#2ca02c\",\"#2ca02c\",\"#d62728\",\"#d62728\",\"#2ca02c\",\"#1f77b4\",\"#d62728\",\"#1f77b4\",\"#d62728\",\"#ff7f0e\",\"#1f77b4\",\"#d62728\",\"#1f77b4\",\"#d62728\",\"#2ca02c\",\"#d62728\",\"#1f77b4\",\"#ff7f0e\",\"#1f77b4\",\"#d62728\",\"#ff7f0e\",\"#1f77b4\",\"#2ca02c\",\"#1f77b4\",\"#ff7f0e\",\"#ff7f0e\",\"#2ca02c\",\"#d62728\",\"#d62728\",\"#d62728\",\"#ff7f0e\",\"#d62728\",\"#ff7f0e\",\"#ff7f0e\",\"#ff7f0e\",\"#1f77b4\",\"#d62728\",\"#d62728\",\"#ff7f0e\",\"#d62728\",\"#d62728\",\"#ff7f0e\",\"#1f77b4\",\"#2ca02c\",\"#d62728\",\"#2ca02c\",\"#1f77b4\",\"#2ca02c\",\"#2ca02c\",\"#1f77b4\",\"#d62728\",\"#2ca02c\",\"#d62728\",\"#d62728\",\"#2ca02c\",\"#2ca02c\",\"#1f77b4\",\"#1f77b4\",\"#d62728\",\"#2ca02c\",\"#1f77b4\",\"#1f77b4\",\"#2ca02c\",\"#ff7f0e\",\"#d62728\",\"#2ca02c\",\"#d62728\",\"#1f77b4\",\"#1f77b4\",\"#1f77b4\",\"#2ca02c\",\"#2ca02c\",\"#ff7f0e\",\"#1f77b4\",\"#2ca02c\",\"#ff7f0e\",\"#2ca02c\",\"#d62728\",\"#2ca02c\",\"#1f77b4\",\"#ff7f0e\",\"#ff7f0e\",\"#ff7f0e\",\"#1f77b4\",\"#ff7f0e\",\"#1f77b4\",\"#2ca02c\",\"#ff7f0e\",\"#1f77b4\",\"#ff7f0e\",\"#2ca02c\",\"#1f77b4\",\"#d62728\",\"#d62728\",\"#d62728\",\"#1f77b4\",\"#ff7f0e\",\"#ff7f0e\",\"#1f77b4\",\"#1f77b4\",\"#ff7f0e\",\"#ff7f0e\",\"#1f77b4\",\"#d62728\",\"#d62728\",\"#1f77b4\",\"#1f77b4\",\"#d62728\",\"#2ca02c\",\"#1f77b4\",\"#ff7f0e\",\"#1f77b4\",\"#1f77b4\",\"#2ca02c\",\"#1f77b4\",\"#ff7f0e\",\"#2ca02c\",\"#d62728\",\"#1f77b4\",\"#ff7f0e\",\"#d62728\",\"#1f77b4\",\"#2ca02c\",\"#d62728\",\"#1f77b4\",\"#ff7f0e\",\"#2ca02c\",\"#ff7f0e\",\"#d62728\",\"#1f77b4\",\"#ff7f0e\",\"#1f77b4\",\"#ff7f0e\",\"#2ca02c\",\"#1f77b4\",\"#ff7f0e\",\"#d62728\",\"#d62728\",\"#2ca02c\",\"#2ca02c\",\"#ff7f0e\",\"#1f77b4\",\"#1f77b4\",\"#d62728\",\"#2ca02c\",\"#d62728\",\"#1f77b4\",\"#2ca02c\",\"#1f77b4\",\"#2ca02c\",\"#d62728\",\"#1f77b4\",\"#ff7f0e\",\"#ff7f0e\",\"#1f77b4\",\"#2ca02c\",\"#ff7f0e\",\"#d62728\",\"#1f77b4\",\"#2ca02c\",\"#ff7f0e\",\"#d62728\",\"#1f77b4\",\"#ff7f0e\",\"#2ca02c\",\"#1f77b4\",\"#1f77b4\",\"#1f77b4\",\"#1f77b4\",\"#1f77b4\",\"#1f77b4\",\"#ff7f0e\",\"#d62728\",\"#1f77b4\",\"#d62728\",\"#d62728\",\"#d62728\",\"#2ca02c\",\"#1f77b4\",\"#ff7f0e\",\"#2ca02c\",\"#ff7f0e\",\"#2ca02c\",\"#d62728\",\"#2ca02c\",\"#ff7f0e\",\"#2ca02c\",\"#2ca02c\",\"#d62728\",\"#ff7f0e\",\"#ff7f0e\",\"#1f77b4\",\"#1f77b4\",\"#1f77b4\",\"#ff7f0e\",\"#1f77b4\",\"#1f77b4\",\"#2ca02c\",\"#1f77b4\",\"#1f77b4\",\"#2ca02c\",\"#d62728\",\"#ff7f0e\",\"#ff7f0e\",\"#d62728\",\"#1f77b4\",\"#ff7f0e\",\"#1f77b4\",\"#1f77b4\",\"#1f77b4\",\"#ff7f0e\",\"#d62728\",\"#2ca02c\",\"#d62728\",\"#1f77b4\",\"#d62728\",\"#d62728\",\"#d62728\",\"#ff7f0e\",\"#1f77b4\",\"#2ca02c\",\"#2ca02c\",\"#2ca02c\",\"#d62728\",\"#2ca02c\",\"#2ca02c\",\"#d62728\",\"#2ca02c\",\"#2ca02c\",\"#d62728\",\"#1f77b4\",\"#d62728\",\"#d62728\",\"#1f77b4\",\"#1f77b4\",\"#1f77b4\",\"#ff7f0e\",\"#ff7f0e\",\"#d62728\",\"#1f77b4\",\"#ff7f0e\",\"#1f77b4\",\"#2ca02c\",\"#1f77b4\",\"#2ca02c\",\"#d62728\",\"#2ca02c\",\"#2ca02c\",\"#ff7f0e\",\"#d62728\",\"#d62728\",\"#ff7f0e\",\"#1f77b4\",\"#d62728\",\"#ff7f0e\",\"#2ca02c\",\"#2ca02c\",\"#1f77b4\",\"#2ca02c\",\"#d62728\",\"#2ca02c\",\"#d62728\",\"#ff7f0e\",\"#ff7f0e\",\"#1f77b4\",\"#2ca02c\",\"#1f77b4\",\"#d62728\",\"#2ca02c\",\"#ff7f0e\",\"#d62728\",\"#2ca02c\",\"#2ca02c\",\"#1f77b4\",\"#1f77b4\",\"#ff7f0e\",\"#d62728\",\"#1f77b4\",\"#d62728\",\"#2ca02c\",\"#d62728\",\"#2ca02c\",\"#ff7f0e\",\"#1f77b4\",\"#d62728\",\"#d62728\",\"#2ca02c\",\"#2ca02c\",\"#d62728\",\"#ff7f0e\",\"#2ca02c\",\"#1f77b4\",\"#1f77b4\",\"#2ca02c\",\"#d62728\",\"#ff7f0e\",\"#ff7f0e\",\"#2ca02c\",\"#2ca02c\",\"#d62728\",\"#ff7f0e\",\"#ff7f0e\",\"#2ca02c\",\"#1f77b4\",\"#ff7f0e\",\"#2ca02c\",\"#2ca02c\",\"#ff7f0e\",\"#d62728\",\"#1f77b4\",\"#ff7f0e\",\"#2ca02c\",\"#2ca02c\",\"#d62728\",\"#ff7f0e\",\"#2ca02c\",\"#1f77b4\",\"#ff7f0e\",\"#1f77b4\",\"#d62728\",\"#1f77b4\",\"#1f77b4\",\"#2ca02c\",\"#d62728\",\"#2ca02c\",\"#d62728\",\"#d62728\",\"#2ca02c\",\"#2ca02c\",\"#ff7f0e\",\"#ff7f0e\",\"#d62728\",\"#2ca02c\",\"#2ca02c\",\"#ff7f0e\",\"#1f77b4\",\"#d62728\",\"#ff7f0e\",\"#1f77b4\",\"#1f77b4\",\"#d62728\",\"#1f77b4\",\"#d62728\",\"#ff7f0e\",\"#2ca02c\",\"#d62728\",\"#2ca02c\",\"#d62728\",\"#1f77b4\",\"#ff7f0e\",\"#ff7f0e\",\"#ff7f0e\",\"#d62728\",\"#d62728\",\"#1f77b4\",\"#1f77b4\",\"#1f77b4\",\"#1f77b4\",\"#1f77b4\",\"#1f77b4\",\"#2ca02c\",\"#ff7f0e\",\"#d62728\",\"#d62728\",\"#ff7f0e\",\"#ff7f0e\",\"#d62728\",\"#1f77b4\",\"#d62728\",\"#d62728\",\"#ff7f0e\",\"#1f77b4\",\"#1f77b4\",\"#ff7f0e\",\"#1f77b4\",\"#1f77b4\",\"#1f77b4\",\"#ff7f0e\",\"#1f77b4\",\"#2ca02c\",\"#2ca02c\",\"#2ca02c\",\"#ff7f0e\",\"#2ca02c\",\"#d62728\",\"#1f77b4\",\"#2ca02c\",\"#d62728\",\"#ff7f0e\",\"#ff7f0e\",\"#1f77b4\",\"#2ca02c\",\"#2ca02c\",\"#1f77b4\",\"#2ca02c\",\"#1f77b4\",\"#1f77b4\",\"#d62728\",\"#d62728\",\"#ff7f0e\",\"#1f77b4\",\"#1f77b4\",\"#1f77b4\",\"#1f77b4\",\"#2ca02c\",\"#d62728\",\"#1f77b4\",\"#2ca02c\",\"#ff7f0e\",\"#2ca02c\",\"#ff7f0e\",\"#1f77b4\",\"#1f77b4\",\"#1f77b4\",\"#d62728\",\"#2ca02c\",\"#ff7f0e\",\"#1f77b4\",\"#ff7f0e\",\"#2ca02c\",\"#d62728\",\"#1f77b4\",\"#2ca02c\",\"#2ca02c\",\"#ff7f0e\",\"#ff7f0e\",\"#d62728\",\"#ff7f0e\",\"#1f77b4\",\"#1f77b4\",\"#1f77b4\",\"#1f77b4\",\"#ff7f0e\",\"#2ca02c\",\"#d62728\",\"#d62728\",\"#1f77b4\",\"#1f77b4\",\"#1f77b4\",\"#1f77b4\",\"#2ca02c\",\"#ff7f0e\",\"#d62728\",\"#2ca02c\",\"#2ca02c\",\"#d62728\",\"#ff7f0e\",\"#ff7f0e\",\"#d62728\",\"#ff7f0e\",\"#1f77b4\",\"#d62728\",\"#2ca02c\",\"#1f77b4\",\"#2ca02c\",\"#d62728\",\"#1f77b4\",\"#1f77b4\",\"#2ca02c\",\"#ff7f0e\",\"#d62728\",\"#2ca02c\",\"#1f77b4\",\"#1f77b4\",\"#ff7f0e\",\"#1f77b4\",\"#2ca02c\",\"#d62728\",\"#1f77b4\",\"#d62728\",\"#2ca02c\",\"#1f77b4\",\"#d62728\",\"#ff7f0e\",\"#ff7f0e\",\"#1f77b4\",\"#1f77b4\",\"#2ca02c\",\"#1f77b4\",\"#d62728\",\"#d62728\",\"#2ca02c\",\"#ff7f0e\",\"#d62728\",\"#ff7f0e\",\"#1f77b4\",\"#2ca02c\",\"#1f77b4\",\"#d62728\",\"#d62728\",\"#1f77b4\",\"#ff7f0e\",\"#d62728\",\"#ff7f0e\",\"#d62728\",\"#1f77b4\",\"#ff7f0e\",\"#ff7f0e\",\"#d62728\",\"#1f77b4\",\"#1f77b4\",\"#1f77b4\",\"#d62728\",\"#1f77b4\",\"#ff7f0e\",\"#2ca02c\",\"#2ca02c\",\"#1f77b4\",\"#2ca02c\",\"#ff7f0e\",\"#d62728\",\"#ff7f0e\",\"#1f77b4\",\"#1f77b4\",\"#2ca02c\",\"#d62728\",\"#1f77b4\",\"#ff7f0e\",\"#ff7f0e\",\"#1f77b4\",\"#1f77b4\",\"#d62728\",\"#d62728\",\"#d62728\",\"#2ca02c\",\"#1f77b4\",\"#d62728\",\"#1f77b4\",\"#1f77b4\",\"#d62728\",\"#2ca02c\",\"#1f77b4\",\"#1f77b4\",\"#ff7f0e\",\"#ff7f0e\",\"#d62728\",\"#d62728\",\"#1f77b4\",\"#2ca02c\",\"#ff7f0e\",\"#2ca02c\",\"#ff7f0e\",\"#ff7f0e\",\"#2ca02c\",\"#2ca02c\",\"#1f77b4\",\"#2ca02c\",\"#2ca02c\",\"#2ca02c\",\"#d62728\",\"#2ca02c\",\"#2ca02c\",\"#1f77b4\",\"#1f77b4\",\"#d62728\",\"#d62728\",\"#d62728\",\"#2ca02c\",\"#1f77b4\",\"#ff7f0e\",\"#ff7f0e\",\"#d62728\",\"#ff7f0e\",\"#d62728\",\"#2ca02c\",\"#2ca02c\",\"#1f77b4\",\"#d62728\",\"#d62728\",\"#d62728\",\"#1f77b4\",\"#d62728\",\"#ff7f0e\",\"#ff7f0e\",\"#2ca02c\",\"#ff7f0e\",\"#1f77b4\",\"#2ca02c\",\"#d62728\",\"#2ca02c\",\"#ff7f0e\",\"#d62728\",\"#d62728\",\"#ff7f0e\",\"#1f77b4\",\"#1f77b4\",\"#2ca02c\",\"#1f77b4\",\"#2ca02c\",\"#1f77b4\",\"#1f77b4\",\"#1f77b4\",\"#d62728\",\"#2ca02c\",\"#d62728\",\"#ff7f0e\",\"#1f77b4\",\"#ff7f0e\",\"#2ca02c\",\"#2ca02c\",\"#d62728\",\"#ff7f0e\",\"#1f77b4\",\"#1f77b4\",\"#d62728\",\"#2ca02c\",\"#1f77b4\",\"#ff7f0e\",\"#ff7f0e\",\"#d62728\",\"#2ca02c\",\"#d62728\",\"#1f77b4\",\"#ff7f0e\",\"#d62728\",\"#2ca02c\",\"#ff7f0e\",\"#1f77b4\",\"#ff7f0e\",\"#1f77b4\",\"#ff7f0e\",\"#2ca02c\",\"#d62728\",\"#d62728\",\"#d62728\",\"#1f77b4\",\"#1f77b4\",\"#ff7f0e\",\"#ff7f0e\",\"#1f77b4\",\"#d62728\",\"#1f77b4\",\"#d62728\",\"#ff7f0e\",\"#1f77b4\",\"#ff7f0e\",\"#2ca02c\",\"#d62728\",\"#1f77b4\",\"#1f77b4\",\"#1f77b4\",\"#2ca02c\",\"#ff7f0e\",\"#d62728\",\"#1f77b4\",\"#d62728\",\"#ff7f0e\",\"#2ca02c\",\"#2ca02c\",\"#2ca02c\",\"#2ca02c\",\"#2ca02c\",\"#d62728\",\"#2ca02c\",\"#2ca02c\",\"#2ca02c\",\"#ff7f0e\",\"#ff7f0e\",\"#ff7f0e\",\"#2ca02c\",\"#1f77b4\",\"#d62728\",\"#1f77b4\",\"#2ca02c\",\"#ff7f0e\",\"#1f77b4\",\"#1f77b4\",\"#1f77b4\",\"#1f77b4\",\"#d62728\",\"#1f77b4\",\"#d62728\",\"#ff7f0e\",\"#2ca02c\",\"#2ca02c\",\"#1f77b4\",\"#2ca02c\",\"#d62728\",\"#d62728\",\"#1f77b4\",\"#ff7f0e\",\"#2ca02c\",\"#1f77b4\",\"#1f77b4\",\"#1f77b4\",\"#1f77b4\",\"#1f77b4\",\"#2ca02c\",\"#d62728\",\"#2ca02c\",\"#1f77b4\",\"#d62728\",\"#d62728\",\"#ff7f0e\",\"#d62728\",\"#d62728\",\"#2ca02c\",\"#1f77b4\",\"#d62728\",\"#d62728\",\"#1f77b4\",\"#1f77b4\",\"#d62728\",\"#1f77b4\",\"#2ca02c\",\"#2ca02c\",\"#ff7f0e\",\"#d62728\",\"#ff7f0e\",\"#2ca02c\",\"#1f77b4\",\"#ff7f0e\",\"#2ca02c\",\"#ff7f0e\",\"#ff7f0e\",\"#d62728\",\"#ff7f0e\",\"#1f77b4\",\"#ff7f0e\",\"#1f77b4\",\"#1f77b4\",\"#2ca02c\",\"#ff7f0e\",\"#2ca02c\",\"#d62728\",\"#ff7f0e\",\"#1f77b4\",\"#2ca02c\",\"#2ca02c\",\"#ff7f0e\",\"#d62728\",\"#2ca02c\",\"#1f77b4\",\"#2ca02c\",\"#ff7f0e\",\"#ff7f0e\",\"#1f77b4\",\"#2ca02c\",\"#2ca02c\",\"#ff7f0e\",\"#2ca02c\",\"#ff7f0e\",\"#1f77b4\",\"#1f77b4\",\"#1f77b4\",\"#d62728\",\"#1f77b4\",\"#1f77b4\",\"#d62728\",\"#d62728\",\"#d62728\",\"#d62728\",\"#1f77b4\",\"#1f77b4\",\"#2ca02c\",\"#2ca02c\",\"#1f77b4\",\"#d62728\",\"#d62728\",\"#1f77b4\",\"#2ca02c\",\"#2ca02c\",\"#d62728\",\"#d62728\",\"#1f77b4\",\"#1f77b4\",\"#2ca02c\",\"#ff7f0e\",\"#d62728\",\"#2ca02c\",\"#2ca02c\",\"#d62728\",\"#ff7f0e\",\"#d62728\",\"#2ca02c\",\"#d62728\",\"#1f77b4\",\"#ff7f0e\",\"#2ca02c\",\"#ff7f0e\",\"#1f77b4\",\"#d62728\",\"#1f77b4\",\"#1f77b4\",\"#ff7f0e\",\"#d62728\",\"#d62728\",\"#2ca02c\",\"#1f77b4\",\"#1f77b4\",\"#1f77b4\",\"#ff7f0e\",\"#1f77b4\",\"#d62728\",\"#2ca02c\",\"#2ca02c\",\"#2ca02c\",\"#1f77b4\",\"#2ca02c\",\"#2ca02c\",\"#2ca02c\",\"#ff7f0e\",\"#ff7f0e\",\"#d62728\",\"#ff7f0e\",\"#2ca02c\",\"#2ca02c\",\"#2ca02c\",\"#2ca02c\",\"#d62728\",\"#d62728\",\"#2ca02c\",\"#1f77b4\",\"#ff7f0e\",\"#2ca02c\",\"#ff7f0e\",\"#ff7f0e\",\"#1f77b4\",\"#1f77b4\",\"#ff7f0e\",\"#1f77b4\",\"#2ca02c\",\"#1f77b4\",\"#1f77b4\",\"#ff7f0e\",\"#1f77b4\",\"#ff7f0e\",\"#1f77b4\",\"#2ca02c\",\"#ff7f0e\",\"#2ca02c\",\"#ff7f0e\",\"#2ca02c\",\"#2ca02c\",\"#1f77b4\",\"#1f77b4\",\"#1f77b4\",\"#1f77b4\",\"#2ca02c\",\"#ff7f0e\",\"#ff7f0e\",\"#ff7f0e\",\"#2ca02c\",\"#2ca02c\",\"#1f77b4\",\"#ff7f0e\",\"#2ca02c\",\"#1f77b4\",\"#2ca02c\",\"#ff7f0e\",\"#1f77b4\",\"#1f77b4\",\"#2ca02c\",\"#d62728\",\"#ff7f0e\",\"#1f77b4\",\"#2ca02c\",\"#d62728\",\"#2ca02c\",\"#1f77b4\",\"#1f77b4\",\"#2ca02c\",\"#d62728\",\"#1f77b4\",\"#d62728\",\"#d62728\",\"#2ca02c\",\"#ff7f0e\",\"#2ca02c\",\"#ff7f0e\",\"#d62728\",\"#1f77b4\",\"#2ca02c\",\"#2ca02c\",\"#ff7f0e\",\"#1f77b4\",\"#2ca02c\",\"#d62728\",\"#1f77b4\",\"#d62728\",\"#1f77b4\",\"#d62728\",\"#1f77b4\",\"#1f77b4\",\"#ff7f0e\",\"#ff7f0e\",\"#d62728\",\"#d62728\",\"#2ca02c\",\"#1f77b4\",\"#2ca02c\",\"#d62728\",\"#2ca02c\",\"#2ca02c\",\"#2ca02c\",\"#ff7f0e\",\"#2ca02c\",\"#d62728\",\"#d62728\",\"#d62728\",\"#ff7f0e\",\"#1f77b4\",\"#1f77b4\",\"#ff7f0e\",\"#d62728\",\"#ff7f0e\",\"#1f77b4\",\"#d62728\",\"#1f77b4\",\"#2ca02c\",\"#2ca02c\",\"#1f77b4\",\"#d62728\",\"#1f77b4\",\"#2ca02c\",\"#ff7f0e\",\"#d62728\",\"#2ca02c\",\"#d62728\",\"#d62728\",\"#d62728\",\"#d62728\",\"#2ca02c\",\"#2ca02c\",\"#1f77b4\",\"#d62728\",\"#2ca02c\",\"#1f77b4\",\"#ff7f0e\",\"#2ca02c\",\"#ff7f0e\",\"#2ca02c\",\"#ff7f0e\",\"#d62728\",\"#d62728\",\"#d62728\",\"#d62728\",\"#ff7f0e\",\"#2ca02c\",\"#ff7f0e\",\"#1f77b4\"],\"line_color\":[\"#1f77b4\",\"#d62728\",\"#2ca02c\",\"#ff7f0e\",\"#1f77b4\",\"#1f77b4\",\"#1f77b4\",\"#1f77b4\",\"#2ca02c\",\"#ff7f0e\",\"#d62728\",\"#ff7f0e\",\"#d62728\",\"#ff7f0e\",\"#1f77b4\",\"#1f77b4\",\"#1f77b4\",\"#ff7f0e\",\"#d62728\",\"#2ca02c\",\"#1f77b4\",\"#2ca02c\",\"#2ca02c\",\"#1f77b4\",\"#ff7f0e\",\"#2ca02c\",\"#1f77b4\",\"#2ca02c\",\"#ff7f0e\",\"#2ca02c\",\"#ff7f0e\",\"#2ca02c\",\"#1f77b4\",\"#d62728\",\"#1f77b4\",\"#1f77b4\",\"#2ca02c\",\"#d62728\",\"#2ca02c\",\"#1f77b4\",\"#2ca02c\",\"#1f77b4\",\"#1f77b4\",\"#ff7f0e\",\"#1f77b4\",\"#1f77b4\",\"#2ca02c\",\"#2ca02c\",\"#d62728\",\"#ff7f0e\",\"#1f77b4\",\"#2ca02c\",\"#2ca02c\",\"#d62728\",\"#1f77b4\",\"#ff7f0e\",\"#1f77b4\",\"#d62728\",\"#ff7f0e\",\"#1f77b4\",\"#1f77b4\",\"#2ca02c\",\"#1f77b4\",\"#ff7f0e\",\"#d62728\",\"#ff7f0e\",\"#2ca02c\",\"#1f77b4\",\"#2ca02c\",\"#d62728\",\"#2ca02c\",\"#ff7f0e\",\"#2ca02c\",\"#1f77b4\",\"#ff7f0e\",\"#1f77b4\",\"#2ca02c\",\"#1f77b4\",\"#ff7f0e\",\"#d62728\",\"#d62728\",\"#1f77b4\",\"#2ca02c\",\"#2ca02c\",\"#1f77b4\",\"#d62728\",\"#1f77b4\",\"#d62728\",\"#2ca02c\",\"#2ca02c\",\"#1f77b4\",\"#2ca02c\",\"#1f77b4\",\"#ff7f0e\",\"#2ca02c\",\"#1f77b4\",\"#2ca02c\",\"#1f77b4\",\"#1f77b4\",\"#2ca02c\",\"#ff7f0e\",\"#d62728\",\"#d62728\",\"#d62728\",\"#ff7f0e\",\"#2ca02c\",\"#2ca02c\",\"#1f77b4\",\"#d62728\",\"#1f77b4\",\"#d62728\",\"#d62728\",\"#ff7f0e\",\"#ff7f0e\",\"#ff7f0e\",\"#2ca02c\",\"#ff7f0e\",\"#1f77b4\",\"#ff7f0e\",\"#2ca02c\",\"#1f77b4\",\"#d62728\",\"#2ca02c\",\"#ff7f0e\",\"#ff7f0e\",\"#2ca02c\",\"#1f77b4\",\"#2ca02c\",\"#1f77b4\",\"#1f77b4\",\"#d62728\",\"#2ca02c\",\"#1f77b4\",\"#2ca02c\",\"#1f77b4\",\"#1f77b4\",\"#d62728\",\"#2ca02c\",\"#2ca02c\",\"#ff7f0e\",\"#2ca02c\",\"#ff7f0e\",\"#ff7f0e\",\"#1f77b4\",\"#2ca02c\",\"#d62728\",\"#ff7f0e\",\"#2ca02c\",\"#ff7f0e\",\"#ff7f0e\",\"#1f77b4\",\"#2ca02c\",\"#d62728\",\"#2ca02c\",\"#2ca02c\",\"#2ca02c\",\"#2ca02c\",\"#d62728\",\"#2ca02c\",\"#1f77b4\",\"#2ca02c\",\"#ff7f0e\",\"#1f77b4\",\"#2ca02c\",\"#ff7f0e\",\"#1f77b4\",\"#2ca02c\",\"#ff7f0e\",\"#2ca02c\",\"#2ca02c\",\"#2ca02c\",\"#d62728\",\"#1f77b4\",\"#1f77b4\",\"#2ca02c\",\"#ff7f0e\",\"#1f77b4\",\"#1f77b4\",\"#1f77b4\",\"#ff7f0e\",\"#ff7f0e\",\"#d62728\",\"#d62728\",\"#d62728\",\"#ff7f0e\",\"#2ca02c\",\"#2ca02c\",\"#2ca02c\",\"#ff7f0e\",\"#ff7f0e\",\"#1f77b4\",\"#1f77b4\",\"#ff7f0e\",\"#ff7f0e\",\"#2ca02c\",\"#ff7f0e\",\"#d62728\",\"#1f77b4\",\"#1f77b4\",\"#1f77b4\",\"#d62728\",\"#1f77b4\",\"#ff7f0e\",\"#ff7f0e\",\"#d62728\",\"#1f77b4\",\"#ff7f0e\",\"#2ca02c\",\"#d62728\",\"#d62728\",\"#d62728\",\"#2ca02c\",\"#1f77b4\",\"#ff7f0e\",\"#d62728\",\"#1f77b4\",\"#d62728\",\"#1f77b4\",\"#ff7f0e\",\"#1f77b4\",\"#2ca02c\",\"#1f77b4\",\"#2ca02c\",\"#2ca02c\",\"#2ca02c\",\"#d62728\",\"#ff7f0e\",\"#ff7f0e\",\"#1f77b4\",\"#ff7f0e\",\"#2ca02c\",\"#1f77b4\",\"#1f77b4\",\"#ff7f0e\",\"#2ca02c\",\"#1f77b4\",\"#ff7f0e\",\"#d62728\",\"#d62728\",\"#1f77b4\",\"#d62728\",\"#1f77b4\",\"#2ca02c\",\"#1f77b4\",\"#d62728\",\"#2ca02c\",\"#2ca02c\",\"#d62728\",\"#2ca02c\",\"#ff7f0e\",\"#d62728\",\"#2ca02c\",\"#2ca02c\",\"#d62728\",\"#1f77b4\",\"#d62728\",\"#2ca02c\",\"#d62728\",\"#d62728\",\"#ff7f0e\",\"#1f77b4\",\"#2ca02c\",\"#1f77b4\",\"#ff7f0e\",\"#d62728\",\"#2ca02c\",\"#1f77b4\",\"#d62728\",\"#1f77b4\",\"#d62728\",\"#d62728\",\"#d62728\",\"#1f77b4\",\"#2ca02c\",\"#d62728\",\"#1f77b4\",\"#2ca02c\",\"#1f77b4\",\"#d62728\",\"#2ca02c\",\"#1f77b4\",\"#2ca02c\",\"#ff7f0e\",\"#ff7f0e\",\"#2ca02c\",\"#1f77b4\",\"#1f77b4\",\"#2ca02c\",\"#ff7f0e\",\"#ff7f0e\",\"#d62728\",\"#1f77b4\",\"#1f77b4\",\"#d62728\",\"#1f77b4\",\"#1f77b4\",\"#1f77b4\",\"#ff7f0e\",\"#ff7f0e\",\"#2ca02c\",\"#1f77b4\",\"#ff7f0e\",\"#1f77b4\",\"#2ca02c\",\"#ff7f0e\",\"#1f77b4\",\"#d62728\",\"#1f77b4\",\"#1f77b4\",\"#ff7f0e\",\"#1f77b4\",\"#ff7f0e\",\"#2ca02c\",\"#2ca02c\",\"#1f77b4\",\"#d62728\",\"#ff7f0e\",\"#d62728\",\"#1f77b4\",\"#1f77b4\",\"#d62728\",\"#ff7f0e\",\"#ff7f0e\",\"#1f77b4\",\"#1f77b4\",\"#1f77b4\",\"#d62728\",\"#1f77b4\",\"#ff7f0e\",\"#d62728\",\"#ff7f0e\",\"#d62728\",\"#1f77b4\",\"#1f77b4\",\"#ff7f0e\",\"#ff7f0e\",\"#d62728\",\"#2ca02c\",\"#2ca02c\",\"#1f77b4\",\"#2ca02c\",\"#d62728\",\"#ff7f0e\",\"#ff7f0e\",\"#d62728\",\"#ff7f0e\",\"#d62728\",\"#2ca02c\",\"#2ca02c\",\"#1f77b4\",\"#2ca02c\",\"#1f77b4\",\"#d62728\",\"#d62728\",\"#d62728\",\"#1f77b4\",\"#2ca02c\",\"#d62728\",\"#1f77b4\",\"#2ca02c\",\"#1f77b4\",\"#2ca02c\",\"#2ca02c\",\"#1f77b4\",\"#2ca02c\",\"#d62728\",\"#ff7f0e\",\"#1f77b4\",\"#ff7f0e\",\"#1f77b4\",\"#ff7f0e\",\"#1f77b4\",\"#d62728\",\"#d62728\",\"#1f77b4\",\"#1f77b4\",\"#2ca02c\",\"#1f77b4\",\"#1f77b4\",\"#d62728\",\"#d62728\",\"#1f77b4\",\"#1f77b4\",\"#1f77b4\",\"#1f77b4\",\"#1f77b4\",\"#1f77b4\",\"#1f77b4\",\"#1f77b4\",\"#1f77b4\",\"#2ca02c\",\"#ff7f0e\",\"#1f77b4\",\"#1f77b4\",\"#2ca02c\",\"#1f77b4\",\"#1f77b4\",\"#d62728\",\"#1f77b4\",\"#1f77b4\",\"#1f77b4\",\"#1f77b4\",\"#ff7f0e\",\"#d62728\",\"#d62728\",\"#1f77b4\",\"#d62728\",\"#d62728\",\"#ff7f0e\",\"#2ca02c\",\"#d62728\",\"#2ca02c\",\"#1f77b4\",\"#ff7f0e\",\"#2ca02c\",\"#1f77b4\",\"#d62728\",\"#ff7f0e\",\"#d62728\",\"#d62728\",\"#1f77b4\",\"#1f77b4\",\"#ff7f0e\",\"#1f77b4\",\"#1f77b4\",\"#1f77b4\",\"#1f77b4\",\"#2ca02c\",\"#1f77b4\",\"#d62728\",\"#2ca02c\",\"#2ca02c\",\"#1f77b4\",\"#d62728\",\"#d62728\",\"#2ca02c\",\"#ff7f0e\",\"#ff7f0e\",\"#2ca02c\",\"#1f77b4\",\"#2ca02c\",\"#1f77b4\",\"#2ca02c\",\"#2ca02c\",\"#d62728\",\"#ff7f0e\",\"#d62728\",\"#1f77b4\",\"#2ca02c\",\"#1f77b4\",\"#d62728\",\"#ff7f0e\",\"#1f77b4\",\"#2ca02c\",\"#1f77b4\",\"#ff7f0e\",\"#d62728\",\"#2ca02c\",\"#2ca02c\",\"#1f77b4\",\"#d62728\",\"#2ca02c\",\"#ff7f0e\",\"#1f77b4\",\"#1f77b4\",\"#1f77b4\",\"#1f77b4\",\"#1f77b4\",\"#1f77b4\",\"#1f77b4\",\"#d62728\",\"#2ca02c\",\"#1f77b4\",\"#2ca02c\",\"#ff7f0e\",\"#ff7f0e\",\"#2ca02c\",\"#ff7f0e\",\"#ff7f0e\",\"#1f77b4\",\"#1f77b4\",\"#2ca02c\",\"#2ca02c\",\"#2ca02c\",\"#2ca02c\",\"#ff7f0e\",\"#1f77b4\",\"#ff7f0e\",\"#2ca02c\",\"#d62728\",\"#2ca02c\",\"#ff7f0e\",\"#1f77b4\",\"#1f77b4\",\"#d62728\",\"#2ca02c\",\"#1f77b4\",\"#1f77b4\",\"#d62728\",\"#ff7f0e\",\"#2ca02c\",\"#1f77b4\",\"#ff7f0e\",\"#2ca02c\",\"#1f77b4\",\"#d62728\",\"#1f77b4\",\"#d62728\",\"#ff7f0e\",\"#d62728\",\"#2ca02c\",\"#2ca02c\",\"#ff7f0e\",\"#ff7f0e\",\"#d62728\",\"#1f77b4\",\"#2ca02c\",\"#ff7f0e\",\"#d62728\",\"#1f77b4\",\"#1f77b4\",\"#d62728\",\"#1f77b4\",\"#1f77b4\",\"#1f77b4\",\"#2ca02c\",\"#2ca02c\",\"#1f77b4\",\"#2ca02c\",\"#1f77b4\",\"#2ca02c\",\"#d62728\",\"#1f77b4\",\"#1f77b4\",\"#ff7f0e\",\"#1f77b4\",\"#ff7f0e\",\"#ff7f0e\",\"#ff7f0e\",\"#d62728\",\"#ff7f0e\",\"#ff7f0e\",\"#d62728\",\"#d62728\",\"#2ca02c\",\"#1f77b4\",\"#1f77b4\",\"#d62728\",\"#ff7f0e\",\"#1f77b4\",\"#d62728\",\"#2ca02c\",\"#1f77b4\",\"#ff7f0e\",\"#1f77b4\",\"#d62728\",\"#2ca02c\",\"#1f77b4\",\"#2ca02c\",\"#2ca02c\",\"#1f77b4\",\"#1f77b4\",\"#d62728\",\"#ff7f0e\",\"#1f77b4\",\"#d62728\",\"#2ca02c\",\"#2ca02c\",\"#1f77b4\",\"#1f77b4\",\"#d62728\",\"#ff7f0e\",\"#d62728\",\"#d62728\",\"#ff7f0e\",\"#2ca02c\",\"#ff7f0e\",\"#1f77b4\",\"#1f77b4\",\"#2ca02c\",\"#2ca02c\",\"#d62728\",\"#ff7f0e\",\"#1f77b4\",\"#d62728\",\"#1f77b4\",\"#ff7f0e\",\"#2ca02c\",\"#1f77b4\",\"#d62728\",\"#2ca02c\",\"#d62728\",\"#1f77b4\",\"#2ca02c\",\"#ff7f0e\",\"#d62728\",\"#d62728\",\"#1f77b4\",\"#d62728\",\"#d62728\",\"#2ca02c\",\"#1f77b4\",\"#1f77b4\",\"#2ca02c\",\"#ff7f0e\",\"#1f77b4\",\"#1f77b4\",\"#d62728\",\"#d62728\",\"#ff7f0e\",\"#1f77b4\",\"#1f77b4\",\"#d62728\",\"#1f77b4\",\"#ff7f0e\",\"#d62728\",\"#d62728\",\"#1f77b4\",\"#1f77b4\",\"#1f77b4\",\"#1f77b4\",\"#1f77b4\",\"#ff7f0e\",\"#d62728\",\"#2ca02c\",\"#d62728\",\"#2ca02c\",\"#ff7f0e\",\"#1f77b4\",\"#2ca02c\",\"#ff7f0e\",\"#ff7f0e\",\"#ff7f0e\",\"#2ca02c\",\"#2ca02c\",\"#1f77b4\",\"#2ca02c\",\"#ff7f0e\",\"#2ca02c\",\"#ff7f0e\",\"#2ca02c\",\"#d62728\",\"#d62728\",\"#1f77b4\",\"#2ca02c\",\"#1f77b4\",\"#1f77b4\",\"#2ca02c\",\"#1f77b4\",\"#1f77b4\",\"#2ca02c\",\"#ff7f0e\",\"#ff7f0e\",\"#1f77b4\",\"#ff7f0e\",\"#d62728\",\"#1f77b4\",\"#2ca02c\",\"#ff7f0e\",\"#ff7f0e\",\"#ff7f0e\",\"#ff7f0e\",\"#1f77b4\",\"#1f77b4\",\"#1f77b4\",\"#ff7f0e\",\"#ff7f0e\",\"#d62728\",\"#1f77b4\",\"#d62728\",\"#2ca02c\",\"#2ca02c\",\"#2ca02c\",\"#ff7f0e\",\"#1f77b4\",\"#2ca02c\",\"#1f77b4\",\"#1f77b4\",\"#2ca02c\",\"#2ca02c\",\"#1f77b4\",\"#2ca02c\",\"#d62728\",\"#2ca02c\",\"#1f77b4\",\"#1f77b4\",\"#ff7f0e\",\"#2ca02c\",\"#ff7f0e\",\"#1f77b4\",\"#1f77b4\",\"#1f77b4\",\"#2ca02c\",\"#1f77b4\",\"#1f77b4\",\"#2ca02c\",\"#1f77b4\",\"#1f77b4\",\"#1f77b4\",\"#1f77b4\",\"#2ca02c\",\"#d62728\",\"#d62728\",\"#ff7f0e\",\"#1f77b4\",\"#1f77b4\",\"#2ca02c\",\"#2ca02c\",\"#1f77b4\",\"#d62728\",\"#ff7f0e\",\"#ff7f0e\",\"#d62728\",\"#ff7f0e\",\"#d62728\",\"#1f77b4\",\"#ff7f0e\",\"#ff7f0e\",\"#2ca02c\",\"#1f77b4\",\"#ff7f0e\",\"#d62728\",\"#1f77b4\",\"#d62728\",\"#d62728\",\"#2ca02c\",\"#2ca02c\",\"#1f77b4\",\"#2ca02c\",\"#ff7f0e\",\"#1f77b4\",\"#d62728\",\"#ff7f0e\",\"#d62728\",\"#2ca02c\",\"#d62728\",\"#d62728\",\"#1f77b4\",\"#d62728\",\"#ff7f0e\",\"#1f77b4\",\"#1f77b4\",\"#2ca02c\",\"#ff7f0e\",\"#1f77b4\",\"#1f77b4\",\"#1f77b4\",\"#d62728\",\"#d62728\",\"#ff7f0e\",\"#1f77b4\",\"#1f77b4\",\"#1f77b4\",\"#2ca02c\",\"#d62728\",\"#2ca02c\",\"#2ca02c\",\"#2ca02c\",\"#d62728\",\"#2ca02c\",\"#ff7f0e\",\"#1f77b4\",\"#d62728\",\"#ff7f0e\",\"#1f77b4\",\"#ff7f0e\",\"#d62728\",\"#d62728\",\"#ff7f0e\",\"#d62728\",\"#d62728\",\"#2ca02c\",\"#2ca02c\",\"#2ca02c\",\"#1f77b4\",\"#d62728\",\"#1f77b4\",\"#d62728\",\"#2ca02c\",\"#d62728\",\"#2ca02c\",\"#1f77b4\",\"#1f77b4\",\"#ff7f0e\",\"#2ca02c\",\"#ff7f0e\",\"#d62728\",\"#d62728\",\"#d62728\",\"#1f77b4\",\"#1f77b4\",\"#d62728\",\"#1f77b4\",\"#2ca02c\",\"#1f77b4\",\"#ff7f0e\",\"#d62728\",\"#d62728\",\"#2ca02c\",\"#ff7f0e\",\"#1f77b4\",\"#2ca02c\",\"#d62728\",\"#ff7f0e\",\"#d62728\",\"#2ca02c\",\"#1f77b4\",\"#1f77b4\",\"#ff7f0e\",\"#ff7f0e\",\"#d62728\",\"#2ca02c\",\"#1f77b4\",\"#1f77b4\",\"#1f77b4\",\"#1f77b4\",\"#2ca02c\",\"#1f77b4\",\"#d62728\",\"#d62728\",\"#2ca02c\",\"#1f77b4\",\"#d62728\",\"#1f77b4\",\"#2ca02c\",\"#2ca02c\",\"#1f77b4\",\"#ff7f0e\",\"#d62728\",\"#2ca02c\",\"#ff7f0e\",\"#1f77b4\",\"#1f77b4\",\"#d62728\",\"#1f77b4\",\"#d62728\",\"#2ca02c\",\"#d62728\",\"#1f77b4\",\"#2ca02c\",\"#1f77b4\",\"#1f77b4\",\"#2ca02c\",\"#ff7f0e\",\"#1f77b4\",\"#d62728\",\"#ff7f0e\",\"#1f77b4\",\"#ff7f0e\",\"#d62728\",\"#2ca02c\",\"#1f77b4\",\"#d62728\",\"#2ca02c\",\"#ff7f0e\",\"#1f77b4\",\"#1f77b4\",\"#d62728\",\"#d62728\",\"#2ca02c\",\"#d62728\",\"#1f77b4\",\"#d62728\",\"#1f77b4\",\"#1f77b4\",\"#ff7f0e\",\"#ff7f0e\",\"#2ca02c\",\"#d62728\",\"#d62728\",\"#d62728\",\"#1f77b4\",\"#1f77b4\",\"#2ca02c\",\"#ff7f0e\",\"#1f77b4\",\"#ff7f0e\",\"#d62728\",\"#d62728\",\"#2ca02c\",\"#1f77b4\",\"#d62728\",\"#ff7f0e\",\"#1f77b4\",\"#1f77b4\",\"#d62728\",\"#1f77b4\",\"#d62728\",\"#ff7f0e\",\"#ff7f0e\",\"#d62728\",\"#1f77b4\",\"#1f77b4\",\"#1f77b4\",\"#ff7f0e\",\"#1f77b4\",\"#1f77b4\",\"#1f77b4\",\"#1f77b4\",\"#d62728\",\"#2ca02c\",\"#d62728\",\"#1f77b4\",\"#2ca02c\",\"#1f77b4\",\"#2ca02c\",\"#d62728\",\"#ff7f0e\",\"#2ca02c\",\"#2ca02c\",\"#2ca02c\",\"#1f77b4\",\"#2ca02c\",\"#2ca02c\",\"#1f77b4\",\"#ff7f0e\",\"#ff7f0e\",\"#ff7f0e\",\"#2ca02c\",\"#ff7f0e\",\"#2ca02c\",\"#ff7f0e\",\"#1f77b4\",\"#1f77b4\",\"#1f77b4\",\"#ff7f0e\",\"#ff7f0e\",\"#1f77b4\",\"#d62728\",\"#2ca02c\",\"#2ca02c\",\"#2ca02c\",\"#2ca02c\",\"#1f77b4\",\"#ff7f0e\",\"#1f77b4\",\"#1f77b4\",\"#d62728\",\"#1f77b4\",\"#d62728\",\"#1f77b4\",\"#1f77b4\",\"#1f77b4\",\"#d62728\",\"#1f77b4\",\"#1f77b4\",\"#1f77b4\",\"#1f77b4\",\"#1f77b4\",\"#ff7f0e\",\"#2ca02c\",\"#1f77b4\",\"#d62728\",\"#ff7f0e\",\"#d62728\",\"#1f77b4\",\"#1f77b4\",\"#d62728\",\"#1f77b4\",\"#ff7f0e\",\"#1f77b4\",\"#2ca02c\",\"#1f77b4\",\"#ff7f0e\",\"#d62728\",\"#d62728\",\"#1f77b4\",\"#ff7f0e\",\"#d62728\",\"#ff7f0e\",\"#ff7f0e\",\"#2ca02c\",\"#d62728\",\"#1f77b4\",\"#d62728\",\"#1f77b4\",\"#2ca02c\",\"#ff7f0e\",\"#2ca02c\",\"#d62728\",\"#ff7f0e\",\"#ff7f0e\",\"#1f77b4\",\"#1f77b4\",\"#d62728\",\"#d62728\",\"#2ca02c\",\"#d62728\",\"#1f77b4\",\"#ff7f0e\",\"#d62728\",\"#d62728\",\"#2ca02c\",\"#2ca02c\",\"#2ca02c\",\"#2ca02c\",\"#d62728\",\"#ff7f0e\",\"#1f77b4\",\"#d62728\",\"#d62728\",\"#1f77b4\",\"#1f77b4\",\"#ff7f0e\",\"#d62728\",\"#1f77b4\",\"#2ca02c\",\"#2ca02c\",\"#2ca02c\",\"#d62728\",\"#d62728\",\"#ff7f0e\",\"#2ca02c\",\"#ff7f0e\",\"#d62728\",\"#1f77b4\",\"#1f77b4\",\"#2ca02c\",\"#ff7f0e\",\"#2ca02c\",\"#2ca02c\",\"#2ca02c\",\"#1f77b4\",\"#d62728\",\"#d62728\",\"#2ca02c\",\"#ff7f0e\",\"#d62728\",\"#d62728\",\"#1f77b4\",\"#1f77b4\",\"#d62728\",\"#d62728\",\"#1f77b4\",\"#d62728\",\"#1f77b4\",\"#1f77b4\",\"#2ca02c\",\"#ff7f0e\",\"#1f77b4\",\"#2ca02c\",\"#2ca02c\",\"#d62728\",\"#ff7f0e\",\"#ff7f0e\",\"#2ca02c\",\"#ff7f0e\",\"#d62728\",\"#d62728\",\"#ff7f0e\",\"#1f77b4\",\"#1f77b4\",\"#1f77b4\",\"#d62728\",\"#ff7f0e\",\"#1f77b4\",\"#d62728\",\"#ff7f0e\",\"#2ca02c\",\"#2ca02c\",\"#ff7f0e\",\"#d62728\",\"#ff7f0e\",\"#ff7f0e\",\"#d62728\",\"#2ca02c\",\"#1f77b4\",\"#2ca02c\",\"#ff7f0e\",\"#d62728\",\"#d62728\",\"#ff7f0e\",\"#1f77b4\",\"#d62728\",\"#d62728\",\"#ff7f0e\",\"#2ca02c\",\"#d62728\",\"#1f77b4\",\"#1f77b4\",\"#d62728\",\"#ff7f0e\",\"#d62728\",\"#1f77b4\",\"#1f77b4\",\"#1f77b4\",\"#1f77b4\",\"#1f77b4\",\"#d62728\",\"#2ca02c\",\"#1f77b4\",\"#ff7f0e\",\"#2ca02c\",\"#ff7f0e\",\"#d62728\",\"#2ca02c\",\"#ff7f0e\",\"#1f77b4\",\"#1f77b4\",\"#2ca02c\",\"#1f77b4\",\"#1f77b4\",\"#1f77b4\",\"#ff7f0e\",\"#d62728\",\"#1f77b4\",\"#ff7f0e\",\"#ff7f0e\",\"#2ca02c\",\"#1f77b4\",\"#ff7f0e\",\"#1f77b4\",\"#1f77b4\",\"#1f77b4\",\"#2ca02c\",\"#d62728\",\"#1f77b4\",\"#2ca02c\",\"#2ca02c\",\"#d62728\",\"#ff7f0e\",\"#2ca02c\",\"#ff7f0e\",\"#2ca02c\",\"#1f77b4\",\"#d62728\",\"#d62728\",\"#ff7f0e\",\"#1f77b4\",\"#ff7f0e\",\"#1f77b4\",\"#2ca02c\",\"#d62728\",\"#ff7f0e\",\"#2ca02c\",\"#1f77b4\",\"#ff7f0e\",\"#1f77b4\",\"#1f77b4\",\"#d62728\",\"#ff7f0e\",\"#ff7f0e\",\"#1f77b4\",\"#ff7f0e\",\"#ff7f0e\",\"#d62728\",\"#1f77b4\",\"#2ca02c\",\"#1f77b4\",\"#d62728\",\"#2ca02c\",\"#1f77b4\",\"#ff7f0e\",\"#d62728\",\"#2ca02c\",\"#ff7f0e\",\"#2ca02c\",\"#2ca02c\",\"#ff7f0e\",\"#d62728\",\"#1f77b4\",\"#2ca02c\",\"#2ca02c\",\"#2ca02c\",\"#1f77b4\",\"#2ca02c\",\"#1f77b4\",\"#1f77b4\",\"#1f77b4\",\"#ff7f0e\",\"#2ca02c\",\"#ff7f0e\",\"#1f77b4\",\"#ff7f0e\",\"#2ca02c\",\"#2ca02c\",\"#ff7f0e\",\"#1f77b4\",\"#1f77b4\",\"#d62728\",\"#2ca02c\",\"#d62728\",\"#1f77b4\",\"#1f77b4\",\"#1f77b4\",\"#1f77b4\",\"#ff7f0e\",\"#1f77b4\",\"#1f77b4\",\"#ff7f0e\",\"#d62728\",\"#2ca02c\",\"#1f77b4\",\"#1f77b4\",\"#2ca02c\",\"#ff7f0e\",\"#2ca02c\",\"#d62728\",\"#ff7f0e\",\"#d62728\",\"#d62728\",\"#2ca02c\",\"#2ca02c\",\"#1f77b4\",\"#ff7f0e\",\"#d62728\",\"#d62728\",\"#2ca02c\",\"#d62728\",\"#d62728\",\"#ff7f0e\",\"#ff7f0e\",\"#2ca02c\",\"#1f77b4\",\"#ff7f0e\",\"#ff7f0e\",\"#2ca02c\",\"#ff7f0e\",\"#d62728\",\"#d62728\",\"#d62728\",\"#1f77b4\",\"#d62728\",\"#ff7f0e\",\"#d62728\",\"#2ca02c\",\"#2ca02c\",\"#ff7f0e\",\"#1f77b4\",\"#1f77b4\",\"#2ca02c\",\"#2ca02c\",\"#2ca02c\",\"#ff7f0e\",\"#1f77b4\",\"#2ca02c\",\"#ff7f0e\",\"#2ca02c\",\"#d62728\",\"#1f77b4\",\"#1f77b4\",\"#2ca02c\",\"#1f77b4\",\"#1f77b4\",\"#d62728\",\"#2ca02c\",\"#ff7f0e\",\"#ff7f0e\",\"#ff7f0e\",\"#ff7f0e\",\"#1f77b4\",\"#1f77b4\",\"#2ca02c\",\"#1f77b4\",\"#d62728\",\"#2ca02c\",\"#d62728\",\"#ff7f0e\",\"#ff7f0e\",\"#ff7f0e\",\"#2ca02c\",\"#1f77b4\",\"#1f77b4\",\"#1f77b4\",\"#1f77b4\",\"#1f77b4\",\"#d62728\",\"#2ca02c\",\"#2ca02c\",\"#2ca02c\",\"#1f77b4\",\"#1f77b4\",\"#1f77b4\",\"#2ca02c\",\"#2ca02c\",\"#d62728\",\"#1f77b4\",\"#ff7f0e\",\"#1f77b4\",\"#d62728\",\"#1f77b4\",\"#1f77b4\",\"#2ca02c\",\"#1f77b4\",\"#d62728\",\"#2ca02c\",\"#d62728\",\"#2ca02c\",\"#1f77b4\",\"#1f77b4\",\"#ff7f0e\",\"#d62728\",\"#d62728\",\"#1f77b4\",\"#2ca02c\",\"#ff7f0e\",\"#1f77b4\",\"#d62728\",\"#1f77b4\",\"#2ca02c\",\"#1f77b4\",\"#ff7f0e\",\"#d62728\",\"#1f77b4\",\"#1f77b4\",\"#d62728\",\"#1f77b4\",\"#2ca02c\",\"#d62728\",\"#2ca02c\",\"#2ca02c\",\"#2ca02c\",\"#2ca02c\",\"#d62728\",\"#1f77b4\",\"#1f77b4\",\"#2ca02c\",\"#ff7f0e\",\"#1f77b4\",\"#1f77b4\",\"#2ca02c\",\"#ff7f0e\",\"#ff7f0e\",\"#d62728\",\"#d62728\",\"#ff7f0e\",\"#1f77b4\",\"#ff7f0e\",\"#d62728\",\"#2ca02c\",\"#ff7f0e\",\"#2ca02c\",\"#2ca02c\",\"#1f77b4\",\"#2ca02c\",\"#d62728\",\"#d62728\",\"#ff7f0e\",\"#2ca02c\",\"#d62728\",\"#2ca02c\",\"#d62728\",\"#1f77b4\",\"#2ca02c\",\"#d62728\",\"#1f77b4\",\"#d62728\",\"#2ca02c\",\"#2ca02c\",\"#1f77b4\",\"#2ca02c\",\"#d62728\",\"#1f77b4\",\"#ff7f0e\",\"#1f77b4\",\"#1f77b4\",\"#2ca02c\",\"#ff7f0e\",\"#1f77b4\",\"#ff7f0e\",\"#2ca02c\",\"#1f77b4\",\"#2ca02c\",\"#2ca02c\",\"#2ca02c\",\"#ff7f0e\",\"#d62728\",\"#2ca02c\",\"#d62728\",\"#d62728\",\"#ff7f0e\",\"#2ca02c\",\"#1f77b4\",\"#2ca02c\",\"#1f77b4\",\"#d62728\",\"#2ca02c\",\"#1f77b4\",\"#2ca02c\",\"#2ca02c\",\"#2ca02c\",\"#ff7f0e\",\"#d62728\",\"#1f77b4\",\"#ff7f0e\",\"#1f77b4\",\"#1f77b4\",\"#d62728\",\"#2ca02c\",\"#ff7f0e\",\"#d62728\",\"#d62728\",\"#d62728\",\"#ff7f0e\",\"#1f77b4\",\"#2ca02c\",\"#ff7f0e\",\"#d62728\",\"#ff7f0e\",\"#1f77b4\",\"#1f77b4\",\"#d62728\",\"#2ca02c\",\"#1f77b4\",\"#ff7f0e\",\"#1f77b4\",\"#2ca02c\",\"#ff7f0e\",\"#2ca02c\",\"#2ca02c\",\"#1f77b4\",\"#1f77b4\",\"#d62728\",\"#d62728\",\"#2ca02c\",\"#ff7f0e\",\"#d62728\",\"#1f77b4\",\"#ff7f0e\",\"#2ca02c\",\"#2ca02c\",\"#2ca02c\",\"#d62728\",\"#d62728\",\"#2ca02c\",\"#1f77b4\",\"#d62728\",\"#1f77b4\",\"#d62728\",\"#ff7f0e\",\"#1f77b4\",\"#d62728\",\"#1f77b4\",\"#d62728\",\"#2ca02c\",\"#d62728\",\"#1f77b4\",\"#ff7f0e\",\"#1f77b4\",\"#d62728\",\"#ff7f0e\",\"#1f77b4\",\"#2ca02c\",\"#1f77b4\",\"#ff7f0e\",\"#ff7f0e\",\"#2ca02c\",\"#d62728\",\"#d62728\",\"#d62728\",\"#ff7f0e\",\"#d62728\",\"#ff7f0e\",\"#ff7f0e\",\"#ff7f0e\",\"#1f77b4\",\"#d62728\",\"#d62728\",\"#ff7f0e\",\"#d62728\",\"#d62728\",\"#ff7f0e\",\"#1f77b4\",\"#2ca02c\",\"#d62728\",\"#2ca02c\",\"#1f77b4\",\"#2ca02c\",\"#2ca02c\",\"#1f77b4\",\"#d62728\",\"#2ca02c\",\"#d62728\",\"#d62728\",\"#2ca02c\",\"#2ca02c\",\"#1f77b4\",\"#1f77b4\",\"#d62728\",\"#2ca02c\",\"#1f77b4\",\"#1f77b4\",\"#2ca02c\",\"#ff7f0e\",\"#d62728\",\"#2ca02c\",\"#d62728\",\"#1f77b4\",\"#1f77b4\",\"#1f77b4\",\"#2ca02c\",\"#2ca02c\",\"#ff7f0e\",\"#1f77b4\",\"#2ca02c\",\"#ff7f0e\",\"#2ca02c\",\"#d62728\",\"#2ca02c\",\"#1f77b4\",\"#ff7f0e\",\"#ff7f0e\",\"#ff7f0e\",\"#1f77b4\",\"#ff7f0e\",\"#1f77b4\",\"#2ca02c\",\"#ff7f0e\",\"#1f77b4\",\"#ff7f0e\",\"#2ca02c\",\"#1f77b4\",\"#d62728\",\"#d62728\",\"#d62728\",\"#1f77b4\",\"#ff7f0e\",\"#ff7f0e\",\"#1f77b4\",\"#1f77b4\",\"#ff7f0e\",\"#ff7f0e\",\"#1f77b4\",\"#d62728\",\"#d62728\",\"#1f77b4\",\"#1f77b4\",\"#d62728\",\"#2ca02c\",\"#1f77b4\",\"#ff7f0e\",\"#1f77b4\",\"#1f77b4\",\"#2ca02c\",\"#1f77b4\",\"#ff7f0e\",\"#2ca02c\",\"#d62728\",\"#1f77b4\",\"#ff7f0e\",\"#d62728\",\"#1f77b4\",\"#2ca02c\",\"#d62728\",\"#1f77b4\",\"#ff7f0e\",\"#2ca02c\",\"#ff7f0e\",\"#d62728\",\"#1f77b4\",\"#ff7f0e\",\"#1f77b4\",\"#ff7f0e\",\"#2ca02c\",\"#1f77b4\",\"#ff7f0e\",\"#d62728\",\"#d62728\",\"#2ca02c\",\"#2ca02c\",\"#ff7f0e\",\"#1f77b4\",\"#1f77b4\",\"#d62728\",\"#2ca02c\",\"#d62728\",\"#1f77b4\",\"#2ca02c\",\"#1f77b4\",\"#2ca02c\",\"#d62728\",\"#1f77b4\",\"#ff7f0e\",\"#ff7f0e\",\"#1f77b4\",\"#2ca02c\",\"#ff7f0e\",\"#d62728\",\"#1f77b4\",\"#2ca02c\",\"#ff7f0e\",\"#d62728\",\"#1f77b4\",\"#ff7f0e\",\"#2ca02c\",\"#1f77b4\",\"#1f77b4\",\"#1f77b4\",\"#1f77b4\",\"#1f77b4\",\"#1f77b4\",\"#ff7f0e\",\"#d62728\",\"#1f77b4\",\"#d62728\",\"#d62728\",\"#d62728\",\"#2ca02c\",\"#1f77b4\",\"#ff7f0e\",\"#2ca02c\",\"#ff7f0e\",\"#2ca02c\",\"#d62728\",\"#2ca02c\",\"#ff7f0e\",\"#2ca02c\",\"#2ca02c\",\"#d62728\",\"#ff7f0e\",\"#ff7f0e\",\"#1f77b4\",\"#1f77b4\",\"#1f77b4\",\"#ff7f0e\",\"#1f77b4\",\"#1f77b4\",\"#2ca02c\",\"#1f77b4\",\"#1f77b4\",\"#2ca02c\",\"#d62728\",\"#ff7f0e\",\"#ff7f0e\",\"#d62728\",\"#1f77b4\",\"#ff7f0e\",\"#1f77b4\",\"#1f77b4\",\"#1f77b4\",\"#ff7f0e\",\"#d62728\",\"#2ca02c\",\"#d62728\",\"#1f77b4\",\"#d62728\",\"#d62728\",\"#d62728\",\"#ff7f0e\",\"#1f77b4\",\"#2ca02c\",\"#2ca02c\",\"#2ca02c\",\"#d62728\",\"#2ca02c\",\"#2ca02c\",\"#d62728\",\"#2ca02c\",\"#2ca02c\",\"#d62728\",\"#1f77b4\",\"#d62728\",\"#d62728\",\"#1f77b4\",\"#1f77b4\",\"#1f77b4\",\"#ff7f0e\",\"#ff7f0e\",\"#d62728\",\"#1f77b4\",\"#ff7f0e\",\"#1f77b4\",\"#2ca02c\",\"#1f77b4\",\"#2ca02c\",\"#d62728\",\"#2ca02c\",\"#2ca02c\",\"#ff7f0e\",\"#d62728\",\"#d62728\",\"#ff7f0e\",\"#1f77b4\",\"#d62728\",\"#ff7f0e\",\"#2ca02c\",\"#2ca02c\",\"#1f77b4\",\"#2ca02c\",\"#d62728\",\"#2ca02c\",\"#d62728\",\"#ff7f0e\",\"#ff7f0e\",\"#1f77b4\",\"#2ca02c\",\"#1f77b4\",\"#d62728\",\"#2ca02c\",\"#ff7f0e\",\"#d62728\",\"#2ca02c\",\"#2ca02c\",\"#1f77b4\",\"#1f77b4\",\"#ff7f0e\",\"#d62728\",\"#1f77b4\",\"#d62728\",\"#2ca02c\",\"#d62728\",\"#2ca02c\",\"#ff7f0e\",\"#1f77b4\",\"#d62728\",\"#d62728\",\"#2ca02c\",\"#2ca02c\",\"#d62728\",\"#ff7f0e\",\"#2ca02c\",\"#1f77b4\",\"#1f77b4\",\"#2ca02c\",\"#d62728\",\"#ff7f0e\",\"#ff7f0e\",\"#2ca02c\",\"#2ca02c\",\"#d62728\",\"#ff7f0e\",\"#ff7f0e\",\"#2ca02c\",\"#1f77b4\",\"#ff7f0e\",\"#2ca02c\",\"#2ca02c\",\"#ff7f0e\",\"#d62728\",\"#1f77b4\",\"#ff7f0e\",\"#2ca02c\",\"#2ca02c\",\"#d62728\",\"#ff7f0e\",\"#2ca02c\",\"#1f77b4\",\"#ff7f0e\",\"#1f77b4\",\"#d62728\",\"#1f77b4\",\"#1f77b4\",\"#2ca02c\",\"#d62728\",\"#2ca02c\",\"#d62728\",\"#d62728\",\"#2ca02c\",\"#2ca02c\",\"#ff7f0e\",\"#ff7f0e\",\"#d62728\",\"#2ca02c\",\"#2ca02c\",\"#ff7f0e\",\"#1f77b4\",\"#d62728\",\"#ff7f0e\",\"#1f77b4\",\"#1f77b4\",\"#d62728\",\"#1f77b4\",\"#d62728\",\"#ff7f0e\",\"#2ca02c\",\"#d62728\",\"#2ca02c\",\"#d62728\",\"#1f77b4\",\"#ff7f0e\",\"#ff7f0e\",\"#ff7f0e\",\"#d62728\",\"#d62728\",\"#1f77b4\",\"#1f77b4\",\"#1f77b4\",\"#1f77b4\",\"#1f77b4\",\"#1f77b4\",\"#2ca02c\",\"#ff7f0e\",\"#d62728\",\"#d62728\",\"#ff7f0e\",\"#ff7f0e\",\"#d62728\",\"#1f77b4\",\"#d62728\",\"#d62728\",\"#ff7f0e\",\"#1f77b4\",\"#1f77b4\",\"#ff7f0e\",\"#1f77b4\",\"#1f77b4\",\"#1f77b4\",\"#ff7f0e\",\"#1f77b4\",\"#2ca02c\",\"#2ca02c\",\"#2ca02c\",\"#ff7f0e\",\"#2ca02c\",\"#d62728\",\"#1f77b4\",\"#2ca02c\",\"#d62728\",\"#ff7f0e\",\"#ff7f0e\",\"#1f77b4\",\"#2ca02c\",\"#2ca02c\",\"#1f77b4\",\"#2ca02c\",\"#1f77b4\",\"#1f77b4\",\"#d62728\",\"#d62728\",\"#ff7f0e\",\"#1f77b4\",\"#1f77b4\",\"#1f77b4\",\"#1f77b4\",\"#2ca02c\",\"#d62728\",\"#1f77b4\",\"#2ca02c\",\"#ff7f0e\",\"#2ca02c\",\"#ff7f0e\",\"#1f77b4\",\"#1f77b4\",\"#1f77b4\",\"#d62728\",\"#2ca02c\",\"#ff7f0e\",\"#1f77b4\",\"#ff7f0e\",\"#2ca02c\",\"#d62728\",\"#1f77b4\",\"#2ca02c\",\"#2ca02c\",\"#ff7f0e\",\"#ff7f0e\",\"#d62728\",\"#ff7f0e\",\"#1f77b4\",\"#1f77b4\",\"#1f77b4\",\"#1f77b4\",\"#ff7f0e\",\"#2ca02c\",\"#d62728\",\"#d62728\",\"#1f77b4\",\"#1f77b4\",\"#1f77b4\",\"#1f77b4\",\"#2ca02c\",\"#ff7f0e\",\"#d62728\",\"#2ca02c\",\"#2ca02c\",\"#d62728\",\"#ff7f0e\",\"#ff7f0e\",\"#d62728\",\"#ff7f0e\",\"#1f77b4\",\"#d62728\",\"#2ca02c\",\"#1f77b4\",\"#2ca02c\",\"#d62728\",\"#1f77b4\",\"#1f77b4\",\"#2ca02c\",\"#ff7f0e\",\"#d62728\",\"#2ca02c\",\"#1f77b4\",\"#1f77b4\",\"#ff7f0e\",\"#1f77b4\",\"#2ca02c\",\"#d62728\",\"#1f77b4\",\"#d62728\",\"#2ca02c\",\"#1f77b4\",\"#d62728\",\"#ff7f0e\",\"#ff7f0e\",\"#1f77b4\",\"#1f77b4\",\"#2ca02c\",\"#1f77b4\",\"#d62728\",\"#d62728\",\"#2ca02c\",\"#ff7f0e\",\"#d62728\",\"#ff7f0e\",\"#1f77b4\",\"#2ca02c\",\"#1f77b4\",\"#d62728\",\"#d62728\",\"#1f77b4\",\"#ff7f0e\",\"#d62728\",\"#ff7f0e\",\"#d62728\",\"#1f77b4\",\"#ff7f0e\",\"#ff7f0e\",\"#d62728\",\"#1f77b4\",\"#1f77b4\",\"#1f77b4\",\"#d62728\",\"#1f77b4\",\"#ff7f0e\",\"#2ca02c\",\"#2ca02c\",\"#1f77b4\",\"#2ca02c\",\"#ff7f0e\",\"#d62728\",\"#ff7f0e\",\"#1f77b4\",\"#1f77b4\",\"#2ca02c\",\"#d62728\",\"#1f77b4\",\"#ff7f0e\",\"#ff7f0e\",\"#1f77b4\",\"#1f77b4\",\"#d62728\",\"#d62728\",\"#d62728\",\"#2ca02c\",\"#1f77b4\",\"#d62728\",\"#1f77b4\",\"#1f77b4\",\"#d62728\",\"#2ca02c\",\"#1f77b4\",\"#1f77b4\",\"#ff7f0e\",\"#ff7f0e\",\"#d62728\",\"#d62728\",\"#1f77b4\",\"#2ca02c\",\"#ff7f0e\",\"#2ca02c\",\"#ff7f0e\",\"#ff7f0e\",\"#2ca02c\",\"#2ca02c\",\"#1f77b4\",\"#2ca02c\",\"#2ca02c\",\"#2ca02c\",\"#d62728\",\"#2ca02c\",\"#2ca02c\",\"#1f77b4\",\"#1f77b4\",\"#d62728\",\"#d62728\",\"#d62728\",\"#2ca02c\",\"#1f77b4\",\"#ff7f0e\",\"#ff7f0e\",\"#d62728\",\"#ff7f0e\",\"#d62728\",\"#2ca02c\",\"#2ca02c\",\"#1f77b4\",\"#d62728\",\"#d62728\",\"#d62728\",\"#1f77b4\",\"#d62728\",\"#ff7f0e\",\"#ff7f0e\",\"#2ca02c\",\"#ff7f0e\",\"#1f77b4\",\"#2ca02c\",\"#d62728\",\"#2ca02c\",\"#ff7f0e\",\"#d62728\",\"#d62728\",\"#ff7f0e\",\"#1f77b4\",\"#1f77b4\",\"#2ca02c\",\"#1f77b4\",\"#2ca02c\",\"#1f77b4\",\"#1f77b4\",\"#1f77b4\",\"#d62728\",\"#2ca02c\",\"#d62728\",\"#ff7f0e\",\"#1f77b4\",\"#ff7f0e\",\"#2ca02c\",\"#2ca02c\",\"#d62728\",\"#ff7f0e\",\"#1f77b4\",\"#1f77b4\",\"#d62728\",\"#2ca02c\",\"#1f77b4\",\"#ff7f0e\",\"#ff7f0e\",\"#d62728\",\"#2ca02c\",\"#d62728\",\"#1f77b4\",\"#ff7f0e\",\"#d62728\",\"#2ca02c\",\"#ff7f0e\",\"#1f77b4\",\"#ff7f0e\",\"#1f77b4\",\"#ff7f0e\",\"#2ca02c\",\"#d62728\",\"#d62728\",\"#d62728\",\"#1f77b4\",\"#1f77b4\",\"#ff7f0e\",\"#ff7f0e\",\"#1f77b4\",\"#d62728\",\"#1f77b4\",\"#d62728\",\"#ff7f0e\",\"#1f77b4\",\"#ff7f0e\",\"#2ca02c\",\"#d62728\",\"#1f77b4\",\"#1f77b4\",\"#1f77b4\",\"#2ca02c\",\"#ff7f0e\",\"#d62728\",\"#1f77b4\",\"#d62728\",\"#ff7f0e\",\"#2ca02c\",\"#2ca02c\",\"#2ca02c\",\"#2ca02c\",\"#2ca02c\",\"#d62728\",\"#2ca02c\",\"#2ca02c\",\"#2ca02c\",\"#ff7f0e\",\"#ff7f0e\",\"#ff7f0e\",\"#2ca02c\",\"#1f77b4\",\"#d62728\",\"#1f77b4\",\"#2ca02c\",\"#ff7f0e\",\"#1f77b4\",\"#1f77b4\",\"#1f77b4\",\"#1f77b4\",\"#d62728\",\"#1f77b4\",\"#d62728\",\"#ff7f0e\",\"#2ca02c\",\"#2ca02c\",\"#1f77b4\",\"#2ca02c\",\"#d62728\",\"#d62728\",\"#1f77b4\",\"#ff7f0e\",\"#2ca02c\",\"#1f77b4\",\"#1f77b4\",\"#1f77b4\",\"#1f77b4\",\"#1f77b4\",\"#2ca02c\",\"#d62728\",\"#2ca02c\",\"#1f77b4\",\"#d62728\",\"#d62728\",\"#ff7f0e\",\"#d62728\",\"#d62728\",\"#2ca02c\",\"#1f77b4\",\"#d62728\",\"#d62728\",\"#1f77b4\",\"#1f77b4\",\"#d62728\",\"#1f77b4\",\"#2ca02c\",\"#2ca02c\",\"#ff7f0e\",\"#d62728\",\"#ff7f0e\",\"#2ca02c\",\"#1f77b4\",\"#ff7f0e\",\"#2ca02c\",\"#ff7f0e\",\"#ff7f0e\",\"#d62728\",\"#ff7f0e\",\"#1f77b4\",\"#ff7f0e\",\"#1f77b4\",\"#1f77b4\",\"#2ca02c\",\"#ff7f0e\",\"#2ca02c\",\"#d62728\",\"#ff7f0e\",\"#1f77b4\",\"#2ca02c\",\"#2ca02c\",\"#ff7f0e\",\"#d62728\",\"#2ca02c\",\"#1f77b4\",\"#2ca02c\",\"#ff7f0e\",\"#ff7f0e\",\"#1f77b4\",\"#2ca02c\",\"#2ca02c\",\"#ff7f0e\",\"#2ca02c\",\"#ff7f0e\",\"#1f77b4\",\"#1f77b4\",\"#1f77b4\",\"#d62728\",\"#1f77b4\",\"#1f77b4\",\"#d62728\",\"#d62728\",\"#d62728\",\"#d62728\",\"#1f77b4\",\"#1f77b4\",\"#2ca02c\",\"#2ca02c\",\"#1f77b4\",\"#d62728\",\"#d62728\",\"#1f77b4\",\"#2ca02c\",\"#2ca02c\",\"#d62728\",\"#d62728\",\"#1f77b4\",\"#1f77b4\",\"#2ca02c\",\"#ff7f0e\",\"#d62728\",\"#2ca02c\",\"#2ca02c\",\"#d62728\",\"#ff7f0e\",\"#d62728\",\"#2ca02c\",\"#d62728\",\"#1f77b4\",\"#ff7f0e\",\"#2ca02c\",\"#ff7f0e\",\"#1f77b4\",\"#d62728\",\"#1f77b4\",\"#1f77b4\",\"#ff7f0e\",\"#d62728\",\"#d62728\",\"#2ca02c\",\"#1f77b4\",\"#1f77b4\",\"#1f77b4\",\"#ff7f0e\",\"#1f77b4\",\"#d62728\",\"#2ca02c\",\"#2ca02c\",\"#2ca02c\",\"#1f77b4\",\"#2ca02c\",\"#2ca02c\",\"#2ca02c\",\"#ff7f0e\",\"#ff7f0e\",\"#d62728\",\"#ff7f0e\",\"#2ca02c\",\"#2ca02c\",\"#2ca02c\",\"#2ca02c\",\"#d62728\",\"#d62728\",\"#2ca02c\",\"#1f77b4\",\"#ff7f0e\",\"#2ca02c\",\"#ff7f0e\",\"#ff7f0e\",\"#1f77b4\",\"#1f77b4\",\"#ff7f0e\",\"#1f77b4\",\"#2ca02c\",\"#1f77b4\",\"#1f77b4\",\"#ff7f0e\",\"#1f77b4\",\"#ff7f0e\",\"#1f77b4\",\"#2ca02c\",\"#ff7f0e\",\"#2ca02c\",\"#ff7f0e\",\"#2ca02c\",\"#2ca02c\",\"#1f77b4\",\"#1f77b4\",\"#1f77b4\",\"#1f77b4\",\"#2ca02c\",\"#ff7f0e\",\"#ff7f0e\",\"#ff7f0e\",\"#2ca02c\",\"#2ca02c\",\"#1f77b4\",\"#ff7f0e\",\"#2ca02c\",\"#1f77b4\",\"#2ca02c\",\"#ff7f0e\",\"#1f77b4\",\"#1f77b4\",\"#2ca02c\",\"#d62728\",\"#ff7f0e\",\"#1f77b4\",\"#2ca02c\",\"#d62728\",\"#2ca02c\",\"#1f77b4\",\"#1f77b4\",\"#2ca02c\",\"#d62728\",\"#1f77b4\",\"#d62728\",\"#d62728\",\"#2ca02c\",\"#ff7f0e\",\"#2ca02c\",\"#ff7f0e\",\"#d62728\",\"#1f77b4\",\"#2ca02c\",\"#2ca02c\",\"#ff7f0e\",\"#1f77b4\",\"#2ca02c\",\"#d62728\",\"#1f77b4\",\"#d62728\",\"#1f77b4\",\"#d62728\",\"#1f77b4\",\"#1f77b4\",\"#ff7f0e\",\"#ff7f0e\",\"#d62728\",\"#d62728\",\"#2ca02c\",\"#1f77b4\",\"#2ca02c\",\"#d62728\",\"#2ca02c\",\"#2ca02c\",\"#2ca02c\",\"#ff7f0e\",\"#2ca02c\",\"#d62728\",\"#d62728\",\"#d62728\",\"#ff7f0e\",\"#1f77b4\",\"#1f77b4\",\"#ff7f0e\",\"#d62728\",\"#ff7f0e\",\"#1f77b4\",\"#d62728\",\"#1f77b4\",\"#2ca02c\",\"#2ca02c\",\"#1f77b4\",\"#d62728\",\"#1f77b4\",\"#2ca02c\",\"#ff7f0e\",\"#d62728\",\"#2ca02c\",\"#d62728\",\"#d62728\",\"#d62728\",\"#d62728\",\"#2ca02c\",\"#2ca02c\",\"#1f77b4\",\"#d62728\",\"#2ca02c\",\"#1f77b4\",\"#ff7f0e\",\"#2ca02c\",\"#ff7f0e\",\"#2ca02c\",\"#ff7f0e\",\"#d62728\",\"#d62728\",\"#d62728\",\"#d62728\",\"#ff7f0e\",\"#2ca02c\",\"#ff7f0e\",\"#1f77b4\"],\"x\":{\"__ndarray__\":\"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\",\"dtype\":\"float32\",\"shape\":[2361]},\"y\":{\"__ndarray__\":\"MOUEwRxLBkJ1B8HBopadQX9+JkG1f2HAbmpAweYQiMHX/5DBgklUQd9g30HZC5hBf6PQQTgs80GelaTB2nYTwWc8O76ZNb6/NclbQRz2mcH3DL3BcZ7twckwiMEYwMfBt1iMQb/tDcI2PBXAeaqUwU1c4kD5suHBPb3gQW6t6MGKMwtBCKX6QTHCd8FuVDFBctoHwhLOs0Hp1hHCdwnDP1DXE8LFKVDB/x4jwdcPjD5rfhnBFy5CQVW6CMIHKtfBVbUjQqTUuUEOQwS/a5+CwYN0AcJ/54lBYqQBwbC/aMAvM2g+QFyJQexg9UAuASxBiVowwaSVqsFwxN5A2XojQfJGYEHpunA/8N0mwX0uIMGQ6VPBwa+AQbx8CMIYum5BrOq9wfDHsMFnPvVBg2REwZVgEcKauffAJh6APtKamUG+oBtCJf6twCbQlMFmJxPC6xHNwIcHhUEVzmDBvVwRQrRsk8El/p/BxbKnwcrRtMEtExPA+hgrQSNa8sEGnRPAMGjdwZFysMFshKnBPau9wU29aEE4C7BBUgq2QbEhJUK3oJFB/VHlwZEM5MFNNydAYHsgQlnVCsFnnMdBPJk4QkUAUkFpjYRAZHchPxy8BcK44U3AagTJwSf3fMA7NxLC3UZgwS5CTkGvQ77BdnntQaSv0kBjjvXBLW/qwBKQ+MFE/b3Bjp1VweVAOUL09rvBhVQGQbVuEMKU5BzBa6YXwO4Gn0FFhATCxAqiwS9RiUEKq9TBo+OzQZVFkUFN3yZBFo7CwZUK0EEqs86/fCNTwQv0C0GNykPA0BMtwX8bwMF9bL9BkwkMwj0VTMEdnMDB3PFXwfSLEULoh+7BJLG5wRzcD8K0WLZAjSsnwWNBEMLRkhpBGbrHwcYlk8G+/rJBYV69wRoJ88GICRHCXYYiQsHyrMGMnMHAnjkjwcZ+rkEE83LAxlW+wTHM6cCKtexBG1s4QTmbB0LYTZdBNVifQSfNFUFjzfzBpqsTwoFNCsJTEx0/vWo0QVrhEMAanALBB3iZQef/H0FIT87BFPoOQRIDA0L3pQNBvHAsQQGm+cD6a5dBAb5vwNbPukEvS8VB+qCNQRXVI76XUo7AxG+kwWufN0J13+tBBaccQttV1MGTEQzBd24AQRrgNUILN67Bf94aQsEZmkBqCrNAo+dswbzB6sG6UL3BnRqewdbucsHz/TvBd4/ZQWeXtEH9UyRAAtw6wb4Z4EFfK4fBye+Zv7EtWsBHK8NAIaKtQcyP7sAKlfJB8H+2QTSawkHsK8XBaEpZQeKVG8FD3YjBrb2nwTvLE0I2llHBFkYHwi9cjEFH6kDBB76jQV3F90G/VOjBruoLwgKUYUH89+s+Yq25QbMN+sEGPg9C3wwIQpUko0E6MLPByp0Gwoh3nMHwEyRAl+0HQtyJnsFWs4TB3MALQljWsMGz3xRCzRuvQXy5wUGBlcbBI3X+wfGC0UGiQIbBQsb0weklh8G8ZL5BKB8JwhqGFsESHqrB7xtvQFCVvkA7YQjCA+wFwQqew8HXXArCAWW4QGtSTsDcy5RBnBESwIWgEsFi1JpB6REHQWTJucFtxgG/wWspwGLopEF2DAHCOo/ZwDqln0DFiTTAITGvwZ8XWUHFiBTBR8AkQhPpuMH5I43Bb4dEQT/wy79+WmNBgqXJwWpeu8GlNUTBUbwRQtT2qUFFoA9Cns/Fwdstr7+ZOqZBCvAVP7WTAkGkEcLBUUogwM6KTsEK85lBSrMNwYSn4UCQakZBpU1eQfZ77EFg82XB0nuFwcztu0FK+ktBCeLvQW0dXMGKc7PBAacQwMYLDMKrTs1Bpn1aQWU5n0H/r81BUP1QQOCMIUKUaE7B7Gplwf6GgsH49hPCHUTEwSHT30FNtA5C4uS2QYwrm8GL3wrC/PUrQlyM8UDDR5HBed4UwdpzEML9RTfBqPCvv9OtAMIF8HlBuusAP6mTt8FSQRxAjWuIwZyVs0BSc1k/3IOxQVcfrUEgdxbBre6nv+pCB8LgGozBU9ApvjhTpUE6Xn1BxYSVv9GpQsHaKRzBoAghwGhMDcEYayDB4W6xPyWxhcExL/fA+hHAwZlI60ELYx3BDMuiwUuJ9cFgKcu/IJoCwcXMn0H5CrDBE8ETQSbTTcGqrxDBZr/JvxEHH0J4Z9BBLA6LwTZv9EEM5PRBrV6tQa+jpMEBB8pBc7dKwSg/br9YIWJB2TeqwWc6gcHaDHZBcAG5QaLKyEEfNJVBH2YKwWwjLMEIHq9AFJCKP1WaKsH08k7B0TCIwJJsw8FsmhFBdW2tQcCqmMG/UWvBbsmSvlmr/kE0Hy5CgNHzwafQJUHNrcVA/scSwqIZgMGyCK3BTwUAwTaDv8FlPnbB7wrYQcgQ20BGyIlByDkbwModA8LZvDfAciSVQewEL8AuqgvBhGe5wZL8YsFYqdA/1P1bQUnaEMIjX13BQcMWwYXqjkHxlQXC7pHrQaayn8GBL73BWmr3wBUL3r65vX/BTo6dwaNPu8GLSxVCfTPawSk5uz8HkwrCqGnWQaJWPkGHNwvCKBBEQVCXT0G3SjTAQ908PovJvsHUqqjBpvbUwbVCCsKSteVALLSQwSaEjUGvDj3B8EgPQit65cFkJCJAewRZvhpgdcEMcTVC1UmbwVO0EsFZLtnA3JfSQUQ/B0HpA4fBv8nGwZaDm0EYVA3C5fSLwZmE4kHeIvdA2/WRQT0bokEm8BVCTcutwYJ7yMFLlIVAZel0QP7gX0FEexZA4QfPwaqiCEALY/ZBSonqP+L+TMBu5TJCbQhNv0z2EkEm5XjADWfHwRJT6cETMm/B+RUAwpgLxMHnPanBX6LFQQ49yMG6S/6/5tSgQeH5MMGw/fZA3C6/QQ9prEG91itCw+CBQa4B3sDe3gpC8BsCQs+vmMHYhKTBUuijwRy3wkGP8YlBwJKgwaLaiUEeTs7B9ss0weANGMDqvAzAH2vSQUr2ZcEBKw7AdYpDwcWyUcEIQA7AOq1KwahNfkEBLlJBuuTEvsOMIkJSNpDB0OEIwuULA8DD2AxBNb/JQQ89TEHU+thBt/6PQa6DQkC8y5vBVJeFQN+XtMG1/UfBDZ2JwaJGDsKz73dBOs7xwKPzfsHCzSRCVVR2wYA5vEBiLJjBChuQwdMjjEEbAZfBDnsyQol3DEF7hY7BrlJDQY1MDULJEvFB3L2JwEsYE0KH3t5By8pTwRcBdb/bvgrBlSR6wWVEqED5vxrBPruywTuipUHh1fZBloELQbUclMEdSSvB1NguQjfaCsE8KElBBKqnQewEMkIKAJTBF/6uwSdoJsE314rBRSWHwbU+7kHTOsVBqQS7wRAQg0HCGxHCN0JsQKw48EBiGuLBi/6cQRiHFUDzVVNB7PH5wd5TvsG9ZXNAHIiMwbsD38CwSRHClT0JQa26Q8FmEgJC0+pgQeqZG8GhUQvCUxvVvz8UWMFebTHBhR/EwYLIbcEaaOfB+W8bQU1cm75cAkzBJ3JoQT2RzUEmzSC+MkLFwfzzpEEVrQpB0i28QPP7qUGKM5fBv/6wwTgHOEGmppNA8nq1QSVNHUJnGyfBDkOYQdhuisEEoJrBSfHTwUxf6T9vNAe/XQLuwU969sBHdpzB+u7XwXsFvsEh7ArBBN3HwYdtaEGlBePB7KGkwS7KcsFoTGRAzr8KwsFDskCAmzQ/qe3QvX2uv8EEUAnCSUT1wChdusDyga3B/gumwQf3bMDKtBDA87+hwZngD8LidyZC4DsnQtg/kEAjNKy+AlHGwc7Sd8HEq+7BpMw6wRPPH0JV0a5BUPGTQcyTHUIShBFBBZteQcmu88ATvzhAsNNdQY4xMMGargm/+IaTQAlqt0Evc5nBc5y8QfNdxEFVt4vBgj1CwZHzuD75lw7CAdD9QCs6jcHIU6FB0hiqv1AZHUKduAHCdbKwQRurAEIYUIPBUsEdQiJyjUFz/AnBdL4+Pg68DMK0/fFBQ2x9vh7aGEDarK7BZrQtQl8ZCUI88+xAWWm7wIkqXcE5Co/ATzcIwoDawUEbm8/BCYL9wYQTvsHkPIJBsmNowX4oUEGCxbi+YKYkQt80TUHb+mjB8GZxQYuoLkJ/aHRBATmUQMZUuUFgYxtCS5OXwfKkCcJdLpvB8zchwJOm6kHFTj2+YhHVQcU76sEDFrJBKI0FwjK9hcDPxQ/BxeWEQTjFAMKjaD1BDST+QcJBvkHDx6FBQdKVwa78tcFNP/lB34y6wfJFmMHBCBs/kuOLQVBg3UGltA9CsDMJwiL4sUGiMCS+IJTawdA24kGHu7LAv+3VQTfqvcGnkTNB+iGtwUNwuUGPGhpAICA6QQwcv8HWFl3BS1TowBx9x8FRjCDAQmazwTX7+8CH+4xBaC4kQiiY+sE2wpbB9ECZQaUzgcEpd6fB3xATwoOJD8EAEFNAQNGtQTA338Eui91ALqzswDMzmcHSvFpBmBftvWhaLULA3r7BAXk1QtLZOsHTTRPC8SqewdynosHrOfDBxMHlPtGKEMAUQbZBkGsyv94Ms8H9KgxB4K0UQhmuycG/xLHAMnXQQU/nlMEzFKNByhWswVDD0sAJ8KJBEGHgQQp4vcGLUC1CpiKaPKFV9kExJYDBYddswU02qr/I7hVByXXCwSABGEL/wctBr1KLQbdHXsFD24nBvprPwVWVh0F+vhbBGy61vwgPHEIerx9Cxht+wZfqIr4FIBdCzH/gwNP7vMGq2InBbgTTQcV0tb8gi4hBqAu3QT/cPUCZpwlCd+8iwRvHzMDzDgw+aZuYQRouAME+m8TBXS2qwfLYG8E6bLhBVnO+wRy9GkJOFWzBXN6gwR/+U79nc/7BSmeLQes5LECredXB5wTxwdF6tsFeBVPABjfWwW9lNsFjjYjAHkcDQUcoVUH6mDVAxE4Rwk+1eUEejr/B7E6aQAIaFMHhE1LBT2uiwDvk8UDe9oi+DGaHwZQQNULw6KLBt1wGwkD+6MGJfcDBe40PwKvmCkG77iLAJ9a+wYQiDUK2UkfBcfQxQq3zDsGVZ47B1bOKwfs5eEF2QiNBRzGWwehxzsDU2iPBFMmUwXUSuEFBfxLCW0sdwXveA0LlqQJBWvvwQXvaWsHpru7ARnSmQQMR0MBvlvS/uIL/wLC0K8FS2k2+uHW3vzmSt0Gy2HxBTu+bvyXH70Br0KVBhjMXwJu57EHOl8TBYTk5QhUInsEjfwZCFBsYwYesCMIJog9BhK6Awf01KkJYMZ9Bst4/wIkfN740JzBA82PkQeYdz0E3S0rBhm80QkoRMEALlpBB3dUpQmh4m0F9sYfBAyM4wQTYBsKEJhHCSQsnQkvO4UD6PWTBs+gDQqY5DkJMxg3BOJeRwQV+PEDjI85BhmAKQW/GCcKm8QjCZo96wcJqwkFPeVZBuqFTwH8RV8GHG4NAVL4yQkPnWT/7eULBQ9imwbtRfkEgCV7BF0CTwTZRYMFgYhrBXoDPQfsES0EcLgTCjQq8veHIv0EwjwZCC15GweiDFcAurxJCLt2JQQqWtMEMCXtBNaifwXcxU8D5ZEzBtQ/XQMT7rsFMGcjB8Nb4wWU/HEL7NYu+MKCUQU+Sz8EbxqJBAQ4DQlTyy0HosptAmo0VwTjCVMG8hD7BHaskQh/z/0DMSOZA9KExQu2R4UFLpBHCTySkwZtOh0EiXbZB/wqEQUZBF0A9X7pBsjYQwvy6e8HwQsbB2YhUvyywAEJde9FBIEKUQGgd1sCSJw5CrEGEQX5t2T+RQDjBa6EbQultpcA4qMjBSULCQe6VYEFriOlBbWQjwJeUNT9AjwC+QSD6vm0lWb9ltiZC664TwuDoisH2pP9ASYOKwWdK/EDH3ARCbuHzwdsaxEEk+BrBxGW3wVhTpcEbwoDBsOKkwRVaoMFPb9lBZJcoQje+VMEo9o0+47YjP2VYwsG9GA0+/yDiQO7hrMHLD7VA/l2EwRK2rcGmqQNCWFWGwfnSvcGOl6PBLK0JQkY4HcBfH5jBftoLQdXkfME0gWvBmhGXQduUyUGERppBhTAmwYpx2UAtDnXBEUpcwf66vEFyYdG/bsKGwbA+P8Dal6pBVh5ovUCzicHKwtJBwIGCwKowu0HuwgO/X3cAQUEbl0EI7RNCR9SnwHYK48GvJ3vB9GTBQS4bxcGqry7BN+I1QA67AkKaUgrCN/s6QKnsN8EKUe7BnCLfQaegm0GnvTTALMP9wfM/EsJh4EHBxXEywMd2CsJiKoLBow5wwYo7scFhIHDAVwapwcy+N0DLc3LBIBdFwGoPqsFrs7jBpdwZQSQ2kMHbLqLBm943Qo42gcG14JNB/FJIv6V+o8GTXr7BEl6DwXl5w0Flety/DzfEwLVxXUFurcBBvwXNwadETcF7Tv68965pwRaDHkEXo+bBNuokQuEf7r/IozZCAvzRQYEBEcIAzp/BzNXewAE0BEE6wNNBK64KQrO/psHM1BlChjoQQpGKCcAmCrdBFXrcwewvOb+hJIG+V08LQR7m9cGE2mBAHDMXQvZ5vkFuFg9CesH1wJCP40HmripB6ySXQY6ak8EMi03BucynQdvODcH1sm/B1/OewWIubMGbSqHBflf/P+u1AcGYlvXBqiAuPxx3KcHuoA9CE+7YwF4WqME+vXTBJxbzwAqQFj+pALxBtJIKwvslYcDx9Q1BSxobQTFimUGwVyQ/i0QkwXUAjMF+FInBHJ0SQr/Z1sEzcA1Cz/uZQCwLbT9TbdxBk8/9wcEXAUF2uxNBd6WPv9PGn8GsXq6/ebwmQrS13sHBQejBl0BCwVkHmsEo3Ku+5Jq8wZ0PP8HzR7/B/j3XQUDsJL++EG9AloWAwVzHBUKSZMTABKyQwbK908HMoqzATiozQvgXRcE87VJBhJDzwT8y9r97A6bBMIX6QJD7zEHuvARCF3eSwA0LtsG4lcVAAVREvzF1kkEH70zBj9ElweNsh8HLjHVAiAIYQs4UKsFZo8LBGdEzQvCVssHNGcbBcq+PQT8vFcGMuy/Bp8jYwXvHhcFauSFCvZAywbwIxsHPqJbBegVKQV07G8Fz6EzBb1HZwQ81wUHpnOtAfIvEQc4W7UH2g7ZA+3rAwSy12UDuWshBgiWLwYQklUGbDwHC0LYPwht/u8F1BPDBKgskQrTHoEEBUyJBERoHwlfrB0Kn75HB9XuJQbOYq8EuorbB4YvEQVQAwsHHJehBnxAEwve8d8Ez7BzBIeY4wY/7ukHSbQa/ATqFQdiDNkEQ9LG+vlvIwUnzOEDzuZXB+wx/QTO3EsJcAXbBc/inwXVew8HtWpbB+imKQc9iu0G33wDCg/DGQZDj8kFrOPVBtqXXwSARhr/RchLCjl1ZwXQBIkJwhKvBNPyEwUxI8sHLBsLBco0BwtcHIUD3lhhCN6ISwNCVg0GBpC4/NoIIwIm0D0K5JaXBOrWvQOtRd0GemrlBYuoEQtBDgkChYEi9kIDAwejPA0FmIPFBt+EOQVGZdsEya3PB6uZMQQuDncG0eDXAxw30QedWjr9V8ZXBD95ZQUF4zMG8BfvAR3ikwaudZb5wlXxB02wQQlJlqcH9G+ZBCB7fQVskpcH+UGNBFdlDwVwh9MGMCgLCdGn6QSx4vkGC3JHBJAcJwSptKELU7iLBAAzJQSsUVUFTkS9B8ri7QXzZHMF99RpCldmfwVQJYkGBLYLB/QpgQRUxncFjyCdCMd3GP32Tg8FQYpnBMM9fPur+WkCMDAdBXquPwXAFlUE2OzRC1qOMQXtc7kGxGxJC4YCtQQVn1kD1aA5BYDOOwRjeN0J2qqxBYiXwQd2hNEI8IM9BGvIqQPQ/yD/QDpvBbOhQQWAM/sGJ4ZHBGFcRwr4owsGt+q3BTBscQnCcz8GhA81B2ONeQa2CS8EOrwvCZ3CVwatwQsHVKwRCShHWwVStIMHJ6E3B4icxwQCL4kETTHRBV6jUwbo5wUELPV++XqSwwWRpvb7rzKPBlrGpwfFL5EEntiZBRoG/wY4lJEGfx7zBTkIPQv0JCMIoAU3BIb3EQNnrOEHo6jnAt+E5wdN36EFbEDXBRlfAwZT8REEc5QS/KygDQaiHpMHoHVe/7EAFQncA1kEsRuNB/8UhwXgWgkFT220/vmi1v9R2nMHSqJdBQ8JGQO0F3T/UprxBH0O+QXqThcF19rjBItEtQrWypMHkm8bBmyhmPz9Eyr/OEudAV0aAwSWm88BZwidB38aIwWljAUIuHmnB/lE+QecjN0JGclzBymqywdJK0kHBnj3B79AYQUTkCMIFIrw/uMoHQvI4lMH4oONBNX7GwS9XlUHmU9/BsHjDwTahhUGQDDdC1Zq1QW28D8JS4sDBWDuPvgcrncHY4DG+xK2oQULEpsHWkQpCOeOmvxOEwMEdtmHB/mfDwX45qUGA/WrBdpRRQS5VfkGinTZAfQ8uwX0vqkArfjpB/BtzwcWLwcG6okpBVtY4QuA4P8GZRhbBr39NwW6/RkApF6fBwgVcvTQHgMGnJHfBDuRSwSF8t0FNII1BBOcswQJIvUEdjxNCZp8RQpMcoMFSkHc/QwueQRqK/sFNyspBuoQKwgfom0Fq+g/Ci6OaPz2KscG8KcbBS4QfQkKucbtN56JAq/uGwQYfAMCBdCw+Pz0rQQ86sb9d0lXBIJQEwnqXJcE5eQG/sKDBwWyMGkJmjzRBq1vBQVvcBULBty7AAZtHQS5IrsH6hMjBIk9LQeZ1HcC2GZtBN6iCwVja0kEerlPBfVCMQcD86kGZfg9CcyfJQJ+tpsEyJuzB9tOKwSQd2MFmkYhBKaWswZNbDMJUOs5BLfHswRDonsETMRFC1ABHwSM2ekF0CddB8PyAwY1kt8GQTK/BFI4KQBi/wUETjDBCCeWFwaCoikDFlLjBSYQNwr5nxMEepI3BeaUDQtsvAMLZif/BSugZwdCSKkJndRNCbM2AP8/dg8HeogxC97ltQDN+8sHruuDBqwLrwKG6/sFndihCLWyywdVIQkF2wBJBAGTVQGizvsEjnsvBrnoSwa7zkEHvaEDBB8nYQZZy0kHn6QvCUT70wbxnMcGS6g7BliSJQZSi7EHTdzO+cigmQocxksF/SPFBJ7YRwhroT0FRuRrB7gqSQby4dkEiaZ7BPxLIwQDRvUF2VAtAvKqbwdHxP8FxoBvB/eEAwmjPTkGJ4yJBrDmQQV1FAMLmLPDBLJ0fQhyqJ0HDZ8FBGNuEwSH+D8GM6Ea/wf/qwe3VxMG/2OxA/hELQjHJHcEKKPC+ROnnwdxYoMGGhLFBfMvVQJWCQMGZpyLBJ8aiwGGomsAUJ1tBoelrwep5gcGdW6XBkfwjQuE5OcG0uwJCTq6MQe6NsMEUsLhBbUgewNVhW0BpJDZCslnBwexXpcHXVfFB9ppRQaqE10F4i3BBOgQov3fCh8Fzc5ZBwI3SwA5QjUFnubFBd/SlwX1xxEG5hPTB8T/bQQzUg8HnqZFApHveQcJeCUGdvhdC7KMzQgPG2MDtXBzB4he8wXkQ/zxEwvQ/PsiIwQzPksFI3sNB7LMxQvtFB0Ir5M9B+cSdQeknIEKi+YRAc8sBQt5hAkIxnfFBkOdXvzzwEsEuR35BG76bwboMZr6rS4LB/nwzQJ8zqsBkUAXCfsMCwqqT/8FIMxRBP+hAwSNurUGCi8jBIAm5QQZ6N0Iwc95BzjwNQKxLMb7ttaLBR1YMwlWE/b+2LAnCMjkgP/bIG8Fi9i9CjXsSQgRBjkH3RRDAb+e8wSS9AUBq/ws+eyYGwrqNFUJW5NK+KtPZwSKAt0D9UqTB8Bc3v3/JzL9rpe7AEbtzwFhQmEHbEMPB1CC3QY6hLT6HPbdBGSgHwk4IzUG9Al/BHrnKwc6HocE05vq++9/IQYcdgUENzRRB0LKPwSnYM8E5+arBd9cAwZHsxb99uBLCE3k1QpmTBEJ4sZLBEiGSwfYobsGNVqdAC+UQwnsfsUAmPTVCvweXwa2vB8Kc1xBCAlfVQao2SEGPo9VBjkntQXOxtMH1hxhCqPnOwbw7Q8Eee9TBimkDQuRzHsG97MbBWq8Hwsf9A0HRzx9CS9zCwTo4csDbBI7ABdcgQTjpvME9k8/B9fMdQpC1J0Et8CBCimQHwitycMFAAHFBnpSsvqqNvkGnUSNBmQKiwWDTDcIyvanB+a5iQaG4u0EEwqDB+SvyQIrwE0IMsVtBAhF7wCNQisEQDIfBW3u6QXzMxUHV6TLBJmClPwk59EFmOeZABJPbQZTshcFD99dBtMWNQSuzpUGA5yHAmguTwQovocF33QBC5HvyQLAGVEEnFRTBhIYJwg59hsFYBgnC66+pQVO7kEFO14FBqw+SwfI3acEtlJDBBkA5QpZHIUHIMJtBQu1qQehcDkGaYvHARIwsQrb8HEL0x61B4Dmfwb3cYMGy/hxC7WSLwYK+rsH4YQhCaJAFwg5MJ8GhiFi+Cg5HQfZDikFhWfxBpE8UQqrQFcFPdaPBnoQgQVCq0MHl95NAQkhYwBvrC8JZG2nBAeIJQePgesFMCjPB/0+7wXR3CULxReDBlnRUwXmrKUHh99W/cRqfQR3T1UH4Ii1CKlJowWSTCL9f1n8/iDyaQVbJvEGS12tB0qAHQoYKm8HZ583BzVt1wf8piEE0+glCuNYrQumCZD+kAblBNnGyQbDxHMAwYvrB7om7QWQhqsHuE9nBK0wiQske1cEH3iFBuo/uQbSUzkGKmb1A9TtkwX6ZM8G0XI3Br8gcwTxrnsFqIAzBDgKxwXNW88BOdRhCbBbYwb8aAkI71r6/7gKowRnah0G6BOjBmIDgwQ2HtkFE4u9BjoIvwZwUe8EFg41BAAY8wed5o8EyNSFBJewEwAtduUHUfTLBAsMIQn4G6sACxqS/E8OPQSXqhcE8o2hATgy+wejskr5OyY1A73e2QQjXBML37AVC4ZilQU2D/kHQ6xvBVRguvwZKiUEcXnZBQzarwVIVjUEJwYTBS7zRQWSLC0EADYE+/FC9Pq0BWMFH5HZBETexwZwhrMF+RRDApe31wenwwkE7LjlCMasXwYVoJkJR6BlBXAm+wUL268Fm7L3BVvidwYTr4cHYbS5C/k87wV0LEMIhJxDCsoiTQWdqAUGmCJZB0N/pwYFex8FyjFRByzSOwXXedMFvQ6NB5tZCwfuekEAfNoPBqRmkwRFszUHlITfBEBamQVPTokH5OqDBU/GCwbp/t78h7OnBkf+PQQlGIkLYNbbB6oLVPxChmMFzbI7BiihxwU7nwcG0UjRBt3S6wZlflMFXeyxCMperwSJthb6IhopBXYcGQhVPpkBP+CFCDVtZQWkmTcGiyDdBpETCQQH81UFUIGvB+X9xwd1zwEExOwbBm779weVuKcGzBsG/vuydQYYCQ0BiBV3BqrtJv4tEJ0D15zfBUWRWwPiD2sAAZ/5B+pSvQYAYn76WyslBIbfCwYmuC0FxDL3B5bJePg/pnsEevoFBaERvQb2ekb7i2CfB7Kf7we1RtkEWToxBubJmwYfvOcFWTbNBOHJWPzsWBEFaXHTBI9rawTSZpMFj+sE+CqULwpNHfL3moqnByayIwZJq08AmRANCKttPwWz4u8GPw91BVPrJQYwQDkKcZM5BAGz5vUpMBMFQmT3BNHvswcsoEsGY5BFCnt4TQjM7g8HqmhDCJwYUwn4pMkKkxAJCxRC8wZYtS8Em4PTBD6p0wAS39UFO4KDB+ub9wUD4xUGlZQBBoIrtQfLFDMIm7ZJBya/CwT4TAcAYFb/BsHQOQRcJq8ER/DVCvdZAwVdcLMFfklFBzOPOQZWSrEFdA7fBdHakwVulgsEIstK/D/jjQaS6DT/3zsFBvOClweK6zsHS+IrBGgWnwMa5ksFVprLBFq+WwRm1yUEvxwBB0w85QnjrnUHAfL/BL6ORwToSvMGmS6/BC24wQri5gEH4D5bBRfAKwcvHvT/Bhz/BvNewQXxgQUHQjK7BZEGMwZsZS0EzaJjB2EgOwqLIbcENjqbBo8cmQS4dI8BrnLdBCxa7wX2WmsF0V6xBD2E6wdBaiUEZJ73Bqan8wJeALcGCDJrB+O0ZwWS/nMH0A7fB2P3rQds9EMFO8mBASiowwYPVv8F7S1DBJi1NwHMQEsJW3IPBAtvOwRur5EFbVQM/FPiTwRncEMLvgPJBz1oWQEPUGMGSoxPC2sO9QRNL2cEWNKa/n7ABwYZ9WcFiDcpBb3TqwMHankF/vQBCUIoJwlzEcEHa6gPC8e53QHZUkUFNpLbAnZGFwbWOs8FMEqFBsgIUwa6O9sFprwNCKgwHwRgKIUIEB7DBqjMWQkeimsE/tsjBataFQbvDsD+vqu5BBGURQieL3cFcgxnBbQ6TwSXaBkKCF4bB4EfewXZGgsGGF2RBvr6ewQg0GkJCwDRCqbUsQtugLkAhTUPBGlsTwfACNkHWy71BbZexwIhJr8HcV9JBj/gbwRBaE8I0xvbBfascwSZENUKQYmHBjNk4wU5yGkGhHCxCDjC3QQUfAEIW+chBDOzHQaGWu0GPRgDC3ioQwkDrxMFT/JJB846YwcOEscF5LoZAXrCgwToPf0HWDQnCyjfaP/JUukFAxQhCATHSQRH5kEELU01Bohl+wRIS9UHg53y/\",\"dtype\":\"float32\",\"shape\":[2361]}},\"selected\":{\"id\":\"1387\",\"type\":\"Selection\"},\"selection_policy\":{\"id\":\"1388\",\"type\":\"UnionRenderers\"}},\"id\":\"1352\",\"type\":\"ColumnDataSource\"},{\"attributes\":{},\"id\":\"1337\",\"type\":\"PanTool\"},{\"attributes\":{\"bottom_units\":\"screen\",\"fill_alpha\":{\"value\":0.5},\"fill_color\":{\"value\":\"lightgrey\"},\"left_units\":\"screen\",\"level\":\"overlay\",\"line_alpha\":{\"value\":1.0},\"line_color\":{\"value\":\"black\"},\"line_dash\":[4,4],\"line_width\":{\"value\":2},\"plot\":null,\"render_mode\":\"css\",\"right_units\":\"screen\",\"top_units\":\"screen\"},\"id\":\"1345\",\"type\":\"BoxAnnotation\"},{\"attributes\":{\"dimension\":1,\"plot\":{\"id\":\"1317\",\"subtype\":\"Figure\",\"type\":\"Plot\"},\"ticker\":{\"id\":\"1333\",\"type\":\"BasicTicker\"}},\"id\":\"1336\",\"type\":\"Grid\"},{\"attributes\":{},\"id\":\"1387\",\"type\":\"Selection\"},{\"attributes\":{\"fill_color\":{\"field\":\"fill_color\"},\"line_color\":{\"field\":\"line_color\"},\"x\":{\"field\":\"x\"},\"y\":{\"field\":\"y\"}},\"id\":\"1353\",\"type\":\"Scatter\"},{\"attributes\":{\"callback\":null},\"id\":\"1321\",\"type\":\"DataRange1d\"},{\"attributes\":{},\"id\":\"1341\",\"type\":\"ResetTool\"},{\"attributes\":{},\"id\":\"1340\",\"type\":\"SaveTool\"},{\"attributes\":{\"source\":{\"id\":\"1352\",\"type\":\"ColumnDataSource\"}},\"id\":\"1356\",\"type\":\"CDSView\"},{\"attributes\":{\"plot\":{\"id\":\"1317\",\"subtype\":\"Figure\",\"type\":\"Plot\"},\"ticker\":{\"id\":\"1328\",\"type\":\"BasicTicker\"}},\"id\":\"1331\",\"type\":\"Grid\"},{\"attributes\":{},\"id\":\"1325\",\"type\":\"LinearScale\"},{\"attributes\":{\"fill_alpha\":{\"value\":0.1},\"fill_color\":{\"value\":\"#1f77b4\"},\"line_alpha\":{\"value\":0.1},\"line_color\":{\"value\":\"#1f77b4\"},\"x\":{\"field\":\"x\"},\"y\":{\"field\":\"y\"}},\"id\":\"1354\",\"type\":\"Scatter\"},{\"attributes\":{\"data_source\":{\"id\":\"1352\",\"type\":\"ColumnDataSource\"},\"glyph\":{\"id\":\"1353\",\"type\":\"Scatter\"},\"hover_glyph\":null,\"muted_glyph\":null,\"nonselection_glyph\":{\"id\":\"1354\",\"type\":\"Scatter\"},\"selection_glyph\":null,\"view\":{\"id\":\"1356\",\"type\":\"CDSView\"}},\"id\":\"1355\",\"type\":\"GlyphRenderer\"},{\"attributes\":{},\"id\":\"1342\",\"type\":\"HelpTool\"},{\"attributes\":{},\"id\":\"1385\",\"type\":\"BasicTickFormatter\"}],\"root_ids\":[\"1317\"]},\"title\":\"Bokeh Application\",\"version\":\"1.0.4\"}};\n",
              "  var render_items = [{\"docid\":\"b09c6f91-a1dc-4121-9991-7ab3009c7a44\",\"roots\":{\"1317\":\"9db93a7d-536f-42bf-bb18-3aa154d25914\"}}];\n",
              "  root.Bokeh.embed.embed_items_notebook(docs_json, render_items);\n",
              "\n",
              "  }\n",
              "  if (root.Bokeh !== undefined) {\n",
              "    embed_document(root);\n",
              "  } else {\n",
              "    var attempts = 0;\n",
              "    var timer = setInterval(function(root) {\n",
              "      if (root.Bokeh !== undefined) {\n",
              "        embed_document(root);\n",
              "        clearInterval(timer);\n",
              "      }\n",
              "      attempts++;\n",
              "      if (attempts > 100) {\n",
              "        console.log(\"Bokeh: ERROR: Unable to run BokehJS code because BokehJS library is missing\");\n",
              "        clearInterval(timer);\n",
              "      }\n",
              "    }, 10, root)\n",
              "  }\n",
              "})(window);"
            ],
            "application/vnd.bokehjs_exec.v0+json": ""
          },
          "metadata": {
            "tags": [],
            "application/vnd.bokehjs_exec.v0+json": {
              "id": "1317"
            }
          }
        }
      ]
    },
    {
      "cell_type": "markdown",
      "metadata": {
        "colab_type": "text",
        "id": "nL19T1JNnb0i"
      },
      "source": [
        "### pyLDAvis\n",
        "pyLDAvis is a nice off-the-shelve solution for visualising the found topics and keywords."
      ]
    },
    {
      "cell_type": "code",
      "metadata": {
        "ExecuteTime": {
          "end_time": "2019-11-26T08:02:57.449727Z",
          "start_time": "2019-11-26T08:00:30.214449Z"
        },
        "colab_type": "code",
        "id": "vqPaF-XBnb0j",
        "outputId": "93b4957e-9c7b-408b-8fa2-6155a10cc35b",
        "colab": {
          "base_uri": "https://localhost:8080/",
          "height": 1000
        }
      },
      "source": [
        "import pyLDAvis.gensim\n",
        "pyLDAvis.enable_notebook()\n",
        "# Warning: \"prepare\" can take up to 5 minutes!\n",
        "vis = pyLDAvis.gensim.prepare(lda_model, corpus, dictionary=lda_model.id2word, mds='mmds')\n",
        "vis"
      ],
      "execution_count": 106,
      "outputs": [
        {
          "output_type": "stream",
          "text": [
            "/usr/local/lib/python3.6/dist-packages/pyLDAvis/_prepare.py:257: FutureWarning: Sorting because non-concatenation axis is not aligned. A future version\n",
            "of pandas will change to not sort by default.\n",
            "\n",
            "To accept the future behavior, pass 'sort=False'.\n",
            "\n",
            "To retain the current behavior and silence the warning, pass 'sort=True'.\n",
            "\n",
            "  return pd.concat([default_term_info] + list(topic_dfs))\n"
          ],
          "name": "stderr"
        },
        {
          "output_type": "execute_result",
          "data": {
            "text/html": [
              "\n",
              "<link rel=\"stylesheet\" type=\"text/css\" href=\"https://cdn.rawgit.com/bmabey/pyLDAvis/files/ldavis.v1.0.0.css\">\n",
              "\n",
              "\n",
              "<div id=\"ldavis_el2421401306385882087142538109\"></div>\n",
              "<script type=\"text/javascript\">\n",
              "\n",
              "var ldavis_el2421401306385882087142538109_data = {\"mdsDat\": {\"x\": [-0.20253872432853512, -0.16595215942318334, 0.09568353733242732, 0.27280734641929116], \"y\": [-0.13214910850796782, 0.16362482957426783, -0.197406553229853, 0.16593083216355298], \"topics\": [1, 2, 3, 4], \"cluster\": [1, 1, 1, 1], \"Freq\": [29.25669288635254, 27.497323989868164, 27.08686637878418, 16.15911102294922]}, \"tinfo\": {\"Category\": [\"Default\", \"Default\", \"Default\", \"Default\", \"Default\", \"Default\", \"Default\", \"Default\", \"Default\", \"Default\", \"Default\", \"Default\", \"Default\", \"Default\", \"Default\", \"Default\", \"Default\", \"Default\", \"Default\", \"Default\", \"Default\", \"Default\", \"Default\", \"Default\", \"Default\", \"Default\", \"Default\", \"Default\", \"Default\", \"Default\", \"Topic1\", \"Topic1\", \"Topic1\", \"Topic1\", \"Topic1\", \"Topic1\", \"Topic1\", \"Topic1\", \"Topic1\", \"Topic1\", \"Topic1\", \"Topic1\", \"Topic1\", \"Topic1\", \"Topic1\", \"Topic1\", \"Topic1\", \"Topic1\", \"Topic1\", \"Topic1\", \"Topic1\", \"Topic1\", \"Topic1\", \"Topic1\", \"Topic1\", \"Topic1\", \"Topic1\", \"Topic1\", \"Topic1\", \"Topic1\", \"Topic1\", \"Topic1\", \"Topic1\", \"Topic1\", \"Topic1\", \"Topic1\", \"Topic1\", \"Topic1\", \"Topic1\", \"Topic1\", \"Topic1\", \"Topic1\", \"Topic1\", \"Topic1\", \"Topic1\", \"Topic1\", \"Topic1\", \"Topic1\", \"Topic1\", \"Topic1\", \"Topic1\", \"Topic1\", \"Topic1\", \"Topic1\", \"Topic1\", \"Topic1\", \"Topic1\", \"Topic1\", \"Topic1\", \"Topic2\", \"Topic2\", \"Topic2\", \"Topic2\", \"Topic2\", \"Topic2\", \"Topic2\", \"Topic2\", \"Topic2\", \"Topic2\", \"Topic2\", \"Topic2\", \"Topic2\", \"Topic2\", \"Topic2\", \"Topic2\", \"Topic2\", \"Topic2\", \"Topic2\", \"Topic2\", \"Topic2\", \"Topic2\", \"Topic2\", \"Topic2\", \"Topic2\", \"Topic2\", \"Topic2\", \"Topic2\", \"Topic2\", \"Topic2\", \"Topic2\", \"Topic2\", \"Topic2\", \"Topic2\", \"Topic2\", \"Topic2\", \"Topic2\", \"Topic2\", \"Topic2\", \"Topic2\", \"Topic2\", \"Topic2\", \"Topic2\", \"Topic2\", \"Topic2\", \"Topic2\", \"Topic2\", \"Topic2\", \"Topic2\", \"Topic3\", \"Topic3\", \"Topic3\", \"Topic3\", \"Topic3\", \"Topic3\", \"Topic3\", \"Topic3\", \"Topic3\", \"Topic3\", \"Topic3\", \"Topic3\", \"Topic3\", \"Topic3\", \"Topic3\", \"Topic3\", \"Topic3\", \"Topic3\", \"Topic3\", \"Topic3\", \"Topic3\", \"Topic3\", \"Topic3\", \"Topic3\", \"Topic3\", \"Topic3\", \"Topic3\", \"Topic3\", \"Topic3\", \"Topic3\", \"Topic3\", \"Topic3\", \"Topic3\", \"Topic3\", \"Topic3\", \"Topic3\", \"Topic3\", \"Topic3\", \"Topic3\", \"Topic3\", \"Topic3\", \"Topic3\", \"Topic3\", \"Topic3\", \"Topic3\", \"Topic3\", \"Topic3\", \"Topic3\", \"Topic3\", \"Topic3\", \"Topic3\", \"Topic3\", \"Topic3\", \"Topic3\", \"Topic3\", \"Topic3\", \"Topic3\", \"Topic3\", \"Topic3\", \"Topic3\", \"Topic3\", \"Topic3\", \"Topic4\", \"Topic4\", \"Topic4\", \"Topic4\", \"Topic4\", \"Topic4\", \"Topic4\", \"Topic4\", \"Topic4\", \"Topic4\", \"Topic4\", \"Topic4\", \"Topic4\", \"Topic4\", \"Topic4\", \"Topic4\", \"Topic4\", \"Topic4\", \"Topic4\", \"Topic4\", \"Topic4\", \"Topic4\", \"Topic4\", \"Topic4\", \"Topic4\", \"Topic4\", \"Topic4\", \"Topic4\", \"Topic4\", \"Topic4\", \"Topic4\", \"Topic4\", \"Topic4\", \"Topic4\", \"Topic4\", \"Topic4\", \"Topic4\", \"Topic4\", \"Topic4\"], \"Freq\": [1584.0, 1064.0, 892.0, 987.0, 923.0, 615.0, 771.0, 582.0, 710.0, 498.0, 698.0, 483.0, 417.0, 797.0, 477.0, 509.0, 312.0, 434.0, 279.0, 301.0, 385.0, 385.0, 375.0, 544.0, 389.0, 457.0, 366.0, 359.0, 1017.0, 373.0, 1583.4495849609375, 770.7888793945312, 433.28558349609375, 388.4532775878906, 372.2599182128906, 367.6788330078125, 250.2686309814453, 220.3323516845703, 216.49148559570312, 203.83340454101562, 201.7938995361328, 191.57998657226562, 185.0983123779297, 150.87258911132812, 147.45242309570312, 143.8997802734375, 133.76524353027344, 131.53099060058594, 127.56200408935547, 129.9740753173828, 120.92797088623047, 111.86410522460938, 116.70972442626953, 129.33457946777344, 110.33527374267578, 99.35218048095703, 110.3848876953125, 102.12168884277344, 89.26836395263672, 88.845703125, 98.35003662109375, 94.49943542480469, 729.0111083984375, 297.8348388671875, 328.2779235839844, 331.2881164550781, 286.0819396972656, 350.75384521484375, 443.6098327636719, 251.86021423339844, 324.5634460449219, 519.3313598632812, 282.7850036621094, 333.961669921875, 261.1329650878906, 325.5718688964844, 833.9827880859375, 286.1747741699219, 201.97396850585938, 302.8480224609375, 399.91156005859375, 317.5245361328125, 340.15386962890625, 464.9644775390625, 353.40863037109375, 281.5074462890625, 387.3015441894531, 330.5875244140625, 276.14959716796875, 986.6991577148438, 923.1968994140625, 698.1634521484375, 477.024169921875, 384.6214599609375, 384.6377868652344, 352.81988525390625, 365.8591613769531, 375.128173828125, 297.0816955566406, 304.7532958984375, 252.1407470703125, 216.13963317871094, 209.17562866210938, 208.53680419921875, 191.8774871826172, 160.77822875976562, 156.1602020263672, 167.7769317626953, 154.88543701171875, 139.51348876953125, 137.14784240722656, 138.7328643798828, 135.9371337890625, 130.23321533203125, 128.0723114013672, 127.25880432128906, 126.3479995727539, 124.33258056640625, 129.4067840576172, 132.02365112304688, 494.0548095703125, 424.1988525390625, 273.85552978515625, 466.4617004394531, 459.05096435546875, 277.5284423828125, 208.9373016357422, 700.1969604492188, 147.8415985107422, 199.9739990234375, 181.4784393310547, 396.31182861328125, 375.4747619628906, 284.4002685546875, 224.35894775390625, 282.1231994628906, 256.32366943359375, 230.58737182617188, 709.7454833984375, 359.18353271484375, 259.2024230957031, 252.43157958984375, 201.9998779296875, 215.7632598876953, 180.48501586914062, 183.4967803955078, 194.41738891601562, 146.2500762939453, 154.71978759765625, 129.42465209960938, 125.97605895996094, 102.57830047607422, 104.582763671875, 102.73616790771484, 93.26040649414062, 99.0390625, 108.28434753417969, 94.06641387939453, 87.35847473144531, 95.3847885131836, 85.54310607910156, 88.67280578613281, 86.67988586425781, 84.40219116210938, 73.02111053466797, 75.5760726928711, 71.50131225585938, 72.83736419677734, 130.01455688476562, 121.38533782958984, 800.5687866210938, 121.8857192993164, 440.6470642089844, 367.38079833984375, 437.7704162597656, 192.5669403076172, 232.99560546875, 220.6583709716797, 712.451171875, 694.197021484375, 213.83241271972656, 221.4256134033203, 338.4913024902344, 389.3099060058594, 276.955322265625, 499.19830322265625, 361.707275390625, 246.67030334472656, 299.9872741699219, 263.0694580078125, 303.40313720703125, 270.1947937011719, 266.05792236328125, 243.7259521484375, 250.24041748046875, 346.15576171875, 265.35760498046875, 237.8170928955078, 245.33457946777344, 223.97518920898438, 1064.085693359375, 891.8660888671875, 615.1620483398438, 497.2807922363281, 482.6647644042969, 417.0513610839844, 311.5390930175781, 278.9045715332031, 232.09202575683594, 187.20828247070312, 178.84378051757812, 170.38589477539062, 167.48458862304688, 175.36264038085938, 155.5789794921875, 151.00836181640625, 146.0307159423828, 146.24710083007812, 155.9740753173828, 143.42071533203125, 144.57127380371094, 140.34234619140625, 166.34107971191406, 136.79653930664062, 138.12562561035156, 125.51844024658203, 122.40689849853516, 118.6047134399414, 117.78010559082031, 116.87603759765625, 542.2017211914062, 285.7990417480469, 154.66143798828125, 428.1502990722656, 170.49044799804688, 313.44781494140625, 215.69789123535156, 187.33840942382812, 164.24252319335938], \"Term\": [\"god\", \"team\", \"game\", \"israel\", \"armenian\", \"hockey\", \"christian\", \"play\", \"bike\", \"player\", \"israeli\", \"win\", \"nhl\", \"believe\", \"arab\", \"kill\", \"season\", \"church\", \"playoff\", \"goal\", \"turk\", \"government\", \"attack\", \"jew\", \"christ\", \"greek\", \"war\", \"ride\", \"year\", \"faith\", \"god\", \"christian\", \"church\", \"christ\", \"faith\", \"bible\", \"sin\", \"belief\", \"lord\", \"jesus\", \"christianity\", \"scripture\", \"argument\", \"catholic\", \"revelation\", \"prayer\", \"marriage\", \"atheist\", \"mary\", \"marry\", \"nature\", \"doctrine\", \"knowledge\", \"physical\", \"earth\", \"clh\", \"specific\", \"pray\", \"resurrection\", \"arrogance\", \"original\", \"particular\", \"believe\", \"truth\", \"evidence\", \"hell\", \"love\", \"word\", \"reason\", \"exist\", \"law\", \"question\", \"book\", \"claim\", \"answer\", \"life\", \"people\", \"true\", \"religion\", \"man\", \"thing\", \"mean\", \"find\", \"say\", \"way\", \"read\", \"time\", \"article\", \"point\", \"israel\", \"armenian\", \"israeli\", \"arab\", \"turk\", \"government\", \"turkish\", \"war\", \"attack\", \"turkey\", \"soldier\", \"palestinian\", \"armenia\", \"village\", \"land\", \"greece\", \"iran\", \"civilian\", \"murder\", \"population\", \"massacre\", \"lebanese\", \"muslim\", \"lebanon\", \"occupy\", \"palestine\", \"political\", \"troop\", \"genocide\", \"policy\", \"destroy\", \"kill\", \"greek\", \"country\", \"jew\", \"state\", \"jewish\", \"force\", \"people\", \"russian\", \"child\", \"peace\", \"say\", \"article\", \"year\", \"fact\", \"time\", \"way\", \"university\", \"bike\", \"ride\", \"motorcycle\", \"dod\", \"helmet\", \"mail\", \"dog\", \"car\", \"buy\", \"rider\", \"run\", \"apartment\", \"hit\", \"sumgait\", \"wave\", \"room\", \"cop\", \"fast\", \"info\", \"seat\", \"insurance\", \"fine\", \"sale\", \"cost\", \"crowd\", \"size\", \"honda\", \"lock\", \"bmw\", \"door\", \"pull\", \"office\", \"go\", \"mile\", \"look\", \"see\", \"get\", \"guy\", \"turn\", \"home\", \"article\", \"say\", \"head\", \"old\", \"take\", \"tell\", \"start\", \"time\", \"thing\", \"hear\", \"come\", \"leave\", \"work\", \"day\", \"new\", \"happen\", \"need\", \"people\", \"way\", \"find\", \"university\", \"live\", \"team\", \"game\", \"hockey\", \"player\", \"win\", \"nhl\", \"season\", \"playoff\", \"score\", \"fan\", \"league\", \"det\", \"ice\", \"wing\", \"tor\", \"detroit\", \"bos\", \"toronto\", \"coach\", \"gm\", \"pit\", \"stl\", \"pen\", \"chi\", \"pittsburgh\", \"que\", \"buf\", \"espn\", \"montreal\", \"leafs\", \"play\", \"goal\", \"canada\", \"year\", \"final\", \"university\", \"point\", \"time\", \"article\"], \"Total\": [1584.0, 1064.0, 892.0, 987.0, 923.0, 615.0, 771.0, 582.0, 710.0, 498.0, 698.0, 483.0, 417.0, 797.0, 477.0, 509.0, 312.0, 434.0, 279.0, 301.0, 385.0, 385.0, 375.0, 544.0, 389.0, 457.0, 366.0, 359.0, 1017.0, 373.0, 1584.2020263671875, 771.5772705078125, 434.0351257324219, 389.2023620605469, 373.0020446777344, 368.4214782714844, 251.01260375976562, 221.08657836914062, 217.24964904785156, 204.5798797607422, 202.5362548828125, 192.32151794433594, 185.8750457763672, 151.6192169189453, 148.19786071777344, 144.6522979736328, 134.5147705078125, 132.27301025390625, 128.3081817626953, 130.7860107421875, 121.70423889160156, 112.60547637939453, 117.48975372314453, 130.20343017578125, 111.14574432373047, 100.095703125, 111.24829864501953, 102.96066284179688, 90.0113754272461, 89.59192657470703, 99.17953491210938, 95.29948425292969, 797.7186889648438, 325.7684326171875, 362.1056823730469, 375.4635314941406, 320.3257751464844, 410.9717712402344, 554.1036376953125, 290.9739990234375, 398.31500244140625, 708.8314208984375, 363.5356750488281, 470.0639343261719, 349.5516357421875, 480.1050109863281, 1880.5694580078125, 434.04583740234375, 246.2598876953125, 485.3816223144531, 798.3424682617188, 546.6845703125, 677.4407958984375, 1555.710205078125, 964.04345703125, 484.0362243652344, 1355.96142578125, 1582.7559814453125, 675.2720947265625, 987.4202880859375, 923.9238891601562, 698.8840942382812, 477.7458190917969, 385.3399353027344, 385.3680419921875, 353.537353515625, 366.60833740234375, 375.9273681640625, 297.805908203125, 305.5032043457031, 252.8595733642578, 216.862548828125, 209.89700317382812, 209.30079650878906, 192.60545349121094, 161.50787353515625, 156.87754821777344, 168.55270385742188, 155.61196899414062, 140.23995971679688, 137.86480712890625, 139.4613494873047, 136.65426635742188, 130.9599151611328, 128.7906036376953, 127.98759460449219, 127.07438659667969, 125.05078887939453, 130.1568603515625, 132.79261779785156, 509.7161865234375, 457.95025634765625, 293.9595947265625, 544.9293212890625, 724.179931640625, 370.9208068847656, 263.19781494140625, 1880.5694580078125, 159.49148559570312, 304.4228210449219, 246.8563232421875, 1555.710205078125, 1582.7559814453125, 1017.5223388671875, 547.198974609375, 1355.96142578125, 964.04345703125, 1018.45556640625, 710.4644775390625, 359.9093933105469, 259.9239196777344, 253.15121459960938, 202.72198486328125, 216.6053924560547, 181.21484375, 184.241943359375, 195.24537658691406, 146.9732208251953, 155.50271606445312, 130.1502685546875, 126.7388687133789, 103.3080062866211, 105.32840728759766, 103.50990295410156, 93.98394012451172, 99.81853485107422, 109.13677215576172, 94.83370971679688, 88.09906005859375, 96.19449615478516, 86.28675842285156, 89.48448944091797, 87.47418212890625, 85.18134307861328, 73.7396240234375, 76.32129669189453, 72.22137451171875, 73.58233642578125, 136.09315490722656, 130.68875122070312, 1165.5777587890625, 134.60472106933594, 626.2132568359375, 527.6134033203125, 663.1809692382812, 243.75946044921875, 312.91351318359375, 301.7099304199219, 1582.7559814453125, 1555.710205078125, 301.579833984375, 321.5406799316406, 603.676513671875, 784.1417846679688, 480.42327880859375, 1355.96142578125, 798.3424682617188, 429.3512268066406, 617.3599853515625, 490.6109313964844, 673.3648681640625, 570.9408569335938, 550.8880615234375, 452.9130859375, 547.116943359375, 1880.5694580078125, 964.04345703125, 677.4407958984375, 1018.45556640625, 635.1318359375, 1064.8717041015625, 892.6517944335938, 615.930419921875, 498.0852966308594, 483.51226806640625, 417.8165588378906, 312.3060607910156, 279.6681823730469, 232.87115478515625, 187.98297119140625, 179.62738037109375, 171.14910888671875, 168.28363037109375, 176.22840881347656, 156.3487548828125, 151.7715606689453, 146.79232788085938, 147.02490234375, 156.80433654785156, 144.1912078857422, 145.3539276123047, 141.10328674316406, 167.24789428710938, 137.55752563476562, 138.8986053466797, 126.28339385986328, 123.16746520996094, 119.36906433105469, 118.54769897460938, 117.63965606689453, 582.9462280273438, 301.3679504394531, 181.96466064453125, 1017.5223388671875, 215.83358764648438, 1018.45556640625, 675.2720947265625, 1355.96142578125, 1582.7559814453125], \"loglift\": [30.0, 29.0, 28.0, 27.0, 26.0, 25.0, 24.0, 23.0, 22.0, 21.0, 20.0, 19.0, 18.0, 17.0, 16.0, 15.0, 14.0, 13.0, 12.0, 11.0, 10.0, 9.0, 8.0, 7.0, 6.0, 5.0, 4.0, 3.0, 2.0, 1.0, 1.228600025177002, 1.2280000448226929, 1.2273000478744507, 1.2271000146865845, 1.2271000146865845, 1.2269999980926514, 1.226099967956543, 1.225600004196167, 1.225600004196167, 1.2253999710083008, 1.2253999710083008, 1.2252000570297241, 1.2249000072479248, 1.2240999937057495, 1.2239999771118164, 1.2237999439239502, 1.2235000133514404, 1.2233999967575073, 1.2231999635696411, 1.2228000164031982, 1.2226999998092651, 1.222499966621399, 1.2223999500274658, 1.2223999500274658, 1.2216999530792236, 1.22160005569458, 1.2213000059127808, 1.220900058746338, 1.2208000421524048, 1.2207000255584717, 1.2207000255584717, 1.2206000089645386, 1.1390000581741333, 1.1394000053405762, 1.13100004196167, 1.1038999557495117, 1.1160000562667847, 1.0706000328063965, 1.006700038909912, 1.0846999883651733, 1.0242999792099, 0.9179999828338623, 0.9779000282287598, 0.8871999979019165, 0.9373999834060669, 0.8406000137329102, 0.41589999198913574, 0.8125, 1.0307999849319458, 0.7573999762535095, 0.5378000140190125, 0.685699999332428, 0.5400999784469604, 0.021299999207258224, 0.225600004196167, 0.6870999932289124, -0.024000000208616257, -0.3370000123977661, 0.33489999175071716, 1.2904000282287598, 1.2903000116348267, 1.2899999618530273, 1.2896000146865845, 1.289199948310852, 1.289199948310852, 1.2890000343322754, 1.2890000343322754, 1.2890000343322754, 1.288599967956543, 1.288599967956543, 1.2882000207901, 1.2877000570297241, 1.287600040435791, 1.2874000072479248, 1.2872999906539917, 1.2865999937057495, 1.2864999771118164, 1.2864999771118164, 1.2863999605178833, 1.2858999967575073, 1.2858999967575073, 1.2857999801635742, 1.2857999801635742, 1.2855000495910645, 1.2855000495910645, 1.2854000329971313, 1.2853000164031982, 1.2853000164031982, 1.2853000164031982, 1.2853000164031982, 1.2598999738693237, 1.2144999504089355, 1.2201999425888062, 1.135599970817566, 0.8352000117301941, 1.0010000467300415, 1.0601999759674072, 0.30309998989105225, 1.2151999473571777, 0.8708999752998352, 0.9833999872207642, -0.07639999687671661, -0.1476999968290329, 0.016300000250339508, 0.3995000123977661, -0.27880001068115234, -0.03359999880194664, -0.19429999589920044, 1.3050999641418457, 1.3041000366210938, 1.3033000230789185, 1.3033000230789185, 1.3026000261306763, 1.3021999597549438, 1.3020999431610107, 1.3020999431610107, 1.301900029182434, 1.301200032234192, 1.3011000156402588, 1.3005000352859497, 1.3000999689102173, 1.2990000247955322, 1.2990000247955322, 1.2985999584197998, 1.2984000444412231, 1.29830002784729, 1.29830002784729, 1.2979999780654907, 1.297700047492981, 1.297700047492981, 1.2975000143051147, 1.2970000505447388, 1.2970000505447388, 1.2969000339508057, 1.2963000535964966, 1.2963000535964966, 1.2961000204086304, 1.2958999872207642, 1.2604000568389893, 1.232300043106079, 0.9304999709129333, 1.2069000005722046, 0.9546999931335449, 0.9441999793052673, 0.8907999992370605, 1.0703999996185303, 1.011199951171875, 0.9933000206947327, 0.5078999996185303, 0.4991999864578247, 0.9623000025749207, 0.9330999851226807, 0.7275999784469604, 0.60589998960495, 0.755299985408783, 0.3068999946117401, 0.5144000053405762, 0.7519000172615051, 0.5843999981880188, 0.6829000115394592, 0.508899986743927, 0.5580000281333923, 0.5782999992370605, 0.6865000128746033, 0.5238999724388123, -0.3862999975681305, 0.016100000590085983, 0.25929999351501465, -0.11729999631643295, 0.2637999951839447, 1.8219000101089478, 1.8217999935150146, 1.8214000463485718, 1.8210999965667725, 1.8208999633789062, 1.8208999633789062, 1.820199966430664, 1.8200000524520874, 1.8193000555038452, 1.818600058555603, 1.8183000087738037, 1.8181999921798706, 1.8178999423980713, 1.8178000450134277, 1.8178000450134277, 1.8176000118255615, 1.8174999952316284, 1.8173999786376953, 1.8173999786376953, 1.8172999620437622, 1.8172999620437622, 1.8172999620437622, 1.817199945449829, 1.8171000480651855, 1.8171000480651855, 1.81659996509552, 1.816499948501587, 1.8163000345230103, 1.8162000179290771, 1.8162000179290771, 1.7502000331878662, 1.7696000337600708, 1.660099983215332, 0.9570000171661377, 1.586899995803833, 0.6442999839782715, 0.6814000010490417, -0.156700000166893, -0.44290000200271606], \"logprob\": [30.0, 29.0, 28.0, 27.0, 26.0, 25.0, 24.0, 23.0, 22.0, 21.0, 20.0, 19.0, 18.0, 17.0, 16.0, 15.0, 14.0, 13.0, 12.0, 11.0, 10.0, 9.0, 8.0, 7.0, 6.0, 5.0, 4.0, 3.0, 2.0, 1.0, -3.8378000259399414, -4.557700157165527, -5.133800029754639, -5.243000030517578, -5.285600185394287, -5.297900199890137, -5.682600021362305, -5.809999942779541, -5.827600002288818, -5.887899875640869, -5.897900104522705, -5.94980001449585, -5.984300136566162, -6.188700199127197, -6.211599826812744, -6.236000061035156, -6.309100151062012, -6.325900077819824, -6.356599807739258, -6.337800025939941, -6.409999847412109, -6.4878997802734375, -6.445499897003174, -6.342800140380859, -6.5015997886657715, -6.606500148773193, -6.501200199127197, -6.578999996185303, -6.713500022888184, -6.718299865722656, -6.616600036621094, -6.656599998474121, -4.613500118255615, -5.508600234985352, -5.411300182342529, -5.402200222015381, -5.548900127410889, -5.345099925994873, -5.110199928283691, -5.676300048828125, -5.422699928283691, -4.952600002288818, -5.560500144958496, -5.394100189208984, -5.640100002288818, -5.419600009918213, -4.478899955749512, -5.548600196838379, -5.896999835968018, -5.4918999671936035, -5.213900089263916, -5.4446001052856445, -5.375800132751465, -5.063199996948242, -5.337500095367432, -5.565000057220459, -5.245999813079834, -5.404300212860107, -5.584199905395508, -4.248799800872803, -4.315299987792969, -4.594699859619141, -4.975599765777588, -5.190899848937988, -5.190800189971924, -5.277200222015381, -5.240900039672852, -5.21589994430542, -5.449100017547607, -5.423600196838379, -5.613100051879883, -5.767199993133545, -5.800000190734863, -5.802999973297119, -5.886300086975098, -6.0630998611450195, -6.092299938201904, -6.020500183105469, -6.100399971008301, -6.204999923706055, -6.222099781036377, -6.210599899291992, -6.230899810791016, -6.273799896240234, -6.290500164031982, -6.296899795532227, -6.304100036621094, -6.320199966430664, -6.280200004577637, -6.260200023651123, -4.940499782562256, -5.092899799346924, -5.5304999351501465, -4.998000144958496, -5.013999938964844, -5.517199993133545, -5.80109977722168, -4.591800212860107, -6.146999835968018, -5.844900131225586, -5.941999912261963, -5.160900115966797, -5.214900016784668, -5.492800235748291, -5.729899883270264, -5.500800132751465, -5.596700191497803, -5.702499866485596, -4.563199996948242, -5.24429988861084, -5.570499897003174, -5.5970001220703125, -5.819799900054932, -5.753900051116943, -5.932400226593018, -5.915900230407715, -5.858099937438965, -6.1427998542785645, -6.08650016784668, -6.264999866485596, -6.291999816894531, -6.497499942779541, -6.478099822998047, -6.4959001541137695, -6.592700004577637, -6.532599925994873, -6.443299770355225, -6.584099769592285, -6.658100128173828, -6.570199966430664, -6.679100036621094, -6.643099784851074, -6.665900230407715, -6.692500114440918, -6.837299823760986, -6.802999973297119, -6.858399868011475, -6.839900016784668, -6.26039981842041, -6.329100131988525, -4.442800045013428, -6.324999809265137, -5.039899826049805, -5.221700191497803, -5.04640007019043, -5.867700099945068, -5.67710018157959, -5.731500148773193, -4.5594000816345215, -4.585299968719482, -5.762899875640869, -5.728000164031982, -5.303599834442139, -5.163700103759766, -5.504199981689453, -4.91510009765625, -5.237299919128418, -5.619999885559082, -5.4243998527526855, -5.555699825286865, -5.413000106811523, -5.5289998054504395, -5.544400215148926, -5.6321001052856445, -5.6057000160217285, -5.281199932098389, -5.546999931335449, -5.656599998474121, -5.625500202178955, -5.716599941253662, -3.641700029373169, -3.81820011138916, -4.189599990844727, -4.402400016784668, -4.432199954986572, -4.5782999992370605, -4.869999885559082, -4.9807000160217285, -5.164400100708008, -5.379300117492676, -5.425000190734863, -5.473499774932861, -5.490600109100342, -5.444699764251709, -5.5644001960754395, -5.594200134277344, -5.627699851989746, -5.626200199127197, -5.561800003051758, -5.645699977874756, -5.637800216674805, -5.667399883270264, -5.497499942779541, -5.692999839782715, -5.6834001541137695, -5.779099941253662, -5.804200172424316, -5.835700035095215, -5.842700004577637, -5.850399971008301, -4.315899848937988, -4.956200122833252, -5.570300102233887, -4.55210018157959, -5.472899913787842, -4.863900184631348, -5.23769998550415, -5.378600120544434, -5.510200023651123]}, \"token.table\": {\"Topic\": [1, 2, 3, 2, 1, 2, 2, 1, 1, 2, 3, 4, 1, 2, 1, 1, 2, 1, 3, 3, 1, 2, 3, 4, 4, 3, 2, 3, 4, 3, 1, 4, 1, 2, 3, 1, 1, 1, 1, 2, 1, 2, 1, 4, 1, 2, 3, 4, 3, 3, 2, 3, 3, 1, 2, 3, 4, 2, 4, 4, 1, 3, 3, 3, 1, 4, 1, 2, 1, 2, 1, 2, 3, 1, 4, 3, 1, 2, 4, 1, 2, 3, 3, 1, 2, 3, 4, 4, 2, 1, 2, 3, 4, 4, 1, 2, 3, 4, 2, 4, 1, 2, 2, 1, 2, 3, 4, 1, 2, 3, 1, 2, 3, 4, 1, 2, 3, 1, 3, 3, 3, 4, 2, 3, 4, 3, 4, 3, 3, 2, 2, 2, 1, 1, 2, 1, 2, 2, 4, 1, 2, 1, 2, 4, 4, 1, 2, 3, 4, 2, 2, 1, 2, 3, 1, 2, 3, 3, 1, 2, 3, 4, 1, 1, 3, 3, 1, 2, 3, 1, 1, 1, 2, 1, 2, 3, 4, 2, 3, 4, 3, 2, 2, 1, 1, 2, 3, 4, 1, 2, 3, 4, 4, 2, 2, 3, 1, 2, 3, 4, 1, 2, 2, 1, 1, 2, 4, 1, 2, 3, 1, 4, 4, 1, 2, 4, 4, 4, 1, 2, 3, 4, 2, 2, 2, 1, 1, 3, 4, 4, 1, 2, 3, 1, 2, 3, 4, 1, 2, 3, 4, 1, 2, 1, 1, 3, 3, 3, 3, 2, 4, 3, 1, 2, 3, 4, 1, 4, 3, 1, 2, 3, 4, 1, 3, 2, 1, 1, 2, 3, 4, 1, 2, 3, 4, 4, 3, 1, 2, 3, 4, 4, 1, 2, 3, 1, 2, 3, 1, 2, 3, 4, 4, 4, 2, 1, 2, 3, 4, 1, 2, 2, 2, 2, 1, 2, 3, 1, 2, 3, 4, 2, 2, 3, 1, 2, 3, 4, 4, 4, 1, 2, 4, 1, 2, 3, 1, 2, 3, 4], \"Freq\": [0.7466707825660706, 0.2517510652542114, 0.9911620020866394, 0.9984388947486877, 0.9952923059463501, 0.9960225820541382, 0.9990000128746033, 0.993393063545227, 0.20912888646125793, 0.23692849278450012, 0.4498482346534729, 0.10361672937870026, 0.9979360103607178, 0.9975331425666809, 0.9950852990150452, 0.9138559699058533, 0.08524308353662491, 0.9988560080528259, 0.9993462562561035, 0.9969347715377808, 0.7784655690193176, 0.1815502643585205, 0.041261423379182816, 0.994602382183075, 0.9905213117599487, 0.9936214685440063, 0.021982289850711823, 0.12639817595481873, 0.8518137335777283, 0.9932591915130615, 0.995915949344635, 0.9959469437599182, 0.2595074772834778, 0.6569809913635254, 0.08540752530097961, 0.9969106912612915, 0.9992518424987793, 0.9973523020744324, 0.9976150989532471, 0.9944061636924744, 0.7105416655540466, 0.2893223464488983, 0.9890534281730652, 0.9948704242706299, 0.3174808919429779, 0.10690683126449585, 0.485940158367157, 0.08908902853727341, 0.9895307421684265, 0.9945857524871826, 0.9321008920669556, 0.06803656369447708, 0.9945791959762573, 0.39233484864234924, 0.1085926815867424, 0.47290360927581787, 0.026272423565387726, 0.9940311312675476, 0.9932858943939209, 0.9949163198471069, 0.9946230053901672, 0.9954524636268616, 0.9932960867881775, 0.9920859336853027, 0.9896914958953857, 0.9969081878662109, 0.9058129191398621, 0.09113361686468124, 0.8660567402839661, 0.13403259217739105, 0.4605271816253662, 0.409357488155365, 0.12975171208381653, 0.9973135590553284, 0.9947709441184998, 0.9917997717857361, 0.12046317756175995, 0.08803078532218933, 0.7876438498497009, 0.5018888711929321, 0.1461382359266281, 0.351322203874588, 0.9875825047492981, 0.053191930055618286, 0.7940795421600342, 0.07978789508342743, 0.07218904793262482, 0.9992698431015015, 0.9915971159934998, 0.06936266273260117, 0.08293361961841583, 0.660453200340271, 0.1884855031967163, 0.9917386770248413, 0.13898687064647675, 0.09523174166679382, 0.6872128248214722, 0.0789308100938797, 0.049773044884204865, 0.9490060210227966, 0.9992412328720093, 0.9990449547767639, 0.9968565106391907, 0.072060227394104, 0.9258647561073303, 0.7917641401290894, 0.20922264456748962, 0.20975327491760254, 0.2517039179801941, 0.5387347340583801, 0.10279201716184616, 0.13263486325740814, 0.7095965147018433, 0.05636981502175331, 0.349364310503006, 0.07686015218496323, 0.5752865672111511, 0.8815769553184509, 0.1171884760260582, 0.9964385628700256, 0.9941701292991638, 0.9984893798828125, 0.16903653740882874, 0.7324916124343872, 0.09943325072526932, 0.989969789981842, 0.9923722147941589, 0.9895839691162109, 0.9875247478485107, 0.9968554377555847, 0.9995743632316589, 0.9987350106239319, 0.9971655011177063, 0.1431378275156021, 0.8551567792892456, 0.2507273852825165, 0.7494861483573914, 0.9691668152809143, 0.029428141191601753, 0.9958315491676331, 0.9985628724098206, 0.8159371018409729, 0.18327203392982483, 0.994562566280365, 0.9965073466300964, 0.09987547248601913, 0.32612401247024536, 0.5360663533210754, 0.036688949912786484, 0.9937271475791931, 0.9952122569084167, 0.6790181398391724, 0.20412200689315796, 0.11664114892482758, 0.3290655314922333, 0.3180442154407501, 0.3526826798915863, 0.9957901835441589, 0.18364350497722626, 0.039922501891851425, 0.704232931137085, 0.07186050713062286, 0.9942478537559509, 0.8928410410881042, 0.10614193975925446, 0.9972050786018372, 0.6242510676383972, 0.1977825164794922, 0.17718017101287842, 0.9961731433868408, 0.9939901232719421, 0.9975981116294861, 0.9982889294624329, 0.5816882848739624, 0.08414358645677567, 0.31828224658966064, 0.01646287553012371, 0.08914992213249207, 0.9063575267791748, 0.9953799247741699, 0.9964454174041748, 0.9967209100723267, 0.9966919422149658, 0.9942135214805603, 0.38200241327285767, 0.09321590512990952, 0.4569407105445862, 0.06945499032735825, 0.2468741089105606, 0.1016540452837944, 0.48285672068595886, 0.16881832480430603, 0.9980456233024597, 0.9926701784133911, 0.06886591017246246, 0.9258639216423035, 0.12751108407974243, 0.15239129960536957, 0.687315821647644, 0.031100263819098473, 0.9881070852279663, 0.9938613176345825, 0.9966005682945251, 0.9863641858100891, 0.2633110582828522, 0.7332200407981873, 0.9925386309623718, 0.4434826970100403, 0.37222766876220703, 0.1839868277311325, 0.9907572865486145, 0.9975650906562805, 0.9935305118560791, 0.022300513461232185, 0.048031874001026154, 0.9297598600387573, 0.997821033000946, 0.9976108074188232, 0.4087241291999817, 0.1747443675994873, 0.09773837774991989, 0.31987106800079346, 0.9911118149757385, 0.9922836422920227, 0.9960673451423645, 0.9906696081161499, 0.995490550994873, 0.9552280306816101, 0.044087447226047516, 0.9977558851242065, 0.7321910262107849, 0.08746790885925293, 0.17916813492774963, 0.582601010799408, 0.17147476971149445, 0.22312380373477936, 0.02272557094693184, 0.8012941479682922, 0.0920405462384224, 0.0631650760769844, 0.043313197791576385, 0.8202716112136841, 0.17867302894592285, 0.9887639284133911, 0.9919171333312988, 0.9974732995033264, 0.993378221988678, 0.9950738549232483, 0.9967671632766724, 0.9279492497444153, 0.06896919757127762, 0.9966766834259033, 0.298898845911026, 0.2545461356639862, 0.4460985064506531, 0.9962590932846069, 0.9983282089233398, 0.999019980430603, 0.9912087321281433, 0.16299813985824585, 0.0777084156870842, 0.6955850720405579, 0.06254579871892929, 0.9959658980369568, 0.9861314296722412, 0.9983528852462769, 0.9887791872024536, 0.07077092677354813, 0.22063876688480377, 0.5765749216079712, 0.13113436102867126, 0.12704025208950043, 0.6338203549385071, 0.19884561002254486, 0.04004529491066933, 0.9921810030937195, 0.997018575668335, 0.1822167932987213, 0.18552982807159424, 0.5599024891853333, 0.0712302029132843, 0.9991813898086548, 0.33412325382232666, 0.1683368980884552, 0.4960837662220001, 0.501038134098053, 0.04509342834353447, 0.45343947410583496, 0.28540635108947754, 0.2079705148935318, 0.36800456047058105, 0.13790953159332275, 0.9977693557739258, 0.9930290579795837, 0.9915452003479004, 0.6589165925979614, 0.16588109731674194, 0.10597959160804749, 0.06911712139844894, 0.9147602319717407, 0.08288095891475677, 0.9991178512573242, 0.9972938299179077, 0.9984800815582275, 0.18855050206184387, 0.06711119413375854, 0.7446147203445435, 0.22485026717185974, 0.22681401669979095, 0.24056032299995422, 0.30732807517051697, 0.995726466178894, 0.9983406066894531, 0.9968820810317993, 0.36616605520248413, 0.2655481994152069, 0.27488386631011963, 0.09231948852539062, 0.9989405274391174, 0.9930294752120972, 0.8540732860565186, 0.09976354241371155, 0.04623188450932503, 0.2658291459083557, 0.28365007042884827, 0.44997891783714294, 0.08550180494785309, 0.2791093587875366, 0.21424591541290283, 0.4206295907497406], \"Term\": [\"answer\", \"answer\", \"apartment\", \"arab\", \"argument\", \"armenia\", \"armenian\", \"arrogance\", \"article\", \"article\", \"article\", \"article\", \"atheist\", \"attack\", \"belief\", \"believe\", \"believe\", \"bible\", \"bike\", \"bmw\", \"book\", \"book\", \"book\", \"bos\", \"buf\", \"buy\", \"canada\", \"canada\", \"canada\", \"car\", \"catholic\", \"chi\", \"child\", \"child\", \"child\", \"christ\", \"christian\", \"christianity\", \"church\", \"civilian\", \"claim\", \"claim\", \"clh\", \"coach\", \"come\", \"come\", \"come\", \"come\", \"cop\", \"cost\", \"country\", \"country\", \"crowd\", \"day\", \"day\", \"day\", \"day\", \"destroy\", \"det\", \"detroit\", \"doctrine\", \"dod\", \"dog\", \"door\", \"earth\", \"espn\", \"evidence\", \"evidence\", \"exist\", \"exist\", \"fact\", \"fact\", \"fact\", \"faith\", \"fan\", \"fast\", \"final\", \"final\", \"final\", \"find\", \"find\", \"find\", \"fine\", \"force\", \"force\", \"force\", \"force\", \"game\", \"genocide\", \"get\", \"get\", \"get\", \"get\", \"gm\", \"go\", \"go\", \"go\", \"go\", \"goal\", \"goal\", \"god\", \"government\", \"greece\", \"greek\", \"greek\", \"guy\", \"guy\", \"happen\", \"happen\", \"happen\", \"head\", \"head\", \"head\", \"head\", \"hear\", \"hear\", \"hear\", \"hell\", \"hell\", \"helmet\", \"hit\", \"hockey\", \"home\", \"home\", \"home\", \"honda\", \"ice\", \"info\", \"insurance\", \"iran\", \"israel\", \"israeli\", \"jesus\", \"jew\", \"jew\", \"jewish\", \"jewish\", \"kill\", \"kill\", \"knowledge\", \"land\", \"law\", \"law\", \"leafs\", \"league\", \"leave\", \"leave\", \"leave\", \"leave\", \"lebanese\", \"lebanon\", \"life\", \"life\", \"life\", \"live\", \"live\", \"live\", \"lock\", \"look\", \"look\", \"look\", \"look\", \"lord\", \"love\", \"love\", \"mail\", \"man\", \"man\", \"man\", \"marriage\", \"marry\", \"mary\", \"massacre\", \"mean\", \"mean\", \"mean\", \"mean\", \"mile\", \"mile\", \"montreal\", \"motorcycle\", \"murder\", \"muslim\", \"nature\", \"need\", \"need\", \"need\", \"need\", \"new\", \"new\", \"new\", \"new\", \"nhl\", \"occupy\", \"office\", \"office\", \"old\", \"old\", \"old\", \"old\", \"original\", \"palestine\", \"palestinian\", \"particular\", \"peace\", \"peace\", \"pen\", \"people\", \"people\", \"people\", \"physical\", \"pit\", \"pittsburgh\", \"play\", \"play\", \"play\", \"player\", \"playoff\", \"point\", \"point\", \"point\", \"point\", \"policy\", \"political\", \"population\", \"pray\", \"prayer\", \"pull\", \"pull\", \"que\", \"question\", \"question\", \"question\", \"read\", \"read\", \"read\", \"read\", \"reason\", \"reason\", \"reason\", \"reason\", \"religion\", \"religion\", \"resurrection\", \"revelation\", \"ride\", \"rider\", \"room\", \"run\", \"russian\", \"russian\", \"sale\", \"say\", \"say\", \"say\", \"score\", \"scripture\", \"season\", \"seat\", \"see\", \"see\", \"see\", \"see\", \"sin\", \"size\", \"soldier\", \"specific\", \"start\", \"start\", \"start\", \"start\", \"state\", \"state\", \"state\", \"state\", \"stl\", \"sumgait\", \"take\", \"take\", \"take\", \"take\", \"team\", \"tell\", \"tell\", \"tell\", \"thing\", \"thing\", \"thing\", \"time\", \"time\", \"time\", \"time\", \"tor\", \"toronto\", \"troop\", \"true\", \"true\", \"true\", \"true\", \"truth\", \"truth\", \"turk\", \"turkey\", \"turkish\", \"turn\", \"turn\", \"turn\", \"university\", \"university\", \"university\", \"university\", \"village\", \"war\", \"wave\", \"way\", \"way\", \"way\", \"way\", \"win\", \"wing\", \"word\", \"word\", \"word\", \"work\", \"work\", \"work\", \"year\", \"year\", \"year\", \"year\"]}, \"R\": 30, \"lambda.step\": 0.01, \"plot.opts\": {\"xlab\": \"PC1\", \"ylab\": \"PC2\"}, \"topic.order\": [3, 2, 1, 4]};\n",
              "\n",
              "function LDAvis_load_lib(url, callback){\n",
              "  var s = document.createElement('script');\n",
              "  s.src = url;\n",
              "  s.async = true;\n",
              "  s.onreadystatechange = s.onload = callback;\n",
              "  s.onerror = function(){console.warn(\"failed to load library \" + url);};\n",
              "  document.getElementsByTagName(\"head\")[0].appendChild(s);\n",
              "}\n",
              "\n",
              "if(typeof(LDAvis) !== \"undefined\"){\n",
              "   // already loaded: just create the visualization\n",
              "   !function(LDAvis){\n",
              "       new LDAvis(\"#\" + \"ldavis_el2421401306385882087142538109\", ldavis_el2421401306385882087142538109_data);\n",
              "   }(LDAvis);\n",
              "}else if(typeof define === \"function\" && define.amd){\n",
              "   // require.js is available: use it to load d3/LDAvis\n",
              "   require.config({paths: {d3: \"https://cdnjs.cloudflare.com/ajax/libs/d3/3.5.5/d3.min\"}});\n",
              "   require([\"d3\"], function(d3){\n",
              "      window.d3 = d3;\n",
              "      LDAvis_load_lib(\"https://cdn.rawgit.com/bmabey/pyLDAvis/files/ldavis.v1.0.0.js\", function(){\n",
              "        new LDAvis(\"#\" + \"ldavis_el2421401306385882087142538109\", ldavis_el2421401306385882087142538109_data);\n",
              "      });\n",
              "    });\n",
              "}else{\n",
              "    // require.js not available: dynamically load d3 & LDAvis\n",
              "    LDAvis_load_lib(\"https://cdnjs.cloudflare.com/ajax/libs/d3/3.5.5/d3.min.js\", function(){\n",
              "         LDAvis_load_lib(\"https://cdn.rawgit.com/bmabey/pyLDAvis/files/ldavis.v1.0.0.js\", function(){\n",
              "                 new LDAvis(\"#\" + \"ldavis_el2421401306385882087142538109\", ldavis_el2421401306385882087142538109_data);\n",
              "            })\n",
              "         });\n",
              "}\n",
              "</script>"
            ],
            "text/plain": [
              "PreparedData(topic_coordinates=              x         y  topics  cluster       Freq\n",
              "topic                                                \n",
              "2     -0.202539 -0.132149       1        1  29.256693\n",
              "1     -0.165952  0.163625       2        1  27.497324\n",
              "0      0.095684 -0.197407       3        1  27.086866\n",
              "3      0.272807  0.165931       4        1  16.159111, topic_info=     Category         Freq        Term        Total  loglift  logprob\n",
              "118   Default  1584.000000         god  1584.000000  30.0000  30.0000\n",
              "1079  Default  1064.000000        team  1064.000000  29.0000  29.0000\n",
              "605   Default   892.000000        game   892.000000  28.0000  28.0000\n",
              "211   Default   987.000000      israel   987.000000  27.0000  27.0000\n",
              "489   Default   923.000000    armenian   923.000000  26.0000  26.0000\n",
              "...       ...          ...         ...          ...      ...      ...\n",
              "409    Topic4   170.490448       final   215.833588   1.5869  -5.4729\n",
              "83     Topic4   313.447815  university  1018.455566   0.6443  -4.8639\n",
              "144    Topic4   215.697891       point   675.272095   0.6814  -5.2377\n",
              "79     Topic4   187.338409        time  1355.961426  -0.1567  -5.3786\n",
              "37     Topic4   164.242523     article  1582.755981  -0.4429  -5.5102\n",
              "\n",
              "[239 rows x 6 columns], token_table=      Topic      Freq       Term\n",
              "term                            \n",
              "440       1  0.746671     answer\n",
              "440       2  0.251751     answer\n",
              "1459      3  0.991162  apartment\n",
              "176       2  0.998439       arab\n",
              "441       1  0.995292   argument\n",
              "...     ...       ...        ...\n",
              "331       3  0.449979       work\n",
              "302       1  0.085502       year\n",
              "302       2  0.279109       year\n",
              "302       3  0.214246       year\n",
              "302       4  0.420630       year\n",
              "\n",
              "[330 rows x 3 columns], R=30, lambda_step=0.01, plot_opts={'xlab': 'PC1', 'ylab': 'PC2'}, topic_order=[3, 2, 1, 4])"
            ]
          },
          "metadata": {
            "tags": []
          },
          "execution_count": 106
        }
      ]
    },
    {
      "cell_type": "markdown",
      "metadata": {
        "colab_type": "text",
        "id": "QVtLbplLnb0o"
      },
      "source": [
        "# The LDA model as a classifier\n",
        "\n",
        "## Using simply the dominant topic as predicted class\n",
        "\n",
        "First we extend our original dataframe with our \"predictions\" (the dominant topic) and the ground truth."
      ]
    },
    {
      "cell_type": "code",
      "metadata": {
        "ExecuteTime": {
          "end_time": "2019-11-26T08:09:45.710534Z",
          "start_time": "2019-11-26T08:09:45.670677Z"
        },
        "colab_type": "code",
        "id": "xkx-4leGnb0q",
        "outputId": "40b4b356-d904-43d2-b9a6-6e019ac791ee",
        "colab": {
          "base_uri": "https://localhost:8080/",
          "height": 343
        }
      },
      "source": [
        "df[\"group_id\"] = df.target_names.map(topic_to_label_mapping)\n",
        "df[\"group_id_predicted\"] = texts_topics_df.topic_no\n",
        "df.head()"
      ],
      "execution_count": 112,
      "outputs": [
        {
          "output_type": "execute_result",
          "data": {
            "text/html": [
              "<div>\n",
              "<style scoped>\n",
              "    .dataframe tbody tr th:only-of-type {\n",
              "        vertical-align: middle;\n",
              "    }\n",
              "\n",
              "    .dataframe tbody tr th {\n",
              "        vertical-align: top;\n",
              "    }\n",
              "\n",
              "    .dataframe thead th {\n",
              "        text-align: right;\n",
              "    }\n",
              "</style>\n",
              "<table border=\"1\" class=\"dataframe\">\n",
              "  <thead>\n",
              "    <tr style=\"text-align: right;\">\n",
              "      <th></th>\n",
              "      <th>index</th>\n",
              "      <th>content</th>\n",
              "      <th>target_names</th>\n",
              "      <th>group_id</th>\n",
              "      <th>group_id_predicted</th>\n",
              "      <th>topic_0_prob</th>\n",
              "      <th>topic_1_prob</th>\n",
              "      <th>topic_2_prob</th>\n",
              "      <th>topic_3_prob</th>\n",
              "    </tr>\n",
              "  </thead>\n",
              "  <tbody>\n",
              "    <tr>\n",
              "      <th>0</th>\n",
              "      <td>10</td>\n",
              "      <td>From: irwin@cmptrc.lonestar.org (Irwin Arnstei...</td>\n",
              "      <td>rec.motorcycles</td>\n",
              "      <td>0</td>\n",
              "      <td>0</td>\n",
              "      <td>0.084571</td>\n",
              "      <td>0.878798</td>\n",
              "      <td>0.033594</td>\n",
              "      <td>0.003037</td>\n",
              "    </tr>\n",
              "    <tr>\n",
              "      <th>1</th>\n",
              "      <td>21</td>\n",
              "      <td>From: leunggm@odin.control.utoronto.ca (Gary L...</td>\n",
              "      <td>rec.sport.hockey</td>\n",
              "      <td>3</td>\n",
              "      <td>3</td>\n",
              "      <td>0.074533</td>\n",
              "      <td>0.920634</td>\n",
              "      <td>0.002839</td>\n",
              "      <td>0.001994</td>\n",
              "    </tr>\n",
              "    <tr>\n",
              "      <th>2</th>\n",
              "      <td>28</td>\n",
              "      <td>From: jonh@david.wheaton.edu (Jonathan Hayward...</td>\n",
              "      <td>soc.religion.christian</td>\n",
              "      <td>2</td>\n",
              "      <td>2</td>\n",
              "      <td>0.706788</td>\n",
              "      <td>0.045380</td>\n",
              "      <td>0.246802</td>\n",
              "      <td>0.001030</td>\n",
              "    </tr>\n",
              "    <tr>\n",
              "      <th>3</th>\n",
              "      <td>33</td>\n",
              "      <td>From: ayr1@cunixa.cc.columbia.edu (Amir Y Rose...</td>\n",
              "      <td>talk.politics.mideast</td>\n",
              "      <td>1</td>\n",
              "      <td>1</td>\n",
              "      <td>0.105314</td>\n",
              "      <td>0.002221</td>\n",
              "      <td>0.068464</td>\n",
              "      <td>0.824002</td>\n",
              "    </tr>\n",
              "    <tr>\n",
              "      <th>4</th>\n",
              "      <td>35</td>\n",
              "      <td>From: dchhabra@stpl.ists.ca (Deepak Chhabra)\\n...</td>\n",
              "      <td>rec.sport.hockey</td>\n",
              "      <td>3</td>\n",
              "      <td>0</td>\n",
              "      <td>0.009225</td>\n",
              "      <td>0.895380</td>\n",
              "      <td>0.093075</td>\n",
              "      <td>0.002320</td>\n",
              "    </tr>\n",
              "  </tbody>\n",
              "</table>\n",
              "</div>"
            ],
            "text/plain": [
              "   index  ... topic_3_prob\n",
              "0     10  ...     0.003037\n",
              "1     21  ...     0.001994\n",
              "2     28  ...     0.001030\n",
              "3     33  ...     0.824002\n",
              "4     35  ...     0.002320\n",
              "\n",
              "[5 rows x 9 columns]"
            ]
          },
          "metadata": {
            "tags": []
          },
          "execution_count": 112
        }
      ]
    },
    {
      "cell_type": "markdown",
      "metadata": {
        "colab_type": "text",
        "id": "t7LLwn2xbLxm"
      },
      "source": [
        "Let's see how well we are doing..."
      ]
    },
    {
      "cell_type": "code",
      "metadata": {
        "ExecuteTime": {
          "end_time": "2019-11-26T08:09:48.510804Z",
          "start_time": "2019-11-26T08:09:48.486262Z"
        },
        "colab_type": "code",
        "id": "JtoZf5tzbR9v",
        "outputId": "36cdc012-a0ea-4318-b5c6-b5ee4b1c6d8f",
        "colab": {
          "base_uri": "https://localhost:8080/",
          "height": 204
        }
      },
      "source": [
        "from sklearn.metrics import classification_report, confusion_matrix\n",
        "print(classification_report(df.group_id, df.group_id_predicted))"
      ],
      "execution_count": 113,
      "outputs": [
        {
          "output_type": "stream",
          "text": [
            "              precision    recall  f1-score   support\n",
            "\n",
            "           0       0.80      1.00      0.89       598\n",
            "           1       0.98      0.86      0.91       564\n",
            "           2       0.94      0.92      0.93       599\n",
            "           3       1.00      0.90      0.94       600\n",
            "\n",
            "    accuracy                           0.92      2361\n",
            "   macro avg       0.93      0.92      0.92      2361\n",
            "weighted avg       0.93      0.92      0.92      2361\n",
            "\n"
          ],
          "name": "stdout"
        }
      ]
    },
    {
      "cell_type": "markdown",
      "metadata": {
        "colab_type": "text",
        "id": "dpliNUvS5z9L"
      },
      "source": [
        "## Using topic probabilities for training a linear classifier\n",
        "\n",
        "The topic probability distributions for documents provided by an LDA model can be useful feature vectors for document classification, e.g., for sentiment analysis. To illustrate this, we train an SVM classifier to predict the original topic of documents based on the LDA topic probabilities. First we add the whole topic distribution to our df."
      ]
    },
    {
      "cell_type": "code",
      "metadata": {
        "ExecuteTime": {
          "end_time": "2019-11-26T08:09:57.719127Z",
          "start_time": "2019-11-26T08:09:57.696695Z"
        },
        "colab_type": "code",
        "id": "QaxFK_fiTZca",
        "outputId": "97307d98-1862-4194-eba6-b457e8872b0f",
        "colab": {
          "base_uri": "https://localhost:8080/",
          "height": 343
        }
      },
      "source": [
        "df = pd.concat([df, df_topic_probs], axis = 1)\n",
        "df.head()"
      ],
      "execution_count": 114,
      "outputs": [
        {
          "output_type": "execute_result",
          "data": {
            "text/html": [
              "<div>\n",
              "<style scoped>\n",
              "    .dataframe tbody tr th:only-of-type {\n",
              "        vertical-align: middle;\n",
              "    }\n",
              "\n",
              "    .dataframe tbody tr th {\n",
              "        vertical-align: top;\n",
              "    }\n",
              "\n",
              "    .dataframe thead th {\n",
              "        text-align: right;\n",
              "    }\n",
              "</style>\n",
              "<table border=\"1\" class=\"dataframe\">\n",
              "  <thead>\n",
              "    <tr style=\"text-align: right;\">\n",
              "      <th></th>\n",
              "      <th>index</th>\n",
              "      <th>content</th>\n",
              "      <th>target_names</th>\n",
              "      <th>group_id</th>\n",
              "      <th>group_id_predicted</th>\n",
              "      <th>topic_0_prob</th>\n",
              "      <th>topic_1_prob</th>\n",
              "      <th>topic_2_prob</th>\n",
              "      <th>topic_3_prob</th>\n",
              "      <th>topic_0_prob</th>\n",
              "      <th>topic_1_prob</th>\n",
              "      <th>topic_2_prob</th>\n",
              "      <th>topic_3_prob</th>\n",
              "    </tr>\n",
              "  </thead>\n",
              "  <tbody>\n",
              "    <tr>\n",
              "      <th>0</th>\n",
              "      <td>10</td>\n",
              "      <td>From: irwin@cmptrc.lonestar.org (Irwin Arnstei...</td>\n",
              "      <td>rec.motorcycles</td>\n",
              "      <td>0</td>\n",
              "      <td>0</td>\n",
              "      <td>0.084571</td>\n",
              "      <td>0.878798</td>\n",
              "      <td>0.033594</td>\n",
              "      <td>0.003037</td>\n",
              "      <td>0.964779</td>\n",
              "      <td>0.025729</td>\n",
              "      <td>0.006600</td>\n",
              "      <td>0.002892</td>\n",
              "    </tr>\n",
              "    <tr>\n",
              "      <th>1</th>\n",
              "      <td>21</td>\n",
              "      <td>From: leunggm@odin.control.utoronto.ca (Gary L...</td>\n",
              "      <td>rec.sport.hockey</td>\n",
              "      <td>3</td>\n",
              "      <td>3</td>\n",
              "      <td>0.074533</td>\n",
              "      <td>0.920634</td>\n",
              "      <td>0.002839</td>\n",
              "      <td>0.001994</td>\n",
              "      <td>0.137317</td>\n",
              "      <td>0.002513</td>\n",
              "      <td>0.062279</td>\n",
              "      <td>0.797891</td>\n",
              "    </tr>\n",
              "    <tr>\n",
              "      <th>2</th>\n",
              "      <td>28</td>\n",
              "      <td>From: jonh@david.wheaton.edu (Jonathan Hayward...</td>\n",
              "      <td>soc.religion.christian</td>\n",
              "      <td>2</td>\n",
              "      <td>2</td>\n",
              "      <td>0.706788</td>\n",
              "      <td>0.045380</td>\n",
              "      <td>0.246802</td>\n",
              "      <td>0.001030</td>\n",
              "      <td>0.261668</td>\n",
              "      <td>0.037647</td>\n",
              "      <td>0.699715</td>\n",
              "      <td>0.000970</td>\n",
              "    </tr>\n",
              "    <tr>\n",
              "      <th>3</th>\n",
              "      <td>33</td>\n",
              "      <td>From: ayr1@cunixa.cc.columbia.edu (Amir Y Rose...</td>\n",
              "      <td>talk.politics.mideast</td>\n",
              "      <td>1</td>\n",
              "      <td>1</td>\n",
              "      <td>0.105314</td>\n",
              "      <td>0.002221</td>\n",
              "      <td>0.068464</td>\n",
              "      <td>0.824002</td>\n",
              "      <td>0.050685</td>\n",
              "      <td>0.905290</td>\n",
              "      <td>0.043258</td>\n",
              "      <td>0.000767</td>\n",
              "    </tr>\n",
              "    <tr>\n",
              "      <th>4</th>\n",
              "      <td>35</td>\n",
              "      <td>From: dchhabra@stpl.ists.ca (Deepak Chhabra)\\n...</td>\n",
              "      <td>rec.sport.hockey</td>\n",
              "      <td>3</td>\n",
              "      <td>0</td>\n",
              "      <td>0.009225</td>\n",
              "      <td>0.895380</td>\n",
              "      <td>0.093075</td>\n",
              "      <td>0.002320</td>\n",
              "      <td>0.532266</td>\n",
              "      <td>0.003031</td>\n",
              "      <td>0.005219</td>\n",
              "      <td>0.459483</td>\n",
              "    </tr>\n",
              "  </tbody>\n",
              "</table>\n",
              "</div>"
            ],
            "text/plain": [
              "   index  ... topic_3_prob\n",
              "0     10  ...     0.002892\n",
              "1     21  ...     0.797891\n",
              "2     28  ...     0.000970\n",
              "3     33  ...     0.000767\n",
              "4     35  ...     0.459483\n",
              "\n",
              "[5 rows x 13 columns]"
            ]
          },
          "metadata": {
            "tags": []
          },
          "execution_count": 114
        }
      ]
    },
    {
      "cell_type": "markdown",
      "metadata": {
        "colab_type": "text",
        "id": "5eFCK6mgiKhR"
      },
      "source": [
        "We do a train-test split:\n"
      ]
    },
    {
      "cell_type": "code",
      "metadata": {
        "ExecuteTime": {
          "end_time": "2019-11-26T08:09:57.726819Z",
          "start_time": "2019-11-26T08:09:57.721114Z"
        },
        "colab_type": "code",
        "id": "kE0vdwX7ivj2",
        "outputId": "81bb0bc7-ea89-4f92-d81a-9197aea45b79",
        "colab": {
          "base_uri": "https://localhost:8080/",
          "height": 51
        }
      },
      "source": [
        "from sklearn.model_selection import train_test_split\n",
        "df_train, df_valid = train_test_split(df, test_size=0.1)\n",
        "print(\"df_train len:\", len(df_train))\n",
        "print(\"df_valid len:\", len(df_valid))"
      ],
      "execution_count": 115,
      "outputs": [
        {
          "output_type": "stream",
          "text": [
            "df_train len: 2124\n",
            "df_valid len: 237\n"
          ],
          "name": "stdout"
        }
      ]
    },
    {
      "cell_type": "markdown",
      "metadata": {
        "colab_type": "text",
        "id": "zEd5WNREgK7p"
      },
      "source": [
        "And train an SVM classifier on the data"
      ]
    },
    {
      "cell_type": "code",
      "metadata": {
        "ExecuteTime": {
          "end_time": "2019-11-26T08:09:57.764038Z",
          "start_time": "2019-11-26T08:09:57.728363Z"
        },
        "colab_type": "code",
        "id": "AUGW8GcGhaAY",
        "outputId": "400ee626-c33e-49c3-ee2f-be0e2565cead",
        "colab": {
          "base_uri": "https://localhost:8080/",
          "height": 85
        }
      },
      "source": [
        "from sklearn.svm import SVC\n",
        "\n",
        "svc = SVC(kernel=\"linear\")\n",
        "\n",
        "svc.fit(df_train[[\"topic_0_prob\", \"topic_1_prob\", \"topic_2_prob\", \"topic_3_prob\"]], df_train.group_id)"
      ],
      "execution_count": 116,
      "outputs": [
        {
          "output_type": "execute_result",
          "data": {
            "text/plain": [
              "SVC(C=1.0, cache_size=200, class_weight=None, coef0=0.0,\n",
              "    decision_function_shape='ovr', degree=3, gamma='auto_deprecated',\n",
              "    kernel='linear', max_iter=-1, probability=False, random_state=None,\n",
              "    shrinking=True, tol=0.001, verbose=False)"
            ]
          },
          "metadata": {
            "tags": []
          },
          "execution_count": 116
        }
      ]
    },
    {
      "cell_type": "code",
      "metadata": {
        "ExecuteTime": {
          "end_time": "2019-11-26T08:09:57.778497Z",
          "start_time": "2019-11-26T08:09:57.766519Z"
        },
        "colab_type": "code",
        "id": "ZXyfTPqSi7f-",
        "outputId": "949c6f36-f3ed-4f98-cf89-91208d4b4408",
        "colab": {
          "base_uri": "https://localhost:8080/",
          "height": 204
        }
      },
      "source": [
        "valid_predictions = svc.predict(df_valid[[\"topic_0_prob\", \"topic_1_prob\", \"topic_2_prob\", \"topic_3_prob\"]])\n",
        "\n",
        "print(classification_report(df_valid.group_id, valid_predictions))"
      ],
      "execution_count": 117,
      "outputs": [
        {
          "output_type": "stream",
          "text": [
            "              precision    recall  f1-score   support\n",
            "\n",
            "           0       0.89      0.96      0.92        57\n",
            "           1       0.98      0.86      0.92        51\n",
            "           2       0.94      0.97      0.95        60\n",
            "           3       0.99      0.97      0.98        69\n",
            "\n",
            "    accuracy                           0.95       237\n",
            "   macro avg       0.95      0.94      0.94       237\n",
            "weighted avg       0.95      0.95      0.95       237\n",
            "\n"
          ],
          "name": "stdout"
        }
      ]
    },
    {
      "cell_type": "markdown",
      "metadata": {
        "colab_type": "text",
        "id": "wiAwR2xAwxtK"
      },
      "source": [
        "Looking at the results we can see that we gained 6% accuracy by switching from using simply the dominant topic to an SVM classifier trained explicitly on the original topic/newsgroup labels."
      ]
    }
  ]
}