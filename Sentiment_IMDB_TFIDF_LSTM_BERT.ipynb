{
  "nbformat": 4,
  "nbformat_minor": 0,
  "metadata": {
    "accelerator": "GPU",
    "colab": {
      "name": "Sentiment_IMDB_TFIDF_LSTM_BERT.ipynb",
      "provenance": [],
      "collapsed_sections": [],
      "machine_shape": "hm",
      "include_colab_link": true
    },
    "kernelspec": {
      "display_name": "Python 3",
      "language": "python",
      "name": "python3"
    },
    "language_info": {
      "codemirror_mode": {
        "name": "ipython",
        "version": 3
      },
      "file_extension": ".py",
      "mimetype": "text/x-python",
      "name": "python",
      "nbconvert_exporter": "python",
      "pygments_lexer": "ipython3",
      "version": "3.6.8"
    },
    "varInspector": {
      "cols": {
        "lenName": 16,
        "lenType": 16,
        "lenVar": 40
      },
      "kernels_config": {
        "python": {
          "delete_cmd_postfix": "",
          "delete_cmd_prefix": "del ",
          "library": "var_list.py",
          "varRefreshCmd": "print(var_dic_list())"
        },
        "r": {
          "delete_cmd_postfix": ") ",
          "delete_cmd_prefix": "rm(",
          "library": "var_list.r",
          "varRefreshCmd": "cat(var_dic_list()) "
        }
      },
      "types_to_exclude": [
        "module",
        "function",
        "builtin_function_or_method",
        "instance",
        "_Feature"
      ],
      "window_display": false
    }
  },
  "cells": [
    {
      "cell_type": "markdown",
      "metadata": {
        "id": "view-in-github",
        "colab_type": "text"
      },
      "source": [
        "<a href=\"https://colab.research.google.com/github/ELehmann91/FS1/blob/master/Sentiment_IMDB_TFIDF_LSTM_BERT.ipynb\" target=\"_parent\"><img src=\"https://colab.research.google.com/assets/colab-badge.svg\" alt=\"Open In Colab\"/></a>"
      ]
    },
    {
      "cell_type": "markdown",
      "metadata": {
        "id": "jvYHATwNwz4Z",
        "colab_type": "text"
      },
      "source": [
        "# Sentiment classification - close to the state of the art\n",
        "\n",
        "The task of classifying sentiments of texts (for example movie or product reviews) has high practical significance in online marketing as well as financial prediction. This is a non-trivial task, since the concept of sentiment is not easily captured.\n",
        "\n",
        "For this assignment you have to use the larger [IMDB sentiment](https://ai.stanford.edu/~amaas/data/sentiment/aclImdb_v1.tar.gz) benchmark dataset from Stanford, an achieve close to state of the art results.\n",
        "\n",
        "The task is to try out multiple models in ascending complexity, namely:\n",
        "\n",
        "1. TFIDF + classical statistical model (eg. RandomForest)\n",
        "2. LSTM classification model\n",
        "3. LSTM model, where the embeddings are initialized with pre-trained GloVe vectors\n",
        "4. fastText model\n",
        "5. BERT based model (you are advised to use a pre-trained one and finetune, since the resource consumption is considerable!)\n",
        "\n",
        "You should get over 90% validation accuracy (though nearly 94 is achievable).\n",
        "\n",
        "You are allowed to use any library or tool, though the Keras environment, and some wrappers on top (ie. Ktrain) make your life easier.\n",
        "\n",
        "\n",
        "\n"
      ]
    },
    {
      "cell_type": "markdown",
      "metadata": {
        "id": "4nRUoIbGwz4e",
        "colab_type": "text"
      },
      "source": [
        "__Groups__\n",
        "This assignment is to be completed individually, two weeks after the class has finished. For the precise deadline please see canvas.\n",
        "\n",
        "__Format of submission__\n",
        "You need to submit a pdf of your Google Collab notebooks.\n",
        "\n",
        "__Due date__\n",
        "Two weeks after the class has finished. For the precise deadline please see canvas.\n",
        "\n",
        "Grade distribution:\n",
        "1. TFIDF + classical statistical model (eg. RandomForest) (25% of the final grade)\n",
        "2. LSTM classification model (15% of the final grade)\n",
        "3. LSTM model, where the embeddings are initialized with pre-trained GloVe vectors (15% of the final grade)\n",
        "4. fastText model (15% of the final grade)\n",
        "5. BERT based model (you are advised to use a pre-trained one and finetune it, since the resource consumption is considerable!) (30% of the final grade). For BERT you should get over 90% validation accuracy (though nearly 94% is achievable).\n",
        "\n",
        "\n",
        "__For each of the models, the marks will be awarded according to the following three criteria__:\n",
        "\n",
        "(1) The (appropriately measured) accuracy of your prediction for the task. The more accurate the prediction is, the better. Note that you need to validate the predictive accuracy of your model on a hold-out of unseen data that the model has not been trained with.\n",
        "\n",
        "(2) How well you motivate the use of the model - what in this model's structure makes it suited for representing sentiment? After using the model for the task how well you evaluate the accuracy you got for each model and discuss the main advantages and disadvantages the model has in the particular modelling task. At best you take part of the modelling to support your arguments.\n",
        "\n",
        "(3) The consistency of your take-aways, i.e. what you have learned from your analyses. Also, analyze when the model is good and when and where it does not predict well.\n",
        "\n",
        "Please make sure that you comment with # on the separates steps of the code you have produced. For the verbal description and analyses plesae insert markdown cells.\n",
        "\n",
        "\n",
        "__Plagiarism__: The Frankfurt School does not accept any plagiarism. Data science is a collaborative exercise and you can discuss the research question with your classmates from other groups, if you like. You must not copy any code or text though. Plagiarism will be prosecuted and will result in a mark of 0 and you failing this class.\n",
        "\n",
        "After carefully reading this document and having had a look at the data you may still have questions. Please submit those question to the public Q&A board in canvas and we will answer each question, so "
      ]
    },
    {
      "cell_type": "markdown",
      "metadata": {
        "id": "T7T650wf40xG",
        "colab_type": "text"
      },
      "source": [
        "# Imports"
      ]
    },
    {
      "cell_type": "markdown",
      "metadata": {
        "id": "EYNGkf8swe8P",
        "colab_type": "text"
      },
      "source": [
        "## Attention Layer"
      ]
    },
    {
      "cell_type": "code",
      "metadata": {
        "id": "qrCxjQjH8c4s",
        "colab_type": "code",
        "colab": {}
      },
      "source": [
        "#!/usr/bin/env python3\n",
        "# -*- coding: utf-8 -*-\n",
        "\"\"\"\n",
        "Created on Thu Jul 15 19:20:18 2018\n",
        "\n",
        "@author: himanshu\n",
        "\"\"\"\n",
        "\n",
        "import os\n",
        "import re\n",
        "import csv\n",
        "import codecs\n",
        "import numpy as np\n",
        "import pandas as pd\n",
        "\n",
        "from nltk.corpus import stopwords\n",
        "from nltk.stem import SnowballStemmer\n",
        "from string import punctuation\n",
        "\n",
        "from gensim.models import KeyedVectors\n",
        "from keras.preprocessing.text import Tokenizer\n",
        "from keras.preprocessing.sequence import pad_sequences\n",
        "from keras.layers import Dense, Input, LSTM, Embedding, Dropout, Activation\n",
        "from keras.layers.merge import concatenate\n",
        "from keras.models import Model\n",
        "from keras.layers.normalization import BatchNormalization\n",
        "from keras.callbacks import EarlyStopping, ModelCheckpoint\n",
        "from keras.optimizers import Adam\n",
        "import sys\n",
        "\n",
        "from keras import backend as K\n",
        "from keras.engine.topology import Layer\n",
        "#from keras import initializations\n",
        "from keras import initializers, regularizers, constraints\n",
        "from sklearn.metrics import roc_auc_score\n",
        "\n",
        "class Attention(Layer):\n",
        "     # Input shape 3D tensor with shape: `(samples, steps, features)`.\n",
        "     # Output shape 2D tensor with shape: `(samples, features)`.\n",
        "\n",
        "    def __init__(self, step_dim,W_regulizer = None,b_regulizer = None,\n",
        "                 W_constraint = None, b_constraint = None,bias = True,**kwargs):\n",
        "        \n",
        "        self.W_regulizer = W_regulizer\n",
        "        self.b_regulizer = b_regulizer\n",
        "        \n",
        "        self.W_constraint = W_constraint\n",
        "        self.b_constraint = b_constraint\n",
        "        \n",
        "        self.bias = bias\n",
        "        self.step_dim = step_dim\n",
        "        self.features_dim = 0\n",
        "        self.init = initializers.get('glorot_uniform')\n",
        "        super(Attention, self).__init__(**kwargs)\n",
        "\n",
        "    def build(self, input_shape):\n",
        "        assert len(input_shape) == 3\n",
        "        # Create a trainable weight variable for this layer.\n",
        "        self.W = self.add_weight(name='kernel', \n",
        "                                      shape=(input_shape[-1],),\n",
        "                                      initializer= self.init,\n",
        "                                      constraint = self.W_constraint,\n",
        "                                      regularizer = self.W_regulizer)#,\n",
        "                                      #name = '{}_W'.format(self.name))\n",
        "        \n",
        "        self.features_dim = input_shape[-1]\n",
        "        \n",
        "        if self.bias:\n",
        "            self.b = self.add_weight((input_shape[1],),\n",
        "                                     initializer='zero',\n",
        "                                     name='{}_b'.format(self.name),\n",
        "                                     regularizer=self.b_regulizer,\n",
        "                                     constraint=self.b_constraint)\n",
        "        else:\n",
        "            self.b = None\n",
        "        super(Attention, self).build(input_shape)  \n",
        "\n",
        "    \n",
        "    def call(self, x, mask=None):\n",
        "      \n",
        "        features_dim = self.features_dim\n",
        "        step_dim = self.step_dim\n",
        "\n",
        "        eij = K.reshape(K.dot(K.reshape(x, (-1, features_dim)), K.reshape(self.W, (features_dim, 1))), (-1, step_dim))\n",
        "\n",
        "        if self.bias:\n",
        "            eij += self.b\n",
        "\n",
        "        eij = K.tanh(eij)\n",
        "\n",
        "        a = K.exp(eij)\n",
        "\n",
        "        # apply mask after the exp. will be re-normalized next\n",
        "        if mask is not None:\n",
        "           \n",
        "            a *= K.cast(mask, K.floatx())\n",
        "\n",
        "        a /= K.cast(K.sum(a, axis=1, keepdims=True) + K.epsilon(), K.floatx())\n",
        "\n",
        "        a = K.expand_dims(a)\n",
        "        weighted_input = x * a\n",
        "    \n",
        "        return K.sum(weighted_input, axis=1)\n",
        "\n",
        "    def compute_output_shape(self, input_shape):\n",
        "        return input_shape[0],  self.features_dim\n",
        "  \n",
        "import warnings\n",
        "warnings.filterwarnings('ignore')"
      ],
      "execution_count": 0,
      "outputs": []
    },
    {
      "cell_type": "markdown",
      "metadata": {
        "id": "0d2Z7yO94-qO",
        "colab_type": "text"
      },
      "source": [
        "## Download Data"
      ]
    },
    {
      "cell_type": "code",
      "metadata": {
        "colab_type": "code",
        "id": "gEwjTzd8rqjR",
        "outputId": "1f67af1c-b583-46b4-82af-87194f6f718a",
        "colab": {
          "base_uri": "https://localhost:8080/",
          "height": 255
        }
      },
      "source": [
        "!wget https://ai.stanford.edu/~amaas/data/sentiment/aclImdb_v1.tar.gz\n",
        "!tar -xzf aclImdb_v1.tar.gz\n",
        "!ls"
      ],
      "execution_count": 50,
      "outputs": [
        {
          "output_type": "stream",
          "text": [
            "--2019-12-14 14:35:36--  https://ai.stanford.edu/~amaas/data/sentiment/aclImdb_v1.tar.gz\n",
            "Resolving ai.stanford.edu (ai.stanford.edu)... 171.64.68.10\n",
            "Connecting to ai.stanford.edu (ai.stanford.edu)|171.64.68.10|:443... connected.\n",
            "HTTP request sent, awaiting response... 200 OK\n",
            "Length: 84125825 (80M) [application/x-gzip]\n",
            "Saving to: ‘aclImdb_v1.tar.gz.1’\n",
            "\n",
            "aclImdb_v1.tar.gz.1 100%[===================>]  80.23M  21.0MB/s    in 7.1s    \n",
            "\n",
            "2019-12-14 14:35:44 (11.2 MB/s) - ‘aclImdb_v1.tar.gz.1’ saved [84125825/84125825]\n",
            "\n",
            "aclImdb\t\t     glove.6B.100d.txt\tglove.6B.50d.txt\n",
            "aclImdb_v1.tar.gz    glove.6B.200d.txt\tglove.6B.zip\n",
            "aclImdb_v1.tar.gz.1  glove.6B.300d.txt\tsample_data\n"
          ],
          "name": "stdout"
        }
      ]
    },
    {
      "cell_type": "code",
      "metadata": {
        "id": "sbEvOUEuSnR-",
        "colab_type": "code",
        "outputId": "3f32c9ba-fe50-4dfa-feb0-598a59393f0b",
        "colab": {
          "base_uri": "https://localhost:8080/",
          "height": 34
        }
      },
      "source": [
        "!ls aclImdb  "
      ],
      "execution_count": 51,
      "outputs": [
        {
          "output_type": "stream",
          "text": [
            "imdbEr.txt  imdb.vocab\tREADME\ttest  train\n"
          ],
          "name": "stdout"
        }
      ]
    },
    {
      "cell_type": "code",
      "metadata": {
        "id": "drl2OTYRckk_",
        "colab_type": "code",
        "outputId": "f383cfa6-b302-4c06-ef9d-a3407d9e78a0",
        "colab": {
          "base_uri": "https://localhost:8080/",
          "height": 1000
        }
      },
      "source": [
        "!cat aclImdb/README  "
      ],
      "execution_count": 52,
      "outputs": [
        {
          "output_type": "stream",
          "text": [
            "Large Movie Review Dataset v1.0\n",
            "\n",
            "Overview\n",
            "\n",
            "This dataset contains movie reviews along with their associated binary\n",
            "sentiment polarity labels. It is intended to serve as a benchmark for\n",
            "sentiment classification. This document outlines how the dataset was\n",
            "gathered, and how to use the files provided. \n",
            "\n",
            "Dataset \n",
            "\n",
            "The core dataset contains 50,000 reviews split evenly into 25k train\n",
            "and 25k test sets. The overall distribution of labels is balanced (25k\n",
            "pos and 25k neg). We also include an additional 50,000 unlabeled\n",
            "documents for unsupervised learning. \n",
            "\n",
            "In the entire collection, no more than 30 reviews are allowed for any\n",
            "given movie because reviews for the same movie tend to have correlated\n",
            "ratings. Further, the train and test sets contain a disjoint set of\n",
            "movies, so no significant performance is obtained by memorizing\n",
            "movie-unique terms and their associated with observed labels.  In the\n",
            "labeled train/test sets, a negative review has a score <= 4 out of 10,\n",
            "and a positive review has a score >= 7 out of 10. Thus reviews with\n",
            "more neutral ratings are not included in the train/test sets. In the\n",
            "unsupervised set, reviews of any rating are included and there are an\n",
            "even number of reviews > 5 and <= 5.\n",
            "\n",
            "Files\n",
            "\n",
            "There are two top-level directories [train/, test/] corresponding to\n",
            "the training and test sets. Each contains [pos/, neg/] directories for\n",
            "the reviews with binary labels positive and negative. Within these\n",
            "directories, reviews are stored in text files named following the\n",
            "convention [[id]_[rating].txt] where [id] is a unique id and [rating] is\n",
            "the star rating for that review on a 1-10 scale. For example, the file\n",
            "[test/pos/200_8.txt] is the text for a positive-labeled test set\n",
            "example with unique id 200 and star rating 8/10 from IMDb. The\n",
            "[train/unsup/] directory has 0 for all ratings because the ratings are\n",
            "omitted for this portion of the dataset.\n",
            "\n",
            "We also include the IMDb URLs for each review in a separate\n",
            "[urls_[pos, neg, unsup].txt] file. A review with unique id 200 will\n",
            "have its URL on line 200 of this file. Due the ever-changing IMDb, we\n",
            "are unable to link directly to the review, but only to the movie's\n",
            "review page.\n",
            "\n",
            "In addition to the review text files, we include already-tokenized bag\n",
            "of words (BoW) features that were used in our experiments. These \n",
            "are stored in .feat files in the train/test directories. Each .feat\n",
            "file is in LIBSVM format, an ascii sparse-vector format for labeled\n",
            "data.  The feature indices in these files start from 0, and the text\n",
            "tokens corresponding to a feature index is found in [imdb.vocab]. So a\n",
            "line with 0:7 in a .feat file means the first word in [imdb.vocab]\n",
            "(the) appears 7 times in that review.\n",
            "\n",
            "LIBSVM page for details on .feat file format:\n",
            "http://www.csie.ntu.edu.tw/~cjlin/libsvm/\n",
            "\n",
            "We also include [imdbEr.txt] which contains the expected rating for\n",
            "each token in [imdb.vocab] as computed by (Potts, 2011). The expected\n",
            "rating is a good way to get a sense for the average polarity of a word\n",
            "in the dataset.\n",
            "\n",
            "Citing the dataset\n",
            "\n",
            "When using this dataset please cite our ACL 2011 paper which\n",
            "introduces it. This paper also contains classification results which\n",
            "you may want to compare against.\n",
            "\n",
            "\n",
            "@InProceedings{maas-EtAl:2011:ACL-HLT2011,\n",
            "  author    = {Maas, Andrew L.  and  Daly, Raymond E.  and  Pham, Peter T.  and  Huang, Dan  and  Ng, Andrew Y.  and  Potts, Christopher},\n",
            "  title     = {Learning Word Vectors for Sentiment Analysis},\n",
            "  booktitle = {Proceedings of the 49th Annual Meeting of the Association for Computational Linguistics: Human Language Technologies},\n",
            "  month     = {June},\n",
            "  year      = {2011},\n",
            "  address   = {Portland, Oregon, USA},\n",
            "  publisher = {Association for Computational Linguistics},\n",
            "  pages     = {142--150},\n",
            "  url       = {http://www.aclweb.org/anthology/P11-1015}\n",
            "}\n",
            "\n",
            "References\n",
            "\n",
            "Potts, Christopher. 2011. On the negativity of negation. In Nan Li and\n",
            "David Lutz, eds., Proceedings of Semantics and Linguistic Theory 20,\n",
            "636-659.\n",
            "\n",
            "Contact\n",
            "\n",
            "For questions/comments/corrections please contact Andrew Maas\n",
            "amaas@cs.stanford.edu\n"
          ],
          "name": "stdout"
        }
      ]
    },
    {
      "cell_type": "markdown",
      "metadata": {
        "id": "8Hvvh5LCxkW_",
        "colab_type": "text"
      },
      "source": [
        "## Load Data"
      ]
    },
    {
      "cell_type": "code",
      "metadata": {
        "id": "Icrh3ug8bxKg",
        "colab_type": "code",
        "colab": {}
      },
      "source": [
        "import os\n",
        "import numpy as np\n",
        "import random\n",
        "\n",
        "def load_imdb_sentiment_analysis_dataset():\n",
        "    seed=123\n",
        "    imdb_data_path = 'aclImdb'\n",
        "\n",
        "    # Load the training data\n",
        "    train_texts = []\n",
        "    train_labels = []\n",
        "    for category in ['pos', 'neg']:\n",
        "        train_path = os.path.join(imdb_data_path, 'train', category)\n",
        "        for fname in sorted(os.listdir(train_path)):\n",
        "            if fname.endswith('.txt'):\n",
        "                with open(os.path.join(train_path, fname)) as f:\n",
        "                    train_texts.append(f.read())\n",
        "                train_labels.append(0 if category == 'neg' else 1)\n",
        "\n",
        "    # Load the validation data.\n",
        "    test_texts = []\n",
        "    test_labels = []\n",
        "    for category in ['pos', 'neg']:\n",
        "        test_path = os.path.join(imdb_data_path, 'test', category)\n",
        "        for fname in sorted(os.listdir(test_path)):\n",
        "            if fname.endswith('.txt'):\n",
        "                with open(os.path.join(test_path, fname)) as f:\n",
        "                    test_texts.append(f.read())\n",
        "                test_labels.append(0 if category == 'neg' else 1)\n",
        "              \n",
        "    # Shuffle the training data and labels.\n",
        "    random.seed(seed)\n",
        "    random.shuffle(train_texts)\n",
        "    random.seed(seed)\n",
        "    random.shuffle(train_labels)\n",
        "    random.seed(seed)\n",
        "    random.shuffle(test_texts)\n",
        "    random.seed(seed)\n",
        "    random.shuffle(test_labels)\n",
        "    train_texts.extend(test_texts)\n",
        "    train_labels.extend(test_labels)\n",
        "\n",
        "    return train_texts, np.array(train_labels)"
      ],
      "execution_count": 0,
      "outputs": []
    },
    {
      "cell_type": "code",
      "metadata": {
        "id": "ItCjfzi1dU9r",
        "colab_type": "code",
        "colab": {}
      },
      "source": [
        "texts, labels = load_imdb_sentiment_analysis_dataset()"
      ],
      "execution_count": 0,
      "outputs": []
    },
    {
      "cell_type": "code",
      "metadata": {
        "id": "ItQuqgXAbY-X",
        "colab_type": "code",
        "outputId": "83ec8c28-829a-4015-8210-734fa64fa05d",
        "colab": {
          "base_uri": "https://localhost:8080/",
          "height": 34
        }
      },
      "source": [
        "print(len(texts),len(labels))"
      ],
      "execution_count": 55,
      "outputs": [
        {
          "output_type": "stream",
          "text": [
            "50000 50000\n"
          ],
          "name": "stdout"
        }
      ]
    },
    {
      "cell_type": "markdown",
      "metadata": {
        "id": "A-UjT3Dr5OI4",
        "colab_type": "text"
      },
      "source": [
        "# Text Preprocessing"
      ]
    },
    {
      "cell_type": "code",
      "metadata": {
        "id": "Eg7wje_zVfqQ",
        "colab_type": "code",
        "outputId": "e0250064-1923-4f26-c950-88c9f96611ec",
        "colab": {
          "base_uri": "https://localhost:8080/",
          "height": 119
        }
      },
      "source": [
        "import re\n",
        "from sklearn.model_selection import train_test_split\n",
        "\n",
        "import nltk\n",
        "nltk.download('stopwords')\n",
        "nltk.download('wordnet')\n",
        "nltk.download('punkt')\n",
        "from nltk.corpus import stopwords\n",
        "from nltk.stem import WordNetLemmatizer\n",
        "\n",
        "lemmatizer = WordNetLemmatizer()\n",
        "sw = stopwords.words('english')"
      ],
      "execution_count": 56,
      "outputs": [
        {
          "output_type": "stream",
          "text": [
            "[nltk_data] Downloading package stopwords to /root/nltk_data...\n",
            "[nltk_data]   Package stopwords is already up-to-date!\n",
            "[nltk_data] Downloading package wordnet to /root/nltk_data...\n",
            "[nltk_data]   Package wordnet is already up-to-date!\n",
            "[nltk_data] Downloading package punkt to /root/nltk_data...\n",
            "[nltk_data]   Package punkt is already up-to-date!\n"
          ],
          "name": "stdout"
        }
      ]
    },
    {
      "cell_type": "code",
      "metadata": {
        "id": "8Q58TLHEMSfj",
        "colab_type": "code",
        "colab": {}
      },
      "source": [
        "contraction_mapping = {\"ain't\": \"is not\", \"aren't\": \"are not\",\"can't\": \"cannot\", \"'cause\": \"because\", \"could've\": \"could have\", \"couldn't\": \"could not\",\n",
        "                           \"didn't\": \"did not\",  \"doesn't\": \"does not\", \"don't\": \"do not\", \"hadn't\": \"had not\", \"hasn't\": \"has not\", \"haven't\": \"have not\",\n",
        "                           \"he'd\": \"he would\",\"he'll\": \"he will\", \"he's\": \"he is\", \"how'd\": \"how did\", \"how'd'y\": \"how do you\", \"how'll\": \"how will\", \"how's\": \"how is\",\n",
        "                           \"I'd\": \"I would\", \"I'd've\": \"I would have\", \"I'll\": \"I will\", \"I'll've\": \"I will have\",\"I'm\": \"I am\", \"I've\": \"I have\", \"i'd\": \"i would\",\n",
        "                           \"i'd've\": \"i would have\", \"i'll\": \"i will\",  \"i'll've\": \"i will have\",\"i'm\": \"i am\", \"i've\": \"i have\", \"isn't\": \"is not\", \"it'd\": \"it would\",\n",
        "                           \"it'd've\": \"it would have\", \"it'll\": \"it will\", \"it'll've\": \"it will have\",\"it's\": \"it is\", \"let's\": \"let us\", \"ma'am\": \"madam\",\n",
        "                           \"mayn't\": \"may not\", \"might've\": \"might have\",\"mightn't\": \"might not\",\"mightn't've\": \"might not have\", \"must've\": \"must have\",\n",
        "                           \"mustn't\": \"must not\", \"mustn't've\": \"must not have\", \"needn't\": \"need not\", \"needn't've\": \"need not have\",\"o'clock\": \"of the clock\",\n",
        "                           \"oughtn't\": \"ought not\", \"oughtn't've\": \"ought not have\", \"shan't\": \"shall not\", \"sha'n't\": \"shall not\", \"shan't've\": \"shall not have\",\n",
        "                           \"she'd\": \"she would\", \"she'd've\": \"she would have\", \"she'll\": \"she will\", \"she'll've\": \"she will have\", \"she's\": \"she is\",\n",
        "                           \"should've\": \"should have\", \"shouldn't\": \"should not\", \"shouldn't've\": \"should not have\", \"so've\": \"so have\",\"so's\": \"so as\",\n",
        "                           \"this's\": \"this is\",\"that'd\": \"that would\", \"that'd've\": \"that would have\", \"that's\": \"that is\", \"there'd\": \"there would\",\n",
        "                           \"there'd've\": \"there would have\", \"there's\": \"there is\", \"here's\": \"here is\",\"they'd\": \"they would\", \"they'd've\": \"they would have\",\n",
        "                           \"they'll\": \"they will\", \"they'll've\": \"they will have\", \"they're\": \"they are\", \"they've\": \"they have\", \"to've\": \"to have\",\n",
        "                           \"wasn't\": \"was not\", \"we'd\": \"we would\", \"we'd've\": \"we would have\", \"we'll\": \"we will\", \"we'll've\": \"we will have\", \"we're\": \"we are\",\n",
        "                           \"we've\": \"we have\", \"weren't\": \"were not\", \"what'll\": \"what will\", \"what'll've\": \"what will have\", \"what're\": \"what are\",\n",
        "                           \"what's\": \"what is\", \"what've\": \"what have\", \"when's\": \"when is\", \"when've\": \"when have\", \"where'd\": \"where did\", \"where's\": \"where is\",\n",
        "                           \"where've\": \"where have\", \"who'll\": \"who will\", \"who'll've\": \"who will have\", \"who's\": \"who is\", \"who've\": \"who have\",\n",
        "                           \"why's\": \"why is\", \"why've\": \"why have\", \"will've\": \"will have\", \"won't\": \"will not\", \"won't've\": \"will not have\",\n",
        "                           \"would've\": \"would have\", \"wouldn't\": \"would not\", \"wouldn't've\": \"would not have\", \"y'all\": \"you all\",\n",
        "                           \"y'all'd\": \"you all would\",\"y'all'd've\": \"you all would have\",\"y'all're\": \"you all are\",\"y'all've\": \"you all have\",\n",
        "                           \"you'd\": \"you would\", \"you'd've\": \"you would have\", \"you'll\": \"you will\", \"you'll've\": \"you will have\",\n",
        "                           \"you're\": \"you are\", \"you've\": \"you have\"}"
      ],
      "execution_count": 0,
      "outputs": []
    },
    {
      "cell_type": "code",
      "metadata": {
        "id": "F3O0vja1Bq6F",
        "colab_type": "code",
        "colab": {}
      },
      "source": [
        "sw = [w for w in sw if w not  in ['no','not','nor']]"
      ],
      "execution_count": 0,
      "outputs": []
    },
    {
      "cell_type": "code",
      "metadata": {
        "id": "NapLTkzbSW55",
        "colab_type": "code",
        "colab": {}
      },
      "source": [
        "def prepro(train):\n",
        "    train = [' '.join([contraction_mapping[t] if t in contraction_mapping else t for t in sen.split()]) for sen in train] \n",
        "    #train = [' '.join([lemmatizer.lemmatize(word) for word in sen.split()]) for sen in train]\n",
        "    #train = [' '.join([word for word in sen.split() if word not in sw]) for sen in train]\n",
        "    train = [sen.replace('/n',' ') for sen in train]\n",
        "    #train = [sen.replace('-',' ') for sen in train]\n",
        "    train = [sen.replace('<br />',' ') for sen in train]\n",
        "    #train = [sen.replace('.',' <Punkt>') for sen in train]\n",
        "    #train = [sen.replace(',',' <Comma>') for sen in train]\n",
        "    #train = [sen.replace('?',' <questionmark>') for sen in train]\n",
        "    #train = [sen.replace('!',' <exclamationmark>') for sen in train]\n",
        "    train = [sen.lower() for sen in train]\n",
        "    train = [re.sub(\"[^A-Za-z1-9]+\", ' ',sen) for sen in train]\n",
        "    train = [' '.join([word for word in sen.split() if len(word)>1]) for sen in train]\n",
        "    \n",
        "    return train"
      ],
      "execution_count": 0,
      "outputs": []
    },
    {
      "cell_type": "code",
      "metadata": {
        "id": "UdtAgRlaX4At",
        "colab_type": "code",
        "outputId": "83a7301c-0c83-4cc4-e9e6-f59107656509",
        "colab": {
          "base_uri": "https://localhost:8080/",
          "height": 71
        }
      },
      "source": [
        "texts[8:10]"
      ],
      "execution_count": 60,
      "outputs": [
        {
          "output_type": "execute_result",
          "data": {
            "text/plain": [
              "[\"Director Douglas Sirk once said `there's a very short distance between high art and trash, and trash that contains craziness is by this very quality nearer to art'. This statement defines his cinema perfectly, a very unique body of work that includes classic stage adaptations, adventure and war films, westerns and of course, his famous melodramas.<br /><br />Sirk's melodramas were, as the very word signifies, dramas with music. The music sets the tone for his masterful style, and every stroke of his brush (Sirk was also a painter) leaves a powerful image on the screen-turned-canvas. But this ain't life but its representation, an imitation of life. Sirk never tried to show reality, on the contrary. None of the directors of his generation made a better use of all the technical devices provided by Hollywood (most notably Technicolor) to distinguish the artificial from the real thing. Let's remember that his golden period coincides with the time when Hollywood films turned its attention into the social drama (Blackboard jungle, Rebel without a cause). Sirk always knew that cinema was meant to be something else.<br /><br />Another of Sirk's statements summarizes this: `You can't reach, or touch, the real. You just see reflections. If you try to grasp happiness itself your fingers only meet glass'. I defy anybody that has seen Written on the wind to count the amount of mirrors and images reflected that appear on screen. One ends up giving up.<br /><br />Therefore, we are in a hall full of mirrors where there's no difference between real and its false copy. Nobody can say that the Hadley are real people. That town ain't real either, with those hideous oil pumps all over the place. So in this realm the acting is affected, the decore is fake, the trick is visible. Everything is pushed a little bit off the limit (the sexual connotations of Dorothy Malone with the oil tower, for example). Sirk was criticizing and theorizing at the same time.<br /><br />`The angles are the director's thoughts; the lighting is his philosophy'. In Written on the wind we follow the fall of a traditional way of life both in a geometrical way and in terms of light and shadows. The Hadleys house, with its different levels connected by the spiral staircase operates in a strictly metaphorical way. A house that resembles a mausoleum, that no party can cheer up. As tragedy progresses from luminous daylight to shadowy night, Sirk's photography becomes an extension of the inner state of his characters, and so are the colours of the clothes they wear. Drama is thus incorporated to every element at the service of the director's craft.<br /><br />Sirk considered himself a `story bender', because he bended the standard material he was assigned with to his style and purpose. Written on the wind is a good example. It wouldn't work in any other hands.<br /><br />The other director that was using similar strategies was Frank Tashlin, who was for 50's comedy the same that Sirk was for melodrama. Their films are full of the machinery of american life -advertising, TV sets, jukeboxes, washing machines, sport cars, vacuum cleaners- to depict its emptiness and decay. I'm inclined to think that their films were regarded in a different way by their contemporary audiences. The game was played by both sides, so it was camp. Now we regard them as `cult' or `bizarre', because we are not those spectators anymore. That is why Todd Haynes's homage `Far from heaven' turns into a pastiche, because it reproduces Sirk's work nowadays as if nothing happened in between. Then Sirk turns exactly into that painting hanging in the art gallery that Julianne Moore and the gardener discuss in the aforementioned film.<br /><br />Sirk understood the elements of melodrama perfectly. There were always immovable characters (Rock Hudson and Lauren Bacall here) against which he could assemble a series of split ones. His balance through antithesis is remarkable and not surprisingly we root for the split characters, because these are the ones Sirk is interested in too. When Robert Stack flies the plane and `tempts' Lauren Bacall with all sorts of mundane comforts of the world below them (obvious Faustian echoes) we are strangely fascinated with him too, as we are when the devilish nymphomaniac little sister painfully evokes her past with Mitch alone by the river.<br /><br />In the Sirk's universe the studio often-imposed `happy ends' have no negative impact. In fact they worked just great. Sirk was fond of greek tragedy and considered happy endings the Deux ex machinea of his day. Thus the final courtroom scene fits well and one must also remember that the whole film is told in flashback, so we know from the very beginning that tragedy will fall nevertheless over the Hadley feud.<br /><br />It was pointed out the many similarities between Written on the Wind with the Godfather saga. I absolutely agree and I'm sure the parallel is not incidental. Both share the theme of the old powerful father head trying to keep his empire going while protecting his family. The temperamental son portrayed by Robert Stack has an amazing physical resemblance with Jimmy Caan's Sonny Corleone. The action of fighting her sister's male friend is symmetrical. The non-son in which the old man put his trust is also common in both films, as the fact that both families carry the names of their town. Even details as the gate that gives access to the property, and the surroundings of the house covered by leaves, suggest that Coppola had Written on the Wind in mind while setting his masterwork. Because both films deal with the subject of Power: the acquisition of power, its manipulation and legacy (even Kyle Hadley's sterility, the event that hastens the turmoil, is an issue easily tied to the central theme of Power, in this case, a weakness in sexual power). The other great film that deals with power and uses american life as its representation is Citizen Kane. One wouldn't think at first of similarities between Welles and Sirk's films but there are a good many, starting with the petrol business as the origin of the family's fortune and ending in the fact that Mitch Wayne (Rock Hudson), as Charles Foster Kane, was adopted by a tutor, having his own father alive. Amazingly, the same actor (Harry Shannon) perform both Wayne and Kane's fathers. This detail is cannot be a coincidence.<br /><br />Written on the Wind is a masterpiece in every aspect, in execution and vision, in style and technique, a highlight in the career of this wonderful director. Some say that this is his best film. In my opinion, `Magnificent obsession', `All that heaven allows', `There's always tomorrow' and `Imitation of life' are just as good. And for those who put Sirk in the level of Dallas or Dinasty I wish them no happy end.\",\n",
              " \"For those who think of Dame May Witty as the kindly, slightly batty, old lady from Hitchcock's The Lady Vanishes, this movie requires an adjustment. Here, she's anything but kindly or batty. Instead, her son, George Macready is the loony one. Just don't give him a knife, otherwise his eyes light up and no furniture cushion in the house is safe. Now we know what he has in mind for the trapped Nina Foch if he can just get out from under Mother's domineering hand.<br /><br />Really tight little woman-in-danger film that keeps the suspense on high throughout. The script never strays from Foch's dilemma. She's held prisoner in a big old Gothic house on the edge of an angry sea. They're going to kill her, but why. Her predicament makes no sense. The tension mounts as she tries one escape ploy after another, but even strangers seem against her. We begin to feel her helplessness and mounting paranoia as the world turns away from her.<br /><br />Director Joseph H. Lewis took a big step toward cult status with this film and understandably so. Then too, watch Foch run subtly through a gamut of emotions without once going over the top. Witty too shines as a really intimidating matriarch who knows what she wants and how to get it if she can just keep her wacko son in line. My one reservation is the climax which seems too contrived considering the timing of the events. Nonetheless, it's a good, nerve-wracking way to spend a little over an hour, courtesy Columbia studios.\"]"
            ]
          },
          "metadata": {
            "tags": []
          },
          "execution_count": 60
        }
      ]
    },
    {
      "cell_type": "code",
      "metadata": {
        "id": "2566gpw5pkpc",
        "colab_type": "code",
        "colab": {}
      },
      "source": [
        "texts_prepro = prepro(texts)\n",
        "#X_train, X_test, y_train, y_test = train_test_split(texts_prepro, labels, test_size=0.2, random_state = 166)"
      ],
      "execution_count": 0,
      "outputs": []
    },
    {
      "cell_type": "code",
      "metadata": {
        "id": "agmAJ9oQ2btX",
        "colab_type": "code",
        "colab": {
          "base_uri": "https://localhost:8080/",
          "height": 71
        },
        "outputId": "79947f31-9786-4e05-8e70-f203eae824c0"
      },
      "source": [
        "texts_prepro[8:10]"
      ],
      "execution_count": 62,
      "outputs": [
        {
          "output_type": "execute_result",
          "data": {
            "text/plain": [
              "['director douglas sirk once said there very short distance between high art and trash and trash that contains craziness is by this very quality nearer to art this statement defines his cinema perfectly very unique body of work that includes classic stage adaptations adventure and war films westerns and of course his famous melodramas sirk melodramas were as the very word signifies dramas with music the music sets the tone for his masterful style and every stroke of his brush sirk was also painter leaves powerful image on the screen turned canvas but this is not life but its representation an imitation of life sirk never tried to show reality on the contrary none of the directors of his generation made better use of all the technical devices provided by hollywood most notably technicolor to distinguish the artificial from the real thing let remember that his golden period coincides with the time when hollywood films turned its attention into the social drama blackboard jungle rebel without cause sirk always knew that cinema was meant to be something else another of sirk statements summarizes this you cannot reach or touch the real you just see reflections if you try to grasp happiness itself your fingers only meet glass defy anybody that has seen written on the wind to count the amount of mirrors and images reflected that appear on screen one ends up giving up therefore we are in hall full of mirrors where there is no difference between real and its false copy nobody can say that the hadley are real people that town is not real either with those hideous oil pumps all over the place so in this realm the acting is affected the decore is fake the trick is visible everything is pushed little bit off the limit the sexual connotations of dorothy malone with the oil tower for example sirk was criticizing and theorizing at the same time the angles are the director thoughts the lighting is his philosophy in written on the wind we follow the fall of traditional way of life both in geometrical way and in terms of light and shadows the hadleys house with its different levels connected by the spiral staircase operates in strictly metaphorical way house that resembles mausoleum that no party can cheer up as tragedy progresses from luminous daylight to shadowy night sirk photography becomes an extension of the inner state of his characters and so are the colours of the clothes they wear drama is thus incorporated to every element at the service of the director craft sirk considered himself story bender because he bended the standard material he was assigned with to his style and purpose written on the wind is good example it would not work in any other hands the other director that was using similar strategies was frank tashlin who was for comedy the same that sirk was for melodrama their films are full of the machinery of american life advertising tv sets jukeboxes washing machines sport cars vacuum cleaners to depict its emptiness and decay am inclined to think that their films were regarded in different way by their contemporary audiences the game was played by both sides so it was camp now we regard them as cult or bizarre because we are not those spectators anymore that is why todd haynes homage far from heaven turns into pastiche because it reproduces sirk work nowadays as if nothing happened in between then sirk turns exactly into that painting hanging in the art gallery that julianne moore and the gardener discuss in the aforementioned film sirk understood the elements of melodrama perfectly there were always immovable characters rock hudson and lauren bacall here against which he could assemble series of split ones his balance through antithesis is remarkable and not surprisingly we root for the split characters because these are the ones sirk is interested in too when robert stack flies the plane and tempts lauren bacall with all sorts of mundane comforts of the world below them obvious faustian echoes we are strangely fascinated with him too as we are when the devilish nymphomaniac little sister painfully evokes her past with mitch alone by the river in the sirk universe the studio often imposed happy ends have no negative impact in fact they worked just great sirk was fond of greek tragedy and considered happy endings the deux ex machinea of his day thus the final courtroom scene fits well and one must also remember that the whole film is told in flashback so we know from the very beginning that tragedy will fall nevertheless over the hadley feud it was pointed out the many similarities between written on the wind with the godfather saga absolutely agree and am sure the parallel is not incidental both share the theme of the old powerful father head trying to keep his empire going while protecting his family the temperamental son portrayed by robert stack has an amazing physical resemblance with jimmy caan sonny corleone the action of fighting her sister male friend is symmetrical the non son in which the old man put his trust is also common in both films as the fact that both families carry the names of their town even details as the gate that gives access to the property and the surroundings of the house covered by leaves suggest that coppola had written on the wind in mind while setting his masterwork because both films deal with the subject of power the acquisition of power its manipulation and legacy even kyle hadley sterility the event that hastens the turmoil is an issue easily tied to the central theme of power in this case weakness in sexual power the other great film that deals with power and uses american life as its representation is citizen kane one would not think at first of similarities between welles and sirk films but there are good many starting with the petrol business as the origin of the family fortune and ending in the fact that mitch wayne rock hudson as charles foster kane was adopted by tutor having his own father alive amazingly the same actor harry shannon perform both wayne and kane fathers this detail is cannot be coincidence written on the wind is masterpiece in every aspect in execution and vision in style and technique highlight in the career of this wonderful director some say that this is his best film in my opinion magnificent obsession all that heaven allows there always tomorrow and imitation of life are just as good and for those who put sirk in the level of dallas or dinasty wish them no happy end',\n",
              " 'for those who think of dame may witty as the kindly slightly batty old lady from hitchcock the lady vanishes this movie requires an adjustment here she is anything but kindly or batty instead her son george macready is the loony one just do not give him knife otherwise his eyes light up and no furniture cushion in the house is safe now we know what he has in mind for the trapped nina foch if he can just get out from under mother domineering hand really tight little woman in danger film that keeps the suspense on high throughout the script never strays from foch dilemma she held prisoner in big old gothic house on the edge of an angry sea they re going to kill her but why her predicament makes no sense the tension mounts as she tries one escape ploy after another but even strangers seem against her we begin to feel her helplessness and mounting paranoia as the world turns away from her director joseph lewis took big step toward cult status with this film and understandably so then too watch foch run subtly through gamut of emotions without once going over the top witty too shines as really intimidating matriarch who knows what she wants and how to get it if she can just keep her wacko son in line my one reservation is the climax which seems too contrived considering the timing of the events nonetheless it is good nerve wracking way to spend little over an hour courtesy columbia studios']"
            ]
          },
          "metadata": {
            "tags": []
          },
          "execution_count": 62
        }
      ]
    },
    {
      "cell_type": "code",
      "metadata": {
        "id": "qTs8We_Ae49o",
        "colab_type": "code",
        "colab": {}
      },
      "source": [
        "X_train = texts_prepro[:25000]\n",
        "y_train = labels[:25000] \n",
        "X_test = texts_prepro[25000:40000]\n",
        "y_test = labels[25000:40000]\n",
        "X_holdout = texts_prepro[40000:]\n",
        "y_holdout = labels[40000:]"
      ],
      "execution_count": 0,
      "outputs": []
    },
    {
      "cell_type": "code",
      "metadata": {
        "id": "MxNVm4OH3pe0",
        "colab_type": "code",
        "outputId": "b84dbbc1-8f03-4354-afee-4028d3a18358",
        "colab": {
          "base_uri": "https://localhost:8080/",
          "height": 68
        }
      },
      "source": [
        "print('Train: ',len(X_train),len(y_train))\n",
        "print('Valid: ',len(X_test),len(y_test))\n",
        "print('Test: ',len(X_holdout),len(y_holdout))"
      ],
      "execution_count": 64,
      "outputs": [
        {
          "output_type": "stream",
          "text": [
            "Train:  25000 25000\n",
            "Valid:  15000 15000\n",
            "Test:  10000 10000\n"
          ],
          "name": "stdout"
        }
      ]
    },
    {
      "cell_type": "markdown",
      "metadata": {
        "id": "j2-X0Z2Hwsgq",
        "colab_type": "text"
      },
      "source": [
        "## Shuffle texts for additional training data"
      ]
    },
    {
      "cell_type": "code",
      "metadata": {
        "id": "8VjMLEqZtJYz",
        "colab_type": "code",
        "colab": {}
      },
      "source": [
        "from nltk.tokenize import sent_tokenize\n",
        "import random\n",
        "\n",
        "def shuffle_text(text):\n",
        "    sents = sent_tokenize(text)\n",
        "    newsents = sents[:]\n",
        "    random.shuffle(newsents)\n",
        "    newsents_str = ' '.join([sen for sen in newsents]) \n",
        "    return newsents_str\n"
      ],
      "execution_count": 0,
      "outputs": []
    },
    {
      "cell_type": "code",
      "metadata": {
        "id": "O2sAZMxVxNDL",
        "colab_type": "code",
        "colab": {
          "base_uri": "https://localhost:8080/",
          "height": 34
        },
        "outputId": "822b5f2f-a403-4121-e5a4-d8e62b3bd2bf"
      },
      "source": [
        "shuffle_text('I was blue. It is red. You are yellow. Are you sure?')"
      ],
      "execution_count": 66,
      "outputs": [
        {
          "output_type": "execute_result",
          "data": {
            "text/plain": [
              "'I was blue. Are you sure? You are yellow. It is red.'"
            ]
          },
          "metadata": {
            "tags": []
          },
          "execution_count": 66
        }
      ]
    },
    {
      "cell_type": "code",
      "metadata": {
        "id": "1TrPY31-skNF",
        "colab_type": "code",
        "colab": {}
      },
      "source": [
        "add_text = [shuffle_text(doc) for doc in texts[:25000]]\n",
        "add_label = labels[:25000] \n",
        "add_text_prepro = prepro(add_text)"
      ],
      "execution_count": 0,
      "outputs": []
    },
    {
      "cell_type": "code",
      "metadata": {
        "id": "JwD0fD4Zxvgc",
        "colab_type": "code",
        "colab": {}
      },
      "source": [
        "X_train.extend(add_text_prepro)\n",
        "y_train = np.append(y_train,add_label)"
      ],
      "execution_count": 0,
      "outputs": []
    },
    {
      "cell_type": "code",
      "metadata": {
        "id": "CAHONrHqyIMF",
        "colab_type": "code",
        "colab": {
          "base_uri": "https://localhost:8080/",
          "height": 68
        },
        "outputId": "e876d0a3-f267-411a-990b-b58df31d978d"
      },
      "source": [
        "print('Train: ',len(X_train),len(y_train))\n",
        "print('Valid: ',len(X_test),len(y_test))\n",
        "print('Test: ',len(X_holdout),len(y_holdout))"
      ],
      "execution_count": 69,
      "outputs": [
        {
          "output_type": "stream",
          "text": [
            "Train:  50000 50000\n",
            "Valid:  15000 15000\n",
            "Test:  10000 10000\n"
          ],
          "name": "stdout"
        }
      ]
    },
    {
      "cell_type": "markdown",
      "metadata": {
        "id": "gPGp9ef85XER",
        "colab_type": "text"
      },
      "source": [
        "# Model"
      ]
    },
    {
      "cell_type": "code",
      "metadata": {
        "id": "ruJ_-O3-6r0l",
        "colab_type": "code",
        "colab": {}
      },
      "source": [
        "from sklearn.metrics import accuracy_score, confusion_matrix\n",
        "def final_score(model_pred,keras_model=True):\n",
        "\n",
        "  if keras_model:\n",
        "      y_pred_enc__ = model_pred.predict(X_ho_pad)\n",
        "      y_pred__ = [np.argmax(y) for y in y_pred_enc__]\n",
        "  else:\n",
        "      y_pred = model_pred.predict(X_train)\n",
        "      y_pred_ = model_pred.predict(X_test)\n",
        "      y_pred__ = model_pred.predict(X_holdout)\n",
        "      print('accuracy %s' % accuracy_score(y_pred, y_train))\n",
        "      print('accuracy %s' % accuracy_score(y_pred_, y_test))\n",
        "  print('accuracy %s' % accuracy_score(y_pred__, y_holdout))"
      ],
      "execution_count": 0,
      "outputs": []
    },
    {
      "cell_type": "code",
      "metadata": {
        "id": "HM6OvU2f7XEO",
        "colab_type": "code",
        "colab": {}
      },
      "source": [
        "import matplotlib.pyplot as plt\n",
        "def plot_training(model_hist):\n",
        "  # summarize history for accuracy\n",
        "  plt.plot(model_hist.history['acc'])\n",
        "  plt.plot(model_hist.history['val_acc'])\n",
        "  plt.title('model accuracy')\n",
        "  plt.ylabel('accuracy')\n",
        "  plt.xlabel('epoch')\n",
        "  plt.legend(['train', 'test'], loc='upper left')\n",
        "  plt.show()"
      ],
      "execution_count": 0,
      "outputs": []
    },
    {
      "cell_type": "markdown",
      "metadata": {
        "id": "WoNtaloAsmJ7",
        "colab_type": "text"
      },
      "source": [
        "## TF-IDF"
      ]
    },
    {
      "cell_type": "code",
      "metadata": {
        "id": "u1pLe3srpntP",
        "colab_type": "code",
        "outputId": "696290b9-925c-4a24-e8c9-69b1e8bfff00",
        "colab": {
          "base_uri": "https://localhost:8080/",
          "height": 122
        }
      },
      "source": [
        "from sklearn.linear_model import LogisticRegression\n",
        "from sklearn.model_selection import cross_val_score\n",
        "from sklearn.pipeline import Pipeline\n",
        "from sklearn.feature_extraction.text import CountVectorizer, TfidfVectorizer\n",
        "from sklearn.feature_extraction.text import TfidfTransformer\n",
        "\n",
        "\n",
        "logreg = Pipeline([('vect', CountVectorizer(max_features=2500)),\n",
        "                ('tfidf', TfidfTransformer()),\n",
        "                ('clf', LogisticRegression( C=1e7)),\n",
        "               ])\n",
        "logreg.fit(X_train, y_train)\n",
        "\n",
        "final_score(logreg,False)"
      ],
      "execution_count": 74,
      "outputs": [
        {
          "output_type": "stream",
          "text": [
            "/usr/local/lib/python3.6/dist-packages/sklearn/linear_model/logistic.py:432: FutureWarning: Default solver will be changed to 'lbfgs' in 0.22. Specify a solver to silence this warning.\n",
            "  FutureWarning)\n"
          ],
          "name": "stderr"
        },
        {
          "output_type": "stream",
          "text": [
            "accuracy 0.92104\n",
            "accuracy 0.8614666666666667\n",
            "accuracy 0.8618\n"
          ],
          "name": "stdout"
        }
      ]
    },
    {
      "cell_type": "markdown",
      "metadata": {
        "id": "gTP8XoILtYr6",
        "colab_type": "text"
      },
      "source": [
        "## PV LSTM"
      ]
    },
    {
      "cell_type": "code",
      "metadata": {
        "id": "wcs_y5DvB-GT",
        "colab_type": "code",
        "outputId": "a7e32fde-123c-49cc-9fb6-70f75c96cb08",
        "colab": {
          "base_uri": "https://localhost:8080/",
          "height": 34
        }
      },
      "source": [
        "np.quantile([len(s.split()) for s in texts_prepro],.75) #2470"
      ],
      "execution_count": 72,
      "outputs": [
        {
          "output_type": "execute_result",
          "data": {
            "text/plain": [
              "269.0"
            ]
          },
          "metadata": {
            "tags": []
          },
          "execution_count": 72
        }
      ]
    },
    {
      "cell_type": "code",
      "metadata": {
        "id": "EqIhaejv-dQI",
        "colab_type": "code",
        "colab": {}
      },
      "source": [
        "from keras.preprocessing.text import Tokenizer\n",
        "from keras.preprocessing.sequence import pad_sequences\n",
        "\n",
        "#max_features = 5000\n",
        "tokenizer_ = Tokenizer()\n",
        "tokenizer_.fit_on_texts(texts_prepro)\n",
        "\n",
        "max_length = 269\n",
        "vocab_size = len(tokenizer_.word_index) + 1\n",
        "\n",
        "X_train_tokens = tokenizer_.texts_to_sequences(X_train)\n",
        "X_test_tokens = tokenizer_.texts_to_sequences(X_test)\n",
        "X_ho_tokens = tokenizer_.texts_to_sequences(X_holdout)\n",
        "\n",
        "X_train_pad = pad_sequences(X_train_tokens,maxlen=max_length, padding='post')\n",
        "X_test_pad = pad_sequences(X_test_tokens,maxlen=max_length, padding='post')\n",
        "X_ho_pad = pad_sequences(X_ho_tokens,maxlen=max_length, padding='post')"
      ],
      "execution_count": 0,
      "outputs": []
    },
    {
      "cell_type": "code",
      "metadata": {
        "id": "-zhRYHYqrrSc",
        "colab_type": "code",
        "colab": {}
      },
      "source": [
        "from sklearn.preprocessing import LabelEncoder\n",
        "from keras.utils import np_utils\n",
        "\n",
        "encoder = LabelEncoder()\n",
        "encoder.fit(labels)\n",
        "y_train_ = encoder.transform(y_train)\n",
        "y_train_enc = np_utils.to_categorical(y_train_)\n",
        "y_test_ = encoder.transform(y_test)\n",
        "y_test_enc = np_utils.to_categorical(y_test_)\n",
        "y_ho_ = encoder.transform(y_holdout)\n",
        "y_ho_enc = np_utils.to_categorical(y_ho_)"
      ],
      "execution_count": 0,
      "outputs": []
    },
    {
      "cell_type": "code",
      "metadata": {
        "id": "ZIWvzTou2qFB",
        "colab_type": "code",
        "outputId": "d01e2b6b-fcfd-42a5-ce8d-9bf04c745211",
        "colab": {
          "base_uri": "https://localhost:8080/",
          "height": 34
        }
      },
      "source": [
        "print(y_train.shape, sum(y_train),y_test.shape, sum(y_test),y_holdout.shape, sum(y_holdout))"
      ],
      "execution_count": 75,
      "outputs": [
        {
          "output_type": "stream",
          "text": [
            "(50000,) 25000 (15000,) 7456 (10000,) 5044\n"
          ],
          "name": "stdout"
        }
      ]
    },
    {
      "cell_type": "code",
      "metadata": {
        "id": "VohKLeRT_cva",
        "colab_type": "code",
        "colab": {}
      },
      "source": [
        "import keras\n",
        "from keras.models import Model, Sequential\n",
        "from keras.layers import Input, Dropout, Dense, Embedding, LSTM, GRU, GlobalMaxPool1D,Bidirectional,Concatenate\n",
        "from keras.layers.embeddings import Embedding\n",
        "from keras.optimizers import Adam,Adadelta,Nadam\n",
        "from keras.callbacks import EarlyStopping, ModelCheckpoint\n",
        "from keras.regularizers import l1_l2"
      ],
      "execution_count": 0,
      "outputs": []
    },
    {
      "cell_type": "code",
      "metadata": {
        "id": "mZ9O4HzaC7N7",
        "colab_type": "code",
        "outputId": "092bc2b8-1023-46ba-8b60-c9d7553fa966",
        "colab": {
          "base_uri": "https://localhost:8080/",
          "height": 1000
        }
      },
      "source": [
        "embedding_dim = 64\n",
        "dropout_rate =.8\n",
        "\n",
        "input_imbd_1 = Input(shape = (max_length,), dtype = 'int32')\n",
        "embedd_seq_1 = Embedding(vocab_size, embedding_dim, input_length = max_length, trainable = True,mask_zero=True)(input_imbd_1)\n",
        "lstm_layer_1 = Bidirectional(LSTM(32, dropout = dropout_rate, return_sequences = False ))(embedd_seq_1)\n",
        "pred_layer_1 = Dense(2, activation = 'softmax', kernel_regularizer=l1_l2(0.01))(lstm_layer_1)\n",
        "\n",
        "lr= .0001\n",
        "opt = Adam(lr=lr, decay=lr/50)\n",
        "#opt = Adadelta( rho=0.95)\n",
        "#opr = Nadam( beta_1=0.9, beta_2=0.999)\n",
        "\n",
        "model = Model(inputs = [input_imbd_1], outputs = pred_layer_1)\n",
        "\n",
        "model.compile(optimizer = opt, loss = 'categorical_crossentropy', metrics = ['accuracy'])\n",
        "print(model.summary())\n",
        "early_stopping = EarlyStopping(patience = 3)\n",
        "hist = model.fit(x = X_train_pad, y = y_train_enc,\\\n",
        "                 validation_data = (X_test_pad, y_test_enc), \\\n",
        "                 epochs = 50, batch_size = 2048, shuffle = False, \\\n",
        "                 callbacks = [early_stopping])\n",
        "best_score = min(hist.history['val_loss'])"
      ],
      "execution_count": 87,
      "outputs": [
        {
          "output_type": "stream",
          "text": [
            "Model: \"model_12\"\n",
            "_________________________________________________________________\n",
            "Layer (type)                 Output Shape              Param #   \n",
            "=================================================================\n",
            "input_12 (InputLayer)        (None, 269)               0         \n",
            "_________________________________________________________________\n",
            "embedding_12 (Embedding)     (None, 269, 64)           6446272   \n",
            "_________________________________________________________________\n",
            "bidirectional_12 (Bidirectio (None, 64)                24832     \n",
            "_________________________________________________________________\n",
            "dense_12 (Dense)             (None, 2)                 130       \n",
            "=================================================================\n",
            "Total params: 6,471,234\n",
            "Trainable params: 6,471,234\n",
            "Non-trainable params: 0\n",
            "_________________________________________________________________\n",
            "None\n",
            "Train on 50000 samples, validate on 15000 samples\n",
            "Epoch 1/50\n",
            "50000/50000 [==============================] - 34s 682us/step - loss: 0.9163 - acc: 0.4999 - val_loss: 0.9136 - val_acc: 0.5225\n",
            "Epoch 2/50\n",
            "50000/50000 [==============================] - 27s 534us/step - loss: 0.9114 - acc: 0.5183 - val_loss: 0.9089 - val_acc: 0.5517\n",
            "Epoch 3/50\n",
            "50000/50000 [==============================] - 27s 540us/step - loss: 0.9066 - acc: 0.5343 - val_loss: 0.9041 - val_acc: 0.5817\n",
            "Epoch 4/50\n",
            "50000/50000 [==============================] - 27s 533us/step - loss: 0.9017 - acc: 0.5530 - val_loss: 0.8992 - val_acc: 0.6101\n",
            "Epoch 5/50\n",
            "50000/50000 [==============================] - 27s 535us/step - loss: 0.8966 - acc: 0.5716 - val_loss: 0.8939 - val_acc: 0.6359\n",
            "Epoch 6/50\n",
            "50000/50000 [==============================] - 27s 535us/step - loss: 0.8910 - acc: 0.5916 - val_loss: 0.8879 - val_acc: 0.6547\n",
            "Epoch 7/50\n",
            "50000/50000 [==============================] - 27s 538us/step - loss: 0.8843 - acc: 0.6190 - val_loss: 0.8806 - val_acc: 0.6797\n",
            "Epoch 8/50\n",
            "50000/50000 [==============================] - 27s 532us/step - loss: 0.8755 - acc: 0.6512 - val_loss: 0.8696 - val_acc: 0.7039\n",
            "Epoch 9/50\n",
            "50000/50000 [==============================] - 27s 545us/step - loss: 0.8568 - acc: 0.6918 - val_loss: 0.8286 - val_acc: 0.7425\n",
            "Epoch 10/50\n",
            "50000/50000 [==============================] - 27s 534us/step - loss: 0.7789 - acc: 0.7230 - val_loss: 0.7087 - val_acc: 0.7678\n",
            "Epoch 11/50\n",
            "50000/50000 [==============================] - 27s 530us/step - loss: 0.6766 - acc: 0.7806 - val_loss: 0.6383 - val_acc: 0.8097\n",
            "Epoch 12/50\n",
            "50000/50000 [==============================] - 27s 534us/step - loss: 0.6242 - acc: 0.8197 - val_loss: 0.6077 - val_acc: 0.8147\n",
            "Epoch 13/50\n",
            "50000/50000 [==============================] - 27s 535us/step - loss: 0.5861 - acc: 0.8385 - val_loss: 0.5793 - val_acc: 0.8343\n",
            "Epoch 14/50\n",
            "50000/50000 [==============================] - 27s 536us/step - loss: 0.5562 - acc: 0.8545 - val_loss: 0.5575 - val_acc: 0.8457\n",
            "Epoch 15/50\n",
            "50000/50000 [==============================] - 27s 533us/step - loss: 0.5298 - acc: 0.8686 - val_loss: 0.5467 - val_acc: 0.8448\n",
            "Epoch 16/50\n",
            "50000/50000 [==============================] - 27s 534us/step - loss: 0.5070 - acc: 0.8773 - val_loss: 0.5295 - val_acc: 0.8561\n",
            "Epoch 17/50\n",
            "50000/50000 [==============================] - 27s 530us/step - loss: 0.4855 - acc: 0.8858 - val_loss: 0.5170 - val_acc: 0.8608\n",
            "Epoch 18/50\n",
            "50000/50000 [==============================] - 27s 536us/step - loss: 0.4688 - acc: 0.8936 - val_loss: 0.5055 - val_acc: 0.8659\n",
            "Epoch 19/50\n",
            "50000/50000 [==============================] - 27s 536us/step - loss: 0.4503 - acc: 0.8985 - val_loss: 0.4965 - val_acc: 0.8688\n",
            "Epoch 20/50\n",
            "50000/50000 [==============================] - 27s 532us/step - loss: 0.4314 - acc: 0.9073 - val_loss: 0.4880 - val_acc: 0.8699\n",
            "Epoch 21/50\n",
            "50000/50000 [==============================] - 27s 542us/step - loss: 0.4133 - acc: 0.9131 - val_loss: 0.4803 - val_acc: 0.8731\n",
            "Epoch 22/50\n",
            "50000/50000 [==============================] - 27s 535us/step - loss: 0.3972 - acc: 0.9192 - val_loss: 0.4741 - val_acc: 0.8747\n",
            "Epoch 23/50\n",
            "50000/50000 [==============================] - 27s 538us/step - loss: 0.3850 - acc: 0.9222 - val_loss: 0.4686 - val_acc: 0.8776\n",
            "Epoch 24/50\n",
            "50000/50000 [==============================] - 27s 531us/step - loss: 0.3725 - acc: 0.9273 - val_loss: 0.4665 - val_acc: 0.8774\n",
            "Epoch 25/50\n",
            "50000/50000 [==============================] - 27s 539us/step - loss: 0.3630 - acc: 0.9294 - val_loss: 0.4635 - val_acc: 0.8769\n",
            "Epoch 26/50\n",
            "50000/50000 [==============================] - 27s 540us/step - loss: 0.3493 - acc: 0.9354 - val_loss: 0.4576 - val_acc: 0.8793\n",
            "Epoch 27/50\n",
            "50000/50000 [==============================] - 27s 533us/step - loss: 0.3422 - acc: 0.9370 - val_loss: 0.4562 - val_acc: 0.8801\n",
            "Epoch 28/50\n",
            "50000/50000 [==============================] - 27s 544us/step - loss: 0.3327 - acc: 0.9405 - val_loss: 0.4535 - val_acc: 0.8791\n",
            "Epoch 29/50\n",
            "50000/50000 [==============================] - 27s 538us/step - loss: 0.3218 - acc: 0.9437 - val_loss: 0.4510 - val_acc: 0.8817\n",
            "Epoch 30/50\n",
            "50000/50000 [==============================] - 27s 535us/step - loss: 0.3143 - acc: 0.9458 - val_loss: 0.4505 - val_acc: 0.8807\n",
            "Epoch 31/50\n",
            "50000/50000 [==============================] - 27s 543us/step - loss: 0.3069 - acc: 0.9470 - val_loss: 0.4552 - val_acc: 0.8774\n",
            "Epoch 32/50\n",
            "50000/50000 [==============================] - 27s 545us/step - loss: 0.2984 - acc: 0.9515 - val_loss: 0.4481 - val_acc: 0.8809\n",
            "Epoch 33/50\n",
            "50000/50000 [==============================] - 27s 537us/step - loss: 0.2910 - acc: 0.9524 - val_loss: 0.4526 - val_acc: 0.8779\n",
            "Epoch 34/50\n",
            "50000/50000 [==============================] - 27s 537us/step - loss: 0.2855 - acc: 0.9540 - val_loss: 0.4463 - val_acc: 0.8814\n",
            "Epoch 35/50\n",
            "50000/50000 [==============================] - 27s 548us/step - loss: 0.2780 - acc: 0.9563 - val_loss: 0.4461 - val_acc: 0.8806\n",
            "Epoch 36/50\n",
            "50000/50000 [==============================] - 27s 534us/step - loss: 0.2715 - acc: 0.9589 - val_loss: 0.4471 - val_acc: 0.8797\n",
            "Epoch 37/50\n",
            "50000/50000 [==============================] - 27s 543us/step - loss: 0.2660 - acc: 0.9602 - val_loss: 0.4487 - val_acc: 0.8785\n",
            "Epoch 38/50\n",
            "50000/50000 [==============================] - 27s 541us/step - loss: 0.2612 - acc: 0.9616 - val_loss: 0.4455 - val_acc: 0.8814\n",
            "Epoch 39/50\n",
            "50000/50000 [==============================] - 27s 534us/step - loss: 0.2549 - acc: 0.9626 - val_loss: 0.4463 - val_acc: 0.8807\n",
            "Epoch 40/50\n",
            "50000/50000 [==============================] - 27s 547us/step - loss: 0.2498 - acc: 0.9645 - val_loss: 0.4491 - val_acc: 0.8779\n",
            "Epoch 41/50\n",
            "50000/50000 [==============================] - 27s 539us/step - loss: 0.2450 - acc: 0.9666 - val_loss: 0.4557 - val_acc: 0.8738\n"
          ],
          "name": "stdout"
        }
      ]
    },
    {
      "cell_type": "code",
      "metadata": {
        "id": "2ItimNM12DL5",
        "colab_type": "code",
        "outputId": "6cedf44e-a627-4d1f-9fad-19644352a479",
        "colab": {
          "base_uri": "https://localhost:8080/",
          "height": 329
        }
      },
      "source": [
        "print(final_score(model,True))\n",
        "plot_training(hist)"
      ],
      "execution_count": 88,
      "outputs": [
        {
          "output_type": "stream",
          "text": [
            "accuracy 0.8756\n",
            "None\n"
          ],
          "name": "stdout"
        },
        {
          "output_type": "display_data",
          "data": {
            "image/png": "[encoded data removed]",
            "text/plain": [
              "<Figure size 432x288 with 1 Axes>"
            ]
          },
          "metadata": {
            "tags": []
          }
        }
      ]
    },
    {
      "cell_type": "markdown",
      "metadata": {
        "id": "o0FtF48L20jk",
        "colab_type": "text"
      },
      "source": [
        "## LSTM + Attention\n"
      ]
    },
    {
      "cell_type": "code",
      "metadata": {
        "id": "Od4JreWGE9rw",
        "colab_type": "code",
        "outputId": "a7d85cdf-a6d8-4ec7-f5e4-e6ad02ed95a8",
        "colab": {
          "base_uri": "https://localhost:8080/",
          "height": 1000
        }
      },
      "source": [
        "embedding_dim = 64\n",
        "dropout_rate =.9\n",
        "\n",
        "input_imbd_1 = Input(shape = (max_length,), dtype = 'int32')\n",
        "embedd_seq_1 = Embedding(vocab_size, embedding_dim, input_length = max_length, trainable = True)(input_imbd_1)\n",
        "lstm_layer_1 = Bidirectional(LSTM(32, dropout = dropout_rate, return_sequences = True ))(embedd_seq_1)\n",
        "#lstm_layer_1_2 = Bidirectional(LSTM(32, dropout = dropout_rate, return_sequences = True ))(lstm_layer_1)\n",
        "attention_1 = Attention(max_length)(lstm_layer_1)\n",
        "#attention_1_2 = Attention(max_length)(lstm_layer_1_2)\n",
        "#added = Concatenate(axis=-1)([attention_1, attention_1_2])\n",
        "#dens_layer_1 = Dense(32,activation='relu')(added)\n",
        "pred_layer_1 = Dense(2, activation = 'softmax', kernel_regularizer=l1_l2(0.01))(attention_1)\n",
        "\n",
        "lr = .0001\n",
        "opt = Adam(lr=lr, decay=lr/50)\n",
        "model = Model(inputs = [input_imbd_1], outputs = pred_layer_1)\n",
        "\n",
        "model.compile(optimizer = opt, loss = 'categorical_crossentropy', metrics = ['accuracy'])\n",
        "print(model.summary())\n",
        "early_stopping = EarlyStopping(patience = 3)\n",
        "hist = model.fit(x = X_train_pad, y = y_train_enc,\\\n",
        "                 validation_data = (X_test_pad, y_test_enc), \\\n",
        "                 epochs = 50, batch_size = 2048, shuffle = False, \\\n",
        "                 callbacks = [early_stopping])\n",
        "best_score = min(hist.history['val_loss'])"
      ],
      "execution_count": 104,
      "outputs": [
        {
          "output_type": "stream",
          "text": [
            "Model: \"model_19\"\n",
            "_________________________________________________________________\n",
            "Layer (type)                 Output Shape              Param #   \n",
            "=================================================================\n",
            "input_25 (InputLayer)        (None, 269)               0         \n",
            "_________________________________________________________________\n",
            "embedding_25 (Embedding)     (None, 269, 64)           6446272   \n",
            "_________________________________________________________________\n",
            "bidirectional_33 (Bidirectio (None, 269, 64)           24832     \n",
            "_________________________________________________________________\n",
            "attention_16 (Attention)     (None, 64)                333       \n",
            "_________________________________________________________________\n",
            "dense_24 (Dense)             (None, 2)                 130       \n",
            "=================================================================\n",
            "Total params: 6,471,567\n",
            "Trainable params: 6,471,567\n",
            "Non-trainable params: 0\n",
            "_________________________________________________________________\n",
            "None\n",
            "Train on 50000 samples, validate on 15000 samples\n",
            "Epoch 1/50\n",
            "50000/50000 [==============================] - 34s 680us/step - loss: 0.9089 - acc: 0.5038 - val_loss: 0.9061 - val_acc: 0.5847\n",
            "Epoch 2/50\n",
            "50000/50000 [==============================] - 22s 437us/step - loss: 0.9045 - acc: 0.5157 - val_loss: 0.9017 - val_acc: 0.6322\n",
            "Epoch 3/50\n",
            "50000/50000 [==============================] - 22s 437us/step - loss: 0.8997 - acc: 0.5362 - val_loss: 0.8972 - val_acc: 0.6531\n",
            "Epoch 4/50\n",
            "50000/50000 [==============================] - 22s 436us/step - loss: 0.8952 - acc: 0.5524 - val_loss: 0.8927 - val_acc: 0.7029\n",
            "Epoch 5/50\n",
            "50000/50000 [==============================] - 22s 435us/step - loss: 0.8907 - acc: 0.5710 - val_loss: 0.8881 - val_acc: 0.7263\n",
            "Epoch 6/50\n",
            "50000/50000 [==============================] - 22s 441us/step - loss: 0.8858 - acc: 0.5854 - val_loss: 0.8831 - val_acc: 0.7434\n",
            "Epoch 7/50\n",
            "50000/50000 [==============================] - 22s 436us/step - loss: 0.8805 - acc: 0.6077 - val_loss: 0.8777 - val_acc: 0.7385\n",
            "Epoch 8/50\n",
            "50000/50000 [==============================] - 22s 447us/step - loss: 0.8748 - acc: 0.6258 - val_loss: 0.8711 - val_acc: 0.7491\n",
            "Epoch 9/50\n",
            "50000/50000 [==============================] - 22s 437us/step - loss: 0.8669 - acc: 0.6544 - val_loss: 0.8611 - val_acc: 0.7531\n",
            "Epoch 10/50\n",
            "50000/50000 [==============================] - 22s 436us/step - loss: 0.8518 - acc: 0.6811 - val_loss: 0.8326 - val_acc: 0.7511\n",
            "Epoch 11/50\n",
            "50000/50000 [==============================] - 22s 438us/step - loss: 0.7933 - acc: 0.7147 - val_loss: 0.7114 - val_acc: 0.7631\n",
            "Epoch 12/50\n",
            "50000/50000 [==============================] - 22s 442us/step - loss: 0.7131 - acc: 0.7383 - val_loss: 0.6821 - val_acc: 0.7662\n",
            "Epoch 13/50\n",
            "50000/50000 [==============================] - 22s 435us/step - loss: 0.6797 - acc: 0.7695 - val_loss: 0.6582 - val_acc: 0.7803\n",
            "Epoch 14/50\n",
            "50000/50000 [==============================] - 22s 437us/step - loss: 0.6510 - acc: 0.7844 - val_loss: 0.6365 - val_acc: 0.7932\n",
            "Epoch 15/50\n",
            "50000/50000 [==============================] - 22s 437us/step - loss: 0.6334 - acc: 0.7968 - val_loss: 0.6181 - val_acc: 0.8064\n",
            "Epoch 16/50\n",
            "50000/50000 [==============================] - 22s 435us/step - loss: 0.6090 - acc: 0.8094 - val_loss: 0.6063 - val_acc: 0.8062\n",
            "Epoch 17/50\n",
            "50000/50000 [==============================] - 22s 437us/step - loss: 0.5935 - acc: 0.8126 - val_loss: 0.5923 - val_acc: 0.8165\n",
            "Epoch 18/50\n",
            "50000/50000 [==============================] - 22s 435us/step - loss: 0.5738 - acc: 0.8264 - val_loss: 0.5795 - val_acc: 0.8218\n",
            "Epoch 19/50\n",
            "50000/50000 [==============================] - 22s 436us/step - loss: 0.5604 - acc: 0.8298 - val_loss: 0.5715 - val_acc: 0.8230\n",
            "Epoch 20/50\n",
            "50000/50000 [==============================] - 22s 437us/step - loss: 0.5473 - acc: 0.8376 - val_loss: 0.5592 - val_acc: 0.8306\n",
            "Epoch 21/50\n",
            "50000/50000 [==============================] - 22s 434us/step - loss: 0.5317 - acc: 0.8456 - val_loss: 0.5515 - val_acc: 0.8321\n",
            "Epoch 22/50\n",
            "50000/50000 [==============================] - 22s 437us/step - loss: 0.5192 - acc: 0.8516 - val_loss: 0.5430 - val_acc: 0.8366\n",
            "Epoch 23/50\n",
            "50000/50000 [==============================] - 22s 435us/step - loss: 0.5091 - acc: 0.8556 - val_loss: 0.5318 - val_acc: 0.8411\n",
            "Epoch 24/50\n",
            "50000/50000 [==============================] - 22s 431us/step - loss: 0.4935 - acc: 0.8635 - val_loss: 0.5243 - val_acc: 0.8433\n",
            "Epoch 25/50\n",
            "50000/50000 [==============================] - 22s 437us/step - loss: 0.4831 - acc: 0.8677 - val_loss: 0.5160 - val_acc: 0.8481\n",
            "Epoch 26/50\n",
            "50000/50000 [==============================] - 22s 439us/step - loss: 0.4728 - acc: 0.8720 - val_loss: 0.5081 - val_acc: 0.8498\n",
            "Epoch 27/50\n",
            "50000/50000 [==============================] - 22s 431us/step - loss: 0.4619 - acc: 0.8766 - val_loss: 0.5019 - val_acc: 0.8522\n",
            "Epoch 28/50\n",
            "50000/50000 [==============================] - 22s 437us/step - loss: 0.4551 - acc: 0.8778 - val_loss: 0.4942 - val_acc: 0.8544\n",
            "Epoch 29/50\n",
            "50000/50000 [==============================] - 22s 436us/step - loss: 0.4424 - acc: 0.8846 - val_loss: 0.4876 - val_acc: 0.8585\n",
            "Epoch 30/50\n",
            "50000/50000 [==============================] - 22s 436us/step - loss: 0.4323 - acc: 0.8865 - val_loss: 0.4817 - val_acc: 0.8588\n",
            "Epoch 31/50\n",
            "50000/50000 [==============================] - 22s 439us/step - loss: 0.4236 - acc: 0.8905 - val_loss: 0.4755 - val_acc: 0.8613\n",
            "Epoch 32/50\n",
            "50000/50000 [==============================] - 22s 434us/step - loss: 0.4162 - acc: 0.8940 - val_loss: 0.4732 - val_acc: 0.8611\n",
            "Epoch 33/50\n",
            "50000/50000 [==============================] - 22s 438us/step - loss: 0.4079 - acc: 0.8969 - val_loss: 0.4674 - val_acc: 0.8631\n",
            "Epoch 34/50\n",
            "50000/50000 [==============================] - 22s 437us/step - loss: 0.3992 - acc: 0.8985 - val_loss: 0.4630 - val_acc: 0.8643\n",
            "Epoch 35/50\n",
            "50000/50000 [==============================] - 22s 436us/step - loss: 0.3926 - acc: 0.9011 - val_loss: 0.4555 - val_acc: 0.8661\n",
            "Epoch 36/50\n",
            "50000/50000 [==============================] - 22s 437us/step - loss: 0.3840 - acc: 0.9068 - val_loss: 0.4529 - val_acc: 0.8662\n",
            "Epoch 37/50\n",
            "50000/50000 [==============================] - 22s 435us/step - loss: 0.3818 - acc: 0.9048 - val_loss: 0.4529 - val_acc: 0.8655\n",
            "Epoch 38/50\n",
            "50000/50000 [==============================] - 22s 436us/step - loss: 0.3736 - acc: 0.9083 - val_loss: 0.4479 - val_acc: 0.8679\n",
            "Epoch 39/50\n",
            "50000/50000 [==============================] - 22s 437us/step - loss: 0.3667 - acc: 0.9113 - val_loss: 0.4427 - val_acc: 0.8701\n",
            "Epoch 40/50\n",
            "50000/50000 [==============================] - 22s 443us/step - loss: 0.3597 - acc: 0.9141 - val_loss: 0.4416 - val_acc: 0.8678\n",
            "Epoch 41/50\n",
            "50000/50000 [==============================] - 22s 437us/step - loss: 0.3554 - acc: 0.9155 - val_loss: 0.4382 - val_acc: 0.8712\n",
            "Epoch 42/50\n",
            "50000/50000 [==============================] - 22s 448us/step - loss: 0.3475 - acc: 0.9184 - val_loss: 0.4375 - val_acc: 0.8715\n",
            "Epoch 43/50\n",
            "50000/50000 [==============================] - 23s 454us/step - loss: 0.3429 - acc: 0.9203 - val_loss: 0.4343 - val_acc: 0.8719\n",
            "Epoch 44/50\n",
            "50000/50000 [==============================] - 23s 451us/step - loss: 0.3374 - acc: 0.9228 - val_loss: 0.4329 - val_acc: 0.8734\n",
            "Epoch 45/50\n",
            "50000/50000 [==============================] - 22s 439us/step - loss: 0.3346 - acc: 0.9225 - val_loss: 0.4285 - val_acc: 0.8731\n",
            "Epoch 46/50\n",
            "50000/50000 [==============================] - 22s 438us/step - loss: 0.3270 - acc: 0.9264 - val_loss: 0.4275 - val_acc: 0.8754\n",
            "Epoch 47/50\n",
            "50000/50000 [==============================] - 22s 446us/step - loss: 0.3240 - acc: 0.9271 - val_loss: 0.4252 - val_acc: 0.8747\n",
            "Epoch 48/50\n",
            "50000/50000 [==============================] - 22s 437us/step - loss: 0.3208 - acc: 0.9285 - val_loss: 0.4247 - val_acc: 0.8745\n",
            "Epoch 49/50\n",
            "50000/50000 [==============================] - 22s 435us/step - loss: 0.3159 - acc: 0.9306 - val_loss: 0.4227 - val_acc: 0.8752\n",
            "Epoch 50/50\n",
            "50000/50000 [==============================] - 22s 438us/step - loss: 0.3100 - acc: 0.9314 - val_loss: 0.4227 - val_acc: 0.8771\n"
          ],
          "name": "stdout"
        }
      ]
    },
    {
      "cell_type": "code",
      "metadata": {
        "id": "x1OBLzE7O-F_",
        "colab_type": "code",
        "colab": {
          "base_uri": "https://localhost:8080/",
          "height": 329
        },
        "outputId": "7025886f-3c76-44a3-bfc1-b9a1c19bd99f"
      },
      "source": [
        "print(final_score(model,True))\n",
        "plot_training(hist)"
      ],
      "execution_count": 105,
      "outputs": [
        {
          "output_type": "stream",
          "text": [
            "accuracy 0.8752\n",
            "None\n"
          ],
          "name": "stdout"
        },
        {
          "output_type": "display_data",
          "data": {
            "image/png": "[encoded data removed]",
            "text/plain": [
              "<Figure size 432x288 with 1 Axes>"
            ]
          },
          "metadata": {
            "tags": []
          }
        }
      ]
    },
    {
      "cell_type": "markdown",
      "metadata": {
        "id": "0hKJYV7YMpjW",
        "colab_type": "text"
      },
      "source": [
        "## LSTM Embeddings & Attention"
      ]
    },
    {
      "cell_type": "code",
      "metadata": {
        "id": "VuZAlJQLMsbf",
        "colab_type": "code",
        "colab": {}
      },
      "source": [
        "%%capture\n",
        "!wget http://nlp.stanford.edu/data/glove.6B.zip"
      ],
      "execution_count": 0,
      "outputs": []
    },
    {
      "cell_type": "code",
      "metadata": {
        "id": "eaYMo55vNCRS",
        "colab_type": "code",
        "outputId": "7e08af13-2231-4e86-ef7d-0d7618a62b40",
        "colab": {
          "base_uri": "https://localhost:8080/",
          "height": 102
        }
      },
      "source": [
        "!unzip glove*.zip"
      ],
      "execution_count": 29,
      "outputs": [
        {
          "output_type": "stream",
          "text": [
            "Archive:  glove.6B.zip\n",
            "  inflating: glove.6B.50d.txt        \n",
            "  inflating: glove.6B.100d.txt       \n",
            "  inflating: glove.6B.200d.txt       \n",
            "  inflating: glove.6B.300d.txt       \n"
          ],
          "name": "stdout"
        }
      ]
    },
    {
      "cell_type": "code",
      "metadata": {
        "id": "y79-LP2ENRxQ",
        "colab_type": "code",
        "outputId": "ecc042a6-640f-4162-e372-8bbd7dff781d",
        "colab": {
          "base_uri": "https://localhost:8080/",
          "height": 68
        }
      },
      "source": [
        "!ls"
      ],
      "execution_count": 77,
      "outputs": [
        {
          "output_type": "stream",
          "text": [
            "aclImdb\t\t     glove.6B.100d.txt\tglove.6B.50d.txt\n",
            "aclImdb_v1.tar.gz    glove.6B.200d.txt\tglove.6B.zip\n",
            "aclImdb_v1.tar.gz.1  glove.6B.300d.txt\tsample_data\n"
          ],
          "name": "stdout"
        }
      ]
    },
    {
      "cell_type": "code",
      "metadata": {
        "id": "s_rnGz5mNCVM",
        "colab_type": "code",
        "outputId": "b31eb408-c9f1-4850-b2a7-b24d81a0cbd5",
        "colab": {
          "base_uri": "https://localhost:8080/",
          "height": 51
        }
      },
      "source": [
        "print('Indexing word vectors.')\n",
        "\n",
        "embeddings_index = {}\n",
        "f = open('glove.6B.100d.txt', encoding='utf-8')\n",
        "for line in f:\n",
        "    values = line.split()\n",
        "    word = values[0]\n",
        "    coefs = np.asarray(values[1:], dtype='float32')\n",
        "    embeddings_index[word] = coefs\n",
        "f.close()\n",
        "\n",
        "print('Found %s word vectors.' % len(embeddings_index))"
      ],
      "execution_count": 78,
      "outputs": [
        {
          "output_type": "stream",
          "text": [
            "Indexing word vectors.\n",
            "Found 400000 word vectors.\n"
          ],
          "name": "stdout"
        }
      ]
    },
    {
      "cell_type": "code",
      "metadata": {
        "id": "MHkfNMDSOJ9z",
        "colab_type": "code",
        "colab": {}
      },
      "source": [
        "#vocab_to_emb = utils.load_embed_dict('vocab_to_emb_w2v_300.p')\n",
        "embedding_dim = 100\n",
        "embedding_matrix = np.zeros((vocab_size, embedding_dim))\n",
        "\n",
        "for word,i in tokenizer_.word_index.items():\n",
        "    try:\n",
        "        embedding_matrix[i] = embeddings_index[word]\n",
        "    except KeyError:\n",
        "        pass\n",
        "        #embedding_matrix[i] = np.random.rand(embedding_dim)"
      ],
      "execution_count": 0,
      "outputs": []
    },
    {
      "cell_type": "code",
      "metadata": {
        "id": "AnQSHAa4UoaN",
        "colab_type": "code",
        "outputId": "8387c984-e2ad-4954-ed02-7a6c9ae58d38",
        "colab": {
          "base_uri": "https://localhost:8080/",
          "height": 34
        }
      },
      "source": [
        "embedding_matrix.shape"
      ],
      "execution_count": 80,
      "outputs": [
        {
          "output_type": "execute_result",
          "data": {
            "text/plain": [
              "(100723, 100)"
            ]
          },
          "metadata": {
            "tags": []
          },
          "execution_count": 80
        }
      ]
    },
    {
      "cell_type": "code",
      "metadata": {
        "id": "7npuIsduyb_l",
        "colab_type": "code",
        "colab": {
          "base_uri": "https://localhost:8080/",
          "height": 1000
        },
        "outputId": "64e8cf04-05ac-4c55-a2e0-9f01649e8e5a"
      },
      "source": [
        "dropout_rate=.3\n",
        "\n",
        "input_imbd_2 = Input(shape = (max_length,), dtype = 'int32')\n",
        "embedd_seq_2 = Embedding(vocab_size, embedding_dim, weights = [embedding_matrix], input_length = max_length, trainable = False)(input_imbd_2)\n",
        "lstm_layer_2 = Bidirectional(LSTM(32, dropout = dropout_rate, return_sequences = True ))(embedd_seq_2)\n",
        "attention_2 = Attention(max_length)(lstm_layer_2)\n",
        "pred_layer_2 = Dense(2, activation = 'softmax', kernel_regularizer=l1_l2(0.0001))(attention_2)\n",
        "\n",
        "model_1 = Model(inputs = [input_imbd_2], outputs = pred_layer_2)\n",
        "\n",
        "lr = .005\n",
        "opt = Adam(lr=lr, decay=lr/50)\n",
        "\n",
        "model_1.compile(optimizer = opt, loss = 'categorical_crossentropy', metrics = ['accuracy'])\n",
        "print(model_1.summary())\n",
        "\n",
        "early_stopping = EarlyStopping(patience = 3)\n",
        "\n",
        "hist = model_1.fit(x = X_train_pad, y = y_train_enc,\\\n",
        "                 validation_data = (X_test_pad, y_test_enc), \\\n",
        "                 epochs = 50, batch_size = 2048, shuffle = False, \\\n",
        "                 callbacks = [early_stopping])\n",
        "best_score = min(hist.history['val_loss'])"
      ],
      "execution_count": 34,
      "outputs": [
        {
          "output_type": "stream",
          "text": [
            "WARNING:tensorflow:From /usr/local/lib/python3.6/dist-packages/keras/backend/tensorflow_backend.py:66: The name tf.get_default_graph is deprecated. Please use tf.compat.v1.get_default_graph instead.\n",
            "\n",
            "WARNING:tensorflow:From /usr/local/lib/python3.6/dist-packages/keras/backend/tensorflow_backend.py:541: The name tf.placeholder is deprecated. Please use tf.compat.v1.placeholder instead.\n",
            "\n",
            "WARNING:tensorflow:From /usr/local/lib/python3.6/dist-packages/keras/backend/tensorflow_backend.py:4432: The name tf.random_uniform is deprecated. Please use tf.random.uniform instead.\n",
            "\n",
            "WARNING:tensorflow:From /usr/local/lib/python3.6/dist-packages/keras/backend/tensorflow_backend.py:190: The name tf.get_default_session is deprecated. Please use tf.compat.v1.get_default_session instead.\n",
            "\n",
            "WARNING:tensorflow:From /usr/local/lib/python3.6/dist-packages/keras/backend/tensorflow_backend.py:197: The name tf.ConfigProto is deprecated. Please use tf.compat.v1.ConfigProto instead.\n",
            "\n",
            "WARNING:tensorflow:From /usr/local/lib/python3.6/dist-packages/keras/backend/tensorflow_backend.py:203: The name tf.Session is deprecated. Please use tf.compat.v1.Session instead.\n",
            "\n",
            "WARNING:tensorflow:From /usr/local/lib/python3.6/dist-packages/keras/backend/tensorflow_backend.py:207: The name tf.global_variables is deprecated. Please use tf.compat.v1.global_variables instead.\n",
            "\n",
            "WARNING:tensorflow:From /usr/local/lib/python3.6/dist-packages/keras/backend/tensorflow_backend.py:216: The name tf.is_variable_initialized is deprecated. Please use tf.compat.v1.is_variable_initialized instead.\n",
            "\n",
            "WARNING:tensorflow:From /usr/local/lib/python3.6/dist-packages/keras/backend/tensorflow_backend.py:223: The name tf.variables_initializer is deprecated. Please use tf.compat.v1.variables_initializer instead.\n",
            "\n",
            "WARNING:tensorflow:From /usr/local/lib/python3.6/dist-packages/keras/backend/tensorflow_backend.py:148: The name tf.placeholder_with_default is deprecated. Please use tf.compat.v1.placeholder_with_default instead.\n",
            "\n",
            "WARNING:tensorflow:From /usr/local/lib/python3.6/dist-packages/keras/backend/tensorflow_backend.py:3733: calling dropout (from tensorflow.python.ops.nn_ops) with keep_prob is deprecated and will be removed in a future version.\n",
            "Instructions for updating:\n",
            "Please use `rate` instead of `keep_prob`. Rate should be set to `rate = 1 - keep_prob`.\n",
            "WARNING:tensorflow:From /usr/local/lib/python3.6/dist-packages/keras/optimizers.py:793: The name tf.train.Optimizer is deprecated. Please use tf.compat.v1.train.Optimizer instead.\n",
            "\n",
            "WARNING:tensorflow:From /usr/local/lib/python3.6/dist-packages/keras/backend/tensorflow_backend.py:3576: The name tf.log is deprecated. Please use tf.math.log instead.\n",
            "\n",
            "Model: \"model_1\"\n",
            "_________________________________________________________________\n",
            "Layer (type)                 Output Shape              Param #   \n",
            "=================================================================\n",
            "input_1 (InputLayer)         (None, 269)               0         \n",
            "_________________________________________________________________\n",
            "embedding_1 (Embedding)      (None, 269, 100)          10072300  \n",
            "_________________________________________________________________\n",
            "bidirectional_1 (Bidirection (None, 269, 64)           34048     \n",
            "_________________________________________________________________\n",
            "attention_1 (Attention)      (None, 64)                333       \n",
            "_________________________________________________________________\n",
            "dense_1 (Dense)              (None, 2)                 130       \n",
            "=================================================================\n",
            "Total params: 10,106,811\n",
            "Trainable params: 34,511\n",
            "Non-trainable params: 10,072,300\n",
            "_________________________________________________________________\n",
            "None\n",
            "WARNING:tensorflow:From /usr/local/lib/python3.6/dist-packages/tensorflow_core/python/ops/math_grad.py:1424: where (from tensorflow.python.ops.array_ops) is deprecated and will be removed in a future version.\n",
            "Instructions for updating:\n",
            "Use tf.where in 2.0, which has the same broadcast rule as np.where\n",
            "WARNING:tensorflow:From /usr/local/lib/python3.6/dist-packages/keras/backend/tensorflow_backend.py:1033: The name tf.assign_add is deprecated. Please use tf.compat.v1.assign_add instead.\n",
            "\n",
            "WARNING:tensorflow:From /usr/local/lib/python3.6/dist-packages/keras/backend/tensorflow_backend.py:1020: The name tf.assign is deprecated. Please use tf.compat.v1.assign instead.\n",
            "\n",
            "Train on 50000 samples, validate on 15000 samples\n",
            "Epoch 1/50\n",
            "50000/50000 [==============================] - 22s 441us/step - loss: 0.6623 - acc: 0.6389 - val_loss: 0.5803 - val_acc: 0.7161\n",
            "Epoch 2/50\n",
            "50000/50000 [==============================] - 20s 397us/step - loss: 0.5309 - acc: 0.7522 - val_loss: 0.4594 - val_acc: 0.7905\n",
            "Epoch 3/50\n",
            "50000/50000 [==============================] - 20s 399us/step - loss: 0.4613 - acc: 0.7929 - val_loss: 0.3993 - val_acc: 0.8234\n",
            "Epoch 4/50\n",
            "50000/50000 [==============================] - 20s 399us/step - loss: 0.4207 - acc: 0.8169 - val_loss: 0.3650 - val_acc: 0.8431\n",
            "Epoch 5/50\n",
            "50000/50000 [==============================] - 20s 403us/step - loss: 0.3893 - acc: 0.8337 - val_loss: 0.3411 - val_acc: 0.8542\n",
            "Epoch 6/50\n",
            "50000/50000 [==============================] - 20s 398us/step - loss: 0.3755 - acc: 0.8415 - val_loss: 0.3405 - val_acc: 0.8605\n",
            "Epoch 7/50\n",
            "50000/50000 [==============================] - 20s 395us/step - loss: 0.3833 - acc: 0.8363 - val_loss: 0.3534 - val_acc: 0.8523\n",
            "Epoch 8/50\n",
            "50000/50000 [==============================] - 20s 401us/step - loss: 0.3634 - acc: 0.8470 - val_loss: 0.3249 - val_acc: 0.8630\n",
            "Epoch 9/50\n",
            "50000/50000 [==============================] - 20s 400us/step - loss: 0.3472 - acc: 0.8560 - val_loss: 0.3106 - val_acc: 0.8718\n",
            "Epoch 10/50\n",
            "50000/50000 [==============================] - 20s 394us/step - loss: 0.3384 - acc: 0.8589 - val_loss: 0.3125 - val_acc: 0.8701\n",
            "Epoch 11/50\n",
            "50000/50000 [==============================] - 20s 397us/step - loss: 0.3327 - acc: 0.8626 - val_loss: 0.3001 - val_acc: 0.8768\n",
            "Epoch 12/50\n",
            "50000/50000 [==============================] - 20s 405us/step - loss: 0.3255 - acc: 0.8662 - val_loss: 0.3075 - val_acc: 0.8727\n",
            "Epoch 13/50\n",
            "50000/50000 [==============================] - 20s 395us/step - loss: 0.3216 - acc: 0.8667 - val_loss: 0.2909 - val_acc: 0.8809\n",
            "Epoch 14/50\n",
            "50000/50000 [==============================] - 20s 395us/step - loss: 0.3191 - acc: 0.8681 - val_loss: 0.2938 - val_acc: 0.8790\n",
            "Epoch 15/50\n",
            "50000/50000 [==============================] - 20s 398us/step - loss: 0.3128 - acc: 0.8725 - val_loss: 0.2931 - val_acc: 0.8829\n",
            "Epoch 16/50\n",
            "50000/50000 [==============================] - 20s 398us/step - loss: 0.3130 - acc: 0.8720 - val_loss: 0.2896 - val_acc: 0.8840\n",
            "Epoch 17/50\n",
            "50000/50000 [==============================] - 20s 399us/step - loss: 0.3101 - acc: 0.8750 - val_loss: 0.2866 - val_acc: 0.8865\n",
            "Epoch 18/50\n",
            "50000/50000 [==============================] - 20s 398us/step - loss: 0.3035 - acc: 0.8768 - val_loss: 0.2920 - val_acc: 0.8847\n",
            "Epoch 19/50\n",
            "50000/50000 [==============================] - 20s 397us/step - loss: 0.3016 - acc: 0.8780 - val_loss: 0.2835 - val_acc: 0.8868\n",
            "Epoch 20/50\n",
            "50000/50000 [==============================] - 20s 402us/step - loss: 0.2962 - acc: 0.8807 - val_loss: 0.2802 - val_acc: 0.8897\n",
            "Epoch 21/50\n",
            "50000/50000 [==============================] - 20s 400us/step - loss: 0.2928 - acc: 0.8824 - val_loss: 0.2834 - val_acc: 0.8879\n",
            "Epoch 22/50\n",
            "50000/50000 [==============================] - 20s 395us/step - loss: 0.2933 - acc: 0.8804 - val_loss: 0.2798 - val_acc: 0.8891\n",
            "Epoch 23/50\n",
            "50000/50000 [==============================] - 20s 398us/step - loss: 0.2938 - acc: 0.8828 - val_loss: 0.2801 - val_acc: 0.8916\n",
            "Epoch 24/50\n",
            "50000/50000 [==============================] - 20s 400us/step - loss: 0.2866 - acc: 0.8855 - val_loss: 0.2795 - val_acc: 0.8889\n",
            "Epoch 25/50\n",
            "50000/50000 [==============================] - 20s 399us/step - loss: 0.2879 - acc: 0.8842 - val_loss: 0.2800 - val_acc: 0.8897\n",
            "Epoch 26/50\n",
            "50000/50000 [==============================] - 20s 396us/step - loss: 0.2874 - acc: 0.8846 - val_loss: 0.2794 - val_acc: 0.8896\n",
            "Epoch 27/50\n",
            "50000/50000 [==============================] - 20s 401us/step - loss: 0.2814 - acc: 0.8874 - val_loss: 0.2781 - val_acc: 0.8911\n",
            "Epoch 28/50\n",
            "50000/50000 [==============================] - 20s 400us/step - loss: 0.2940 - acc: 0.8839 - val_loss: 0.2887 - val_acc: 0.8855\n",
            "Epoch 29/50\n",
            "50000/50000 [==============================] - 20s 398us/step - loss: 0.2960 - acc: 0.8843 - val_loss: 0.2898 - val_acc: 0.8875\n",
            "Epoch 30/50\n",
            "50000/50000 [==============================] - 20s 400us/step - loss: 0.2938 - acc: 0.8838 - val_loss: 0.2871 - val_acc: 0.8887\n"
          ],
          "name": "stdout"
        }
      ]
    },
    {
      "cell_type": "code",
      "metadata": {
        "id": "3-MxDgCiBTFn",
        "colab_type": "code",
        "colab": {
          "base_uri": "https://localhost:8080/",
          "height": 329
        },
        "outputId": "8ad376a1-aa63-4e04-816e-fe3453e01612"
      },
      "source": [
        "print(final_score(model_1,True))\n",
        "plot_training(hist)"
      ],
      "execution_count": 36,
      "outputs": [
        {
          "output_type": "stream",
          "text": [
            "accuracy 0.8841\n",
            "None\n"
          ],
          "name": "stdout"
        },
        {
          "output_type": "display_data",
          "data": {
            "image/png": "[encoded data removed]",
            "text/plain": [
              "<Figure size 432x288 with 1 Axes>"
            ]
          },
          "metadata": {
            "tags": []
          }
        }
      ]
    },
    {
      "cell_type": "code",
      "metadata": {
        "id": "vbdwIXSLOC_n",
        "colab_type": "code",
        "outputId": "77b1a40b-5dfc-4e21-fec1-0bde7b3a938c",
        "colab": {
          "base_uri": "https://localhost:8080/",
          "height": 1000
        }
      },
      "source": [
        "dropout_rate=.25\n",
        "\n",
        "input_imbd_2 = Input(shape = (max_length,), dtype = 'int32')\n",
        "embedd_seq_2 = Embedding(vocab_size, embedding_dim, weights = [embedding_matrix], input_length = max_length, trainable = False)(input_imbd_2)\n",
        "lstm_layer_2 = Bidirectional(LSTM(32, dropout = dropout_rate,  return_sequences = True ))(embedd_seq_2)\n",
        "lstm_layer_2_2 = Bidirectional(LSTM(16, dropout = dropout_rate,  return_sequences = True ))(lstm_layer_2)\n",
        "attention_2 = Attention(max_length)(lstm_layer_2)\n",
        "attention_2_2 = Attention(max_length)(lstm_layer_2_2)\n",
        "added_2 = Concatenate(axis=-1)([attention_2, attention_2_2])\n",
        "dens_layer_2 = Dense(32)(added_2)\n",
        "pred_layer_2 = Dense(2, activation = 'softmax', kernel_regularizer=l1_l2(0.001))(dens_layer_2)\n",
        "\n",
        "model_1 = Model(inputs = [input_imbd_2], outputs = pred_layer_2)\n",
        "\n",
        "lr = .01\n",
        "opt = Adam(lr=lr, decay=lr/100)\n",
        "\n",
        "model_1.compile(optimizer = opt, loss = 'categorical_crossentropy', metrics = ['accuracy'])\n",
        "print(model_1.summary())\n",
        "\n",
        "early_stopping = EarlyStopping(patience = 3)\n",
        "\n",
        "hist = model_1.fit(x = X_train_pad, y = y_train_enc,\\\n",
        "                 validation_data = (X_test_pad, y_test_enc), \\\n",
        "                 epochs = 50, batch_size = 2048, shuffle = True, \\\n",
        "                 callbacks = [early_stopping])\n",
        "best_score = min(hist.history['val_loss'])"
      ],
      "execution_count": 81,
      "outputs": [
        {
          "output_type": "stream",
          "text": [
            "Model: \"model_5\"\n",
            "__________________________________________________________________________________________________\n",
            "Layer (type)                    Output Shape         Param #     Connected to                     \n",
            "==================================================================================================\n",
            "input_5 (InputLayer)            (None, 269)          0                                            \n",
            "__________________________________________________________________________________________________\n",
            "embedding_5 (Embedding)         (None, 269, 100)     10072300    input_5[0][0]                    \n",
            "__________________________________________________________________________________________________\n",
            "bidirectional_8 (Bidirectional) (None, 269, 64)      34048       embedding_5[0][0]                \n",
            "__________________________________________________________________________________________________\n",
            "bidirectional_9 (Bidirectional) (None, 269, 32)      10368       bidirectional_8[0][0]            \n",
            "__________________________________________________________________________________________________\n",
            "attention_7 (Attention)         (None, 64)           333         bidirectional_8[0][0]            \n",
            "__________________________________________________________________________________________________\n",
            "attention_8 (Attention)         (None, 32)           301         bidirectional_9[0][0]            \n",
            "__________________________________________________________________________________________________\n",
            "concatenate_4 (Concatenate)     (None, 96)           0           attention_7[0][0]                \n",
            "                                                                 attention_8[0][0]                \n",
            "__________________________________________________________________________________________________\n",
            "dense_8 (Dense)                 (None, 32)           3104        concatenate_4[0][0]              \n",
            "__________________________________________________________________________________________________\n",
            "dense_9 (Dense)                 (None, 2)            66          dense_8[0][0]                    \n",
            "==================================================================================================\n",
            "Total params: 10,120,520\n",
            "Trainable params: 48,220\n",
            "Non-trainable params: 10,072,300\n",
            "__________________________________________________________________________________________________\n",
            "None\n",
            "Train on 50000 samples, validate on 15000 samples\n",
            "Epoch 1/50\n",
            "50000/50000 [==============================] - 47s 948us/step - loss: 0.7390 - acc: 0.5312 - val_loss: 0.6894 - val_acc: 0.6705\n",
            "Epoch 2/50\n",
            "50000/50000 [==============================] - 43s 853us/step - loss: 0.6005 - acc: 0.7011 - val_loss: 0.4903 - val_acc: 0.7736\n",
            "Epoch 3/50\n",
            "50000/50000 [==============================] - 41s 826us/step - loss: 0.4644 - acc: 0.7912 - val_loss: 0.3992 - val_acc: 0.8219\n",
            "Epoch 4/50\n",
            "50000/50000 [==============================] - 41s 826us/step - loss: 0.3959 - acc: 0.8280 - val_loss: 0.3373 - val_acc: 0.8585\n",
            "Epoch 5/50\n",
            "50000/50000 [==============================] - 41s 824us/step - loss: 0.3533 - acc: 0.8491 - val_loss: 0.3144 - val_acc: 0.8681\n",
            "Epoch 6/50\n",
            "50000/50000 [==============================] - 41s 827us/step - loss: 0.3338 - acc: 0.8588 - val_loss: 0.3071 - val_acc: 0.8745\n",
            "Epoch 7/50\n",
            "50000/50000 [==============================] - 41s 825us/step - loss: 0.3243 - acc: 0.8632 - val_loss: 0.2963 - val_acc: 0.8776\n",
            "Epoch 8/50\n",
            "50000/50000 [==============================] - 42s 833us/step - loss: 0.3001 - acc: 0.8768 - val_loss: 0.2733 - val_acc: 0.8893\n",
            "Epoch 9/50\n",
            "50000/50000 [==============================] - 41s 826us/step - loss: 0.2890 - acc: 0.8815 - val_loss: 0.2662 - val_acc: 0.8909\n",
            "Epoch 10/50\n",
            "50000/50000 [==============================] - 41s 822us/step - loss: 0.2742 - acc: 0.8876 - val_loss: 0.2764 - val_acc: 0.8874\n",
            "Epoch 11/50\n",
            "50000/50000 [==============================] - 41s 823us/step - loss: 0.2736 - acc: 0.8879 - val_loss: 0.2597 - val_acc: 0.8937\n",
            "Epoch 12/50\n",
            "50000/50000 [==============================] - 41s 828us/step - loss: 0.2578 - acc: 0.8956 - val_loss: 0.2562 - val_acc: 0.8975\n",
            "Epoch 13/50\n",
            "50000/50000 [==============================] - 41s 826us/step - loss: 0.2478 - acc: 0.9006 - val_loss: 0.2518 - val_acc: 0.8966\n",
            "Epoch 14/50\n",
            "50000/50000 [==============================] - 41s 825us/step - loss: 0.2529 - acc: 0.8989 - val_loss: 0.2534 - val_acc: 0.8987\n",
            "Epoch 15/50\n",
            "50000/50000 [==============================] - 41s 828us/step - loss: 0.2374 - acc: 0.9059 - val_loss: 0.2602 - val_acc: 0.8999\n",
            "Epoch 16/50\n",
            "50000/50000 [==============================] - 41s 829us/step - loss: 0.2361 - acc: 0.9043 - val_loss: 0.2572 - val_acc: 0.8991\n"
          ],
          "name": "stdout"
        }
      ]
    },
    {
      "cell_type": "code",
      "metadata": {
        "id": "q5EogTQ0Gr8S",
        "colab_type": "code",
        "colab": {
          "base_uri": "https://localhost:8080/",
          "height": 329
        },
        "outputId": "49a6339b-3309-4ee1-a3fa-43d5cf571ac6"
      },
      "source": [
        "print(final_score(model_1,True))\n",
        "plot_training(hist)"
      ],
      "execution_count": 82,
      "outputs": [
        {
          "output_type": "stream",
          "text": [
            "accuracy 0.8976\n",
            "None\n"
          ],
          "name": "stdout"
        },
        {
          "output_type": "display_data",
          "data": {
            "image/png": "[encoded data removed]",
            "text/plain": [
              "<Figure size 432x288 with 1 Axes>"
            ]
          },
          "metadata": {
            "tags": []
          }
        }
      ]
    },
    {
      "cell_type": "markdown",
      "metadata": {
        "id": "0n4FSJ7a1QGd",
        "colab_type": "text"
      },
      "source": [
        "## Fasttext"
      ]
    },
    {
      "cell_type": "code",
      "metadata": {
        "id": "yUI3Sc9YTGtI",
        "colab_type": "code",
        "colab": {}
      },
      "source": [
        "from gensim.models import FastText\n",
        "model_ted = FastText( size=100, window=7, min_count=5, workers=4,sg=1)\n",
        "model_ted.build_vocab(sentences=texts_prepro)\n",
        "model_ted.train(sentences=texts_prepro, total_examples=len(texts_prepro), epochs=10)  # train"
      ],
      "execution_count": 0,
      "outputs": []
    },
    {
      "cell_type": "code",
      "metadata": {
        "id": "NLfySC-4Uwfl",
        "colab_type": "code",
        "colab": {}
      },
      "source": [
        "#vocab_to_emb = utils.load_embed_dict('vocab_to_emb_w2v_300.p')\n",
        "embedding_matrix = np.zeros((vocab_size, embedding_dim))\n",
        "\n",
        "for word,i in tokenizer_.word_index.items():\n",
        "    try:\n",
        "        embedding_matrix[i] = model_ted.wv[word]\n",
        "    except KeyError:\n",
        "        embedding_matrix[i] = np.random.rand(embedding_dim)"
      ],
      "execution_count": 0,
      "outputs": []
    },
    {
      "cell_type": "code",
      "metadata": {
        "id": "rUOXKZ51UwjB",
        "colab_type": "code",
        "colab": {
          "base_uri": "https://localhost:8080/",
          "height": 1000
        },
        "outputId": "db6a2fdb-15ba-44cf-a89a-893861ed50f6"
      },
      "source": [
        "keras.backend.clear_session()\n",
        "\n",
        "embedding_dim = 100\n",
        "dropout_rate=.4\n",
        "\n",
        "input_imbd_2 = Input(shape = (max_length,), dtype = 'int32')\n",
        "embedd_seq_2 = Embedding(vocab_size, embedding_dim, weights = [embedding_matrix], input_length = max_length, trainable = True)(input_imbd_2)\n",
        "lstm_layer_2 = Bidirectional(LSTM(16, dropout = dropout_rate, recurrent_dropout = dropout_rate, return_sequences = True ))(embedd_seq_2)\n",
        "pool_layer_2 = GlobalMaxPool1D()(lstm_layer_2)\n",
        "pred_layer_2 = Dense(2, activation = 'sigmoid', kernel_regularizer=l1_l2(0.0001))(pool_layer_2)\n",
        "\n",
        "model = Model(inputs = [input_imbd_2], outputs = pred_layer_2)\n",
        "\n",
        "lr = .001\n",
        "opt = Adam(lr=lr, decay=lr/100)\n",
        "\n",
        "model.compile(optimizer = opt, loss = 'binary_crossentropy', metrics = ['accuracy'])\n",
        "print(model.summary())\n",
        "\n",
        "early_stopping = EarlyStopping(patience = 4)\n",
        "\n",
        "hist = model.fit(x = X_train_pad, y = y_train_enc,\\\n",
        "                 validation_data = (X_test_pad, y_test_enc), \\\n",
        "                 epochs = 50, batch_size = 2096, shuffle = True, \\\n",
        "                 callbacks = [early_stopping])\n",
        "\n",
        "best_score = min(hist.history['val_loss'])"
      ],
      "execution_count": 89,
      "outputs": [
        {
          "output_type": "stream",
          "text": [
            "Model: \"model_1\"\n",
            "_________________________________________________________________\n",
            "Layer (type)                 Output Shape              Param #   \n",
            "=================================================================\n",
            "input_1 (InputLayer)         (None, 269)               0         \n",
            "_________________________________________________________________\n",
            "embedding_1 (Embedding)      (None, 269, 100)          10072300  \n",
            "_________________________________________________________________\n",
            "bidirectional_1 (Bidirection (None, 269, 32)           14976     \n",
            "_________________________________________________________________\n",
            "global_max_pooling1d_1 (Glob (None, 32)                0         \n",
            "_________________________________________________________________\n",
            "dense_1 (Dense)              (None, 2)                 66        \n",
            "=================================================================\n",
            "Total params: 10,087,342\n",
            "Trainable params: 10,087,342\n",
            "Non-trainable params: 0\n",
            "_________________________________________________________________\n",
            "None\n",
            "Train on 50000 samples, validate on 15000 samples\n",
            "Epoch 1/50\n",
            "50000/50000 [==============================] - 25s 501us/step - loss: 0.7364 - acc: 0.5015 - val_loss: 0.7244 - val_acc: 0.5470\n",
            "Epoch 2/50\n",
            "50000/50000 [==============================] - 23s 467us/step - loss: 0.7241 - acc: 0.5170 - val_loss: 0.7160 - val_acc: 0.5994\n",
            "Epoch 3/50\n",
            "50000/50000 [==============================] - 23s 465us/step - loss: 0.7153 - acc: 0.5482 - val_loss: 0.7067 - val_acc: 0.6695\n",
            "Epoch 4/50\n",
            "50000/50000 [==============================] - 23s 465us/step - loss: 0.7068 - acc: 0.5858 - val_loss: 0.6972 - val_acc: 0.6944\n",
            "Epoch 5/50\n",
            "50000/50000 [==============================] - 23s 469us/step - loss: 0.6983 - acc: 0.6180 - val_loss: 0.6870 - val_acc: 0.7067\n",
            "Epoch 6/50\n",
            "50000/50000 [==============================] - 23s 465us/step - loss: 0.6883 - acc: 0.6568 - val_loss: 0.6732 - val_acc: 0.7282\n",
            "Epoch 7/50\n",
            "50000/50000 [==============================] - 23s 461us/step - loss: 0.6743 - acc: 0.6893 - val_loss: 0.6526 - val_acc: 0.7499\n",
            "Epoch 8/50\n",
            "50000/50000 [==============================] - 23s 461us/step - loss: 0.6539 - acc: 0.7264 - val_loss: 0.6256 - val_acc: 0.7639\n",
            "Epoch 9/50\n",
            "50000/50000 [==============================] - 23s 468us/step - loss: 0.6262 - acc: 0.7481 - val_loss: 0.5918 - val_acc: 0.7707\n",
            "Epoch 10/50\n",
            "50000/50000 [==============================] - 23s 463us/step - loss: 0.5928 - acc: 0.7592 - val_loss: 0.5568 - val_acc: 0.7738\n",
            "Epoch 11/50\n",
            "50000/50000 [==============================] - 23s 462us/step - loss: 0.5596 - acc: 0.7688 - val_loss: 0.5286 - val_acc: 0.7835\n",
            "Epoch 12/50\n",
            "50000/50000 [==============================] - 23s 460us/step - loss: 0.5308 - acc: 0.7839 - val_loss: 0.5068 - val_acc: 0.7945\n",
            "Epoch 13/50\n",
            "50000/50000 [==============================] - 24s 471us/step - loss: 0.5090 - acc: 0.7961 - val_loss: 0.4912 - val_acc: 0.8027\n",
            "Epoch 14/50\n",
            "50000/50000 [==============================] - 23s 468us/step - loss: 0.4898 - acc: 0.8072 - val_loss: 0.4788 - val_acc: 0.8098\n",
            "Epoch 15/50\n",
            "50000/50000 [==============================] - 23s 468us/step - loss: 0.4737 - acc: 0.8160 - val_loss: 0.4700 - val_acc: 0.8144\n",
            "Epoch 16/50\n",
            "50000/50000 [==============================] - 23s 465us/step - loss: 0.4600 - acc: 0.8239 - val_loss: 0.4618 - val_acc: 0.8169\n",
            "Epoch 17/50\n",
            "50000/50000 [==============================] - 23s 460us/step - loss: 0.4466 - acc: 0.8307 - val_loss: 0.4541 - val_acc: 0.8204\n",
            "Epoch 18/50\n",
            "50000/50000 [==============================] - 23s 462us/step - loss: 0.4342 - acc: 0.8368 - val_loss: 0.4465 - val_acc: 0.8263\n",
            "Epoch 19/50\n",
            "50000/50000 [==============================] - 23s 463us/step - loss: 0.4195 - acc: 0.8454 - val_loss: 0.4419 - val_acc: 0.8261\n",
            "Epoch 20/50\n",
            "50000/50000 [==============================] - 23s 465us/step - loss: 0.4087 - acc: 0.8516 - val_loss: 0.4386 - val_acc: 0.8283\n",
            "Epoch 21/50\n",
            "50000/50000 [==============================] - 23s 464us/step - loss: 0.3965 - acc: 0.8581 - val_loss: 0.4335 - val_acc: 0.8314\n",
            "Epoch 22/50\n",
            "50000/50000 [==============================] - 23s 468us/step - loss: 0.3854 - acc: 0.8661 - val_loss: 0.4293 - val_acc: 0.8346\n",
            "Epoch 23/50\n",
            "50000/50000 [==============================] - 23s 461us/step - loss: 0.3749 - acc: 0.8709 - val_loss: 0.4288 - val_acc: 0.8331\n",
            "Epoch 24/50\n",
            "50000/50000 [==============================] - 23s 462us/step - loss: 0.3651 - acc: 0.8771 - val_loss: 0.4274 - val_acc: 0.8343\n",
            "Epoch 25/50\n",
            "50000/50000 [==============================] - 23s 459us/step - loss: 0.3562 - acc: 0.8819 - val_loss: 0.4271 - val_acc: 0.8346\n",
            "Epoch 26/50\n",
            "50000/50000 [==============================] - 23s 465us/step - loss: 0.3486 - acc: 0.8865 - val_loss: 0.4284 - val_acc: 0.8345\n",
            "Epoch 27/50\n",
            "50000/50000 [==============================] - 23s 465us/step - loss: 0.3398 - acc: 0.8901 - val_loss: 0.4277 - val_acc: 0.8367\n",
            "Epoch 28/50\n",
            "50000/50000 [==============================] - 23s 459us/step - loss: 0.3337 - acc: 0.8950 - val_loss: 0.4275 - val_acc: 0.8368\n",
            "Epoch 29/50\n",
            "50000/50000 [==============================] - 23s 464us/step - loss: 0.3255 - acc: 0.8988 - val_loss: 0.4284 - val_acc: 0.8362\n"
          ],
          "name": "stdout"
        }
      ]
    },
    {
      "cell_type": "code",
      "metadata": {
        "id": "BBD0AAMYtglY",
        "colab_type": "code",
        "colab": {
          "base_uri": "https://localhost:8080/",
          "height": 295
        },
        "outputId": "2e45ba8a-d0f1-4cd5-f3c7-afc3a2038c7e"
      },
      "source": [
        "print(final_score(model_1,True))\n",
        "plot_training(hist)"
      ],
      "execution_count": 91,
      "outputs": [
        {
          "output_type": "display_data",
          "data": {
            "image/png": "[encoded data removed]",
            "text/plain": [
              "<Figure size 432x288 with 1 Axes>"
            ]
          },
          "metadata": {
            "tags": []
          }
        }
      ]
    },
    {
      "cell_type": "markdown",
      "metadata": {
        "id": "8yOiqFYSVqzb",
        "colab_type": "text"
      },
      "source": [
        "## BERT"
      ]
    },
    {
      "cell_type": "code",
      "metadata": {
        "id": "dC_GNnxkC3m9",
        "colab_type": "code",
        "colab": {}
      },
      "source": [
        "%%capture\n",
        "!pip install ktrain\n",
        "import ktrain\n",
        "from ktrain import text as txt"
      ],
      "execution_count": 0,
      "outputs": []
    },
    {
      "cell_type": "code",
      "metadata": {
        "id": "_Of4ngS6Uwck",
        "colab_type": "code",
        "outputId": "fff212d6-2ef7-4e22-efd9-b727ec41cfdf",
        "colab": {
          "base_uri": "https://localhost:8080/",
          "height": 136
        }
      },
      "source": [
        "(x_train, y_train), (x_test, y_test), preproc = txt.texts_from_folder('aclImdb', maxlen=269, \n",
        "                                                                     preprocess_mode='bert',\n",
        "                                                                     train_test_names=['train', 'test'],\n",
        "                                                                     classes=['pos', 'neg'])\n"
      ],
      "execution_count": 94,
      "outputs": [
        {
          "output_type": "stream",
          "text": [
            "detected encoding: utf-8\n",
            "preprocessing train...\n",
            "language: en\n"
          ],
          "name": "stdout"
        },
        {
          "output_type": "display_data",
          "data": {
            "text/html": [
              "done."
            ],
            "text/plain": [
              "<IPython.core.display.HTML object>"
            ]
          },
          "metadata": {
            "tags": []
          }
        },
        {
          "output_type": "stream",
          "text": [
            "preprocessing test...\n",
            "language: en\n"
          ],
          "name": "stdout"
        },
        {
          "output_type": "display_data",
          "data": {
            "text/html": [
              "done."
            ],
            "text/plain": [
              "<IPython.core.display.HTML object>"
            ]
          },
          "metadata": {
            "tags": []
          }
        }
      ]
    },
    {
      "cell_type": "code",
      "metadata": {
        "id": "Ejno6h1qEDgg",
        "colab_type": "code",
        "colab": {
          "base_uri": "https://localhost:8080/",
          "height": 68
        },
        "outputId": "e96826b0-59d3-4617-e25a-a9d95e585510"
      },
      "source": [
        "# load model\n",
        "model = txt.text_classifier('bert', (x_train, y_train), preproc=preproc)\n",
        "\n",
        " \n",
        "# wrap model and data in ktrain.Learner object\n",
        "learner = ktrain.get_learner(model, \n",
        "                             train_data=(x_train, y_train), \n",
        "                             val_data=(x_test, y_test), \n",
        "                             batch_size=4)"
      ],
      "execution_count": 95,
      "outputs": [
        {
          "output_type": "stream",
          "text": [
            "Is Multi-Label? False\n",
            "maxlen is 269\n",
            "done.\n"
          ],
          "name": "stdout"
        }
      ]
    },
    {
      "cell_type": "code",
      "metadata": {
        "id": "sosbrv97VwiD",
        "colab_type": "code",
        "colab": {}
      },
      "source": [
        "#learner.lr_find()             # briefly simulate training to find good learning rate\n",
        "#learner.lr_plot()             # visually identify best learning rate"
      ],
      "execution_count": 0,
      "outputs": []
    },
    {
      "cell_type": "code",
      "metadata": {
        "id": "AbqtFQggVwmP",
        "colab_type": "code",
        "colab": {
          "base_uri": "https://localhost:8080/",
          "height": 204
        },
        "outputId": "ebe7066a-3eaa-48df-9e4e-d58329c5c4f3"
      },
      "source": [
        "# using 1cycle learning rate schedule for 3 epochs\n",
        "learner.fit_onecycle(2e-5, 3) "
      ],
      "execution_count": 96,
      "outputs": [
        {
          "output_type": "stream",
          "text": [
            "\n",
            "\n",
            "begin training using onecycle policy with max lr of 2e-05...\n",
            "Train on 25000 samples, validate on 25000 samples\n",
            "Epoch 1/3\n",
            "25000/25000 [==============================] - 1352s 54ms/sample - loss: 0.2817 - acc: 0.8805 - val_loss: 0.2675 - val_acc: 0.8948\n",
            "Epoch 2/3\n",
            "25000/25000 [==============================] - 1347s 54ms/sample - loss: 0.1839 - acc: 0.9292 - val_loss: 0.2022 - val_acc: 0.9218\n",
            "Epoch 3/3\n",
            "25000/25000 [==============================] - 1349s 54ms/sample - loss: 0.0583 - acc: 0.9800 - val_loss: 0.2422 - val_acc: 0.9250\n"
          ],
          "name": "stdout"
        },
        {
          "output_type": "execute_result",
          "data": {
            "text/plain": [
              "<tensorflow.python.keras.callbacks.History at 0x7f90beb12a20>"
            ]
          },
          "metadata": {
            "tags": []
          },
          "execution_count": 96
        }
      ]
    },
    {
      "cell_type": "code",
      "metadata": {
        "id": "ecGQh-3lV1Nb",
        "colab_type": "code",
        "colab": {}
      },
      "source": [
        "learner.view_top_losses(n=1, preproc=preproc)\n",
        " "
      ],
      "execution_count": 0,
      "outputs": []
    },
    {
      "cell_type": "code",
      "metadata": {
        "id": "Cfu3oxZOnutv",
        "colab_type": "code",
        "colab": {}
      },
      "source": [
        ""
      ],
      "execution_count": 0,
      "outputs": []
    }
  ]
}