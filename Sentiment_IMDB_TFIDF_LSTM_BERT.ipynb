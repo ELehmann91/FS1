{
  "nbformat": 4,
  "nbformat_minor": 0,
  "metadata": {
    "accelerator": "GPU",
    "colab": {
      "name": "Sentiment_IMDB_TFIDF_LSTM_BERT.ipynb",
      "provenance": [],
      "collapsed_sections": [],
      "toc_visible": true,
      "machine_shape": "hm",
      "include_colab_link": true
    },
    "kernelspec": {
      "name": "python3",
      "display_name": "Python 3"
    },
    "varInspector": {
      "cols": {
        "lenName": 16,
        "lenType": 16,
        "lenVar": 40
      },
      "kernels_config": {
        "python": {
          "delete_cmd_postfix": "",
          "delete_cmd_prefix": "del ",
          "library": "var_list.py",
          "varRefreshCmd": "print(var_dic_list())"
        },
        "r": {
          "delete_cmd_postfix": ") ",
          "delete_cmd_prefix": "rm(",
          "library": "var_list.r",
          "varRefreshCmd": "cat(var_dic_list()) "
        }
      },
      "types_to_exclude": [
        "module",
        "function",
        "builtin_function_or_method",
        "instance",
        "_Feature"
      ],
      "window_display": false
    }
  },
  "cells": [
    {
      "cell_type": "markdown",
      "metadata": {
        "id": "view-in-github",
        "colab_type": "text"
      },
      "source": [
        "<a href=\"https://colab.research.google.com/github/ELehmann91/FS1/blob/master/Sentiment_IMDB_TFIDF_LSTM_BERT.ipynb\" target=\"_parent\"><img src=\"https://colab.research.google.com/assets/colab-badge.svg\" alt=\"Open In Colab\"/></a>"
      ]
    },
    {
      "cell_type": "markdown",
      "metadata": {
        "id": "jvYHATwNwz4Z",
        "colab_type": "text"
      },
      "source": [
        "# Sentiment classification - close to the state of the art\n",
        "\n",
        "The task of classifying sentiments of texts (for example movie or product reviews) has high practical significance in online marketing as well as financial prediction. This is a non-trivial task, since the concept of sentiment is not easily captured.\n",
        "\n",
        "For this assignment you have to use the larger [IMDB sentiment](https://ai.stanford.edu/~amaas/data/sentiment/aclImdb_v1.tar.gz) benchmark dataset from Stanford, an achieve close to state of the art results.\n",
        "\n",
        "The task is to try out multiple models in ascending complexity, namely:\n",
        "\n",
        "1. TFIDF + classical statistical model (eg. RandomForest)\n",
        "2. LSTM classification model\n",
        "3. LSTM model, where the embeddings are initialized with pre-trained GloVe vectors\n",
        "4. fastText model\n",
        "5. BERT based model (you are advised to use a pre-trained one and finetune, since the resource consumption is considerable!)\n",
        "\n",
        "You should get over 90% validation accuracy (though nearly 94 is achievable).\n",
        "\n",
        "You are allowed to use any library or tool, though the Keras environment, and some wrappers on top (ie. Ktrain) make your life easier.\n",
        "\n",
        "\n",
        "\n"
      ]
    },
    {
      "cell_type": "markdown",
      "metadata": {
        "id": "4nRUoIbGwz4e",
        "colab_type": "text"
      },
      "source": [
        "__Groups__\n",
        "This assignment is to be completed individually, two weeks after the class has finished. For the precise deadline please see canvas.\n",
        "\n",
        "__Format of submission__\n",
        "You need to submit a pdf of your Google Collab notebooks.\n",
        "\n",
        "__Due date__\n",
        "Two weeks after the class has finished. For the precise deadline please see canvas.\n",
        "\n",
        "Grade distribution:\n",
        "1. TFIDF + classical statistical model (eg. RandomForest) (25% of the final grade)\n",
        "2. LSTM classification model (15% of the final grade)\n",
        "3. LSTM model, where the embeddings are initialized with pre-trained GloVe vectors (15% of the final grade)\n",
        "4. fastText model (15% of the final grade)\n",
        "5. BERT based model (you are advised to use a pre-trained one and finetune it, since the resource consumption is considerable!) (30% of the final grade). For BERT you should get over 90% validation accuracy (though nearly 94% is achievable).\n",
        "\n",
        "\n",
        "__For each of the models, the marks will be awarded according to the following three criteria__:\n",
        "\n",
        "(1) The (appropriately measured) accuracy of your prediction for the task. The more accurate the prediction is, the better. Note that you need to validate the predictive accuracy of your model on a hold-out of unseen data that the model has not been trained with.\n",
        "\n",
        "(2) How well you motivate the use of the model - what in this model's structure makes it suited for representing sentiment? After using the model for the task how well you evaluate the accuracy you got for each model and discuss the main advantages and disadvantages the model has in the particular modelling task. At best you take part of the modelling to support your arguments.\n",
        "\n",
        "(3) The consistency of your take-aways, i.e. what you have learned from your analyses. Also, analyze when the model is good and when and where it does not predict well.\n",
        "\n",
        "Please make sure that you comment with # on the separates steps of the code you have produced. For the verbal description and analyses plesae insert markdown cells.\n",
        "\n",
        "\n",
        "__Plagiarism__: The Frankfurt School does not accept any plagiarism. Data science is a collaborative exercise and you can discuss the research question with your classmates from other groups, if you like. You must not copy any code or text though. Plagiarism will be prosecuted and will result in a mark of 0 and you failing this class.\n",
        "\n",
        "After carefully reading this document and having had a look at the data you may still have questions. Please submit those question to the public Q&A board in canvas and we will answer each question, so "
      ]
    },
    {
      "cell_type": "markdown",
      "metadata": {
        "id": "T7T650wf40xG",
        "colab_type": "text"
      },
      "source": [
        "# Imports"
      ]
    },
    {
      "cell_type": "markdown",
      "metadata": {
        "id": "EYNGkf8swe8P",
        "colab_type": "text"
      },
      "source": [
        "## Attention Layer"
      ]
    },
    {
      "cell_type": "code",
      "metadata": {
        "id": "qrCxjQjH8c4s",
        "colab_type": "code",
        "outputId": "fe462ce9-b2fb-4ad3-f2a7-ec69a4003072",
        "colab": {
          "base_uri": "https://localhost:8080/",
          "height": 34
        }
      },
      "source": [
        "#!/usr/bin/env python3\n",
        "# -*- coding: utf-8 -*-\n",
        "\"\"\"\n",
        "Created on Thu Jul 15 19:20:18 2018\n",
        "\n",
        "@author: himanshu\n",
        "\"\"\"\n",
        "\n",
        "import os\n",
        "import re\n",
        "import csv\n",
        "import codecs\n",
        "import numpy as np\n",
        "import pandas as pd\n",
        "\n",
        "from nltk.corpus import stopwords\n",
        "from nltk.stem import SnowballStemmer\n",
        "from string import punctuation\n",
        "\n",
        "from gensim.models import KeyedVectors\n",
        "from keras.preprocessing.text import Tokenizer\n",
        "from keras.preprocessing.sequence import pad_sequences\n",
        "from keras.layers import Dense, Input, LSTM, Embedding, Dropout, Activation\n",
        "from keras.layers.merge import concatenate\n",
        "from keras.models import Model\n",
        "from keras.layers.normalization import BatchNormalization\n",
        "from keras.callbacks import EarlyStopping, ModelCheckpoint\n",
        "from keras.optimizers import Adam\n",
        "import sys\n",
        "\n",
        "from keras import backend as K\n",
        "from keras.engine.topology import Layer\n",
        "#from keras import initializations\n",
        "from keras import initializers, regularizers, constraints\n",
        "from sklearn.metrics import roc_auc_score\n",
        "\n",
        "class Attention(Layer):\n",
        "     # Input shape 3D tensor with shape: `(samples, steps, features)`.\n",
        "     # Output shape 2D tensor with shape: `(samples, features)`.\n",
        "\n",
        "    def __init__(self, step_dim,W_regulizer = None,b_regulizer = None,\n",
        "                 W_constraint = None, b_constraint = None,bias = True,**kwargs):\n",
        "        \n",
        "        self.W_regulizer = W_regulizer\n",
        "        self.b_regulizer = b_regulizer\n",
        "        \n",
        "        self.W_constraint = W_constraint\n",
        "        self.b_constraint = b_constraint\n",
        "        \n",
        "        self.bias = bias\n",
        "        self.step_dim = step_dim\n",
        "        self.features_dim = 0\n",
        "        self.init = initializers.get('glorot_uniform')\n",
        "        super(Attention, self).__init__(**kwargs)\n",
        "\n",
        "    def build(self, input_shape):\n",
        "        assert len(input_shape) == 3\n",
        "        # Create a trainable weight variable for this layer.\n",
        "        self.W = self.add_weight(name='kernel', \n",
        "                                      shape=(input_shape[-1],),\n",
        "                                      initializer= self.init,\n",
        "                                      constraint = self.W_constraint,\n",
        "                                      regularizer = self.W_regulizer)#,\n",
        "                                      #name = '{}_W'.format(self.name))\n",
        "        \n",
        "        self.features_dim = input_shape[-1]\n",
        "        \n",
        "        if self.bias:\n",
        "            self.b = self.add_weight((input_shape[1],),\n",
        "                                     initializer='zero',\n",
        "                                     name='{}_b'.format(self.name),\n",
        "                                     regularizer=self.b_regulizer,\n",
        "                                     constraint=self.b_constraint)\n",
        "        else:\n",
        "            self.b = None\n",
        "        super(Attention, self).build(input_shape)  \n",
        "\n",
        "    \n",
        "    def call(self, x, mask=None):\n",
        "      \n",
        "        features_dim = self.features_dim\n",
        "        step_dim = self.step_dim\n",
        "\n",
        "        eij = K.reshape(K.dot(K.reshape(x, (-1, features_dim)), K.reshape(self.W, (features_dim, 1))), (-1, step_dim))\n",
        "\n",
        "        if self.bias:\n",
        "            eij += self.b\n",
        "\n",
        "        eij = K.tanh(eij)\n",
        "\n",
        "        a = K.exp(eij)\n",
        "\n",
        "        # apply mask after the exp. will be re-normalized next\n",
        "        if mask is not None:\n",
        "           \n",
        "            a *= K.cast(mask, K.floatx())\n",
        "\n",
        "        a /= K.cast(K.sum(a, axis=1, keepdims=True) + K.epsilon(), K.floatx())\n",
        "\n",
        "        a = K.expand_dims(a)\n",
        "        weighted_input = x * a\n",
        "    \n",
        "        return K.sum(weighted_input, axis=1)\n",
        "\n",
        "    def compute_output_shape(self, input_shape):\n",
        "        return input_shape[0],  self.features_dim\n",
        "  \n",
        "import warnings\n",
        "warnings.filterwarnings('ignore')"
      ],
      "execution_count": 8,
      "outputs": [
        {
          "output_type": "stream",
          "text": [
            "Using TensorFlow backend.\n"
          ],
          "name": "stderr"
        }
      ]
    },
    {
      "cell_type": "markdown",
      "metadata": {
        "id": "0d2Z7yO94-qO",
        "colab_type": "text"
      },
      "source": [
        "## Download Data"
      ]
    },
    {
      "cell_type": "code",
      "metadata": {
        "colab_type": "code",
        "id": "gEwjTzd8rqjR",
        "outputId": "6184af0a-ee81-4b94-fd92-5b49122acac7",
        "colab": {
          "base_uri": "https://localhost:8080/",
          "height": 255
        }
      },
      "source": [
        "!wget https://ai.stanford.edu/~amaas/data/sentiment/aclImdb_v1.tar.gz\n",
        "!tar -xzf aclImdb_v1.tar.gz\n",
        "!ls"
      ],
      "execution_count": 245,
      "outputs": [
        {
          "output_type": "stream",
          "text": [
            "--2019-12-20 15:38:52--  https://ai.stanford.edu/~amaas/data/sentiment/aclImdb_v1.tar.gz\n",
            "Resolving ai.stanford.edu (ai.stanford.edu)... 171.64.68.10\n",
            "Connecting to ai.stanford.edu (ai.stanford.edu)|171.64.68.10|:443... connected.\n",
            "HTTP request sent, awaiting response... 200 OK\n",
            "Length: 84125825 (80M) [application/x-gzip]\n",
            "Saving to: ‘aclImdb_v1.tar.gz.2’\n",
            "\n",
            "aclImdb_v1.tar.gz.2 100%[===================>]  80.23M  60.2MB/s    in 1.3s    \n",
            "\n",
            "2019-12-20 15:38:54 (60.2 MB/s) - ‘aclImdb_v1.tar.gz.2’ saved [84125825/84125825]\n",
            "\n",
            "aclImdb\t\t     aclImdb_v1.tar.gz.2  glove.6B.300d.txt  sample_data\n",
            "aclImdb_v1.tar.gz    glove.6B.100d.txt\t  glove.6B.50d.txt\n",
            "aclImdb_v1.tar.gz.1  glove.6B.200d.txt\t  glove.6B.zip\n"
          ],
          "name": "stdout"
        }
      ]
    },
    {
      "cell_type": "code",
      "metadata": {
        "id": "sbEvOUEuSnR-",
        "colab_type": "code",
        "outputId": "52f4f1e2-8415-42f4-8bd3-6bf8a7ed8c37",
        "colab": {
          "base_uri": "https://localhost:8080/",
          "height": 34
        }
      },
      "source": [
        "!ls aclImdb  "
      ],
      "execution_count": 10,
      "outputs": [
        {
          "output_type": "stream",
          "text": [
            "imdbEr.txt  imdb.vocab\tREADME\ttest  train\n"
          ],
          "name": "stdout"
        }
      ]
    },
    {
      "cell_type": "code",
      "metadata": {
        "id": "drl2OTYRckk_",
        "colab_type": "code",
        "outputId": "c3e842a8-3861-4bd5-d4d6-e7bf461d9f67",
        "colab": {
          "base_uri": "https://localhost:8080/",
          "height": 1601
        }
      },
      "source": [
        "!cat aclImdb/README  "
      ],
      "execution_count": 11,
      "outputs": [
        {
          "output_type": "stream",
          "text": [
            "Large Movie Review Dataset v1.0\n",
            "\n",
            "Overview\n",
            "\n",
            "This dataset contains movie reviews along with their associated binary\n",
            "sentiment polarity labels. It is intended to serve as a benchmark for\n",
            "sentiment classification. This document outlines how the dataset was\n",
            "gathered, and how to use the files provided. \n",
            "\n",
            "Dataset \n",
            "\n",
            "The core dataset contains 50,000 reviews split evenly into 25k train\n",
            "and 25k test sets. The overall distribution of labels is balanced (25k\n",
            "pos and 25k neg). We also include an additional 50,000 unlabeled\n",
            "documents for unsupervised learning. \n",
            "\n",
            "In the entire collection, no more than 30 reviews are allowed for any\n",
            "given movie because reviews for the same movie tend to have correlated\n",
            "ratings. Further, the train and test sets contain a disjoint set of\n",
            "movies, so no significant performance is obtained by memorizing\n",
            "movie-unique terms and their associated with observed labels.  In the\n",
            "labeled train/test sets, a negative review has a score <= 4 out of 10,\n",
            "and a positive review has a score >= 7 out of 10. Thus reviews with\n",
            "more neutral ratings are not included in the train/test sets. In the\n",
            "unsupervised set, reviews of any rating are included and there are an\n",
            "even number of reviews > 5 and <= 5.\n",
            "\n",
            "Files\n",
            "\n",
            "There are two top-level directories [train/, test/] corresponding to\n",
            "the training and test sets. Each contains [pos/, neg/] directories for\n",
            "the reviews with binary labels positive and negative. Within these\n",
            "directories, reviews are stored in text files named following the\n",
            "convention [[id]_[rating].txt] where [id] is a unique id and [rating] is\n",
            "the star rating for that review on a 1-10 scale. For example, the file\n",
            "[test/pos/200_8.txt] is the text for a positive-labeled test set\n",
            "example with unique id 200 and star rating 8/10 from IMDb. The\n",
            "[train/unsup/] directory has 0 for all ratings because the ratings are\n",
            "omitted for this portion of the dataset.\n",
            "\n",
            "We also include the IMDb URLs for each review in a separate\n",
            "[urls_[pos, neg, unsup].txt] file. A review with unique id 200 will\n",
            "have its URL on line 200 of this file. Due the ever-changing IMDb, we\n",
            "are unable to link directly to the review, but only to the movie's\n",
            "review page.\n",
            "\n",
            "In addition to the review text files, we include already-tokenized bag\n",
            "of words (BoW) features that were used in our experiments. These \n",
            "are stored in .feat files in the train/test directories. Each .feat\n",
            "file is in LIBSVM format, an ascii sparse-vector format for labeled\n",
            "data.  The feature indices in these files start from 0, and the text\n",
            "tokens corresponding to a feature index is found in [imdb.vocab]. So a\n",
            "line with 0:7 in a .feat file means the first word in [imdb.vocab]\n",
            "(the) appears 7 times in that review.\n",
            "\n",
            "LIBSVM page for details on .feat file format:\n",
            "http://www.csie.ntu.edu.tw/~cjlin/libsvm/\n",
            "\n",
            "We also include [imdbEr.txt] which contains the expected rating for\n",
            "each token in [imdb.vocab] as computed by (Potts, 2011). The expected\n",
            "rating is a good way to get a sense for the average polarity of a word\n",
            "in the dataset.\n",
            "\n",
            "Citing the dataset\n",
            "\n",
            "When using this dataset please cite our ACL 2011 paper which\n",
            "introduces it. This paper also contains classification results which\n",
            "you may want to compare against.\n",
            "\n",
            "\n",
            "@InProceedings{maas-EtAl:2011:ACL-HLT2011,\n",
            "  author    = {Maas, Andrew L.  and  Daly, Raymond E.  and  Pham, Peter T.  and  Huang, Dan  and  Ng, Andrew Y.  and  Potts, Christopher},\n",
            "  title     = {Learning Word Vectors for Sentiment Analysis},\n",
            "  booktitle = {Proceedings of the 49th Annual Meeting of the Association for Computational Linguistics: Human Language Technologies},\n",
            "  month     = {June},\n",
            "  year      = {2011},\n",
            "  address   = {Portland, Oregon, USA},\n",
            "  publisher = {Association for Computational Linguistics},\n",
            "  pages     = {142--150},\n",
            "  url       = {http://www.aclweb.org/anthology/P11-1015}\n",
            "}\n",
            "\n",
            "References\n",
            "\n",
            "Potts, Christopher. 2011. On the negativity of negation. In Nan Li and\n",
            "David Lutz, eds., Proceedings of Semantics and Linguistic Theory 20,\n",
            "636-659.\n",
            "\n",
            "Contact\n",
            "\n",
            "For questions/comments/corrections please contact Andrew Maas\n",
            "amaas@cs.stanford.edu\n"
          ],
          "name": "stdout"
        }
      ]
    },
    {
      "cell_type": "markdown",
      "metadata": {
        "id": "8Hvvh5LCxkW_",
        "colab_type": "text"
      },
      "source": [
        "## Load Data"
      ]
    },
    {
      "cell_type": "code",
      "metadata": {
        "id": "Icrh3ug8bxKg",
        "colab_type": "code",
        "colab": {}
      },
      "source": [
        "import os\n",
        "import numpy as np\n",
        "import random\n",
        "\n",
        "def load_imdb_sentiment_analysis_dataset():\n",
        "    seed=123\n",
        "    imdb_data_path = 'aclImdb'\n",
        "\n",
        "    # Load the training data\n",
        "    train_texts = []\n",
        "    train_labels = []\n",
        "    for category in ['pos', 'neg']:\n",
        "        train_path = os.path.join(imdb_data_path, 'train', category)\n",
        "        for fname in sorted(os.listdir(train_path)):\n",
        "            if fname.endswith('.txt'):\n",
        "                with open(os.path.join(train_path, fname)) as f:\n",
        "                    train_texts.append(f.read())\n",
        "                train_labels.append(0 if category == 'neg' else 1)\n",
        "\n",
        "    # Load the validation data.\n",
        "    test_texts = []\n",
        "    test_labels = []\n",
        "    for category in ['pos', 'neg']:\n",
        "        test_path = os.path.join(imdb_data_path, 'test', category)\n",
        "        for fname in sorted(os.listdir(test_path)):\n",
        "            if fname.endswith('.txt'):\n",
        "                with open(os.path.join(test_path, fname)) as f:\n",
        "                    test_texts.append(f.read())\n",
        "                test_labels.append(0 if category == 'neg' else 1)\n",
        "              \n",
        "    # Shuffle the training data and labels.\n",
        "    random.seed(seed)\n",
        "    random.shuffle(train_texts)\n",
        "    random.seed(seed)\n",
        "    random.shuffle(train_labels)\n",
        "    random.seed(seed)\n",
        "    random.shuffle(test_texts)\n",
        "    random.seed(seed)\n",
        "    random.shuffle(test_labels)\n",
        "    train_texts.extend(test_texts)\n",
        "    train_labels.extend(test_labels)\n",
        "\n",
        "    return train_texts, np.array(train_labels)"
      ],
      "execution_count": 0,
      "outputs": []
    },
    {
      "cell_type": "code",
      "metadata": {
        "id": "ItCjfzi1dU9r",
        "colab_type": "code",
        "colab": {}
      },
      "source": [
        "texts, labels = load_imdb_sentiment_analysis_dataset()"
      ],
      "execution_count": 0,
      "outputs": []
    },
    {
      "cell_type": "code",
      "metadata": {
        "id": "ItQuqgXAbY-X",
        "colab_type": "code",
        "outputId": "87dd1330-032d-4fb9-82e5-0dbb73e6777d",
        "colab": {
          "base_uri": "https://localhost:8080/",
          "height": 34
        }
      },
      "source": [
        "print(len(texts),len(labels))"
      ],
      "execution_count": 14,
      "outputs": [
        {
          "output_type": "stream",
          "text": [
            "50000 50000\n"
          ],
          "name": "stdout"
        }
      ]
    },
    {
      "cell_type": "markdown",
      "metadata": {
        "id": "A-UjT3Dr5OI4",
        "colab_type": "text"
      },
      "source": [
        "# Text Preprocessing"
      ]
    },
    {
      "cell_type": "code",
      "metadata": {
        "id": "Eg7wje_zVfqQ",
        "colab_type": "code",
        "outputId": "6a48337d-0ef4-4873-ff32-867f776b36ff",
        "colab": {
          "base_uri": "https://localhost:8080/",
          "height": 119
        }
      },
      "source": [
        "import re\n",
        "from sklearn.model_selection import train_test_split\n",
        "\n",
        "import nltk\n",
        "nltk.download('stopwords')\n",
        "nltk.download('wordnet')\n",
        "nltk.download('punkt')\n",
        "from nltk.corpus import stopwords\n",
        "from nltk.stem import WordNetLemmatizer\n",
        "\n",
        "lemmatizer = WordNetLemmatizer()\n",
        "sw = stopwords.words('english')"
      ],
      "execution_count": 15,
      "outputs": [
        {
          "output_type": "stream",
          "text": [
            "[nltk_data] Downloading package stopwords to /root/nltk_data...\n",
            "[nltk_data]   Unzipping corpora/stopwords.zip.\n",
            "[nltk_data] Downloading package wordnet to /root/nltk_data...\n",
            "[nltk_data]   Unzipping corpora/wordnet.zip.\n",
            "[nltk_data] Downloading package punkt to /root/nltk_data...\n",
            "[nltk_data]   Unzipping tokenizers/punkt.zip.\n"
          ],
          "name": "stdout"
        }
      ]
    },
    {
      "cell_type": "code",
      "metadata": {
        "id": "8Q58TLHEMSfj",
        "colab_type": "code",
        "colab": {}
      },
      "source": [
        "# dictionary for resolving contractions\n",
        "contraction_mapping = {\"ain't\": \"is not\", \"aren't\": \"are not\",\"can't\": \"cannot\", \"'cause\": \"because\", \"could've\": \"could have\", \"couldn't\": \"could not\",\n",
        "                           \"didn't\": \"did not\",  \"doesn't\": \"does not\", \"don't\": \"do not\", \"hadn't\": \"had not\", \"hasn't\": \"has not\", \"haven't\": \"have not\",\n",
        "                           \"he'd\": \"he would\",\"he'll\": \"he will\", \"he's\": \"he is\", \"how'd\": \"how did\", \"how'd'y\": \"how do you\", \"how'll\": \"how will\", \"how's\": \"how is\",\n",
        "                           \"I'd\": \"I would\", \"I'd've\": \"I would have\", \"I'll\": \"I will\", \"I'll've\": \"I will have\",\"I'm\": \"I am\", \"I've\": \"I have\", \"i'd\": \"i would\",\n",
        "                           \"i'd've\": \"i would have\", \"i'll\": \"i will\",  \"i'll've\": \"i will have\",\"i'm\": \"i am\", \"i've\": \"i have\", \"isn't\": \"is not\", \"it'd\": \"it would\",\n",
        "                           \"it'd've\": \"it would have\", \"it'll\": \"it will\", \"it'll've\": \"it will have\",\"it's\": \"it is\", \"let's\": \"let us\", \"ma'am\": \"madam\",\n",
        "                           \"mayn't\": \"may not\", \"might've\": \"might have\",\"mightn't\": \"might not\",\"mightn't've\": \"might not have\", \"must've\": \"must have\",\n",
        "                           \"mustn't\": \"must not\", \"mustn't've\": \"must not have\", \"needn't\": \"need not\", \"needn't've\": \"need not have\",\"o'clock\": \"of the clock\",\n",
        "                           \"oughtn't\": \"ought not\", \"oughtn't've\": \"ought not have\", \"shan't\": \"shall not\", \"sha'n't\": \"shall not\", \"shan't've\": \"shall not have\",\n",
        "                           \"she'd\": \"she would\", \"she'd've\": \"she would have\", \"she'll\": \"she will\", \"she'll've\": \"she will have\", \"she's\": \"she is\",\n",
        "                           \"should've\": \"should have\", \"shouldn't\": \"should not\", \"shouldn't've\": \"should not have\", \"so've\": \"so have\",\"so's\": \"so as\",\n",
        "                           \"this's\": \"this is\",\"that'd\": \"that would\", \"that'd've\": \"that would have\", \"that's\": \"that is\", \"there'd\": \"there would\",\n",
        "                           \"there'd've\": \"there would have\", \"there's\": \"there is\", \"here's\": \"here is\",\"they'd\": \"they would\", \"they'd've\": \"they would have\",\n",
        "                           \"they'll\": \"they will\", \"they'll've\": \"they will have\", \"they're\": \"they are\", \"they've\": \"they have\", \"to've\": \"to have\",\n",
        "                           \"wasn't\": \"was not\", \"we'd\": \"we would\", \"we'd've\": \"we would have\", \"we'll\": \"we will\", \"we'll've\": \"we will have\", \"we're\": \"we are\",\n",
        "                           \"we've\": \"we have\", \"weren't\": \"were not\", \"what'll\": \"what will\", \"what'll've\": \"what will have\", \"what're\": \"what are\",\n",
        "                           \"what's\": \"what is\", \"what've\": \"what have\", \"when's\": \"when is\", \"when've\": \"when have\", \"where'd\": \"where did\", \"where's\": \"where is\",\n",
        "                           \"where've\": \"where have\", \"who'll\": \"who will\", \"who'll've\": \"who will have\", \"who's\": \"who is\", \"who've\": \"who have\",\n",
        "                           \"why's\": \"why is\", \"why've\": \"why have\", \"will've\": \"will have\", \"won't\": \"will not\", \"won't've\": \"will not have\",\n",
        "                           \"would've\": \"would have\", \"wouldn't\": \"would not\", \"wouldn't've\": \"would not have\", \"y'all\": \"you all\",\n",
        "                           \"y'all'd\": \"you all would\",\"y'all'd've\": \"you all would have\",\"y'all're\": \"you all are\",\"y'all've\": \"you all have\",\n",
        "                           \"you'd\": \"you would\", \"you'd've\": \"you would have\", \"you'll\": \"you will\", \"you'll've\": \"you will have\",\n",
        "                           \"you're\": \"you are\", \"you've\": \"you have\"}"
      ],
      "execution_count": 0,
      "outputs": []
    },
    {
      "cell_type": "code",
      "metadata": {
        "id": "F3O0vja1Bq6F",
        "colab_type": "code",
        "colab": {}
      },
      "source": [
        "sw = [w for w in sw if w not  in ['no','not','nor']]"
      ],
      "execution_count": 0,
      "outputs": []
    },
    {
      "cell_type": "code",
      "metadata": {
        "id": "NapLTkzbSW55",
        "colab_type": "code",
        "colab": {}
      },
      "source": [
        "# I tried different prerocessing steps and got best results for those steps\n",
        "def prepro(train):\n",
        "    train = [' '.join([contraction_mapping[t] if t in contraction_mapping else t for t in sen.split()]) for sen in train] \n",
        "    #train = [' '.join([lemmatizer.lemmatize(word) for word in sen.split()]) for sen in train]\n",
        "    #train = [' '.join([word for word in sen.split() if word not in sw]) for sen in train]\n",
        "    train = [sen.replace('/n',' ') for sen in train]\n",
        "    #train = [sen.replace('-',' ') for sen in train]\n",
        "    train = [sen.replace('<br />',' ') for sen in train]\n",
        "    #train = [sen.replace('.',' <Punkt>') for sen in train]\n",
        "    #train = [sen.replace(',',' <Comma>') for sen in train]\n",
        "    #train = [sen.replace('?',' <questionmark>') for sen in train]\n",
        "    #train = [sen.replace('!',' <exclamationmark>') for sen in train]\n",
        "    train = [sen.lower() for sen in train]\n",
        "    train = [re.sub(\"[^A-Za-z1-9]+\", ' ',sen) for sen in train]\n",
        "    train = [' '.join([word for word in sen.split() if len(word)>1]) for sen in train]\n",
        "    \n",
        "    return train"
      ],
      "execution_count": 0,
      "outputs": []
    },
    {
      "cell_type": "code",
      "metadata": {
        "id": "UdtAgRlaX4At",
        "colab_type": "code",
        "outputId": "b290ceb8-d622-4ce2-e19a-728efb5d94a1",
        "colab": {
          "base_uri": "https://localhost:8080/",
          "height": 71
        }
      },
      "source": [
        "texts[8:10]"
      ],
      "execution_count": 19,
      "outputs": [
        {
          "output_type": "execute_result",
          "data": {
            "text/plain": [
              "[\"Director Douglas Sirk once said `there's a very short distance between high art and trash, and trash that contains craziness is by this very quality nearer to art'. This statement defines his cinema perfectly, a very unique body of work that includes classic stage adaptations, adventure and war films, westerns and of course, his famous melodramas.<br /><br />Sirk's melodramas were, as the very word signifies, dramas with music. The music sets the tone for his masterful style, and every stroke of his brush (Sirk was also a painter) leaves a powerful image on the screen-turned-canvas. But this ain't life but its representation, an imitation of life. Sirk never tried to show reality, on the contrary. None of the directors of his generation made a better use of all the technical devices provided by Hollywood (most notably Technicolor) to distinguish the artificial from the real thing. Let's remember that his golden period coincides with the time when Hollywood films turned its attention into the social drama (Blackboard jungle, Rebel without a cause). Sirk always knew that cinema was meant to be something else.<br /><br />Another of Sirk's statements summarizes this: `You can't reach, or touch, the real. You just see reflections. If you try to grasp happiness itself your fingers only meet glass'. I defy anybody that has seen Written on the wind to count the amount of mirrors and images reflected that appear on screen. One ends up giving up.<br /><br />Therefore, we are in a hall full of mirrors where there's no difference between real and its false copy. Nobody can say that the Hadley are real people. That town ain't real either, with those hideous oil pumps all over the place. So in this realm the acting is affected, the decore is fake, the trick is visible. Everything is pushed a little bit off the limit (the sexual connotations of Dorothy Malone with the oil tower, for example). Sirk was criticizing and theorizing at the same time.<br /><br />`The angles are the director's thoughts; the lighting is his philosophy'. In Written on the wind we follow the fall of a traditional way of life both in a geometrical way and in terms of light and shadows. The Hadleys house, with its different levels connected by the spiral staircase operates in a strictly metaphorical way. A house that resembles a mausoleum, that no party can cheer up. As tragedy progresses from luminous daylight to shadowy night, Sirk's photography becomes an extension of the inner state of his characters, and so are the colours of the clothes they wear. Drama is thus incorporated to every element at the service of the director's craft.<br /><br />Sirk considered himself a `story bender', because he bended the standard material he was assigned with to his style and purpose. Written on the wind is a good example. It wouldn't work in any other hands.<br /><br />The other director that was using similar strategies was Frank Tashlin, who was for 50's comedy the same that Sirk was for melodrama. Their films are full of the machinery of american life -advertising, TV sets, jukeboxes, washing machines, sport cars, vacuum cleaners- to depict its emptiness and decay. I'm inclined to think that their films were regarded in a different way by their contemporary audiences. The game was played by both sides, so it was camp. Now we regard them as `cult' or `bizarre', because we are not those spectators anymore. That is why Todd Haynes's homage `Far from heaven' turns into a pastiche, because it reproduces Sirk's work nowadays as if nothing happened in between. Then Sirk turns exactly into that painting hanging in the art gallery that Julianne Moore and the gardener discuss in the aforementioned film.<br /><br />Sirk understood the elements of melodrama perfectly. There were always immovable characters (Rock Hudson and Lauren Bacall here) against which he could assemble a series of split ones. His balance through antithesis is remarkable and not surprisingly we root for the split characters, because these are the ones Sirk is interested in too. When Robert Stack flies the plane and `tempts' Lauren Bacall with all sorts of mundane comforts of the world below them (obvious Faustian echoes) we are strangely fascinated with him too, as we are when the devilish nymphomaniac little sister painfully evokes her past with Mitch alone by the river.<br /><br />In the Sirk's universe the studio often-imposed `happy ends' have no negative impact. In fact they worked just great. Sirk was fond of greek tragedy and considered happy endings the Deux ex machinea of his day. Thus the final courtroom scene fits well and one must also remember that the whole film is told in flashback, so we know from the very beginning that tragedy will fall nevertheless over the Hadley feud.<br /><br />It was pointed out the many similarities between Written on the Wind with the Godfather saga. I absolutely agree and I'm sure the parallel is not incidental. Both share the theme of the old powerful father head trying to keep his empire going while protecting his family. The temperamental son portrayed by Robert Stack has an amazing physical resemblance with Jimmy Caan's Sonny Corleone. The action of fighting her sister's male friend is symmetrical. The non-son in which the old man put his trust is also common in both films, as the fact that both families carry the names of their town. Even details as the gate that gives access to the property, and the surroundings of the house covered by leaves, suggest that Coppola had Written on the Wind in mind while setting his masterwork. Because both films deal with the subject of Power: the acquisition of power, its manipulation and legacy (even Kyle Hadley's sterility, the event that hastens the turmoil, is an issue easily tied to the central theme of Power, in this case, a weakness in sexual power). The other great film that deals with power and uses american life as its representation is Citizen Kane. One wouldn't think at first of similarities between Welles and Sirk's films but there are a good many, starting with the petrol business as the origin of the family's fortune and ending in the fact that Mitch Wayne (Rock Hudson), as Charles Foster Kane, was adopted by a tutor, having his own father alive. Amazingly, the same actor (Harry Shannon) perform both Wayne and Kane's fathers. This detail is cannot be a coincidence.<br /><br />Written on the Wind is a masterpiece in every aspect, in execution and vision, in style and technique, a highlight in the career of this wonderful director. Some say that this is his best film. In my opinion, `Magnificent obsession', `All that heaven allows', `There's always tomorrow' and `Imitation of life' are just as good. And for those who put Sirk in the level of Dallas or Dinasty I wish them no happy end.\",\n",
              " \"For those who think of Dame May Witty as the kindly, slightly batty, old lady from Hitchcock's The Lady Vanishes, this movie requires an adjustment. Here, she's anything but kindly or batty. Instead, her son, George Macready is the loony one. Just don't give him a knife, otherwise his eyes light up and no furniture cushion in the house is safe. Now we know what he has in mind for the trapped Nina Foch if he can just get out from under Mother's domineering hand.<br /><br />Really tight little woman-in-danger film that keeps the suspense on high throughout. The script never strays from Foch's dilemma. She's held prisoner in a big old Gothic house on the edge of an angry sea. They're going to kill her, but why. Her predicament makes no sense. The tension mounts as she tries one escape ploy after another, but even strangers seem against her. We begin to feel her helplessness and mounting paranoia as the world turns away from her.<br /><br />Director Joseph H. Lewis took a big step toward cult status with this film and understandably so. Then too, watch Foch run subtly through a gamut of emotions without once going over the top. Witty too shines as a really intimidating matriarch who knows what she wants and how to get it if she can just keep her wacko son in line. My one reservation is the climax which seems too contrived considering the timing of the events. Nonetheless, it's a good, nerve-wracking way to spend a little over an hour, courtesy Columbia studios.\"]"
            ]
          },
          "metadata": {
            "tags": []
          },
          "execution_count": 19
        }
      ]
    },
    {
      "cell_type": "code",
      "metadata": {
        "id": "2566gpw5pkpc",
        "colab_type": "code",
        "colab": {}
      },
      "source": [
        "texts_prepro = prepro(texts)\n",
        "#X_train, X_test, y_train, y_test = train_test_split(texts_prepro, labels, test_size=0.2, random_state = 166)"
      ],
      "execution_count": 0,
      "outputs": []
    },
    {
      "cell_type": "code",
      "metadata": {
        "id": "agmAJ9oQ2btX",
        "colab_type": "code",
        "outputId": "861e6bee-f944-4b3d-f7da-b389262aa311",
        "colab": {
          "base_uri": "https://localhost:8080/",
          "height": 71
        }
      },
      "source": [
        "texts_prepro[8:10]"
      ],
      "execution_count": 21,
      "outputs": [
        {
          "output_type": "execute_result",
          "data": {
            "text/plain": [
              "['director douglas sirk once said there very short distance between high art and trash and trash that contains craziness is by this very quality nearer to art this statement defines his cinema perfectly very unique body of work that includes classic stage adaptations adventure and war films westerns and of course his famous melodramas sirk melodramas were as the very word signifies dramas with music the music sets the tone for his masterful style and every stroke of his brush sirk was also painter leaves powerful image on the screen turned canvas but this is not life but its representation an imitation of life sirk never tried to show reality on the contrary none of the directors of his generation made better use of all the technical devices provided by hollywood most notably technicolor to distinguish the artificial from the real thing let remember that his golden period coincides with the time when hollywood films turned its attention into the social drama blackboard jungle rebel without cause sirk always knew that cinema was meant to be something else another of sirk statements summarizes this you cannot reach or touch the real you just see reflections if you try to grasp happiness itself your fingers only meet glass defy anybody that has seen written on the wind to count the amount of mirrors and images reflected that appear on screen one ends up giving up therefore we are in hall full of mirrors where there is no difference between real and its false copy nobody can say that the hadley are real people that town is not real either with those hideous oil pumps all over the place so in this realm the acting is affected the decore is fake the trick is visible everything is pushed little bit off the limit the sexual connotations of dorothy malone with the oil tower for example sirk was criticizing and theorizing at the same time the angles are the director thoughts the lighting is his philosophy in written on the wind we follow the fall of traditional way of life both in geometrical way and in terms of light and shadows the hadleys house with its different levels connected by the spiral staircase operates in strictly metaphorical way house that resembles mausoleum that no party can cheer up as tragedy progresses from luminous daylight to shadowy night sirk photography becomes an extension of the inner state of his characters and so are the colours of the clothes they wear drama is thus incorporated to every element at the service of the director craft sirk considered himself story bender because he bended the standard material he was assigned with to his style and purpose written on the wind is good example it would not work in any other hands the other director that was using similar strategies was frank tashlin who was for comedy the same that sirk was for melodrama their films are full of the machinery of american life advertising tv sets jukeboxes washing machines sport cars vacuum cleaners to depict its emptiness and decay am inclined to think that their films were regarded in different way by their contemporary audiences the game was played by both sides so it was camp now we regard them as cult or bizarre because we are not those spectators anymore that is why todd haynes homage far from heaven turns into pastiche because it reproduces sirk work nowadays as if nothing happened in between then sirk turns exactly into that painting hanging in the art gallery that julianne moore and the gardener discuss in the aforementioned film sirk understood the elements of melodrama perfectly there were always immovable characters rock hudson and lauren bacall here against which he could assemble series of split ones his balance through antithesis is remarkable and not surprisingly we root for the split characters because these are the ones sirk is interested in too when robert stack flies the plane and tempts lauren bacall with all sorts of mundane comforts of the world below them obvious faustian echoes we are strangely fascinated with him too as we are when the devilish nymphomaniac little sister painfully evokes her past with mitch alone by the river in the sirk universe the studio often imposed happy ends have no negative impact in fact they worked just great sirk was fond of greek tragedy and considered happy endings the deux ex machinea of his day thus the final courtroom scene fits well and one must also remember that the whole film is told in flashback so we know from the very beginning that tragedy will fall nevertheless over the hadley feud it was pointed out the many similarities between written on the wind with the godfather saga absolutely agree and am sure the parallel is not incidental both share the theme of the old powerful father head trying to keep his empire going while protecting his family the temperamental son portrayed by robert stack has an amazing physical resemblance with jimmy caan sonny corleone the action of fighting her sister male friend is symmetrical the non son in which the old man put his trust is also common in both films as the fact that both families carry the names of their town even details as the gate that gives access to the property and the surroundings of the house covered by leaves suggest that coppola had written on the wind in mind while setting his masterwork because both films deal with the subject of power the acquisition of power its manipulation and legacy even kyle hadley sterility the event that hastens the turmoil is an issue easily tied to the central theme of power in this case weakness in sexual power the other great film that deals with power and uses american life as its representation is citizen kane one would not think at first of similarities between welles and sirk films but there are good many starting with the petrol business as the origin of the family fortune and ending in the fact that mitch wayne rock hudson as charles foster kane was adopted by tutor having his own father alive amazingly the same actor harry shannon perform both wayne and kane fathers this detail is cannot be coincidence written on the wind is masterpiece in every aspect in execution and vision in style and technique highlight in the career of this wonderful director some say that this is his best film in my opinion magnificent obsession all that heaven allows there always tomorrow and imitation of life are just as good and for those who put sirk in the level of dallas or dinasty wish them no happy end',\n",
              " 'for those who think of dame may witty as the kindly slightly batty old lady from hitchcock the lady vanishes this movie requires an adjustment here she is anything but kindly or batty instead her son george macready is the loony one just do not give him knife otherwise his eyes light up and no furniture cushion in the house is safe now we know what he has in mind for the trapped nina foch if he can just get out from under mother domineering hand really tight little woman in danger film that keeps the suspense on high throughout the script never strays from foch dilemma she held prisoner in big old gothic house on the edge of an angry sea they re going to kill her but why her predicament makes no sense the tension mounts as she tries one escape ploy after another but even strangers seem against her we begin to feel her helplessness and mounting paranoia as the world turns away from her director joseph lewis took big step toward cult status with this film and understandably so then too watch foch run subtly through gamut of emotions without once going over the top witty too shines as really intimidating matriarch who knows what she wants and how to get it if she can just keep her wacko son in line my one reservation is the climax which seems too contrived considering the timing of the events nonetheless it is good nerve wracking way to spend little over an hour courtesy columbia studios']"
            ]
          },
          "metadata": {
            "tags": []
          },
          "execution_count": 21
        }
      ]
    },
    {
      "cell_type": "code",
      "metadata": {
        "id": "qTs8We_Ae49o",
        "colab_type": "code",
        "colab": {}
      },
      "source": [
        "#split the data in train and test as given + splitting a holdout from test  \n",
        "X_train = texts_prepro[:25000]\n",
        "y_train = labels[:25000] \n",
        "X_test = texts_prepro[25000:40000]\n",
        "y_test = labels[25000:40000]\n",
        "X_holdout = texts_prepro[40000:]\n",
        "y_holdout = labels[40000:]"
      ],
      "execution_count": 0,
      "outputs": []
    },
    {
      "cell_type": "code",
      "metadata": {
        "id": "MxNVm4OH3pe0",
        "colab_type": "code",
        "outputId": "599c017e-1e99-4c64-b3b0-042766203dfb",
        "colab": {
          "base_uri": "https://localhost:8080/",
          "height": 68
        }
      },
      "source": [
        "print('Train: ',len(X_train),len(y_train))\n",
        "print('Valid: ',len(X_test),len(y_test))\n",
        "print('Test: ',len(X_holdout),len(y_holdout))"
      ],
      "execution_count": 23,
      "outputs": [
        {
          "output_type": "stream",
          "text": [
            "Train:  25000 25000\n",
            "Valid:  15000 15000\n",
            "Test:  10000 10000\n"
          ],
          "name": "stdout"
        }
      ]
    },
    {
      "cell_type": "markdown",
      "metadata": {
        "id": "j2-X0Z2Hwsgq",
        "colab_type": "text"
      },
      "source": [
        "## Shuffle texts for additional training data"
      ]
    },
    {
      "cell_type": "code",
      "metadata": {
        "id": "8VjMLEqZtJYz",
        "colab_type": "code",
        "colab": {}
      },
      "source": [
        "from nltk.tokenize import sent_tokenize\n",
        "import random\n",
        "\n",
        "def shuffle_text(text):\n",
        "    sents = sent_tokenize(text)\n",
        "    newsents = sents[:]\n",
        "    random.shuffle(newsents)\n",
        "    newsents_str = ' '.join([sen for sen in newsents]) \n",
        "    return newsents_str\n"
      ],
      "execution_count": 0,
      "outputs": []
    },
    {
      "cell_type": "code",
      "metadata": {
        "id": "O2sAZMxVxNDL",
        "colab_type": "code",
        "outputId": "672bf704-a6ac-43d6-9b49-7e206747651b",
        "colab": {
          "base_uri": "https://localhost:8080/",
          "height": 34
        }
      },
      "source": [
        "shuffle_text('I was blue. It is red. You are yellow. Are you sure?')"
      ],
      "execution_count": 25,
      "outputs": [
        {
          "output_type": "execute_result",
          "data": {
            "text/plain": [
              "'I was blue. Are you sure? You are yellow. It is red.'"
            ]
          },
          "metadata": {
            "tags": []
          },
          "execution_count": 25
        }
      ]
    },
    {
      "cell_type": "code",
      "metadata": {
        "id": "1TrPY31-skNF",
        "colab_type": "code",
        "colab": {}
      },
      "source": [
        "# if max sequence length cuts some sentences, why not shuffle the data to get more train data\n",
        "add_text = [shuffle_text(doc) for doc in texts[:25000]]\n",
        "add_label = labels[:25000] \n",
        "add_text_prepro = prepro(add_text)"
      ],
      "execution_count": 0,
      "outputs": []
    },
    {
      "cell_type": "code",
      "metadata": {
        "id": "JwD0fD4Zxvgc",
        "colab_type": "code",
        "colab": {}
      },
      "source": [
        "X_train.extend(add_text_prepro)\n",
        "y_train = np.append(y_train,add_label)"
      ],
      "execution_count": 0,
      "outputs": []
    },
    {
      "cell_type": "code",
      "metadata": {
        "id": "CAHONrHqyIMF",
        "colab_type": "code",
        "outputId": "115916e6-c8af-4021-8417-7f750e9fb6d5",
        "colab": {
          "base_uri": "https://localhost:8080/",
          "height": 68
        }
      },
      "source": [
        "print('Train: ',len(X_train),len(y_train))\n",
        "print('Valid: ',len(X_test),len(y_test))\n",
        "print('Test: ',len(X_holdout),len(y_holdout))"
      ],
      "execution_count": 28,
      "outputs": [
        {
          "output_type": "stream",
          "text": [
            "Train:  50000 50000\n",
            "Valid:  15000 15000\n",
            "Test:  10000 10000\n"
          ],
          "name": "stdout"
        }
      ]
    },
    {
      "cell_type": "markdown",
      "metadata": {
        "id": "gPGp9ef85XER",
        "colab_type": "text"
      },
      "source": [
        "# Model"
      ]
    },
    {
      "cell_type": "code",
      "metadata": {
        "id": "ruJ_-O3-6r0l",
        "colab_type": "code",
        "colab": {}
      },
      "source": [
        "from sklearn.metrics import accuracy_score, confusion_matrix\n",
        "def final_score(model_pred,keras_model=True):\n",
        "  '''\n",
        "  calculates the scores for hold out test set\n",
        "  '''\n",
        "  if keras_model:\n",
        "      y_pred_enc__ = model_pred.predict(X_ho_pad)\n",
        "      y_pred__ = [np.argmax(y) for y in y_pred_enc__]\n",
        "      print('accuracy hold out: %s' % accuracy_score(y_pred__, y_holdout))\n",
        "  else:\n",
        "      y_pred = model_pred.predict(X_train)\n",
        "      y_pred_ = model_pred.predict(X_test)\n",
        "      y_pred__ = model_pred.predict(X_holdout)\n",
        "      print('accuracy %s' % accuracy_score(y_pred, y_train))\n",
        "      print('accuracy %s' % accuracy_score(y_pred_, y_test))\n",
        "  "
      ],
      "execution_count": 0,
      "outputs": []
    },
    {
      "cell_type": "code",
      "metadata": {
        "id": "HM6OvU2f7XEO",
        "colab_type": "code",
        "colab": {}
      },
      "source": [
        "# plots training process\n",
        "import matplotlib.pyplot as plt\n",
        "def plot_training(model_hist):\n",
        "  # summarize history for accuracy\n",
        "  plt.plot(model_hist.history['acc'])\n",
        "  plt.plot(model_hist.history['val_acc'])\n",
        "  plt.title('model accuracy')\n",
        "  plt.ylabel('accuracy')\n",
        "  plt.xlabel('epoch')\n",
        "  plt.legend(['train', 'test'], loc='upper left')\n",
        "  plt.show()"
      ],
      "execution_count": 0,
      "outputs": []
    },
    {
      "cell_type": "code",
      "metadata": {
        "id": "8HJxMLhlIVVZ",
        "colab_type": "code",
        "colab": {
          "base_uri": "https://localhost:8080/",
          "height": 34
        },
        "outputId": "709d637f-cff9-4136-ee2d-7a0de0beb513"
      },
      "source": [
        "# build test sentences to see where a model works\n",
        "#for long sentences\n",
        "long = []\n",
        "long_ = []\n",
        "long_score = []\n",
        "for i in range(0,len(texts_prepro)):\n",
        "    if len(texts_prepro[i].split()) > 600:\n",
        "      long.append(texts_prepro[i])\n",
        "      long_.append(texts[i])\n",
        "      long_score.append(labels[i])\n",
        "    if len(long)==100:\n",
        "      break\n",
        "#for short sentences\n",
        "short = []\n",
        "short_ = []\n",
        "short_score = []\n",
        "for i in range(0,len(texts_prepro)):\n",
        "    if len(texts_prepro[i].split()) < 30:\n",
        "      short.append(texts_prepro[i])\n",
        "      short_.append(texts[i])\n",
        "      short_score.append(labels[i])\n",
        "    if len(short)==100:\n",
        "      break\n",
        "#medium sentences\n",
        "med = []\n",
        "med_ = []\n",
        "med_score = []\n",
        "for i in range(0,len(texts_prepro)):\n",
        "    if 160 <len(texts_prepro[i].split()) < 170:\n",
        "      med.append(texts_prepro[i])\n",
        "      med_.append(texts[i])\n",
        "      med_score.append(labels[i])\n",
        "    if len(med)==100:\n",
        "      break\n",
        "# sentences with negation\n",
        "neg = []\n",
        "neg_ = []\n",
        "neg_score = []\n",
        "for i in range(0,len(texts_prepro)):\n",
        "    if texts_prepro[i].count('not')>4:\n",
        "      neg.append(texts_prepro[i])\n",
        "      neg_.append(texts[i])\n",
        "      neg_score.append(labels[i])\n",
        "    if len(neg)==100:\n",
        "      break\n",
        "\n",
        "test_sentences = long + short + med + neg \n",
        "test_sentences_score = long_score + short_score + med_score + neg_score\n",
        "print(len(test_sentences),len(test_sentences_score))"
      ],
      "execution_count": 172,
      "outputs": [
        {
          "output_type": "stream",
          "text": [
            "400 400\n"
          ],
          "name": "stdout"
        }
      ]
    },
    {
      "cell_type": "code",
      "metadata": {
        "id": "L5XYRw5dOnii",
        "colab_type": "code",
        "colab": {}
      },
      "source": [
        "def test_sentences_fct(model_pred,max_length=269,keras_model=True):\n",
        "  '''\n",
        "  calculates the scores for the special test sentences\n",
        "  '''\n",
        "  if keras_model:\n",
        "      y_pred_enc__ = model_pred.predict(text2num(long,max_length))\n",
        "      y_pred__ = [np.argmax(y) for y in y_pred_enc__]\n",
        "      print('long accuracy: %s' % accuracy_score(y_pred__, long_score))\n",
        "      y_pred_enc__ = model_pred.predict(text2num(short,max_length))\n",
        "      y_pred__ = [np.argmax(y) for y in y_pred_enc__]\n",
        "      print('short accuracy: %s' % accuracy_score(y_pred__, short_score))\n",
        "      y_pred_enc__ = model_pred.predict(text2num(med,max_length))\n",
        "      y_pred__ = [np.argmax(y) for y in y_pred_enc__]\n",
        "      print('med accuracy: %s' % accuracy_score(y_pred__, med_score))\n",
        "      y_pred_enc__ = model_pred.predict(text2num(neg,max_length))\n",
        "      y_pred__ = [np.argmax(y) for y in y_pred_enc__]\n",
        "      print('neg accuracy: %s' % accuracy_score(y_pred__, neg_score))\n",
        "  else:\n",
        "      y_pred = model_pred.predict(long)\n",
        "      print('long accuracy %s' % accuracy_score(y_pred, long_score))\n",
        "      y_pred = model_pred.predict(short)\n",
        "      print('short accuracy %s' % accuracy_score(y_pred, short_score))\n",
        "      y_pred = model_pred.predict(med)\n",
        "      print('medium accuracy %s' % accuracy_score(y_pred, med_score))\n",
        "      y_pred = model_pred.predict(neg)\n",
        "      print('negation accuracy %s' % accuracy_score(y_pred, neg_score))\n",
        "\n",
        "  "
      ],
      "execution_count": 0,
      "outputs": []
    },
    {
      "cell_type": "markdown",
      "metadata": {
        "id": "WoNtaloAsmJ7",
        "colab_type": "text"
      },
      "source": [
        "## TF-IDF"
      ]
    },
    {
      "cell_type": "code",
      "metadata": {
        "id": "u1pLe3srpntP",
        "colab_type": "code",
        "outputId": "5f844d21-bd55-425a-d0ed-560488209f49",
        "colab": {
          "base_uri": "https://localhost:8080/",
          "height": 51
        }
      },
      "source": [
        "from sklearn.linear_model import LogisticRegression\n",
        "from sklearn.model_selection import cross_val_score\n",
        "from sklearn.pipeline import Pipeline\n",
        "from sklearn.feature_extraction.text import CountVectorizer, TfidfVectorizer\n",
        "from sklearn.feature_extraction.text import TfidfTransformer\n",
        "\n",
        "logreg = Pipeline([('vect', CountVectorizer(max_features=2000)),\n",
        "                ('tfidf', TfidfTransformer()),\n",
        "                ('clf', LogisticRegression( C=1e7)),\n",
        "               ])\n",
        "logreg.fit(X_train, y_train)\n",
        "\n",
        "final_score(logreg,False)"
      ],
      "execution_count": 127,
      "outputs": [
        {
          "output_type": "stream",
          "text": [
            "accuracy 0.90948\n",
            "accuracy 0.8687333333333334\n"
          ],
          "name": "stdout"
        }
      ]
    },
    {
      "cell_type": "code",
      "metadata": {
        "id": "MjMfb5mTMaVH",
        "colab_type": "code",
        "colab": {
          "base_uri": "https://localhost:8080/",
          "height": 85
        },
        "outputId": "b767dba2-a63e-4dc9-9e1c-89fd15d03c31"
      },
      "source": [
        "test_sentences_fct(logreg,False)"
      ],
      "execution_count": 173,
      "outputs": [
        {
          "output_type": "stream",
          "text": [
            "long accuracy 0.9\n",
            "short accuracy 0.82\n",
            "medium accuracy 0.93\n",
            "negation accuracy 0.93\n"
          ],
          "name": "stdout"
        }
      ]
    },
    {
      "cell_type": "markdown",
      "metadata": {
        "id": "ECREfeiEP2BM",
        "colab_type": "text"
      },
      "source": [
        "Close to 87% is a very good baseline for such a simple model (logistic regression with TF IDF weights). It seems to have problems with very short and very long sentences. This Model is very easy to reproduce and set productive. Not much knowledge and calculation power required. There are not much hyperparameter, restricting the number of features to 2000 worked best for me.\n"
      ]
    },
    {
      "cell_type": "markdown",
      "metadata": {
        "id": "gTP8XoILtYr6",
        "colab_type": "text"
      },
      "source": [
        "## LSTM"
      ]
    },
    {
      "cell_type": "code",
      "metadata": {
        "id": "wcs_y5DvB-GT",
        "colab_type": "code",
        "outputId": "d8825ee4-59cf-483b-e798-bf28b73dbe94",
        "colab": {
          "base_uri": "https://localhost:8080/",
          "height": 68
        }
      },
      "source": [
        "print('50%',np.quantile([len(s.split()) for s in texts_prepro],.50)) #2470\n",
        "print('75%',np.quantile([len(s.split()) for s in texts_prepro],.75)) #2470\n",
        "print('99%',np.quantile([len(s.split()) for s in texts_prepro],.95)) #2470"
      ],
      "execution_count": 142,
      "outputs": [
        {
          "output_type": "stream",
          "text": [
            "50% 166.0\n",
            "75% 269.0\n",
            "99% 571.0\n"
          ],
          "name": "stdout"
        }
      ]
    },
    {
      "cell_type": "code",
      "metadata": {
        "id": "EqIhaejv-dQI",
        "colab_type": "code",
        "colab": {}
      },
      "source": [
        "from keras.preprocessing.text import Tokenizer\n",
        "from keras.preprocessing.sequence import pad_sequences\n",
        "\n",
        "#max_features = 5000\n",
        "tokenizer_ = Tokenizer()\n",
        "tokenizer_.fit_on_texts(texts_prepro)\n",
        "\n",
        "max_length = 269\n",
        "vocab_size = len(tokenizer_.word_index) + 1\n",
        "\n",
        "def text2num(text,max_length = 269):\n",
        "    text_tok = tokenizer_.texts_to_sequences(text)\n",
        "    text_pad = pad_sequences(text_tok,maxlen=max_length, padding='post')\n",
        "    return text_pad\n",
        "\n",
        "X_train_pad = text2num(X_train)\n",
        "X_test_pad = text2num(X_test)\n",
        "X_ho_pad = text2num(X_holdout)\n"
      ],
      "execution_count": 0,
      "outputs": []
    },
    {
      "cell_type": "code",
      "metadata": {
        "id": "-zhRYHYqrrSc",
        "colab_type": "code",
        "colab": {}
      },
      "source": [
        "from sklearn.preprocessing import LabelEncoder\n",
        "from keras.utils import np_utils\n",
        "\n",
        "encoder = LabelEncoder()\n",
        "encoder.fit(labels)\n",
        "\n",
        "def encode_label(y_):\n",
        "  y__ = encoder.transform(y_)\n",
        "  y_enc = np_utils.to_categorical(y__)\n",
        "  return y_enc\n",
        "\n",
        "y_train_enc = encode_label(y_train)\n",
        "y_test_enc = encode_label(y_test)\n",
        "y_ho_enc = encode_label(y_holdout)\n"
      ],
      "execution_count": 0,
      "outputs": []
    },
    {
      "cell_type": "code",
      "metadata": {
        "id": "ZIWvzTou2qFB",
        "colab_type": "code",
        "outputId": "9a328486-5d24-4dba-8e57-c2da5d8117b6",
        "colab": {
          "base_uri": "https://localhost:8080/",
          "height": 34
        }
      },
      "source": [
        "print(y_train.shape, sum(y_train),y_test.shape, sum(y_test),y_holdout.shape, sum(y_holdout))"
      ],
      "execution_count": 145,
      "outputs": [
        {
          "output_type": "stream",
          "text": [
            "(50000,) 25000 (15000,) 7456 (10000,) 5044\n"
          ],
          "name": "stdout"
        }
      ]
    },
    {
      "cell_type": "code",
      "metadata": {
        "id": "VohKLeRT_cva",
        "colab_type": "code",
        "colab": {}
      },
      "source": [
        "import keras\n",
        "from keras.models import Model, Sequential\n",
        "from keras.layers import Input, Dropout, Dense, Embedding, LSTM, GRU, GlobalMaxPool1D,Bidirectional,Concatenate\n",
        "from keras.layers.embeddings import Embedding\n",
        "from keras.optimizers import Adam,Adadelta,Nadam\n",
        "from keras.callbacks import EarlyStopping, ModelCheckpoint\n",
        "from keras.regularizers import l1_l2"
      ],
      "execution_count": 0,
      "outputs": []
    },
    {
      "cell_type": "markdown",
      "metadata": {
        "id": "Hsi16Feu4U5d",
        "colab_type": "text"
      },
      "source": [
        "### Plain Vanilla"
      ]
    },
    {
      "cell_type": "code",
      "metadata": {
        "id": "mZ9O4HzaC7N7",
        "colab_type": "code",
        "outputId": "489e3457-3669-4768-8e8c-1d6e872da3ad",
        "colab": {
          "base_uri": "https://localhost:8080/",
          "height": 2009
        }
      },
      "source": [
        "embedding_dim = 64\n",
        "dropout_rate =.8\n",
        "\n",
        "input_imbd_1 = Input(shape = (max_length,), dtype = 'int32')\n",
        "embedd_seq_1 = Embedding(vocab_size, embedding_dim, input_length = max_length, trainable = True,mask_zero=True)(input_imbd_1)\n",
        "lstm_layer_1 = Bidirectional(LSTM(32, dropout = dropout_rate, return_sequences = False ))(embedd_seq_1)\n",
        "pred_layer_1 = Dense(2, activation = 'softmax', kernel_regularizer=l1_l2(0.01))(lstm_layer_1)\n",
        "\n",
        "lr= .0001\n",
        "opt = Adam(lr=lr, decay=lr/50)\n",
        "\n",
        "model = Model(inputs = [input_imbd_1], outputs = pred_layer_1)\n",
        "\n",
        "model.compile(optimizer = opt, loss = 'categorical_crossentropy', metrics = ['accuracy'])\n",
        "print(model.summary())\n",
        "early_stopping = EarlyStopping(patience = 3)\n",
        "hist = model.fit(x = X_train_pad, y = y_train_enc,\\\n",
        "                 validation_data = (X_test_pad, y_test_enc), \\\n",
        "                 epochs = 50, batch_size = 2048, shuffle = False, \\\n",
        "                 callbacks = [early_stopping])\n"
      ],
      "execution_count": 147,
      "outputs": [
        {
          "output_type": "stream",
          "text": [
            "Model: \"model_3\"\n",
            "_________________________________________________________________\n",
            "Layer (type)                 Output Shape              Param #   \n",
            "=================================================================\n",
            "input_4 (InputLayer)         (None, 269)               0         \n",
            "_________________________________________________________________\n",
            "embedding_4 (Embedding)      (None, 269, 64)           6446272   \n",
            "_________________________________________________________________\n",
            "bidirectional_5 (Bidirection (None, 64)                24832     \n",
            "_________________________________________________________________\n",
            "dense_5 (Dense)              (None, 2)                 130       \n",
            "=================================================================\n",
            "Total params: 6,471,234\n",
            "Trainable params: 6,471,234\n",
            "Non-trainable params: 0\n",
            "_________________________________________________________________\n",
            "None\n",
            "Train on 50000 samples, validate on 15000 samples\n",
            "Epoch 1/50\n",
            "50000/50000 [==============================] - 43s 861us/step - loss: 0.9333 - acc: 0.5040 - val_loss: 0.9305 - val_acc: 0.5327\n",
            "Epoch 2/50\n",
            "50000/50000 [==============================] - 38s 756us/step - loss: 0.9284 - acc: 0.5227 - val_loss: 0.9256 - val_acc: 0.5623\n",
            "Epoch 3/50\n",
            "50000/50000 [==============================] - 37s 749us/step - loss: 0.9235 - acc: 0.5364 - val_loss: 0.9207 - val_acc: 0.5944\n",
            "Epoch 4/50\n",
            "50000/50000 [==============================] - 41s 829us/step - loss: 0.9185 - acc: 0.5549 - val_loss: 0.9156 - val_acc: 0.6191\n",
            "Epoch 5/50\n",
            "50000/50000 [==============================] - 48s 968us/step - loss: 0.9131 - acc: 0.5766 - val_loss: 0.9101 - val_acc: 0.6397\n",
            "Epoch 6/50\n",
            "50000/50000 [==============================] - 38s 752us/step - loss: 0.9071 - acc: 0.6003 - val_loss: 0.9039 - val_acc: 0.6638\n",
            "Epoch 7/50\n",
            "50000/50000 [==============================] - 45s 898us/step - loss: 0.9004 - acc: 0.6239 - val_loss: 0.8962 - val_acc: 0.6823\n",
            "Epoch 8/50\n",
            "50000/50000 [==============================] - 38s 752us/step - loss: 0.8910 - acc: 0.6574 - val_loss: 0.8845 - val_acc: 0.7087\n",
            "Epoch 9/50\n",
            "50000/50000 [==============================] - 38s 753us/step - loss: 0.8732 - acc: 0.6890 - val_loss: 0.8493 - val_acc: 0.7499\n",
            "Epoch 10/50\n",
            "50000/50000 [==============================] - 37s 744us/step - loss: 0.7831 - acc: 0.7377 - val_loss: 0.7191 - val_acc: 0.7513\n",
            "Epoch 11/50\n",
            "50000/50000 [==============================] - 38s 753us/step - loss: 0.6818 - acc: 0.7826 - val_loss: 0.6416 - val_acc: 0.8154\n",
            "Epoch 12/50\n",
            "50000/50000 [==============================] - 38s 753us/step - loss: 0.6221 - acc: 0.8242 - val_loss: 0.6114 - val_acc: 0.8231\n",
            "Epoch 13/50\n",
            "50000/50000 [==============================] - 38s 752us/step - loss: 0.5930 - acc: 0.8427 - val_loss: 0.5922 - val_acc: 0.8383\n",
            "Epoch 14/50\n",
            "50000/50000 [==============================] - 38s 754us/step - loss: 0.5666 - acc: 0.8577 - val_loss: 0.5770 - val_acc: 0.8434\n",
            "Epoch 15/50\n",
            "50000/50000 [==============================] - 37s 749us/step - loss: 0.5452 - acc: 0.8671 - val_loss: 0.5627 - val_acc: 0.8533\n",
            "Epoch 16/50\n",
            "50000/50000 [==============================] - 37s 749us/step - loss: 0.5250 - acc: 0.8733 - val_loss: 0.5527 - val_acc: 0.8502\n",
            "Epoch 17/50\n",
            "50000/50000 [==============================] - 38s 757us/step - loss: 0.5094 - acc: 0.8812 - val_loss: 0.5423 - val_acc: 0.8579\n",
            "Epoch 18/50\n",
            "50000/50000 [==============================] - 37s 749us/step - loss: 0.4921 - acc: 0.8876 - val_loss: 0.5342 - val_acc: 0.8597\n",
            "Epoch 19/50\n",
            "50000/50000 [==============================] - 38s 752us/step - loss: 0.4743 - acc: 0.8945 - val_loss: 0.5233 - val_acc: 0.8619\n",
            "Epoch 20/50\n",
            "50000/50000 [==============================] - 38s 755us/step - loss: 0.4572 - acc: 0.8981 - val_loss: 0.5171 - val_acc: 0.8644\n",
            "Epoch 21/50\n",
            "50000/50000 [==============================] - 37s 746us/step - loss: 0.4445 - acc: 0.9037 - val_loss: 0.5096 - val_acc: 0.8648\n",
            "Epoch 22/50\n",
            "50000/50000 [==============================] - 38s 756us/step - loss: 0.4378 - acc: 0.9041 - val_loss: 0.5011 - val_acc: 0.8663\n",
            "Epoch 23/50\n",
            "50000/50000 [==============================] - 38s 757us/step - loss: 0.4194 - acc: 0.9123 - val_loss: 0.4973 - val_acc: 0.8681\n",
            "Epoch 24/50\n",
            "50000/50000 [==============================] - 37s 746us/step - loss: 0.4122 - acc: 0.9145 - val_loss: 0.4934 - val_acc: 0.8676\n",
            "Epoch 25/50\n",
            "50000/50000 [==============================] - 37s 743us/step - loss: 0.4027 - acc: 0.9186 - val_loss: 0.4932 - val_acc: 0.8708\n",
            "Epoch 26/50\n",
            "50000/50000 [==============================] - 38s 759us/step - loss: 0.3928 - acc: 0.9209 - val_loss: 0.4837 - val_acc: 0.8709\n",
            "Epoch 27/50\n",
            "50000/50000 [==============================] - 37s 746us/step - loss: 0.3841 - acc: 0.9245 - val_loss: 0.4818 - val_acc: 0.8711\n",
            "Epoch 28/50\n",
            "50000/50000 [==============================] - 38s 755us/step - loss: 0.3738 - acc: 0.9280 - val_loss: 0.4798 - val_acc: 0.8733\n",
            "Epoch 29/50\n",
            "50000/50000 [==============================] - 37s 743us/step - loss: 0.3667 - acc: 0.9301 - val_loss: 0.4765 - val_acc: 0.8739\n",
            "Epoch 30/50\n",
            "50000/50000 [==============================] - 37s 746us/step - loss: 0.3588 - acc: 0.9335 - val_loss: 0.4735 - val_acc: 0.8759\n",
            "Epoch 31/50\n",
            "50000/50000 [==============================] - 39s 772us/step - loss: 0.3518 - acc: 0.9358 - val_loss: 0.4701 - val_acc: 0.8752\n",
            "Epoch 32/50\n",
            "50000/50000 [==============================] - 38s 767us/step - loss: 0.3454 - acc: 0.9373 - val_loss: 0.4686 - val_acc: 0.8759\n",
            "Epoch 33/50\n",
            "50000/50000 [==============================] - 38s 769us/step - loss: 0.3373 - acc: 0.9405 - val_loss: 0.4644 - val_acc: 0.8769\n",
            "Epoch 34/50\n",
            "50000/50000 [==============================] - 38s 769us/step - loss: 0.3289 - acc: 0.9431 - val_loss: 0.4654 - val_acc: 0.8759\n",
            "Epoch 35/50\n",
            "50000/50000 [==============================] - 38s 758us/step - loss: 0.3215 - acc: 0.9447 - val_loss: 0.4631 - val_acc: 0.8767\n",
            "Epoch 36/50\n",
            "50000/50000 [==============================] - 38s 754us/step - loss: 0.3178 - acc: 0.9452 - val_loss: 0.4579 - val_acc: 0.8767\n",
            "Epoch 37/50\n",
            "50000/50000 [==============================] - 37s 742us/step - loss: 0.3047 - acc: 0.9499 - val_loss: 0.4574 - val_acc: 0.8775\n",
            "Epoch 38/50\n",
            "50000/50000 [==============================] - 37s 748us/step - loss: 0.3026 - acc: 0.9503 - val_loss: 0.4575 - val_acc: 0.8772\n",
            "Epoch 39/50\n",
            "50000/50000 [==============================] - 37s 744us/step - loss: 0.2926 - acc: 0.9540 - val_loss: 0.4547 - val_acc: 0.8764\n",
            "Epoch 40/50\n",
            "50000/50000 [==============================] - 38s 756us/step - loss: 0.2881 - acc: 0.9542 - val_loss: 0.4529 - val_acc: 0.8773\n",
            "Epoch 41/50\n",
            "50000/50000 [==============================] - 37s 746us/step - loss: 0.2833 - acc: 0.9553 - val_loss: 0.4537 - val_acc: 0.8770\n",
            "Epoch 42/50\n",
            "50000/50000 [==============================] - 38s 753us/step - loss: 0.2808 - acc: 0.9564 - val_loss: 0.4535 - val_acc: 0.8759\n",
            "Epoch 43/50\n",
            "50000/50000 [==============================] - 38s 752us/step - loss: 0.2732 - acc: 0.9571 - val_loss: 0.4511 - val_acc: 0.8759\n",
            "Epoch 44/50\n",
            "50000/50000 [==============================] - 38s 751us/step - loss: 0.2690 - acc: 0.9589 - val_loss: 0.4423 - val_acc: 0.8777\n",
            "Epoch 45/50\n",
            "50000/50000 [==============================] - 37s 743us/step - loss: 0.2667 - acc: 0.9588 - val_loss: 0.4458 - val_acc: 0.8773\n",
            "Epoch 46/50\n",
            "50000/50000 [==============================] - 37s 745us/step - loss: 0.2606 - acc: 0.9623 - val_loss: 0.4419 - val_acc: 0.8771\n",
            "Epoch 47/50\n",
            "50000/50000 [==============================] - 37s 750us/step - loss: 0.2549 - acc: 0.9629 - val_loss: 0.4469 - val_acc: 0.8737\n",
            "Epoch 48/50\n",
            "50000/50000 [==============================] - 38s 754us/step - loss: 0.2530 - acc: 0.9635 - val_loss: 0.4496 - val_acc: 0.8747\n",
            "Epoch 49/50\n",
            "50000/50000 [==============================] - 37s 746us/step - loss: 0.2480 - acc: 0.9653 - val_loss: 0.4474 - val_acc: 0.8740\n"
          ],
          "name": "stdout"
        }
      ]
    },
    {
      "cell_type": "code",
      "metadata": {
        "id": "2ItimNM12DL5",
        "colab_type": "code",
        "outputId": "6cedf44e-a627-4d1f-9fad-19644352a479",
        "colab": {
          "base_uri": "https://localhost:8080/",
          "height": 329
        }
      },
      "source": [
        "print(final_score(model,True))\n",
        "plot_training(hist)"
      ],
      "execution_count": 0,
      "outputs": [
        {
          "output_type": "stream",
          "text": [
            "accuracy 0.8756\n",
            "None\n"
          ],
          "name": "stdout"
        },
        {
          "output_type": "display_data",
          "data": {
            "image/png": "[encoded data removed]",
            "text/plain": [
              "<Figure size 432x288 with 1 Axes>"
            ]
          },
          "metadata": {
            "tags": []
          }
        }
      ]
    },
    {
      "cell_type": "code",
      "metadata": {
        "id": "epQf3gs7TzmC",
        "colab_type": "code",
        "colab": {
          "base_uri": "https://localhost:8080/",
          "height": 85
        },
        "outputId": "ffc44075-8db7-4ed4-c224-33e8f58ddf7c"
      },
      "source": [
        "test_sentences_fct(model,True)"
      ],
      "execution_count": 174,
      "outputs": [
        {
          "output_type": "stream",
          "text": [
            "long accuracy: 0.98\n",
            "short accuracy: 0.87\n",
            "med accuracy: 0.98\n",
            "neg accuracy: 1.0\n"
          ],
          "name": "stdout"
        }
      ]
    },
    {
      "cell_type": "markdown",
      "metadata": {
        "id": "YW2HRjMhd6Rs",
        "colab_type": "text"
      },
      "source": [
        "The basic LSTM performs (only) slightly (.7%) better then the logistic regression. In the test cases it performs much better, largest improvements in long sentences and negation. Thats what I would have expected, because LSTM can store information from previous tokens and therfore store information over longer documents and detect negations. The downside is, preprocessing and training took longer and it is still overfitting. "
      ]
    },
    {
      "cell_type": "markdown",
      "metadata": {
        "id": "DNAI2_owRI6Z",
        "colab_type": "text"
      },
      "source": [
        "That was the Baseline LSTM, now I want to try to add Attention, pretrained Embeddings and more layers to improve accuracy."
      ]
    },
    {
      "cell_type": "markdown",
      "metadata": {
        "id": "o0FtF48L20jk",
        "colab_type": "text"
      },
      "source": [
        "### Attention\n"
      ]
    },
    {
      "cell_type": "code",
      "metadata": {
        "id": "4XfVReLiuxRG",
        "colab_type": "code",
        "colab": {
          "base_uri": "https://localhost:8080/",
          "height": 1193
        },
        "outputId": "de38faa6-ce54-465e-cc13-72b37e3f29a5"
      },
      "source": [
        "embedding_dim = 100\n",
        "dropout_rate =.25\n",
        "\n",
        "input_imbd_1 = Input(shape = (max_length,), dtype = 'int32')\n",
        "embedd_seq_1 = Embedding(vocab_size, embedding_dim, input_length = max_length, trainable = True)(input_imbd_1)\n",
        "lstm_layer_1 = Bidirectional(LSTM(32, dropout = dropout_rate, return_sequences = True ))(embedd_seq_1)\n",
        "attention_1 = Attention(max_length)(lstm_layer_1)\n",
        "pred_layer_1 = Dense(2, activation = 'softmax', kernel_regularizer=l1_l2(0.001))(attention_1)\n",
        "\n",
        "lr = .0001\n",
        "opt = Adam(lr=lr, decay=lr/50)\n",
        "model = Model(inputs = [input_imbd_1], outputs = pred_layer_1)\n",
        "\n",
        "model.compile(optimizer = opt, loss = 'categorical_crossentropy', metrics = ['accuracy'])\n",
        "print(model.summary())\n",
        "early_stopping = EarlyStopping(patience = 3)\n",
        "hist = model.fit(x = X_train_pad, y = y_train_enc,\\\n",
        "                 validation_data = (X_test_pad, y_test_enc), \\\n",
        "                 epochs = 50, batch_size = 2048, shuffle = True, \\\n",
        "                 callbacks = [early_stopping])\n"
      ],
      "execution_count": 201,
      "outputs": [
        {
          "output_type": "stream",
          "text": [
            "Model: \"model_2\"\n",
            "_________________________________________________________________\n",
            "Layer (type)                 Output Shape              Param #   \n",
            "=================================================================\n",
            "input_2 (InputLayer)         (None, 269)               0         \n",
            "_________________________________________________________________\n",
            "embedding_2 (Embedding)      (None, 269, 100)          10072300  \n",
            "_________________________________________________________________\n",
            "bidirectional_2 (Bidirection (None, 269, 64)           34048     \n",
            "_________________________________________________________________\n",
            "attention_2 (Attention)      (None, 64)                333       \n",
            "_________________________________________________________________\n",
            "dense_2 (Dense)              (None, 2)                 130       \n",
            "=================================================================\n",
            "Total params: 10,106,811\n",
            "Trainable params: 10,106,811\n",
            "Non-trainable params: 0\n",
            "_________________________________________________________________\n",
            "None\n",
            "Train on 50000 samples, validate on 15000 samples\n",
            "Epoch 1/50\n",
            "50000/50000 [==============================] - 34s 688us/step - loss: 0.7472 - acc: 0.5389 - val_loss: 0.7461 - val_acc: 0.6209\n",
            "Epoch 2/50\n",
            "50000/50000 [==============================] - 32s 640us/step - loss: 0.7451 - acc: 0.5853 - val_loss: 0.7440 - val_acc: 0.6504\n",
            "Epoch 3/50\n",
            "50000/50000 [==============================] - 32s 644us/step - loss: 0.7427 - acc: 0.6428 - val_loss: 0.7414 - val_acc: 0.6922\n",
            "Epoch 4/50\n",
            "50000/50000 [==============================] - 40s 795us/step - loss: 0.7396 - acc: 0.6749 - val_loss: 0.7379 - val_acc: 0.7178\n",
            "Epoch 5/50\n",
            "50000/50000 [==============================] - 32s 639us/step - loss: 0.7350 - acc: 0.7212 - val_loss: 0.7324 - val_acc: 0.7521\n",
            "Epoch 6/50\n",
            "50000/50000 [==============================] - 32s 643us/step - loss: 0.7272 - acc: 0.7453 - val_loss: 0.7224 - val_acc: 0.7557\n",
            "Epoch 7/50\n",
            "50000/50000 [==============================] - 32s 644us/step - loss: 0.7102 - acc: 0.7634 - val_loss: 0.6971 - val_acc: 0.7566\n",
            "Epoch 8/50\n",
            "50000/50000 [==============================] - 32s 648us/step - loss: 0.6521 - acc: 0.7738 - val_loss: 0.5928 - val_acc: 0.7670\n",
            "Epoch 9/50\n",
            "50000/50000 [==============================] - 32s 646us/step - loss: 0.5355 - acc: 0.7920 - val_loss: 0.5388 - val_acc: 0.7653\n",
            "Epoch 10/50\n",
            "50000/50000 [==============================] - 32s 645us/step - loss: 0.4726 - acc: 0.8204 - val_loss: 0.4899 - val_acc: 0.7997\n",
            "Epoch 11/50\n",
            "50000/50000 [==============================] - 32s 642us/step - loss: 0.4223 - acc: 0.8551 - val_loss: 0.4507 - val_acc: 0.8285\n",
            "Epoch 12/50\n",
            "50000/50000 [==============================] - 32s 644us/step - loss: 0.3808 - acc: 0.8778 - val_loss: 0.4236 - val_acc: 0.8419\n",
            "Epoch 13/50\n",
            "50000/50000 [==============================] - 32s 637us/step - loss: 0.3465 - acc: 0.8920 - val_loss: 0.4089 - val_acc: 0.8491\n",
            "Epoch 14/50\n",
            "50000/50000 [==============================] - 32s 637us/step - loss: 0.3202 - acc: 0.9032 - val_loss: 0.3944 - val_acc: 0.8604\n",
            "Epoch 15/50\n",
            "50000/50000 [==============================] - 32s 641us/step - loss: 0.3006 - acc: 0.9108 - val_loss: 0.3925 - val_acc: 0.8585\n",
            "Epoch 16/50\n",
            "50000/50000 [==============================] - 32s 642us/step - loss: 0.2806 - acc: 0.9211 - val_loss: 0.3792 - val_acc: 0.8672\n",
            "Epoch 17/50\n",
            "50000/50000 [==============================] - 32s 644us/step - loss: 0.2638 - acc: 0.9289 - val_loss: 0.3780 - val_acc: 0.8693\n",
            "Epoch 18/50\n",
            "50000/50000 [==============================] - 33s 651us/step - loss: 0.2509 - acc: 0.9329 - val_loss: 0.3724 - val_acc: 0.8701\n",
            "Epoch 19/50\n",
            "50000/50000 [==============================] - 32s 639us/step - loss: 0.2371 - acc: 0.9400 - val_loss: 0.3720 - val_acc: 0.8724\n",
            "Epoch 20/50\n",
            "50000/50000 [==============================] - 32s 639us/step - loss: 0.2244 - acc: 0.9438 - val_loss: 0.3727 - val_acc: 0.8707\n",
            "Epoch 21/50\n",
            "50000/50000 [==============================] - 32s 645us/step - loss: 0.2135 - acc: 0.9482 - val_loss: 0.3691 - val_acc: 0.8721\n",
            "Epoch 22/50\n",
            "50000/50000 [==============================] - 32s 637us/step - loss: 0.2030 - acc: 0.9533 - val_loss: 0.3738 - val_acc: 0.8721\n",
            "Epoch 23/50\n",
            "50000/50000 [==============================] - 32s 641us/step - loss: 0.1942 - acc: 0.9557 - val_loss: 0.3707 - val_acc: 0.8751\n",
            "Epoch 24/50\n",
            "50000/50000 [==============================] - 32s 641us/step - loss: 0.1851 - acc: 0.9600 - val_loss: 0.3692 - val_acc: 0.8761\n"
          ],
          "name": "stdout"
        }
      ]
    },
    {
      "cell_type": "code",
      "metadata": {
        "id": "x1OBLzE7O-F_",
        "colab_type": "code",
        "outputId": "bad5b584-c465-45cd-8242-b5fb5a9e1522",
        "colab": {
          "base_uri": "https://localhost:8080/",
          "height": 329
        }
      },
      "source": [
        "print(final_score(model,True))\n",
        "plot_training(hist)"
      ],
      "execution_count": 202,
      "outputs": [
        {
          "output_type": "stream",
          "text": [
            "accuracy hold out: 0.8724\n",
            "None\n"
          ],
          "name": "stdout"
        },
        {
          "output_type": "display_data",
          "data": {
            "image/png": "[encoded data removed]",
            "text/plain": [
              "<Figure size 432x288 with 1 Axes>"
            ]
          },
          "metadata": {
            "tags": []
          }
        }
      ]
    },
    {
      "cell_type": "markdown",
      "metadata": {
        "id": "0hKJYV7YMpjW",
        "colab_type": "text"
      },
      "source": [
        "### Glove Embeddings & Attention"
      ]
    },
    {
      "cell_type": "code",
      "metadata": {
        "id": "VuZAlJQLMsbf",
        "colab_type": "code",
        "colab": {}
      },
      "source": [
        "%%capture\n",
        "!wget http://nlp.stanford.edu/data/glove.6B.zip"
      ],
      "execution_count": 0,
      "outputs": []
    },
    {
      "cell_type": "code",
      "metadata": {
        "id": "eaYMo55vNCRS",
        "colab_type": "code",
        "outputId": "b3f766f4-1258-44d3-add6-982ceaa2fda1",
        "colab": {
          "base_uri": "https://localhost:8080/",
          "height": 102
        }
      },
      "source": [
        "!unzip glove*.zip"
      ],
      "execution_count": 37,
      "outputs": [
        {
          "output_type": "stream",
          "text": [
            "Archive:  glove.6B.zip\n",
            "  inflating: glove.6B.50d.txt        \n",
            "  inflating: glove.6B.100d.txt       \n",
            "  inflating: glove.6B.200d.txt       \n",
            "  inflating: glove.6B.300d.txt       \n"
          ],
          "name": "stdout"
        }
      ]
    },
    {
      "cell_type": "code",
      "metadata": {
        "id": "y79-LP2ENRxQ",
        "colab_type": "code",
        "outputId": "f29709bc-a1cf-4ed6-f4bc-be5eedbea642",
        "colab": {
          "base_uri": "https://localhost:8080/",
          "height": 68
        }
      },
      "source": [
        "!ls"
      ],
      "execution_count": 38,
      "outputs": [
        {
          "output_type": "stream",
          "text": [
            "aclImdb\t\t     glove.6B.100d.txt\tglove.6B.50d.txt\n",
            "aclImdb_v1.tar.gz    glove.6B.200d.txt\tglove.6B.zip\n",
            "aclImdb_v1.tar.gz.1  glove.6B.300d.txt\tsample_data\n"
          ],
          "name": "stdout"
        }
      ]
    },
    {
      "cell_type": "code",
      "metadata": {
        "id": "s_rnGz5mNCVM",
        "colab_type": "code",
        "outputId": "250ebf9a-1673-4fd1-d918-b08a5227fd64",
        "colab": {
          "base_uri": "https://localhost:8080/",
          "height": 51
        }
      },
      "source": [
        "print('Indexing word vectors.')\n",
        "\n",
        "embeddings_index = {}\n",
        "f = open('glove.6B.100d.txt', encoding='utf-8')\n",
        "for line in f:\n",
        "    values = line.split()\n",
        "    word = values[0]\n",
        "    coefs = np.asarray(values[1:], dtype='float32')\n",
        "    embeddings_index[word] = coefs\n",
        "f.close()\n",
        "\n",
        "print('Found %s word vectors.' % len(embeddings_index))"
      ],
      "execution_count": 39,
      "outputs": [
        {
          "output_type": "stream",
          "text": [
            "Indexing word vectors.\n",
            "Found 400000 word vectors.\n"
          ],
          "name": "stdout"
        }
      ]
    },
    {
      "cell_type": "code",
      "metadata": {
        "id": "MHkfNMDSOJ9z",
        "colab_type": "code",
        "colab": {}
      },
      "source": [
        "#vocab_to_emb = utils.load_embed_dict('vocab_to_emb_w2v_300.p')\n",
        "embedding_dim = 100\n",
        "embedding_matrix = np.zeros((vocab_size, embedding_dim))\n",
        "\n",
        "for word,i in tokenizer_.word_index.items():\n",
        "    try:\n",
        "        embedding_matrix[i] = embeddings_index[word]\n",
        "    except KeyError:\n",
        "        pass\n",
        "        #embedding_matrix[i] = np.random.rand(embedding_dim)"
      ],
      "execution_count": 0,
      "outputs": []
    },
    {
      "cell_type": "code",
      "metadata": {
        "id": "AnQSHAa4UoaN",
        "colab_type": "code",
        "outputId": "8387c984-e2ad-4954-ed02-7a6c9ae58d38",
        "colab": {
          "base_uri": "https://localhost:8080/",
          "height": 34
        }
      },
      "source": [
        "embedding_matrix.shape"
      ],
      "execution_count": 0,
      "outputs": [
        {
          "output_type": "execute_result",
          "data": {
            "text/plain": [
              "(100723, 100)"
            ]
          },
          "metadata": {
            "tags": []
          },
          "execution_count": 80
        }
      ]
    },
    {
      "cell_type": "code",
      "metadata": {
        "id": "7npuIsduyb_l",
        "colab_type": "code",
        "outputId": "64e8cf04-05ac-4c55-a2e0-9f01649e8e5a",
        "colab": {
          "base_uri": "https://localhost:8080/",
          "height": 1000
        }
      },
      "source": [
        "dropout_rate=.3\n",
        "\n",
        "input_imbd_2 = Input(shape = (max_length,), dtype = 'int32')\n",
        "embedd_seq_2 = Embedding(vocab_size, embedding_dim, weights = [embedding_matrix], input_length = max_length, trainable = False)(input_imbd_2)\n",
        "lstm_layer_2 = Bidirectional(LSTM(32, dropout = dropout_rate, return_sequences = True ))(embedd_seq_2)\n",
        "attention_2 = Attention(max_length)(lstm_layer_2)\n",
        "pred_layer_2 = Dense(2, activation = 'softmax', kernel_regularizer=l1_l2(0.0001))(attention_2)\n",
        "\n",
        "model_1 = Model(inputs = [input_imbd_2], outputs = pred_layer_2)\n",
        "\n",
        "lr = .005\n",
        "opt = Adam(lr=lr, decay=lr/50)\n",
        "\n",
        "model_1.compile(optimizer = opt, loss = 'categorical_crossentropy', metrics = ['accuracy'])\n",
        "print(model_1.summary())\n",
        "\n",
        "early_stopping = EarlyStopping(patience = 3)\n",
        "\n",
        "hist = model_1.fit(x = X_train_pad, y = y_train_enc,\\\n",
        "                 validation_data = (X_test_pad, y_test_enc), \\\n",
        "                 epochs = 50, batch_size = 2048, shuffle = False, \\\n",
        "                 callbacks = [early_stopping])\n",
        "best_score = min(hist.history['val_loss'])"
      ],
      "execution_count": 0,
      "outputs": [
        {
          "output_type": "stream",
          "text": [
            "WARNING:tensorflow:From /usr/local/lib/python3.6/dist-packages/keras/backend/tensorflow_backend.py:66: The name tf.get_default_graph is deprecated. Please use tf.compat.v1.get_default_graph instead.\n",
            "\n",
            "WARNING:tensorflow:From /usr/local/lib/python3.6/dist-packages/keras/backend/tensorflow_backend.py:541: The name tf.placeholder is deprecated. Please use tf.compat.v1.placeholder instead.\n",
            "\n",
            "WARNING:tensorflow:From /usr/local/lib/python3.6/dist-packages/keras/backend/tensorflow_backend.py:4432: The name tf.random_uniform is deprecated. Please use tf.random.uniform instead.\n",
            "\n",
            "WARNING:tensorflow:From /usr/local/lib/python3.6/dist-packages/keras/backend/tensorflow_backend.py:190: The name tf.get_default_session is deprecated. Please use tf.compat.v1.get_default_session instead.\n",
            "\n",
            "WARNING:tensorflow:From /usr/local/lib/python3.6/dist-packages/keras/backend/tensorflow_backend.py:197: The name tf.ConfigProto is deprecated. Please use tf.compat.v1.ConfigProto instead.\n",
            "\n",
            "WARNING:tensorflow:From /usr/local/lib/python3.6/dist-packages/keras/backend/tensorflow_backend.py:203: The name tf.Session is deprecated. Please use tf.compat.v1.Session instead.\n",
            "\n",
            "WARNING:tensorflow:From /usr/local/lib/python3.6/dist-packages/keras/backend/tensorflow_backend.py:207: The name tf.global_variables is deprecated. Please use tf.compat.v1.global_variables instead.\n",
            "\n",
            "WARNING:tensorflow:From /usr/local/lib/python3.6/dist-packages/keras/backend/tensorflow_backend.py:216: The name tf.is_variable_initialized is deprecated. Please use tf.compat.v1.is_variable_initialized instead.\n",
            "\n",
            "WARNING:tensorflow:From /usr/local/lib/python3.6/dist-packages/keras/backend/tensorflow_backend.py:223: The name tf.variables_initializer is deprecated. Please use tf.compat.v1.variables_initializer instead.\n",
            "\n",
            "WARNING:tensorflow:From /usr/local/lib/python3.6/dist-packages/keras/backend/tensorflow_backend.py:148: The name tf.placeholder_with_default is deprecated. Please use tf.compat.v1.placeholder_with_default instead.\n",
            "\n",
            "WARNING:tensorflow:From /usr/local/lib/python3.6/dist-packages/keras/backend/tensorflow_backend.py:3733: calling dropout (from tensorflow.python.ops.nn_ops) with keep_prob is deprecated and will be removed in a future version.\n",
            "Instructions for updating:\n",
            "Please use `rate` instead of `keep_prob`. Rate should be set to `rate = 1 - keep_prob`.\n",
            "WARNING:tensorflow:From /usr/local/lib/python3.6/dist-packages/keras/optimizers.py:793: The name tf.train.Optimizer is deprecated. Please use tf.compat.v1.train.Optimizer instead.\n",
            "\n",
            "WARNING:tensorflow:From /usr/local/lib/python3.6/dist-packages/keras/backend/tensorflow_backend.py:3576: The name tf.log is deprecated. Please use tf.math.log instead.\n",
            "\n",
            "Model: \"model_1\"\n",
            "_________________________________________________________________\n",
            "Layer (type)                 Output Shape              Param #   \n",
            "=================================================================\n",
            "input_1 (InputLayer)         (None, 269)               0         \n",
            "_________________________________________________________________\n",
            "embedding_1 (Embedding)      (None, 269, 100)          10072300  \n",
            "_________________________________________________________________\n",
            "bidirectional_1 (Bidirection (None, 269, 64)           34048     \n",
            "_________________________________________________________________\n",
            "attention_1 (Attention)      (None, 64)                333       \n",
            "_________________________________________________________________\n",
            "dense_1 (Dense)              (None, 2)                 130       \n",
            "=================================================================\n",
            "Total params: 10,106,811\n",
            "Trainable params: 34,511\n",
            "Non-trainable params: 10,072,300\n",
            "_________________________________________________________________\n",
            "None\n",
            "WARNING:tensorflow:From /usr/local/lib/python3.6/dist-packages/tensorflow_core/python/ops/math_grad.py:1424: where (from tensorflow.python.ops.array_ops) is deprecated and will be removed in a future version.\n",
            "Instructions for updating:\n",
            "Use tf.where in 2.0, which has the same broadcast rule as np.where\n",
            "WARNING:tensorflow:From /usr/local/lib/python3.6/dist-packages/keras/backend/tensorflow_backend.py:1033: The name tf.assign_add is deprecated. Please use tf.compat.v1.assign_add instead.\n",
            "\n",
            "WARNING:tensorflow:From /usr/local/lib/python3.6/dist-packages/keras/backend/tensorflow_backend.py:1020: The name tf.assign is deprecated. Please use tf.compat.v1.assign instead.\n",
            "\n",
            "Train on 50000 samples, validate on 15000 samples\n",
            "Epoch 1/50\n",
            "50000/50000 [==============================] - 22s 441us/step - loss: 0.6623 - acc: 0.6389 - val_loss: 0.5803 - val_acc: 0.7161\n",
            "Epoch 2/50\n",
            "50000/50000 [==============================] - 20s 397us/step - loss: 0.5309 - acc: 0.7522 - val_loss: 0.4594 - val_acc: 0.7905\n",
            "Epoch 3/50\n",
            "50000/50000 [==============================] - 20s 399us/step - loss: 0.4613 - acc: 0.7929 - val_loss: 0.3993 - val_acc: 0.8234\n",
            "Epoch 4/50\n",
            "50000/50000 [==============================] - 20s 399us/step - loss: 0.4207 - acc: 0.8169 - val_loss: 0.3650 - val_acc: 0.8431\n",
            "Epoch 5/50\n",
            "50000/50000 [==============================] - 20s 403us/step - loss: 0.3893 - acc: 0.8337 - val_loss: 0.3411 - val_acc: 0.8542\n",
            "Epoch 6/50\n",
            "50000/50000 [==============================] - 20s 398us/step - loss: 0.3755 - acc: 0.8415 - val_loss: 0.3405 - val_acc: 0.8605\n",
            "Epoch 7/50\n",
            "50000/50000 [==============================] - 20s 395us/step - loss: 0.3833 - acc: 0.8363 - val_loss: 0.3534 - val_acc: 0.8523\n",
            "Epoch 8/50\n",
            "50000/50000 [==============================] - 20s 401us/step - loss: 0.3634 - acc: 0.8470 - val_loss: 0.3249 - val_acc: 0.8630\n",
            "Epoch 9/50\n",
            "50000/50000 [==============================] - 20s 400us/step - loss: 0.3472 - acc: 0.8560 - val_loss: 0.3106 - val_acc: 0.8718\n",
            "Epoch 10/50\n",
            "50000/50000 [==============================] - 20s 394us/step - loss: 0.3384 - acc: 0.8589 - val_loss: 0.3125 - val_acc: 0.8701\n",
            "Epoch 11/50\n",
            "50000/50000 [==============================] - 20s 397us/step - loss: 0.3327 - acc: 0.8626 - val_loss: 0.3001 - val_acc: 0.8768\n",
            "Epoch 12/50\n",
            "50000/50000 [==============================] - 20s 405us/step - loss: 0.3255 - acc: 0.8662 - val_loss: 0.3075 - val_acc: 0.8727\n",
            "Epoch 13/50\n",
            "50000/50000 [==============================] - 20s 395us/step - loss: 0.3216 - acc: 0.8667 - val_loss: 0.2909 - val_acc: 0.8809\n",
            "Epoch 14/50\n",
            "50000/50000 [==============================] - 20s 395us/step - loss: 0.3191 - acc: 0.8681 - val_loss: 0.2938 - val_acc: 0.8790\n",
            "Epoch 15/50\n",
            "50000/50000 [==============================] - 20s 398us/step - loss: 0.3128 - acc: 0.8725 - val_loss: 0.2931 - val_acc: 0.8829\n",
            "Epoch 16/50\n",
            "50000/50000 [==============================] - 20s 398us/step - loss: 0.3130 - acc: 0.8720 - val_loss: 0.2896 - val_acc: 0.8840\n",
            "Epoch 17/50\n",
            "50000/50000 [==============================] - 20s 399us/step - loss: 0.3101 - acc: 0.8750 - val_loss: 0.2866 - val_acc: 0.8865\n",
            "Epoch 18/50\n",
            "50000/50000 [==============================] - 20s 398us/step - loss: 0.3035 - acc: 0.8768 - val_loss: 0.2920 - val_acc: 0.8847\n",
            "Epoch 19/50\n",
            "50000/50000 [==============================] - 20s 397us/step - loss: 0.3016 - acc: 0.8780 - val_loss: 0.2835 - val_acc: 0.8868\n",
            "Epoch 20/50\n",
            "50000/50000 [==============================] - 20s 402us/step - loss: 0.2962 - acc: 0.8807 - val_loss: 0.2802 - val_acc: 0.8897\n",
            "Epoch 21/50\n",
            "50000/50000 [==============================] - 20s 400us/step - loss: 0.2928 - acc: 0.8824 - val_loss: 0.2834 - val_acc: 0.8879\n",
            "Epoch 22/50\n",
            "50000/50000 [==============================] - 20s 395us/step - loss: 0.2933 - acc: 0.8804 - val_loss: 0.2798 - val_acc: 0.8891\n",
            "Epoch 23/50\n",
            "50000/50000 [==============================] - 20s 398us/step - loss: 0.2938 - acc: 0.8828 - val_loss: 0.2801 - val_acc: 0.8916\n",
            "Epoch 24/50\n",
            "50000/50000 [==============================] - 20s 400us/step - loss: 0.2866 - acc: 0.8855 - val_loss: 0.2795 - val_acc: 0.8889\n",
            "Epoch 25/50\n",
            "50000/50000 [==============================] - 20s 399us/step - loss: 0.2879 - acc: 0.8842 - val_loss: 0.2800 - val_acc: 0.8897\n",
            "Epoch 26/50\n",
            "50000/50000 [==============================] - 20s 396us/step - loss: 0.2874 - acc: 0.8846 - val_loss: 0.2794 - val_acc: 0.8896\n",
            "Epoch 27/50\n",
            "50000/50000 [==============================] - 20s 401us/step - loss: 0.2814 - acc: 0.8874 - val_loss: 0.2781 - val_acc: 0.8911\n",
            "Epoch 28/50\n",
            "50000/50000 [==============================] - 20s 400us/step - loss: 0.2940 - acc: 0.8839 - val_loss: 0.2887 - val_acc: 0.8855\n",
            "Epoch 29/50\n",
            "50000/50000 [==============================] - 20s 398us/step - loss: 0.2960 - acc: 0.8843 - val_loss: 0.2898 - val_acc: 0.8875\n",
            "Epoch 30/50\n",
            "50000/50000 [==============================] - 20s 400us/step - loss: 0.2938 - acc: 0.8838 - val_loss: 0.2871 - val_acc: 0.8887\n"
          ],
          "name": "stdout"
        }
      ]
    },
    {
      "cell_type": "code",
      "metadata": {
        "id": "3-MxDgCiBTFn",
        "colab_type": "code",
        "outputId": "8ad376a1-aa63-4e04-816e-fe3453e01612",
        "colab": {
          "base_uri": "https://localhost:8080/",
          "height": 329
        }
      },
      "source": [
        "print(final_score(model_1,True))\n",
        "plot_training(hist)"
      ],
      "execution_count": 0,
      "outputs": [
        {
          "output_type": "stream",
          "text": [
            "accuracy 0.8841\n",
            "None\n"
          ],
          "name": "stdout"
        },
        {
          "output_type": "display_data",
          "data": {
            "image/png": "[encoded data removed]",
            "text/plain": [
              "<Figure size 432x288 with 1 Axes>"
            ]
          },
          "metadata": {
            "tags": []
          }
        }
      ]
    },
    {
      "cell_type": "markdown",
      "metadata": {
        "id": "7-A9m70QvwdB",
        "colab_type": "text"
      },
      "source": [
        "### Multilayer LSTM Embeddings & Attention"
      ]
    },
    {
      "cell_type": "code",
      "metadata": {
        "id": "vbdwIXSLOC_n",
        "colab_type": "code",
        "outputId": "77b1a40b-5dfc-4e21-fec1-0bde7b3a938c",
        "colab": {
          "base_uri": "https://localhost:8080/",
          "height": 1000
        }
      },
      "source": [
        "dropout_rate=.25\n",
        "\n",
        "input_imbd_2 = Input(shape = (max_length,), dtype = 'int32')\n",
        "embedd_seq_2 = Embedding(vocab_size, embedding_dim, weights = [embedding_matrix], input_length = max_length, trainable = False)(input_imbd_2)\n",
        "lstm_layer_2 = Bidirectional(LSTM(32, dropout = dropout_rate,  return_sequences = True ))(embedd_seq_2)\n",
        "lstm_layer_2_2 = Bidirectional(LSTM(16, dropout = dropout_rate,  return_sequences = True ))(lstm_layer_2)\n",
        "attention_2 = Attention(max_length)(lstm_layer_2)\n",
        "attention_2_2 = Attention(max_length)(lstm_layer_2_2)\n",
        "added_2 = Concatenate(axis=-1)([attention_2, attention_2_2])\n",
        "dens_layer_2 = Dense(32)(added_2)\n",
        "pred_layer_2 = Dense(2, activation = 'softmax', kernel_regularizer=l1_l2(0.001))(dens_layer_2)\n",
        "\n",
        "model_1 = Model(inputs = [input_imbd_2], outputs = pred_layer_2)\n",
        "\n",
        "lr = .01\n",
        "opt = Adam(lr=lr, decay=lr/100)\n",
        "\n",
        "model_1.compile(optimizer = opt, loss = 'categorical_crossentropy', metrics = ['accuracy'])\n",
        "print(model_1.summary())\n",
        "\n",
        "early_stopping = EarlyStopping(patience = 3)\n",
        "\n",
        "hist = model_1.fit(x = X_train_pad, y = y_train_enc,\\\n",
        "                 validation_data = (X_test_pad, y_test_enc), \\\n",
        "                 epochs = 50, batch_size = 2048, shuffle = True, \\\n",
        "                 callbacks = [early_stopping])\n",
        "best_score = min(hist.history['val_loss'])"
      ],
      "execution_count": 0,
      "outputs": [
        {
          "output_type": "stream",
          "text": [
            "Model: \"model_5\"\n",
            "__________________________________________________________________________________________________\n",
            "Layer (type)                    Output Shape         Param #     Connected to                     \n",
            "==================================================================================================\n",
            "input_5 (InputLayer)            (None, 269)          0                                            \n",
            "__________________________________________________________________________________________________\n",
            "embedding_5 (Embedding)         (None, 269, 100)     10072300    input_5[0][0]                    \n",
            "__________________________________________________________________________________________________\n",
            "bidirectional_8 (Bidirectional) (None, 269, 64)      34048       embedding_5[0][0]                \n",
            "__________________________________________________________________________________________________\n",
            "bidirectional_9 (Bidirectional) (None, 269, 32)      10368       bidirectional_8[0][0]            \n",
            "__________________________________________________________________________________________________\n",
            "attention_7 (Attention)         (None, 64)           333         bidirectional_8[0][0]            \n",
            "__________________________________________________________________________________________________\n",
            "attention_8 (Attention)         (None, 32)           301         bidirectional_9[0][0]            \n",
            "__________________________________________________________________________________________________\n",
            "concatenate_4 (Concatenate)     (None, 96)           0           attention_7[0][0]                \n",
            "                                                                 attention_8[0][0]                \n",
            "__________________________________________________________________________________________________\n",
            "dense_8 (Dense)                 (None, 32)           3104        concatenate_4[0][0]              \n",
            "__________________________________________________________________________________________________\n",
            "dense_9 (Dense)                 (None, 2)            66          dense_8[0][0]                    \n",
            "==================================================================================================\n",
            "Total params: 10,120,520\n",
            "Trainable params: 48,220\n",
            "Non-trainable params: 10,072,300\n",
            "__________________________________________________________________________________________________\n",
            "None\n",
            "Train on 50000 samples, validate on 15000 samples\n",
            "Epoch 1/50\n",
            "50000/50000 [==============================] - 47s 948us/step - loss: 0.7390 - acc: 0.5312 - val_loss: 0.6894 - val_acc: 0.6705\n",
            "Epoch 2/50\n",
            "50000/50000 [==============================] - 43s 853us/step - loss: 0.6005 - acc: 0.7011 - val_loss: 0.4903 - val_acc: 0.7736\n",
            "Epoch 3/50\n",
            "50000/50000 [==============================] - 41s 826us/step - loss: 0.4644 - acc: 0.7912 - val_loss: 0.3992 - val_acc: 0.8219\n",
            "Epoch 4/50\n",
            "50000/50000 [==============================] - 41s 826us/step - loss: 0.3959 - acc: 0.8280 - val_loss: 0.3373 - val_acc: 0.8585\n",
            "Epoch 5/50\n",
            "50000/50000 [==============================] - 41s 824us/step - loss: 0.3533 - acc: 0.8491 - val_loss: 0.3144 - val_acc: 0.8681\n",
            "Epoch 6/50\n",
            "50000/50000 [==============================] - 41s 827us/step - loss: 0.3338 - acc: 0.8588 - val_loss: 0.3071 - val_acc: 0.8745\n",
            "Epoch 7/50\n",
            "50000/50000 [==============================] - 41s 825us/step - loss: 0.3243 - acc: 0.8632 - val_loss: 0.2963 - val_acc: 0.8776\n",
            "Epoch 8/50\n",
            "50000/50000 [==============================] - 42s 833us/step - loss: 0.3001 - acc: 0.8768 - val_loss: 0.2733 - val_acc: 0.8893\n",
            "Epoch 9/50\n",
            "50000/50000 [==============================] - 41s 826us/step - loss: 0.2890 - acc: 0.8815 - val_loss: 0.2662 - val_acc: 0.8909\n",
            "Epoch 10/50\n",
            "50000/50000 [==============================] - 41s 822us/step - loss: 0.2742 - acc: 0.8876 - val_loss: 0.2764 - val_acc: 0.8874\n",
            "Epoch 11/50\n",
            "50000/50000 [==============================] - 41s 823us/step - loss: 0.2736 - acc: 0.8879 - val_loss: 0.2597 - val_acc: 0.8937\n",
            "Epoch 12/50\n",
            "50000/50000 [==============================] - 41s 828us/step - loss: 0.2578 - acc: 0.8956 - val_loss: 0.2562 - val_acc: 0.8975\n",
            "Epoch 13/50\n",
            "50000/50000 [==============================] - 41s 826us/step - loss: 0.2478 - acc: 0.9006 - val_loss: 0.2518 - val_acc: 0.8966\n",
            "Epoch 14/50\n",
            "50000/50000 [==============================] - 41s 825us/step - loss: 0.2529 - acc: 0.8989 - val_loss: 0.2534 - val_acc: 0.8987\n",
            "Epoch 15/50\n",
            "50000/50000 [==============================] - 41s 828us/step - loss: 0.2374 - acc: 0.9059 - val_loss: 0.2602 - val_acc: 0.8999\n",
            "Epoch 16/50\n",
            "50000/50000 [==============================] - 41s 829us/step - loss: 0.2361 - acc: 0.9043 - val_loss: 0.2572 - val_acc: 0.8991\n"
          ],
          "name": "stdout"
        }
      ]
    },
    {
      "cell_type": "code",
      "metadata": {
        "id": "q5EogTQ0Gr8S",
        "colab_type": "code",
        "outputId": "49a6339b-3309-4ee1-a3fa-43d5cf571ac6",
        "colab": {
          "base_uri": "https://localhost:8080/",
          "height": 329
        }
      },
      "source": [
        "print(final_score(model_1,True))\n",
        "plot_training(hist)"
      ],
      "execution_count": 0,
      "outputs": [
        {
          "output_type": "stream",
          "text": [
            "accuracy 0.8976\n",
            "None\n"
          ],
          "name": "stdout"
        },
        {
          "output_type": "display_data",
          "data": {
            "image/png": "[encoded data removed]",
            "text/plain": [
              "<Figure size 432x288 with 1 Axes>"
            ]
          },
          "metadata": {
            "tags": []
          }
        }
      ]
    },
    {
      "cell_type": "markdown",
      "metadata": {
        "id": "vGwLm6dBwBZL",
        "colab_type": "text"
      },
      "source": [
        "### Multilayer LSTM with Increases Sequence Length"
      ]
    },
    {
      "cell_type": "code",
      "metadata": {
        "id": "eaIvGUnZpHhb",
        "colab_type": "code",
        "colab": {}
      },
      "source": [
        "from keras.preprocessing.text import Tokenizer\n",
        "from keras.preprocessing.sequence import pad_sequences\n",
        "\n",
        "#max_features = 5000\n",
        "tokenizer_ = Tokenizer()\n",
        "tokenizer_.fit_on_texts(texts_prepro)\n",
        "\n",
        "max_length = 571\n",
        "vocab_size = len(tokenizer_.word_index) + 1\n",
        "\n",
        "X_train_tokens = tokenizer_.texts_to_sequences(X_train)\n",
        "X_test_tokens = tokenizer_.texts_to_sequences(X_test)\n",
        "X_ho_tokens = tokenizer_.texts_to_sequences(X_holdout)\n",
        "\n",
        "X_train_pad = pad_sequences(X_train_tokens,maxlen=max_length, padding='post')\n",
        "X_test_pad = pad_sequences(X_test_tokens,maxlen=max_length, padding='post')\n",
        "X_ho_pad = pad_sequences(X_ho_tokens,maxlen=max_length, padding='post')"
      ],
      "execution_count": 0,
      "outputs": []
    },
    {
      "cell_type": "code",
      "metadata": {
        "id": "vIAouVmPpHuQ",
        "colab_type": "code",
        "colab": {
          "base_uri": "https://localhost:8080/",
          "height": 1244
        },
        "outputId": "ffbe6bcf-c8d1-4fbb-ba96-2fc7a4371a42"
      },
      "source": [
        "dropout_rate=.25\n",
        "\n",
        "input_imbd_2 = Input(shape = (max_length,), dtype = 'int32')\n",
        "embedd_seq_2 = Embedding(vocab_size, embedding_dim, weights = [embedding_matrix], input_length = max_length, trainable = False)(input_imbd_2)\n",
        "lstm_layer_2 = Bidirectional(LSTM(32, dropout = dropout_rate,  return_sequences = True ))(embedd_seq_2)\n",
        "lstm_layer_2_2 = Bidirectional(LSTM(16, dropout = dropout_rate,  return_sequences = True ))(lstm_layer_2)\n",
        "attention_2 = Attention(max_length)(lstm_layer_2)\n",
        "attention_2_2 = Attention(max_length)(lstm_layer_2_2)\n",
        "added_2 = Concatenate(axis=-1)([attention_2, attention_2_2])\n",
        "dens_layer_2 = Dense(32)(added_2)\n",
        "pred_layer_2 = Dense(2, activation = 'softmax', kernel_regularizer=l1_l2(0.001))(dens_layer_2)\n",
        "\n",
        "model_1 = Model(inputs = [input_imbd_2], outputs = pred_layer_2)\n",
        "\n",
        "lr = .01\n",
        "opt = Adam(lr=lr, decay=lr/100)\n",
        "\n",
        "model_1.compile(optimizer = opt, loss = 'categorical_crossentropy', metrics = ['accuracy'])\n",
        "print(model_1.summary())\n",
        "\n",
        "early_stopping = EarlyStopping(patience = 3)\n",
        "\n",
        "hist = model_1.fit(x = X_train_pad, y = y_train_enc,\\\n",
        "                 validation_data = (X_test_pad, y_test_enc), \\\n",
        "                 epochs = 50, batch_size = 2048, shuffle = True, \\\n",
        "                 callbacks = [early_stopping])\n"
      ],
      "execution_count": 47,
      "outputs": [
        {
          "output_type": "stream",
          "text": [
            "Model: \"model_2\"\n",
            "__________________________________________________________________________________________________\n",
            "Layer (type)                    Output Shape         Param #     Connected to                     \n",
            "==================================================================================================\n",
            "input_3 (InputLayer)            (None, 571)          0                                            \n",
            "__________________________________________________________________________________________________\n",
            "embedding_3 (Embedding)         (None, 571, 100)     10072300    input_3[0][0]                    \n",
            "__________________________________________________________________________________________________\n",
            "bidirectional_3 (Bidirectional) (None, 571, 64)      34048       embedding_3[0][0]                \n",
            "__________________________________________________________________________________________________\n",
            "bidirectional_4 (Bidirectional) (None, 571, 32)      10368       bidirectional_3[0][0]            \n",
            "__________________________________________________________________________________________________\n",
            "attention_3 (Attention)         (None, 64)           635         bidirectional_3[0][0]            \n",
            "__________________________________________________________________________________________________\n",
            "attention_4 (Attention)         (None, 32)           603         bidirectional_4[0][0]            \n",
            "__________________________________________________________________________________________________\n",
            "concatenate_2 (Concatenate)     (None, 96)           0           attention_3[0][0]                \n",
            "                                                                 attention_4[0][0]                \n",
            "__________________________________________________________________________________________________\n",
            "dense_3 (Dense)                 (None, 32)           3104        concatenate_2[0][0]              \n",
            "__________________________________________________________________________________________________\n",
            "dense_4 (Dense)                 (None, 2)            66          dense_3[0][0]                    \n",
            "==================================================================================================\n",
            "Total params: 10,121,124\n",
            "Trainable params: 48,824\n",
            "Non-trainable params: 10,072,300\n",
            "__________________________________________________________________________________________________\n",
            "None\n",
            "Train on 50000 samples, validate on 15000 samples\n",
            "Epoch 1/50\n",
            "50000/50000 [==============================] - 167s 3ms/step - loss: 0.7485 - acc: 0.5095 - val_loss: 0.7146 - val_acc: 0.5235\n",
            "Epoch 2/50\n",
            "50000/50000 [==============================] - 157s 3ms/step - loss: 0.6996 - acc: 0.5755 - val_loss: 0.6538 - val_acc: 0.6491\n",
            "Epoch 3/50\n",
            "50000/50000 [==============================] - 166s 3ms/step - loss: 0.6355 - acc: 0.6705 - val_loss: 0.5485 - val_acc: 0.7371\n",
            "Epoch 4/50\n",
            "50000/50000 [==============================] - 158s 3ms/step - loss: 0.5124 - acc: 0.7635 - val_loss: 0.4406 - val_acc: 0.8029\n",
            "Epoch 5/50\n",
            "50000/50000 [==============================] - 160s 3ms/step - loss: 0.4402 - acc: 0.8030 - val_loss: 0.3740 - val_acc: 0.8387\n",
            "Epoch 6/50\n",
            "50000/50000 [==============================] - 162s 3ms/step - loss: 0.3843 - acc: 0.8331 - val_loss: 0.3364 - val_acc: 0.8593\n",
            "Epoch 7/50\n",
            "50000/50000 [==============================] - 158s 3ms/step - loss: 0.3560 - acc: 0.8464 - val_loss: 0.3396 - val_acc: 0.8573\n",
            "Epoch 8/50\n",
            "50000/50000 [==============================] - 158s 3ms/step - loss: 0.3330 - acc: 0.8604 - val_loss: 0.3018 - val_acc: 0.8729\n",
            "Epoch 9/50\n",
            "50000/50000 [==============================] - 158s 3ms/step - loss: 0.3111 - acc: 0.8726 - val_loss: 0.2827 - val_acc: 0.8854\n",
            "Epoch 10/50\n",
            "50000/50000 [==============================] - 158s 3ms/step - loss: 0.3003 - acc: 0.8757 - val_loss: 0.2776 - val_acc: 0.8878\n",
            "Epoch 11/50\n",
            "50000/50000 [==============================] - 159s 3ms/step - loss: 0.2865 - acc: 0.8826 - val_loss: 0.2658 - val_acc: 0.8924\n",
            "Epoch 12/50\n",
            "50000/50000 [==============================] - 158s 3ms/step - loss: 0.2758 - acc: 0.8875 - val_loss: 0.2644 - val_acc: 0.8919\n",
            "Epoch 13/50\n",
            "50000/50000 [==============================] - 159s 3ms/step - loss: 0.2706 - acc: 0.8905 - val_loss: 0.2723 - val_acc: 0.8883\n",
            "Epoch 14/50\n",
            "50000/50000 [==============================] - 157s 3ms/step - loss: 0.2602 - acc: 0.8946 - val_loss: 0.2719 - val_acc: 0.8930\n",
            "Epoch 15/50\n",
            "50000/50000 [==============================] - 159s 3ms/step - loss: 0.2497 - acc: 0.8996 - val_loss: 0.2540 - val_acc: 0.8983\n",
            "Epoch 16/50\n",
            "50000/50000 [==============================] - 159s 3ms/step - loss: 0.2574 - acc: 0.8954 - val_loss: 0.2486 - val_acc: 0.9015\n",
            "Epoch 17/50\n",
            "50000/50000 [==============================] - 158s 3ms/step - loss: 0.2357 - acc: 0.9063 - val_loss: 0.2607 - val_acc: 0.8968\n",
            "Epoch 18/50\n",
            "50000/50000 [==============================] - 157s 3ms/step - loss: 0.2306 - acc: 0.9076 - val_loss: 0.2455 - val_acc: 0.9009\n",
            "Epoch 19/50\n",
            "50000/50000 [==============================] - 157s 3ms/step - loss: 0.2244 - acc: 0.9114 - val_loss: 0.2567 - val_acc: 0.9003\n",
            "Epoch 20/50\n",
            "50000/50000 [==============================] - 158s 3ms/step - loss: 0.2216 - acc: 0.9118 - val_loss: 0.2541 - val_acc: 0.9031\n",
            "Epoch 21/50\n",
            "50000/50000 [==============================] - 161s 3ms/step - loss: 0.2241 - acc: 0.9100 - val_loss: 0.2623 - val_acc: 0.8963\n"
          ],
          "name": "stdout"
        }
      ]
    },
    {
      "cell_type": "code",
      "metadata": {
        "id": "nmCSZZi_pIIa",
        "colab_type": "code",
        "colab": {
          "base_uri": "https://localhost:8080/",
          "height": 329
        },
        "outputId": "fdc1a0f0-7a56-487a-c2e4-aef13b38723f"
      },
      "source": [
        "print(final_score(model_1,True))\n",
        "plot_training(hist)"
      ],
      "execution_count": 54,
      "outputs": [
        {
          "output_type": "stream",
          "text": [
            "accuracy hold out: 0.9019\n",
            "None\n"
          ],
          "name": "stdout"
        },
        {
          "output_type": "display_data",
          "data": {
            "image/png": "[encoded data removed]",
            "text/plain": [
              "<Figure size 432x288 with 1 Axes>"
            ]
          },
          "metadata": {
            "tags": []
          }
        }
      ]
    },
    {
      "cell_type": "markdown",
      "metadata": {
        "id": "ZaTpGUJ-GBBb",
        "colab_type": "text"
      },
      "source": [
        "90% Accuracy! woohoo"
      ]
    },
    {
      "cell_type": "code",
      "metadata": {
        "id": "i3ocxcGWhyk4",
        "colab_type": "code",
        "colab": {
          "base_uri": "https://localhost:8080/",
          "height": 85
        },
        "outputId": "71c54b7f-3352-4626-8b39-f053f05d1151"
      },
      "source": [
        "test_sentences_fct(model_1,571,True)"
      ],
      "execution_count": 177,
      "outputs": [
        {
          "output_type": "stream",
          "text": [
            "long accuracy: 0.96\n",
            "short accuracy: 0.91\n",
            "med accuracy: 0.89\n",
            "neg accuracy: 0.99\n"
          ],
          "name": "stdout"
        }
      ]
    },
    {
      "cell_type": "markdown",
      "metadata": {
        "id": "xyXvz7xWvEii",
        "colab_type": "text"
      },
      "source": [
        "With increasing complexity model got better and reached 90% on the hold out set. It performed quite well on long sentences and negation (Attention should help here), improved much on short sentences (pre trained embedding put it in a certain context), but lost on the medium length sentences?"
      ]
    },
    {
      "cell_type": "markdown",
      "metadata": {
        "id": "Uk_CKGH5RrAx",
        "colab_type": "text"
      },
      "source": [
        "Increasing the accurracy to 90% took some time, training, trying architectures and CPU power. If its worth it depends on the problem, here we get a sentiment classifier which could be used for other task. For other problems logistic regression will still be enaugth or 90% accuracy even to less. "
      ]
    },
    {
      "cell_type": "code",
      "metadata": {
        "id": "7iajC5Pu8SOq",
        "colab_type": "code",
        "colab": {}
      },
      "source": [
        "#learner = ktrain.get_learner(model_1, \n",
        "#                             train_data=(X_train_pad, y_train_enc), \n",
        "#                             val_data=(X_test_pad, y_test_enc), \n",
        "#                             batch_size=512)"
      ],
      "execution_count": 0,
      "outputs": []
    },
    {
      "cell_type": "markdown",
      "metadata": {
        "id": "0n4FSJ7a1QGd",
        "colab_type": "text"
      },
      "source": [
        "### Fasttext Embeddings"
      ]
    },
    {
      "cell_type": "code",
      "metadata": {
        "id": "Uv90YLrknNLS",
        "colab_type": "code",
        "colab": {
          "base_uri": "https://localhost:8080/",
          "height": 34
        },
        "outputId": "c8ffbf35-8874-4802-e1a1-01c07f1ddb27"
      },
      "source": [
        "def split_in_words(text):\n",
        "  return [([w for w in doc.split()]) for doc in text]\n",
        "split_in_words(['I am cool. And you not','second sentence'])"
      ],
      "execution_count": 246,
      "outputs": [
        {
          "output_type": "execute_result",
          "data": {
            "text/plain": [
              "[['I', 'am', 'cool.', 'And', 'you', 'not'], ['second', 'sentence']]"
            ]
          },
          "metadata": {
            "tags": []
          },
          "execution_count": 246
        }
      ]
    },
    {
      "cell_type": "code",
      "metadata": {
        "id": "yUI3Sc9YTGtI",
        "colab_type": "code",
        "colab": {}
      },
      "source": [
        "from gensim.models import FastText\n",
        "text_split = split_in_words(texts_prepro)\n",
        "model_ted = FastText(size=100, window=7, workers=4,sg=1)\n",
        "model_ted.build_vocab(sentences=text_split)\n",
        "model_ted.train(sentences=text_split, total_examples=len(text_split), epochs=10)  # train"
      ],
      "execution_count": 0,
      "outputs": []
    },
    {
      "cell_type": "code",
      "metadata": {
        "id": "NLfySC-4Uwfl",
        "colab_type": "code",
        "colab": {}
      },
      "source": [
        "embedding_dim=100\n",
        "embedding_matrix = np.zeros((vocab_size, embedding_dim))\n",
        "\n",
        "for word,i in tokenizer_.word_index.items():\n",
        "    try:\n",
        "        embedding_matrix[i] = model_ted.wv[word]\n",
        "    except KeyError:\n",
        "        embedding_matrix[i] = np.random.rand(embedding_dim)"
      ],
      "execution_count": 0,
      "outputs": []
    },
    {
      "cell_type": "code",
      "metadata": {
        "id": "rUOXKZ51UwjB",
        "colab_type": "code",
        "outputId": "06a9e5ba-de09-4584-ce7b-042be98de9d1",
        "colab": {
          "base_uri": "https://localhost:8080/",
          "height": 921
        }
      },
      "source": [
        "keras.backend.clear_session()\n",
        "\n",
        "dropout_rate=.25\n",
        "\n",
        "input_imbd_2 = Input(shape = (max_length,), dtype = 'int32')\n",
        "embedd_seq_2 = Embedding(vocab_size, embedding_dim, weights = [embedding_matrix], input_length = max_length, trainable = True)(input_imbd_2)\n",
        "lstm_layer_2 = Bidirectional(LSTM(16, dropout = dropout_rate, recurrent_dropout = dropout_rate, return_sequences = True ))(embedd_seq_2)\n",
        "attention_2 = Attention(max_length)(lstm_layer_2)\n",
        "pred_layer_2 = Dense(2, activation = 'softmax', kernel_regularizer=l1_l2(0.001))(attention_2)\n",
        "\n",
        "model = Model(inputs = [input_imbd_2], outputs = pred_layer_2)\n",
        "\n",
        "lr = .001\n",
        "opt = Adam(lr=lr, decay=lr/100)\n",
        "\n",
        "model.compile(optimizer = opt, loss = 'categorical_crossentropy', metrics = ['accuracy'])\n",
        "print(model.summary())\n",
        "\n",
        "early_stopping = EarlyStopping(patience = 4)\n",
        "\n",
        "hist = model.fit(x = X_train_pad, y = y_train_enc,\\\n",
        "                 validation_data = (X_test_pad, y_test_enc), \\\n",
        "                 epochs = 50, batch_size = 2096, shuffle = True, \\\n",
        "                 callbacks = [early_stopping])"
      ],
      "execution_count": 198,
      "outputs": [
        {
          "output_type": "stream",
          "text": [
            "Model: \"model_1\"\n",
            "_________________________________________________________________\n",
            "Layer (type)                 Output Shape              Param #   \n",
            "=================================================================\n",
            "input_1 (InputLayer)         (None, 269)               0         \n",
            "_________________________________________________________________\n",
            "embedding_1 (Embedding)      (None, 269, 100)          10072300  \n",
            "_________________________________________________________________\n",
            "bidirectional_1 (Bidirection (None, 269, 32)           14976     \n",
            "_________________________________________________________________\n",
            "attention_1 (Attention)      (None, 32)                301       \n",
            "_________________________________________________________________\n",
            "dense_1 (Dense)              (None, 2)                 66        \n",
            "=================================================================\n",
            "Total params: 10,087,643\n",
            "Trainable params: 10,087,643\n",
            "Non-trainable params: 0\n",
            "_________________________________________________________________\n",
            "None\n",
            "Train on 50000 samples, validate on 15000 samples\n",
            "Epoch 1/50\n",
            "50000/50000 [==============================] - 35s 707us/step - loss: 0.7311 - acc: 0.5735 - val_loss: 0.7149 - val_acc: 0.7040\n",
            "Epoch 2/50\n",
            "50000/50000 [==============================] - 34s 671us/step - loss: 0.6845 - acc: 0.6829 - val_loss: 0.5999 - val_acc: 0.7549\n",
            "Epoch 3/50\n",
            "50000/50000 [==============================] - 33s 666us/step - loss: 0.5802 - acc: 0.7452 - val_loss: 0.4933 - val_acc: 0.8068\n",
            "Epoch 4/50\n",
            "50000/50000 [==============================] - 33s 670us/step - loss: 0.5000 - acc: 0.8019 - val_loss: 0.4296 - val_acc: 0.8412\n",
            "Epoch 5/50\n",
            "50000/50000 [==============================] - 34s 674us/step - loss: 0.4542 - acc: 0.8245 - val_loss: 0.4055 - val_acc: 0.8543\n",
            "Epoch 6/50\n",
            "50000/50000 [==============================] - 41s 822us/step - loss: 0.4086 - acc: 0.8545 - val_loss: 0.3874 - val_acc: 0.8588\n",
            "Epoch 7/50\n",
            "50000/50000 [==============================] - 33s 666us/step - loss: 0.3747 - acc: 0.8709 - val_loss: 0.3737 - val_acc: 0.8666\n",
            "Epoch 8/50\n",
            "50000/50000 [==============================] - 33s 669us/step - loss: 0.3458 - acc: 0.8852 - val_loss: 0.3673 - val_acc: 0.8671\n",
            "Epoch 9/50\n",
            "50000/50000 [==============================] - 33s 669us/step - loss: 0.3252 - acc: 0.8930 - val_loss: 0.3639 - val_acc: 0.8720\n",
            "Epoch 10/50\n",
            "50000/50000 [==============================] - 33s 665us/step - loss: 0.3033 - acc: 0.9062 - val_loss: 0.3557 - val_acc: 0.8739\n",
            "Epoch 11/50\n",
            "50000/50000 [==============================] - 33s 668us/step - loss: 0.2853 - acc: 0.9126 - val_loss: 0.3538 - val_acc: 0.8752\n",
            "Epoch 12/50\n",
            "50000/50000 [==============================] - 33s 662us/step - loss: 0.2691 - acc: 0.9212 - val_loss: 0.3505 - val_acc: 0.8759\n",
            "Epoch 13/50\n",
            "50000/50000 [==============================] - 34s 671us/step - loss: 0.2500 - acc: 0.9291 - val_loss: 0.3544 - val_acc: 0.8748\n",
            "Epoch 14/50\n",
            "50000/50000 [==============================] - 34s 674us/step - loss: 0.2370 - acc: 0.9347 - val_loss: 0.3567 - val_acc: 0.8763\n",
            "Epoch 15/50\n",
            "50000/50000 [==============================] - 33s 667us/step - loss: 0.2223 - acc: 0.9401 - val_loss: 0.3506 - val_acc: 0.8763\n",
            "Epoch 16/50\n",
            "50000/50000 [==============================] - 33s 669us/step - loss: 0.2119 - acc: 0.9459 - val_loss: 0.3613 - val_acc: 0.8741\n"
          ],
          "name": "stdout"
        }
      ]
    },
    {
      "cell_type": "code",
      "metadata": {
        "id": "BBD0AAMYtglY",
        "colab_type": "code",
        "outputId": "2ff62e07-c1a4-447f-834e-7580695b1e9e",
        "colab": {
          "base_uri": "https://localhost:8080/",
          "height": 329
        }
      },
      "source": [
        "print(final_score(model,True))\n",
        "plot_training(hist)"
      ],
      "execution_count": 199,
      "outputs": [
        {
          "output_type": "stream",
          "text": [
            "accuracy hold out: 0.8755\n",
            "None\n"
          ],
          "name": "stdout"
        },
        {
          "output_type": "display_data",
          "data": {
            "image/png": "[encoded data removed]",
            "text/plain": [
              "<Figure size 432x288 with 1 Axes>"
            ]
          },
          "metadata": {
            "tags": []
          }
        }
      ]
    },
    {
      "cell_type": "code",
      "metadata": {
        "id": "Zl6IFkrsjYKN",
        "colab_type": "code",
        "colab": {
          "base_uri": "https://localhost:8080/",
          "height": 85
        },
        "outputId": "9c02bd9f-6355-4adb-c2eb-ddf549e67665"
      },
      "source": [
        "test_sentences_fct(model,269,True)"
      ],
      "execution_count": 200,
      "outputs": [
        {
          "output_type": "stream",
          "text": [
            "long accuracy: 0.95\n",
            "short accuracy: 0.85\n",
            "med accuracy: 0.97\n",
            "neg accuracy: 0.97\n"
          ],
          "name": "stdout"
        }
      ]
    },
    {
      "cell_type": "markdown",
      "metadata": {
        "id": "yLLMgLgT12O1",
        "colab_type": "text"
      },
      "source": [
        "Fasttext normaly has its strength in short and dirty texts, because it can produce vectors for out of vocabulary words due to trained n-grams. I therefore would use it to analyse twitter or social media data in general where misspellings are commen and abreviations are used. In this case the model is not pretrained, that should explain the performance on short sentences. "
      ]
    },
    {
      "cell_type": "markdown",
      "metadata": {
        "id": "8yOiqFYSVqzb",
        "colab_type": "text"
      },
      "source": [
        "## BERT"
      ]
    },
    {
      "cell_type": "code",
      "metadata": {
        "id": "dC_GNnxkC3m9",
        "colab_type": "code",
        "colab": {}
      },
      "source": [
        "%%capture\n",
        "!pip install ktrain\n",
        "import ktrain\n",
        "from ktrain import text as txt"
      ],
      "execution_count": 0,
      "outputs": []
    },
    {
      "cell_type": "code",
      "metadata": {
        "id": "_Of4ngS6Uwck",
        "colab_type": "code",
        "outputId": "92ccf087-fa05-4ff9-93a4-ac17fbfd4289",
        "colab": {
          "base_uri": "https://localhost:8080/",
          "height": 153
        }
      },
      "source": [
        "(x_train, y_train), (x_test, y_test), preproc = txt.texts_from_folder('aclImdb', maxlen=500, \n",
        "                                                                     preprocess_mode='bert',\n",
        "                                                                     train_test_names=['train', 'test'],\n",
        "                                                                     classes=['pos', 'neg'])\n",
        "print(len(x_train), len(y_train),len(x_test), len(y_test))"
      ],
      "execution_count": 276,
      "outputs": [
        {
          "output_type": "stream",
          "text": [
            "detected encoding: utf-8\n",
            "preprocessing train...\n",
            "language: en\n"
          ],
          "name": "stdout"
        },
        {
          "output_type": "display_data",
          "data": {
            "text/html": [
              "done."
            ],
            "text/plain": [
              "<IPython.core.display.HTML object>"
            ]
          },
          "metadata": {
            "tags": []
          }
        },
        {
          "output_type": "stream",
          "text": [
            "preprocessing test...\n",
            "language: en\n"
          ],
          "name": "stdout"
        },
        {
          "output_type": "display_data",
          "data": {
            "text/html": [
              "done."
            ],
            "text/plain": [
              "<IPython.core.display.HTML object>"
            ]
          },
          "metadata": {
            "tags": []
          }
        },
        {
          "output_type": "stream",
          "text": [
            "2 25000 2 25000\n"
          ],
          "name": "stdout"
        }
      ]
    },
    {
      "cell_type": "code",
      "metadata": {
        "id": "sNNcJeWU63Ob",
        "colab_type": "code",
        "colab": {}
      },
      "source": [
        "x_holdout = []\n",
        "x_holdout.append(x_test[0][15000:])\n",
        "x_holdout.append(x_test[1][15000:])\n",
        "y_holdout = y_test[15000:]\n",
        "\n",
        "x_test_ = []\n",
        "x_test_.append(x_test[0][:15000])\n",
        "x_test_.append(x_test[1][:15000])\n",
        "y_test_ = y_test[:15000]"
      ],
      "execution_count": 0,
      "outputs": []
    },
    {
      "cell_type": "code",
      "metadata": {
        "id": "Ejno6h1qEDgg",
        "colab_type": "code",
        "outputId": "78b38b87-086b-457b-b154-c57b8023f9cd",
        "colab": {
          "base_uri": "https://localhost:8080/",
          "height": 68
        }
      },
      "source": [
        "# load model\n",
        "model = txt.text_classifier('bert', (x_train, y_train), preproc=preproc)\n",
        "\n",
        " \n",
        "# wrap model and data in ktrain.Learner object\n",
        "learner = ktrain.get_learner(model, \n",
        "                             train_data=(x_train, y_train), \n",
        "                             val_data=(x_test_, y_test_), \n",
        "                             batch_size=2)"
      ],
      "execution_count": 278,
      "outputs": [
        {
          "output_type": "stream",
          "text": [
            "Is Multi-Label? False\n",
            "maxlen is 500\n",
            "done.\n"
          ],
          "name": "stdout"
        }
      ]
    },
    {
      "cell_type": "code",
      "metadata": {
        "id": "sosbrv97VwiD",
        "colab_type": "code",
        "colab": {}
      },
      "source": [
        "#learner.lr_find()             # briefly simulate training to find good learning rate\n",
        "#learner.lr_plot()             # visually identify best learning rate"
      ],
      "execution_count": 0,
      "outputs": []
    },
    {
      "cell_type": "code",
      "metadata": {
        "id": "PIJEF90LByoX",
        "colab_type": "code",
        "colab": {
          "base_uri": "https://localhost:8080/",
          "height": 34
        },
        "outputId": "1b8ba83d-cf55-4ea6-cb04-e0932cdd1533"
      },
      "source": [
        "print(len(x_train[0]), len(y_train),len(x_test[0]), len(y_test))"
      ],
      "execution_count": 272,
      "outputs": [
        {
          "output_type": "stream",
          "text": [
            "25000 25000 25000 15000\n"
          ],
          "name": "stdout"
        }
      ]
    },
    {
      "cell_type": "code",
      "metadata": {
        "id": "NHwK7clYBM9X",
        "colab_type": "code",
        "colab": {
          "base_uri": "https://localhost:8080/",
          "height": 173
        },
        "outputId": "54bd57c1-037e-4a8a-fe5d-1f64446b67c2"
      },
      "source": [
        "# using 1cycle learning rate schedule for 3 epochs\n",
        "learner.fit_onecycle(2e-5, 2) "
      ],
      "execution_count": 0,
      "outputs": [
        {
          "output_type": "stream",
          "text": [
            "\n",
            "\n",
            "begin training using onecycle policy with max lr of 2e-05...\n",
            "Train on 25000 samples, validate on 15000 samples\n",
            "Epoch 1/2\n",
            "25000/25000 [==============================] - 2742s 110ms/sample - loss: 0.2588 - acc: 0.8925 - val_loss: 0.4824 - val_acc: 0.8315\n",
            "Epoch 2/2\n",
            " 4488/25000 [====>.........................] - ETA: 31:43 - loss: 0.1732 - acc: 0.9329"
          ],
          "name": "stdout"
        }
      ]
    },
    {
      "cell_type": "code",
      "metadata": {
        "id": "W4eiXWpeKR7-",
        "colab_type": "code",
        "colab": {
          "base_uri": "https://localhost:8080/",
          "height": 224
        },
        "outputId": "5303d693-f89d-4f08-900e-de1fb044117f"
      },
      "source": [
        "# using 1cycle learning rate schedule for 3 epochs\n",
        "learner.fit_onecycle(2e-5, 3) "
      ],
      "execution_count": 7,
      "outputs": [
        {
          "output_type": "stream",
          "text": [
            "\n",
            "\n",
            "begin training using onecycle policy with max lr of 2e-05...\n",
            "Train on 25000 samples, validate on 25000 samples\n",
            "Epoch 1/3\n",
            "25000/25000 [==============================] - 2924s 117ms/sample - loss: 0.2530 - acc: 0.8954 - val_loss: 0.1865 - val_acc: 0.9309\n",
            "Epoch 2/3\n",
            "25000/25000 [==============================] - 2925s 117ms/sample - loss: 0.1678 - acc: 0.9382 - val_loss: 0.1994 - val_acc: 0.9311\n",
            "Epoch 3/3\n",
            "25000/25000 [==============================] - 2923s 117ms/sample - loss: 0.0613 - acc: 0.9804 - val_loss: 0.1892 - val_acc: 0.9416\n"
          ],
          "name": "stdout"
        },
        {
          "output_type": "execute_result",
          "data": {
            "text/plain": [
              "<tensorflow.python.keras.callbacks.History at 0x7f532e3bdfd0>"
            ]
          },
          "metadata": {
            "tags": []
          },
          "execution_count": 7
        }
      ]
    },
    {
      "cell_type": "code",
      "metadata": {
        "id": "yua31lI3jsrI",
        "colab_type": "code",
        "colab": {}
      },
      "source": [
        "model._make_predict_function()\n",
        "predictor = ktrain.get_predictor(learner.model, preproc)"
      ],
      "execution_count": 0,
      "outputs": []
    },
    {
      "cell_type": "code",
      "metadata": {
        "id": "_NeLyqic4kCL",
        "colab_type": "code",
        "colab": {}
      },
      "source": [
        "pred = predictor.predict(texts[40000:])"
      ],
      "execution_count": 0,
      "outputs": []
    },
    {
      "cell_type": "code",
      "metadata": {
        "id": "8pgA8v7TE8_5",
        "colab_type": "code",
        "colab": {}
      },
      "source": [
        "y_pred = [ int(np.where(x=='neg',1,0)) for x in pred]"
      ],
      "execution_count": 0,
      "outputs": []
    },
    {
      "cell_type": "code",
      "metadata": {
        "id": "f3edFmiP8Yg3",
        "colab_type": "code",
        "colab": {
          "base_uri": "https://localhost:8080/",
          "height": 34
        },
        "outputId": "aa22eab8-1432-4d2e-dc2e-bbb2bc20897c"
      },
      "source": [
        "y_hold = [np.argmax(y) for y in y_holdout]\n",
        "print('holdout accuracy %s' % accuracy_score(y_pred, y_hold))"
      ],
      "execution_count": 286,
      "outputs": [
        {
          "output_type": "stream",
          "text": [
            "long accuracy 0.9843\n"
          ],
          "name": "stdout"
        }
      ]
    },
    {
      "cell_type": "markdown",
      "metadata": {
        "id": "cLxK10ulGhhv",
        "colab_type": "text"
      },
      "source": [
        "Bert delivers by far the best results,it's almost frightening how easy one can reach state of the art results with just a template. The downside from using this template is, that it isn't easily customizable, it is even hard to get a hold out accuracy. Furthermore it takes a lot of ressources and is very slow and probably not easy to set to production. This should only be used if realy needed."
      ]
    },
    {
      "cell_type": "markdown",
      "metadata": {
        "id": "haCybbqCzd1r",
        "colab_type": "text"
      },
      "source": [
        "## Flair"
      ]
    },
    {
      "cell_type": "markdown",
      "metadata": {
        "id": "cFiUbSAq8AB2",
        "colab_type": "text"
      },
      "source": [
        "just to try flair embeddings"
      ]
    },
    {
      "cell_type": "code",
      "metadata": {
        "id": "Cfu3oxZOnutv",
        "colab_type": "code",
        "colab": {}
      },
      "source": [
        "%%capture\n",
        "!pip install flair"
      ],
      "execution_count": 0,
      "outputs": []
    },
    {
      "cell_type": "code",
      "metadata": {
        "id": "vRRR6X2z7l-R",
        "colab_type": "code",
        "outputId": "794582e6-a196-41ab-bb07-e1a76fa79b28",
        "colab": {
          "base_uri": "https://localhost:8080/",
          "height": 80
        }
      },
      "source": [
        "import torch\n",
        "import flair\n",
        "from flair.data import Corpus\n",
        "from flair.data import Sentence\n",
        "from flair.embeddings import WordEmbeddings, FlairEmbeddings, DocumentRNNEmbeddings\n",
        "from flair.models import TextClassifier\n",
        "from flair.trainers import ModelTrainer\n",
        "\n"
      ],
      "execution_count": 2,
      "outputs": [
        {
          "output_type": "display_data",
          "data": {
            "text/html": [
              "<p style=\"color: red;\">\n",
              "The default version of TensorFlow in Colab will soon switch to TensorFlow 2.x.<br>\n",
              "We recommend you <a href=\"https://www.tensorflow.org/guide/migrate\" target=\"_blank\">upgrade</a> now \n",
              "or ensure your notebook will continue to use TensorFlow 1.x via the <code>%tensorflow_version 1.x</code> magic:\n",
              "<a href=\"https://colab.research.google.com/notebooks/tensorflow_version.ipynb\" target=\"_blank\">more info</a>.</p>\n"
            ],
            "text/plain": [
              "<IPython.core.display.HTML object>"
            ]
          },
          "metadata": {
            "tags": []
          }
        }
      ]
    },
    {
      "cell_type": "code",
      "metadata": {
        "id": "wHhoj8MB9KkK",
        "colab_type": "code",
        "colab": {}
      },
      "source": [
        "#from flair.data import Corpus\n",
        "#from flair.datasets import ColumnCorpus\n",
        "\n",
        "# define columns\n",
        "#columns = {0: 'text', 1: 'pos', 2: 'ner'}\n",
        "\n",
        "# this is the folder in which train, test and dev files reside\n",
        "#data_folder = '/path/to/data/folder'\n",
        "\n",
        "# init a corpus using column format, data folder and the names of the train, dev and test files\n",
        "#corpus: Corpus = ColumnCorpus(data_folder, columns,\n",
        "#                              train_file='train.txt',\n",
        "#                              test_file='test.txt',\n",
        "#                              dev_file='dev.txt')"
      ],
      "execution_count": 0,
      "outputs": []
    },
    {
      "cell_type": "code",
      "metadata": {
        "id": "99kWRToE7psf",
        "colab_type": "code",
        "outputId": "fda28f1b-538d-4f35-88da-05041a6a8ed0",
        "colab": {
          "base_uri": "https://localhost:8080/",
          "height": 173
        }
      },
      "source": [
        "\n",
        "# 1. get the corpus\n",
        "import flair.datasets\n",
        "corpus = flair.datasets.IMDB()"
      ],
      "execution_count": 4,
      "outputs": [
        {
          "output_type": "stream",
          "text": [
            "2019-12-19 11:55:07,935 http://ai.stanford.edu/~amaas/data/sentiment/aclImdb_v1.tar.gz not found in cache, downloading to /tmp/tmp4ivchxq8\n"
          ],
          "name": "stdout"
        },
        {
          "output_type": "stream",
          "text": [
            "100%|██████████| 84125825/84125825 [00:04<00:00, 18354616.93B/s]"
          ],
          "name": "stderr"
        },
        {
          "output_type": "stream",
          "text": [
            "2019-12-19 11:55:12,674 copying /tmp/tmp4ivchxq8 to cache at /root/.flair/datasets/imdb/aclImdb_v1.tar.gz\n"
          ],
          "name": "stdout"
        },
        {
          "output_type": "stream",
          "text": [
            "\n"
          ],
          "name": "stderr"
        },
        {
          "output_type": "stream",
          "text": [
            "2019-12-19 11:55:12,773 removing temp file /tmp/tmp4ivchxq8\n",
            "2019-12-19 11:55:35,953 Reading data from /root/.flair/datasets/imdb\n",
            "2019-12-19 11:55:35,954 Train: /root/.flair/datasets/imdb/train.txt\n",
            "2019-12-19 11:55:35,954 Dev: None\n",
            "2019-12-19 11:55:35,955 Test: /root/.flair/datasets/imdb/test.txt\n"
          ],
          "name": "stdout"
        }
      ]
    },
    {
      "cell_type": "code",
      "metadata": {
        "id": "ZxCh85c575le",
        "colab_type": "code",
        "outputId": "7eb5797e-9187-4e8b-9d09-60609d9efe7b",
        "colab": {
          "base_uri": "https://localhost:8080/",
          "height": 54
        }
      },
      "source": [
        "print(corpus.train[0])"
      ],
      "execution_count": 5,
      "outputs": [
        {
          "output_type": "stream",
          "text": [
            "Sentence: \"While Bondarchuk was by no means a young man when he was commissioned to work on this project, he was still a novice director with only a single pictures, a successful adaptation of a short WWII story, to his name. Bondarchuk of course had already been an established acting star for a decade but thespian skills mean little behind the camera, and as a director he was woefully unprepared to undertake a production of such scale. And it shows through muddled shot compositions especially apparent in group scenes, often unfortunate camera positions, performances of wildly varying quality for the director was apparently so overwhelmed by the sheer magnitude of the task actors were apparently left to their own devices, awkward voiceovers that sound like radio broadcast announcements.<br /><br />Vidor's \"War and Peace\" was probably the main reason that prompted the Soviet government to spare no expense on this production. The USSR release of the Vidor's picture made quite a splash. Certainly, Bondarchuk wanted to emulate the greatest strength of the Hollywood film and find his own Audrey. His final choice, Lyudmila Savelyeva, a big-eyed sprightly dark-haired thing indeed somewhat resembles Hepburn. Unfortunately she was a Kirov ballet dancer without neither acting experience nor talent, so unsurprisingly the most kind word that I can find to describe her performance is \"awful\".<br /><br />Though it might be expected that Soviet actors, speaking the same language as Tolstoy's characters, would have better understanding of them than foreigners but this War and Peace often proves that not to be the case. The revolutionary upheaval swept away the thin upper layer of Russian cultural soil, that the world of War and Peace grown out of, so a good share of these big name Soviet actors involved in this production often look as clueless as Americans performing Shakespeare ( I don't mean of course that American actors can't possibly play Shakespeare credibly, but you'll know what I mean if you witnessed American members of the cast in Branagh's adaptations). Of the three main characters only Bondarchuk's Pierre is commendable, but even he was too old for the part and feels out of place in the early going.\" - 361 Tokens - Labels: [neg (1.0)] \n"
          ],
          "name": "stdout"
        }
      ]
    },
    {
      "cell_type": "code",
      "metadata": {
        "id": "KBwi47Sj7rto",
        "colab_type": "code",
        "outputId": "6b630f04-fc99-45ab-b8cd-1257cb59b600",
        "colab": {
          "base_uri": "https://localhost:8080/",
          "height": 68
        }
      },
      "source": [
        "\n",
        "# 2. create the label dictionary\n",
        "label_dict = corpus.make_label_dictionary()\n"
      ],
      "execution_count": 6,
      "outputs": [
        {
          "output_type": "stream",
          "text": [
            "2019-12-19 11:55:36,456 Computing label dictionary. Progress:\n"
          ],
          "name": "stdout"
        },
        {
          "output_type": "stream",
          "text": [
            "100%|██████████| 22500/22500 [00:52<00:00, 428.80it/s]"
          ],
          "name": "stderr"
        },
        {
          "output_type": "stream",
          "text": [
            "2019-12-19 11:56:29,043 [b'neg', b'pos']\n"
          ],
          "name": "stdout"
        },
        {
          "output_type": "stream",
          "text": [
            "\n"
          ],
          "name": "stderr"
        }
      ]
    },
    {
      "cell_type": "code",
      "metadata": {
        "id": "jbqfHDRq9Nzs",
        "colab_type": "code",
        "outputId": "f1a6b21a-9b79-4e5e-fefc-5051d3572ec4",
        "colab": {
          "base_uri": "https://localhost:8080/",
          "height": 173
        }
      },
      "source": [
        "# init Flair embeddings\n",
        "#flair_forward_embedding = FlairEmbeddings('multi-forward')\n",
        "#flair_backward_embedding = FlairEmbeddings('multi-backward')\n",
        "\n",
        "# init multilingual BERT\n",
        "#bert_embedding = BertEmbeddings('bert-base-multilingual-cased')\n",
        "# 3. make a list of word embeddings\n",
        "word_embeddings = [\n",
        "                   # comment in flair embeddings for state-of-the-art results\n",
        "                    FlairEmbeddings('news-forward'),\n",
        "                    FlairEmbeddings('news-backward'),\n",
        "                   ]\n"
      ],
      "execution_count": 7,
      "outputs": [
        {
          "output_type": "stream",
          "text": [
            "2019-12-19 11:56:29,556 https://s3.eu-central-1.amazonaws.com/alan-nlp/resources/embeddings-v0.4.1/big-news-forward--h2048-l1-d0.05-lr30-0.25-20/news-forward-0.4.1.pt not found in cache, downloading to /tmp/tmpcjpgpmk7\n"
          ],
          "name": "stdout"
        },
        {
          "output_type": "stream",
          "text": [
            "100%|██████████| 73034624/73034624 [00:04<00:00, 17566380.73B/s]"
          ],
          "name": "stderr"
        },
        {
          "output_type": "stream",
          "text": [
            "2019-12-19 11:56:34,219 copying /tmp/tmpcjpgpmk7 to cache at /root/.flair/embeddings/news-forward-0.4.1.pt\n"
          ],
          "name": "stdout"
        },
        {
          "output_type": "stream",
          "text": [
            "\n"
          ],
          "name": "stderr"
        },
        {
          "output_type": "stream",
          "text": [
            "2019-12-19 11:56:34,303 removing temp file /tmp/tmpcjpgpmk7\n",
            "2019-12-19 11:56:41,619 https://s3.eu-central-1.amazonaws.com/alan-nlp/resources/embeddings-v0.4.1/big-news-backward--h2048-l1-d0.05-lr30-0.25-20/news-backward-0.4.1.pt not found in cache, downloading to /tmp/tmpw85eh7ij\n"
          ],
          "name": "stdout"
        },
        {
          "output_type": "stream",
          "text": [
            "100%|██████████| 73034575/73034575 [00:04<00:00, 17099039.66B/s]"
          ],
          "name": "stderr"
        },
        {
          "output_type": "stream",
          "text": [
            "2019-12-19 11:56:46,458 copying /tmp/tmpw85eh7ij to cache at /root/.flair/embeddings/news-backward-0.4.1.pt\n"
          ],
          "name": "stdout"
        },
        {
          "output_type": "stream",
          "text": [
            "\n"
          ],
          "name": "stderr"
        },
        {
          "output_type": "stream",
          "text": [
            "2019-12-19 11:56:46,549 removing temp file /tmp/tmpw85eh7ij\n"
          ],
          "name": "stdout"
        }
      ]
    },
    {
      "cell_type": "code",
      "metadata": {
        "id": "xN9RYRpc9N9O",
        "colab_type": "code",
        "colab": {}
      },
      "source": [
        "\n",
        "# 4. initialize document embedding by passing list of word embeddings\n",
        "# Can choose between many RNN types (GRU by default, to change use rnn_type parameter)\n",
        "document_embeddings: DocumentRNNEmbeddings = DocumentRNNEmbeddings(word_embeddings,\n",
        "                                                                     hidden_size=128,\n",
        "                                                                     reproject_words=True,\n",
        "                                                                     reproject_words_dimension=64,\n",
        "                                                                     )\n"
      ],
      "execution_count": 0,
      "outputs": []
    },
    {
      "cell_type": "code",
      "metadata": {
        "id": "ZLomZOXy9OEc",
        "colab_type": "code",
        "colab": {}
      },
      "source": [
        "\n",
        "# 5. create the text classifier\n",
        "classifier = TextClassifier(document_embeddings, label_dictionary=label_dict)\n"
      ],
      "execution_count": 0,
      "outputs": []
    },
    {
      "cell_type": "code",
      "metadata": {
        "id": "gyyjpc7PAqhS",
        "colab_type": "code",
        "colab": {}
      },
      "source": [
        "\n",
        "# 6. initialize the text classifier trainer\n",
        "trainer = ModelTrainer(classifier, corpus, use_tensorboard = False)"
      ],
      "execution_count": 0,
      "outputs": []
    },
    {
      "cell_type": "markdown",
      "metadata": {
        "id": "bocL6zoWF1W7",
        "colab_type": "text"
      },
      "source": [
        "## How to train a classifier with flair embedding, it took 6 hours and gave bad results? Do you have any hints ore examplees?  "
      ]
    },
    {
      "cell_type": "code",
      "metadata": {
        "id": "bunXR8Hf9Uxu",
        "colab_type": "code",
        "outputId": "1d5dfc1e-7857-431e-cad6-31448278cb00",
        "colab": {
          "base_uri": "https://localhost:8080/",
          "height": 4117
        }
      },
      "source": [
        "# 7. start the training\n",
        "trainer.train('resources/classify/imbd',\n",
        "              learning_rate=0.1,\n",
        "              mini_batch_size=32,\n",
        "              anneal_factor=0.03,\n",
        "              min_learning_rate=0.0001,\n",
        "              embeddings_storage_mode='gpu',\n",
        "              train_with_dev= True,\n",
        "              checkpoint=True,\n",
        "              patience=2,\n",
        "              max_epochs=10)\n"
      ],
      "execution_count": 13,
      "outputs": [
        {
          "output_type": "stream",
          "text": [
            "2019-12-19 12:02:09,617 ----------------------------------------------------------------------------------------------------\n",
            "2019-12-19 12:02:09,619 Model: \"TextClassifier(\n",
            "  (document_embeddings): DocumentRNNEmbeddings(\n",
            "    (embeddings): StackedEmbeddings(\n",
            "      (list_embedding_0): FlairEmbeddings(\n",
            "        (lm): LanguageModel(\n",
            "          (drop): Dropout(p=0.05, inplace=False)\n",
            "          (encoder): Embedding(300, 100)\n",
            "          (rnn): LSTM(100, 2048)\n",
            "          (decoder): Linear(in_features=2048, out_features=300, bias=True)\n",
            "        )\n",
            "      )\n",
            "      (list_embedding_1): FlairEmbeddings(\n",
            "        (lm): LanguageModel(\n",
            "          (drop): Dropout(p=0.05, inplace=False)\n",
            "          (encoder): Embedding(300, 100)\n",
            "          (rnn): LSTM(100, 2048)\n",
            "          (decoder): Linear(in_features=2048, out_features=300, bias=True)\n",
            "        )\n",
            "      )\n",
            "    )\n",
            "    (word_reprojection_map): Linear(in_features=4096, out_features=64, bias=True)\n",
            "    (rnn): GRU(64, 128, batch_first=True)\n",
            "    (dropout): Dropout(p=0.5, inplace=False)\n",
            "  )\n",
            "  (decoder): Linear(in_features=128, out_features=2, bias=True)\n",
            "  (loss_function): CrossEntropyLoss()\n",
            ")\"\n",
            "2019-12-19 12:02:09,620 ----------------------------------------------------------------------------------------------------\n",
            "2019-12-19 12:02:09,621 Corpus: \"Corpus: 22500 train + 2500 dev + 25000 test sentences\"\n",
            "2019-12-19 12:02:09,622 ----------------------------------------------------------------------------------------------------\n",
            "2019-12-19 12:02:09,623 Parameters:\n",
            "2019-12-19 12:02:09,625  - learning_rate: \"0.1\"\n",
            "2019-12-19 12:02:09,626  - mini_batch_size: \"32\"\n",
            "2019-12-19 12:02:09,627  - patience: \"2\"\n",
            "2019-12-19 12:02:09,628  - anneal_factor: \"0.03\"\n",
            "2019-12-19 12:02:09,629  - max_epochs: \"10\"\n",
            "2019-12-19 12:02:09,630  - shuffle: \"True\"\n",
            "2019-12-19 12:02:09,632  - train_with_dev: \"True\"\n",
            "2019-12-19 12:02:09,633  - batch_growth_annealing: \"False\"\n",
            "2019-12-19 12:02:09,634 ----------------------------------------------------------------------------------------------------\n",
            "2019-12-19 12:02:09,636 Model training base path: \"resources/classify/imbd\"\n",
            "2019-12-19 12:02:09,637 ----------------------------------------------------------------------------------------------------\n",
            "2019-12-19 12:02:09,638 Device: cuda:0\n",
            "2019-12-19 12:02:09,639 ----------------------------------------------------------------------------------------------------\n",
            "2019-12-19 12:02:09,641 Embeddings storage mode: gpu\n",
            "2019-12-19 12:02:09,643 ----------------------------------------------------------------------------------------------------\n",
            "2019-12-19 12:02:12,406 epoch 1 - iter 0/782 - loss 0.67410779 - samples/sec: 1148.37\n",
            "2019-12-19 12:05:53,810 epoch 1 - iter 78/782 - loss 0.67944946 - samples/sec: 11.62\n",
            "2019-12-19 12:09:25,087 epoch 1 - iter 156/782 - loss 0.67130306 - samples/sec: 12.19\n",
            "2019-12-19 12:13:10,222 epoch 1 - iter 234/782 - loss 0.66629864 - samples/sec: 11.40\n",
            "2019-12-19 12:16:36,789 epoch 1 - iter 312/782 - loss 0.66059484 - samples/sec: 12.45\n",
            "2019-12-19 12:20:16,141 epoch 1 - iter 390/782 - loss 0.65813443 - samples/sec: 11.73\n",
            "2019-12-19 12:23:50,961 epoch 1 - iter 468/782 - loss 0.65527723 - samples/sec: 11.96\n",
            "2019-12-19 12:27:20,289 epoch 1 - iter 546/782 - loss 0.65248595 - samples/sec: 12.31\n",
            "2019-12-19 12:30:53,855 epoch 1 - iter 624/782 - loss 0.65036467 - samples/sec: 12.01\n",
            "2019-12-19 12:34:28,814 epoch 1 - iter 702/782 - loss 0.64716745 - samples/sec: 12.02\n",
            "2019-12-19 12:38:16,021 epoch 1 - iter 780/782 - loss 0.64558847 - samples/sec: 11.28\n",
            "2019-12-19 12:38:19,508 ----------------------------------------------------------------------------------------------------\n",
            "2019-12-19 12:38:19,511 EPOCH 1 done: loss 0.6453 - lr 0.1000\n",
            "2019-12-19 12:38:19,513 BAD EPOCHS (no improvement): 0\n"
          ],
          "name": "stdout"
        },
        {
          "output_type": "stream",
          "text": [
            "/usr/local/lib/python3.6/dist-packages/torch/serialization.py:292: UserWarning: Couldn't retrieve source code for container of type TextClassifier. It won't be checked for correctness upon loading.\n",
            "  \"type \" + obj.__name__ + \". It won't be checked \"\n",
            "/usr/local/lib/python3.6/dist-packages/torch/serialization.py:292: UserWarning: Couldn't retrieve source code for container of type DocumentRNNEmbeddings. It won't be checked for correctness upon loading.\n",
            "  \"type \" + obj.__name__ + \". It won't be checked \"\n",
            "/usr/local/lib/python3.6/dist-packages/torch/serialization.py:292: UserWarning: Couldn't retrieve source code for container of type StackedEmbeddings. It won't be checked for correctness upon loading.\n",
            "  \"type \" + obj.__name__ + \". It won't be checked \"\n",
            "/usr/local/lib/python3.6/dist-packages/torch/serialization.py:292: UserWarning: Couldn't retrieve source code for container of type FlairEmbeddings. It won't be checked for correctness upon loading.\n",
            "  \"type \" + obj.__name__ + \". It won't be checked \"\n",
            "/usr/local/lib/python3.6/dist-packages/torch/serialization.py:292: UserWarning: Couldn't retrieve source code for container of type LanguageModel. It won't be checked for correctness upon loading.\n",
            "  \"type \" + obj.__name__ + \". It won't be checked \"\n",
            "/usr/local/lib/python3.6/dist-packages/torch/serialization.py:292: UserWarning: Couldn't retrieve source code for container of type Dropout. It won't be checked for correctness upon loading.\n",
            "  \"type \" + obj.__name__ + \". It won't be checked \"\n",
            "/usr/local/lib/python3.6/dist-packages/torch/serialization.py:292: UserWarning: Couldn't retrieve source code for container of type Embedding. It won't be checked for correctness upon loading.\n",
            "  \"type \" + obj.__name__ + \". It won't be checked \"\n",
            "/usr/local/lib/python3.6/dist-packages/torch/serialization.py:292: UserWarning: Couldn't retrieve source code for container of type LSTM. It won't be checked for correctness upon loading.\n",
            "  \"type \" + obj.__name__ + \". It won't be checked \"\n",
            "/usr/local/lib/python3.6/dist-packages/torch/serialization.py:292: UserWarning: Couldn't retrieve source code for container of type Linear. It won't be checked for correctness upon loading.\n",
            "  \"type \" + obj.__name__ + \". It won't be checked \"\n",
            "/usr/local/lib/python3.6/dist-packages/torch/serialization.py:292: UserWarning: Couldn't retrieve source code for container of type GRU. It won't be checked for correctness upon loading.\n",
            "  \"type \" + obj.__name__ + \". It won't be checked \"\n",
            "/usr/local/lib/python3.6/dist-packages/torch/serialization.py:292: UserWarning: Couldn't retrieve source code for container of type CrossEntropyLoss. It won't be checked for correctness upon loading.\n",
            "  \"type \" + obj.__name__ + \". It won't be checked \"\n"
          ],
          "name": "stderr"
        },
        {
          "output_type": "stream",
          "text": [
            "2019-12-19 12:38:19,736 ----------------------------------------------------------------------------------------------------\n",
            "2019-12-19 12:38:23,660 epoch 2 - iter 0/782 - loss 0.61425173 - samples/sec: 715.97\n",
            "2019-12-19 12:41:57,243 epoch 2 - iter 78/782 - loss 0.62955301 - samples/sec: 12.08\n",
            "2019-12-19 12:45:28,689 epoch 2 - iter 156/782 - loss 0.62198770 - samples/sec: 12.18\n",
            "2019-12-19 12:48:50,217 epoch 2 - iter 234/782 - loss 0.62135685 - samples/sec: 12.79\n",
            "2019-12-19 12:52:32,973 epoch 2 - iter 312/782 - loss 0.61825686 - samples/sec: 11.57\n",
            "2019-12-19 12:56:10,912 epoch 2 - iter 390/782 - loss 0.61740190 - samples/sec: 11.83\n",
            "2019-12-19 12:59:53,313 epoch 2 - iter 468/782 - loss 0.61560430 - samples/sec: 11.54\n",
            "2019-12-19 13:03:39,078 epoch 2 - iter 546/782 - loss 0.61435610 - samples/sec: 11.40\n",
            "2019-12-19 13:07:17,973 epoch 2 - iter 624/782 - loss 0.61268647 - samples/sec: 11.74\n",
            "2019-12-19 13:10:43,611 epoch 2 - iter 702/782 - loss 0.61307344 - samples/sec: 12.52\n",
            "2019-12-19 13:14:13,810 epoch 2 - iter 780/782 - loss 0.61218506 - samples/sec: 12.19\n",
            "2019-12-19 13:14:14,734 ----------------------------------------------------------------------------------------------------\n",
            "2019-12-19 13:14:14,736 EPOCH 2 done: loss 0.6120 - lr 0.1000\n",
            "2019-12-19 13:14:14,737 BAD EPOCHS (no improvement): 0\n",
            "2019-12-19 13:14:14,991 ----------------------------------------------------------------------------------------------------\n",
            "2019-12-19 13:14:18,350 epoch 3 - iter 0/782 - loss 0.61139715 - samples/sec: 1129.77\n",
            "2019-12-19 13:17:46,195 epoch 3 - iter 78/782 - loss 0.60600565 - samples/sec: 12.37\n",
            "2019-12-19 13:21:27,148 epoch 3 - iter 156/782 - loss 0.60922742 - samples/sec: 11.63\n",
            "2019-12-19 13:24:56,364 epoch 3 - iter 234/782 - loss 0.60473007 - samples/sec: 12.31\n",
            "2019-12-19 13:28:34,308 epoch 3 - iter 312/782 - loss 0.59932349 - samples/sec: 11.80\n",
            "2019-12-19 13:32:09,049 epoch 3 - iter 390/782 - loss 0.59626765 - samples/sec: 11.99\n",
            "2019-12-19 13:35:44,132 epoch 3 - iter 468/782 - loss 0.59828805 - samples/sec: 11.98\n",
            "2019-12-19 13:39:14,978 epoch 3 - iter 546/782 - loss 0.59716312 - samples/sec: 12.18\n",
            "2019-12-19 13:43:00,198 epoch 3 - iter 624/782 - loss 0.59685611 - samples/sec: 11.40\n",
            "2019-12-19 13:46:41,617 epoch 3 - iter 702/782 - loss 0.59711741 - samples/sec: 11.65\n",
            "2019-12-19 13:50:20,306 epoch 3 - iter 780/782 - loss 0.59671936 - samples/sec: 11.72\n",
            "2019-12-19 13:50:22,091 ----------------------------------------------------------------------------------------------------\n",
            "2019-12-19 13:50:22,094 EPOCH 3 done: loss 0.5966 - lr 0.1000\n",
            "2019-12-19 13:50:22,095 BAD EPOCHS (no improvement): 0\n",
            "2019-12-19 13:50:22,352 ----------------------------------------------------------------------------------------------------\n",
            "2019-12-19 13:50:25,385 epoch 4 - iter 0/782 - loss 0.57146114 - samples/sec: 1016.62\n",
            "2019-12-19 13:53:55,950 epoch 4 - iter 78/782 - loss 0.58765529 - samples/sec: 12.18\n",
            "2019-12-19 13:57:34,727 epoch 4 - iter 156/782 - loss 0.58409564 - samples/sec: 11.75\n",
            "2019-12-19 14:01:08,350 epoch 4 - iter 234/782 - loss 0.59090121 - samples/sec: 11.97\n",
            "2019-12-19 14:04:43,165 epoch 4 - iter 312/782 - loss 0.59232170 - samples/sec: 11.99\n",
            "2019-12-19 14:08:10,217 epoch 4 - iter 390/782 - loss 0.59232088 - samples/sec: 12.44\n",
            "2019-12-19 14:11:52,752 epoch 4 - iter 468/782 - loss 0.59213830 - samples/sec: 11.53\n",
            "2019-12-19 14:15:40,524 epoch 4 - iter 546/782 - loss 0.59171565 - samples/sec: 11.27\n",
            "2019-12-19 14:19:06,233 epoch 4 - iter 624/782 - loss 0.59142517 - samples/sec: 12.50\n",
            "2019-12-19 14:22:48,075 epoch 4 - iter 702/782 - loss 0.59071975 - samples/sec: 11.58\n",
            "2019-12-19 14:26:23,728 epoch 4 - iter 780/782 - loss 0.59058099 - samples/sec: 11.94\n",
            "2019-12-19 14:26:27,075 ----------------------------------------------------------------------------------------------------\n",
            "2019-12-19 14:26:27,077 EPOCH 4 done: loss 0.5904 - lr 0.1000\n",
            "2019-12-19 14:26:27,078 BAD EPOCHS (no improvement): 0\n",
            "2019-12-19 14:26:27,329 ----------------------------------------------------------------------------------------------------\n",
            "2019-12-19 14:26:30,591 epoch 5 - iter 0/782 - loss 0.45353353 - samples/sec: 888.00\n",
            "2019-12-19 14:30:10,902 epoch 5 - iter 78/782 - loss 0.58122592 - samples/sec: 11.67\n",
            "2019-12-19 14:33:43,253 epoch 5 - iter 156/782 - loss 0.58401893 - samples/sec: 12.09\n",
            "2019-12-19 14:37:27,129 epoch 5 - iter 234/782 - loss 0.58364280 - samples/sec: 11.48\n",
            "2019-12-19 14:41:04,186 epoch 5 - iter 312/782 - loss 0.57986427 - samples/sec: 11.83\n",
            "2019-12-19 14:44:35,449 epoch 5 - iter 390/782 - loss 0.57911312 - samples/sec: 12.19\n",
            "2019-12-19 14:48:05,107 epoch 5 - iter 468/782 - loss 0.57725854 - samples/sec: 12.24\n",
            "2019-12-19 14:51:51,173 epoch 5 - iter 546/782 - loss 0.58381390 - samples/sec: 11.38\n",
            "2019-12-19 14:55:21,317 epoch 5 - iter 624/782 - loss 0.59113133 - samples/sec: 12.26\n",
            "2019-12-19 14:58:51,227 epoch 5 - iter 702/782 - loss 0.59144559 - samples/sec: 12.21\n",
            "2019-12-19 15:02:22,257 epoch 5 - iter 780/782 - loss 0.59115516 - samples/sec: 12.15\n",
            "2019-12-19 15:02:23,344 ----------------------------------------------------------------------------------------------------\n",
            "2019-12-19 15:02:23,346 EPOCH 5 done: loss 0.5912 - lr 0.1000\n",
            "2019-12-19 15:02:23,348 BAD EPOCHS (no improvement): 1\n",
            "2019-12-19 15:02:23,604 ----------------------------------------------------------------------------------------------------\n",
            "2019-12-19 15:02:26,440 epoch 6 - iter 0/782 - loss 0.78417587 - samples/sec: 1031.70\n",
            "2019-12-19 15:06:15,363 epoch 6 - iter 78/782 - loss 0.59063155 - samples/sec: 11.18\n",
            "2019-12-19 15:09:49,933 epoch 6 - iter 156/782 - loss 0.59627247 - samples/sec: 11.97\n",
            "2019-12-19 15:13:30,396 epoch 6 - iter 234/782 - loss 0.59768356 - samples/sec: 11.67\n",
            "2019-12-19 15:17:02,023 epoch 6 - iter 312/782 - loss 0.60022835 - samples/sec: 12.17\n",
            "2019-12-19 15:20:31,392 epoch 6 - iter 390/782 - loss 0.59802765 - samples/sec: 12.25\n",
            "2019-12-19 15:23:59,838 epoch 6 - iter 468/782 - loss 0.59564807 - samples/sec: 12.33\n",
            "2019-12-19 15:27:33,178 epoch 6 - iter 546/782 - loss 0.59066702 - samples/sec: 12.03\n",
            "2019-12-19 15:31:02,306 epoch 6 - iter 624/782 - loss 0.58867649 - samples/sec: 12.27\n",
            "2019-12-19 15:34:37,288 epoch 6 - iter 702/782 - loss 0.58921335 - samples/sec: 11.94\n",
            "2019-12-19 15:38:08,979 epoch 6 - iter 780/782 - loss 0.58843842 - samples/sec: 12.09\n",
            "2019-12-19 15:38:10,657 ----------------------------------------------------------------------------------------------------\n",
            "2019-12-19 15:38:10,658 EPOCH 6 done: loss 0.5885 - lr 0.1000\n",
            "2019-12-19 15:38:10,660 BAD EPOCHS (no improvement): 0\n",
            "2019-12-19 15:38:10,903 ----------------------------------------------------------------------------------------------------\n",
            "2019-12-19 15:38:13,671 epoch 7 - iter 0/782 - loss 0.53093708 - samples/sec: 1316.64\n",
            "2019-12-19 15:41:49,582 epoch 7 - iter 78/782 - loss 0.58107769 - samples/sec: 11.91\n",
            "2019-12-19 15:45:15,519 epoch 7 - iter 156/782 - loss 0.58874484 - samples/sec: 12.49\n",
            "2019-12-19 15:48:48,041 epoch 7 - iter 234/782 - loss 0.58976040 - samples/sec: 12.09\n",
            "2019-12-19 15:52:20,941 epoch 7 - iter 312/782 - loss 0.58770834 - samples/sec: 12.09\n",
            "2019-12-19 15:55:58,014 epoch 7 - iter 390/782 - loss 0.58819862 - samples/sec: 11.81\n",
            "2019-12-19 15:59:39,464 epoch 7 - iter 468/782 - loss 0.58559794 - samples/sec: 11.62\n",
            "2019-12-19 16:03:09,933 epoch 7 - iter 546/782 - loss 0.58474814 - samples/sec: 12.21\n",
            "2019-12-19 16:06:53,830 epoch 7 - iter 624/782 - loss 0.58989610 - samples/sec: 11.44\n",
            "2019-12-19 16:10:27,515 epoch 7 - iter 702/782 - loss 0.59156017 - samples/sec: 11.98\n",
            "2019-12-19 16:14:02,657 epoch 7 - iter 780/782 - loss 0.59044858 - samples/sec: 11.97\n",
            "2019-12-19 16:14:04,102 ----------------------------------------------------------------------------------------------------\n",
            "2019-12-19 16:14:04,103 EPOCH 7 done: loss 0.5905 - lr 0.1000\n",
            "2019-12-19 16:14:04,108 BAD EPOCHS (no improvement): 1\n",
            "2019-12-19 16:14:04,348 ----------------------------------------------------------------------------------------------------\n",
            "2019-12-19 16:14:07,132 epoch 8 - iter 0/782 - loss 0.64931118 - samples/sec: 1085.99\n",
            "2019-12-19 16:17:37,111 epoch 8 - iter 78/782 - loss 0.58381635 - samples/sec: 12.29\n",
            "2019-12-19 16:21:07,242 epoch 8 - iter 156/782 - loss 0.57558362 - samples/sec: 12.21\n",
            "2019-12-19 16:24:42,562 epoch 8 - iter 234/782 - loss 0.58443688 - samples/sec: 11.89\n",
            "2019-12-19 16:28:15,754 epoch 8 - iter 312/782 - loss 0.59147509 - samples/sec: 12.04\n",
            "2019-12-19 16:31:56,732 epoch 8 - iter 390/782 - loss 0.58707795 - samples/sec: 11.63\n",
            "2019-12-19 16:35:22,010 epoch 8 - iter 468/782 - loss 0.58652607 - samples/sec: 12.58\n",
            "2019-12-19 16:38:52,137 epoch 8 - iter 546/782 - loss 0.59127983 - samples/sec: 12.27\n",
            "2019-12-19 16:42:30,233 epoch 8 - iter 624/782 - loss 0.58918315 - samples/sec: 11.81\n",
            "2019-12-19 16:46:15,714 epoch 8 - iter 702/782 - loss 0.58798774 - samples/sec: 11.40\n",
            "2019-12-19 16:50:03,175 epoch 8 - iter 780/782 - loss 0.58475505 - samples/sec: 11.33\n",
            "2019-12-19 16:50:04,722 ----------------------------------------------------------------------------------------------------\n",
            "2019-12-19 16:50:04,724 EPOCH 8 done: loss 0.5847 - lr 0.1000\n",
            "2019-12-19 16:50:04,729 BAD EPOCHS (no improvement): 0\n",
            "2019-12-19 16:50:04,994 ----------------------------------------------------------------------------------------------------\n",
            "2019-12-19 16:50:08,356 epoch 9 - iter 0/782 - loss 0.37312606 - samples/sec: 1013.19\n",
            "2019-12-19 16:53:40,077 epoch 9 - iter 78/782 - loss 0.58430412 - samples/sec: 12.17\n",
            "2019-12-19 16:57:16,406 epoch 9 - iter 156/782 - loss 0.58657044 - samples/sec: 11.87\n",
            "2019-12-19 17:00:58,706 epoch 9 - iter 234/782 - loss 0.57693619 - samples/sec: 11.55\n",
            "2019-12-19 17:04:39,471 epoch 9 - iter 312/782 - loss 0.58585769 - samples/sec: 11.60\n",
            "2019-12-19 17:08:15,568 epoch 9 - iter 390/782 - loss 0.58622144 - samples/sec: 11.84\n",
            "2019-12-19 17:11:46,683 epoch 9 - iter 468/782 - loss 0.58348668 - samples/sec: 12.20\n",
            "2019-12-19 17:15:29,692 epoch 9 - iter 546/782 - loss 0.57994458 - samples/sec: 11.54\n",
            "2019-12-19 17:19:14,619 epoch 9 - iter 624/782 - loss 0.57868956 - samples/sec: 11.42\n",
            "2019-12-19 17:22:47,506 epoch 9 - iter 702/782 - loss 0.57794051 - samples/sec: 12.10\n",
            "2019-12-19 17:26:18,917 epoch 9 - iter 780/782 - loss 0.57476831 - samples/sec: 12.13\n",
            "2019-12-19 17:26:20,274 ----------------------------------------------------------------------------------------------------\n",
            "2019-12-19 17:26:20,275 EPOCH 9 done: loss 0.5746 - lr 0.1000\n",
            "2019-12-19 17:26:20,277 BAD EPOCHS (no improvement): 0\n",
            "2019-12-19 17:26:20,552 ----------------------------------------------------------------------------------------------------\n",
            "2019-12-19 17:26:23,412 epoch 10 - iter 0/782 - loss 0.58071405 - samples/sec: 1882.95\n",
            "2019-12-19 17:30:08,364 epoch 10 - iter 78/782 - loss 0.57816675 - samples/sec: 11.41\n",
            "2019-12-19 17:33:49,385 epoch 10 - iter 156/782 - loss 0.57037447 - samples/sec: 11.61\n",
            "2019-12-19 17:37:28,853 epoch 10 - iter 234/782 - loss 0.56075387 - samples/sec: 11.72\n",
            "2019-12-19 17:40:56,714 epoch 10 - iter 312/782 - loss 0.55595639 - samples/sec: 12.44\n",
            "2019-12-19 17:44:36,574 epoch 10 - iter 390/782 - loss 0.55541155 - samples/sec: 11.67\n",
            "2019-12-19 17:48:09,900 epoch 10 - iter 468/782 - loss 0.55613787 - samples/sec: 12.05\n",
            "2019-12-19 17:51:33,913 epoch 10 - iter 546/782 - loss 0.55762169 - samples/sec: 12.60\n",
            "2019-12-19 17:55:21,716 epoch 10 - iter 624/782 - loss 0.55971878 - samples/sec: 11.30\n",
            "2019-12-19 17:59:01,605 epoch 10 - iter 702/782 - loss 0.55671123 - samples/sec: 11.69\n",
            "2019-12-19 18:02:37,097 epoch 10 - iter 780/782 - loss 0.55555573 - samples/sec: 11.93\n",
            "2019-12-19 18:02:40,217 ----------------------------------------------------------------------------------------------------\n",
            "2019-12-19 18:02:40,218 EPOCH 10 done: loss 0.5553 - lr 0.1000\n",
            "2019-12-19 18:02:40,220 BAD EPOCHS (no improvement): 0\n",
            "2019-12-19 18:02:40,731 ----------------------------------------------------------------------------------------------------\n",
            "2019-12-19 18:02:40,733 Testing using best model ...\n",
            "2019-12-19 18:31:23,042 0.7736\t0.7736\t0.7736\n",
            "2019-12-19 18:31:23,044 \n",
            "MICRO_AVG: acc 0.6307 - f1-score 0.7736\n",
            "MACRO_AVG: acc 0.63 - f1-score 0.77295\n",
            "neg        tp: 10314 - fp: 3475 - fn: 2186 - tn: 9025 - precision: 0.7480 - recall: 0.8251 - accuracy: 0.6456 - f1-score: 0.7847\n",
            "pos        tp: 9025 - fp: 2186 - fn: 3475 - tn: 10314 - precision: 0.8050 - recall: 0.7220 - accuracy: 0.6145 - f1-score: 0.7612\n",
            "2019-12-19 18:31:23,044 ----------------------------------------------------------------------------------------------------\n"
          ],
          "name": "stdout"
        },
        {
          "output_type": "execute_result",
          "data": {
            "text/plain": [
              "{'dev_loss_history': [],\n",
              " 'dev_score_history': [],\n",
              " 'test_score': 0.7736,\n",
              " 'train_loss_history': [0.6453398283561478,\n",
              "  0.611995866307822,\n",
              "  0.5965812100321436,\n",
              "  0.5903518259372857,\n",
              "  0.5911926382109333,\n",
              "  0.5884878852635699,\n",
              "  0.5905146283261916,\n",
              "  0.5847436001767283,\n",
              "  0.5746376768631094,\n",
              "  0.5552979480198887]}"
            ]
          },
          "metadata": {
            "tags": []
          },
          "execution_count": 13
        }
      ]
    },
    {
      "cell_type": "code",
      "metadata": {
        "id": "0ABxC5Uw7mCG",
        "colab_type": "code",
        "outputId": "3f6e8823-cd63-4377-9a55-2d9a84b60b4c",
        "colab": {
          "base_uri": "https://localhost:8080/",
          "height": 820
        }
      },
      "source": [
        "from flair.visual.training_curves import Plotter\n",
        "plotter = Plotter()\n",
        "plotter.plot_weights('resources/classify/imbd/weights.txt')"
      ],
      "execution_count": 14,
      "outputs": [
        {
          "output_type": "stream",
          "text": [
            "Weights plots are saved in resources/classify/imbd/weights.png\n"
          ],
          "name": "stdout"
        },
        {
          "output_type": "display_data",
          "data": {
            "image/png": "[encoded data removed]",
            "text/plain": [
              "<Figure size 576x792 with 22 Axes>"
            ]
          },
          "metadata": {
            "tags": []
          }
        }
      ]
    },
    {
      "cell_type": "code",
      "metadata": {
        "id": "pw_TP97X7l7n",
        "colab_type": "code",
        "colab": {}
      },
      "source": [
        ""
      ],
      "execution_count": 0,
      "outputs": []
    },
    {
      "cell_type": "code",
      "metadata": {
        "id": "bjqlrrMw7l5G",
        "colab_type": "code",
        "colab": {}
      },
      "source": [
        "classifier = TextClassifier.load('resources/classify/imbd/final-model.pt')\n",
        "\n",
        "# create example sentence\n",
        "sentence = Sentence('France is the current world cup winner.')\n",
        "\n",
        "# predict class and print\n",
        "classifier.predict(sentence)\n",
        "\n",
        "print(sentence.labels)"
      ],
      "execution_count": 0,
      "outputs": []
    },
    {
      "cell_type": "code",
      "metadata": {
        "id": "NHMRpNwd7l1-",
        "colab_type": "code",
        "colab": {}
      },
      "source": [
        "from flair.models import TextClassifier\n",
        "from flair.data import Sentence\n",
        "classifier = TextClassifier.load('en-sentiment')\n",
        "sentence = Sentence('Flair is pretty neat!')\n",
        "classifier.predict(sentence)\n",
        "# print sentence with predicted labels\n",
        "print('Sentence above is: ', sentence.labels)"
      ],
      "execution_count": 0,
      "outputs": []
    }
  ]
}