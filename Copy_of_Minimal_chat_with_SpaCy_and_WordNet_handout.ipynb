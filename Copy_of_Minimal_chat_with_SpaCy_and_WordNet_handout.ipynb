{
  "nbformat": 4,
  "nbformat_minor": 0,
  "metadata": {
    "kernelspec": {
      "display_name": "Python 3",
      "language": "python",
      "name": "python3"
    },
    "language_info": {
      "codemirror_mode": {
        "name": "ipython",
        "version": 3
      },
      "file_extension": ".py",
      "mimetype": "text/x-python",
      "name": "python",
      "nbconvert_exporter": "python",
      "pygments_lexer": "ipython3",
      "version": "3.6.8"
    },
    "toc": {
      "base_numbering": 1,
      "nav_menu": {},
      "number_sections": true,
      "sideBar": true,
      "skip_h1_title": false,
      "title_cell": "Table of Contents",
      "title_sidebar": "Contents",
      "toc_cell": false,
      "toc_position": {},
      "toc_section_display": true,
      "toc_window_display": false
    },
    "varInspector": {
      "cols": {
        "lenName": 16,
        "lenType": 16,
        "lenVar": 40
      },
      "kernels_config": {
        "python": {
          "delete_cmd_postfix": "",
          "delete_cmd_prefix": "del ",
          "library": "var_list.py",
          "varRefreshCmd": "print(var_dic_list())"
        },
        "r": {
          "delete_cmd_postfix": ") ",
          "delete_cmd_prefix": "rm(",
          "library": "var_list.r",
          "varRefreshCmd": "cat(var_dic_list()) "
        }
      },
      "types_to_exclude": [
        "module",
        "function",
        "builtin_function_or_method",
        "instance",
        "_Feature"
      ],
      "window_display": false
    },
    "colab": {
      "name": "Copy of Minimal_chat_with_SpaCy_and_WordNet_handout.ipynb",
      "provenance": [],
      "collapsed_sections": [],
      "toc_visible": true,
      "include_colab_link": true
    }
  },
  "cells": [
    {
      "cell_type": "markdown",
      "metadata": {
        "id": "view-in-github",
        "colab_type": "text"
      },
      "source": [
        "<a href=\"https://colab.research.google.com/github/ELehmann91/FS1/blob/master/Copy_of_Minimal_chat_with_SpaCy_and_WordNet_handout.ipynb\" target=\"_parent\"><img src=\"https://colab.research.google.com/assets/colab-badge.svg\" alt=\"Open In Colab\"/></a>"
      ]
    },
    {
      "cell_type": "markdown",
      "metadata": {
        "id": "xX1S-rcWjKcT",
        "colab_type": "text"
      },
      "source": [
        "# Building basic chatbots with rules, syntax and semantic nets\n",
        "\n",
        "It is increasingly often, that companies would like to automate internal or customer facing tasks via a chat interface. Though there are mature frameworks (like [RASA](https://rasa.com/)) or services (like [Microsoft Bot Framework](https://dev.botframework.com/) or [Chatfuel](https://chatfuel.com/)), we will attempt to set up a basic analysis pipeline based on SpaCy and WordNet, that can give us some coverage in a basic banking scenario.   \n",
        "\n",
        "We will use SpaCy for our basic analysis (including syntax), as well as a simple addon, that connects it to WordNet called unsurprisingly [SpaCy-WordNet](https://spacy.io/universe/project/spacy-wordnet).\n",
        "\n",
        "Let's take the following texts as a problem:"
      ]
    },
    {
      "cell_type": "code",
      "metadata": {
        "ExecuteTime": {
          "end_time": "2019-11-11T11:45:51.229539Z",
          "start_time": "2019-11-11T11:45:51.225013Z"
        },
        "id": "dwY3ldn5jKcX",
        "colab_type": "code",
        "colab": {}
      },
      "source": [
        "test_texts = [\n",
        "    \"I would like to deposit 5000 euros.\",\n",
        "    \"I would like to put in 5000 euros.\",\n",
        "    \"I would like to pay in 5000 euros.\",\n",
        "    \"I would like to pay up 5000EUR.\",\n",
        "    \"Can I pay in 5000 euros, please?\",\n",
        "    \n",
        "    \n",
        "    \"I would like to deposit money.\",\n",
        "    \n",
        "\n",
        "    \"I am about to take out 5000 euros.\",\n",
        "    \"I am about to get out 5000 euros.\",\n",
        "    \"I am about to withdraw 5000 euros.\",\n",
        "    \"I want to withdraw 5000 USD.\",\n",
        "    \"Can I withdraw $5000.\",\n",
        "\n",
        "    \n",
        "    \"Can I check my account, please?\",\n",
        "    \"May I see my balance, please?\",\n",
        "    \"Could I query my account, please?\",\n",
        "    \"I would like to see my account balance.\"\n",
        "]"
      ],
      "execution_count": 0,
      "outputs": []
    },
    {
      "cell_type": "markdown",
      "metadata": {
        "id": "Ae558DL4jKcc",
        "colab_type": "text"
      },
      "source": [
        "## Let's try some syntactic analysis!\n",
        "\n",
        "The first goal is to see, if we can filter out, based on some common POS / Dependency structure the \"main message\", the things that people would like to say with the sentences above.\n",
        "\n",
        "The expected output based on our analysis would be something like:"
      ]
    },
    {
      "cell_type": "markdown",
      "metadata": {
        "id": "kdr0WvscjKcd",
        "colab_type": "text"
      },
      "source": [
        "```\n",
        "[deposit, 5000, euros]\n",
        "[put, in, 5000, euros]\n",
        "[pay, in, 5000, euros]\n",
        "[pay, up, 5000EUR]\n",
        "[pay, in, 5000, euros]\n",
        "[deposit, money]\n",
        "[take, out, 5000, euros]\n",
        "----- No success in parsing. Original: I am about to get out 5000 euros.\n",
        "[withdraw, 5000, euros]\n",
        "[withdraw, 5000, USD]\n",
        "[withdraw, $, 5000]\n",
        "[check, my, account]\n",
        "[see, my, balance]\n",
        "[query, my, account]\n",
        "[see, my, account, balance]\n",
        "```"
      ]
    },
    {
      "cell_type": "markdown",
      "metadata": {
        "id": "vrosaP8KjKce",
        "colab_type": "text"
      },
      "source": [
        "### Preliminaries: install SpaCy and initialize model"
      ]
    },
    {
      "cell_type": "code",
      "metadata": {
        "ExecuteTime": {
          "end_time": "2019-11-11T11:45:54.885571Z",
          "start_time": "2019-11-11T11:45:51.232265Z"
        },
        "id": "qcp2AorwjKcf",
        "colab_type": "code",
        "colab": {}
      },
      "source": [
        "%%capture\n",
        "!pip install spacy\n",
        "!python -m spacy download en_core_web_sm"
      ],
      "execution_count": 0,
      "outputs": []
    },
    {
      "cell_type": "code",
      "metadata": {
        "ExecuteTime": {
          "end_time": "2019-11-11T11:45:55.737042Z",
          "start_time": "2019-11-11T11:45:54.894640Z"
        },
        "id": "d3Z-WTTbjKch",
        "colab_type": "code",
        "colab": {}
      },
      "source": [
        "import spacy\n",
        "\n",
        "nlp =  spacy.load(\"en_core_web_sm\")"
      ],
      "execution_count": 0,
      "outputs": []
    },
    {
      "cell_type": "code",
      "metadata": {
        "ExecuteTime": {
          "end_time": "2019-11-11T11:45:55.759307Z",
          "start_time": "2019-11-11T11:45:55.738655Z"
        },
        "id": "VpBFJOnhjKcj",
        "colab_type": "code",
        "colab": {}
      },
      "source": [
        "# We create one document out of the array of sentences for convenience.\n",
        "long_text = \" \".join(test_texts)\n",
        "\n",
        "doc = nlp(long_text ) "
      ],
      "execution_count": 0,
      "outputs": []
    },
    {
      "cell_type": "markdown",
      "metadata": {
        "id": "pBC7OkcxjKcl",
        "colab_type": "text"
      },
      "source": [
        "### Try some syntactic matching on the texts!\n",
        "\n",
        "Let us use the syntactic analysis of SpaCy to get to the \"core\" of the sentences!\n",
        "\n",
        "Let us assume, that we are interested in **verbs** and their **minimal subtrees**!\n",
        "\n",
        "Please\n",
        "\n",
        "1. look for the verbs in the sentences, \n",
        "2. get their subtrees,\n",
        "3. delete every token from the \"left\" of the verb\n",
        "4. from the \"right\" subtree, filter interjections and punctuations,\n",
        "5. keep the shortest such subtree from the sentence and print it out!\n",
        "\n",
        "For the visualization of the sentence tree use [DisplaCy](https://spacy.io/usage/visualizers)."
      ]
    },
    {
      "cell_type": "code",
      "metadata": {
        "id": "eBDB10rcmhW7",
        "colab_type": "code",
        "outputId": "beae7702-9e01-4772-dcdf-4e893d78e018",
        "colab": {
          "base_uri": "https://localhost:8080/",
          "height": 440
        }
      },
      "source": [
        "from spacy import displacy\n",
        "\n",
        "doc = nlp(\"Can I pay in 5000 euros, please?\")\n",
        "displacy.render(doc, style=\"dep\",jupyter=True)\n",
        "#displacy.render(doc, style=\"ent\",jupyter=True)"
      ],
      "execution_count": 5,
      "outputs": [
        {
          "output_type": "display_data",
          "data": {
            "text/html": [
              "<svg xmlns=\"http://www.w3.org/2000/svg\" xmlns:xlink=\"http://www.w3.org/1999/xlink\" xml:lang=\"en\" id=\"375c82046e0f43f0a1edd9071987cfff-0\" class=\"displacy\" width=\"1275\" height=\"399.5\" direction=\"ltr\" style=\"max-width: none; height: 399.5px; color: #000000; background: #ffffff; font-family: Arial; direction: ltr\">\n",
              "<text class=\"displacy-token\" fill=\"currentColor\" text-anchor=\"middle\" y=\"309.5\">\n",
              "    <tspan class=\"displacy-word\" fill=\"currentColor\" x=\"50\">Can</tspan>\n",
              "    <tspan class=\"displacy-tag\" dy=\"2em\" fill=\"currentColor\" x=\"50\">VERB</tspan>\n",
              "</text>\n",
              "\n",
              "<text class=\"displacy-token\" fill=\"currentColor\" text-anchor=\"middle\" y=\"309.5\">\n",
              "    <tspan class=\"displacy-word\" fill=\"currentColor\" x=\"225\">I</tspan>\n",
              "    <tspan class=\"displacy-tag\" dy=\"2em\" fill=\"currentColor\" x=\"225\">PRON</tspan>\n",
              "</text>\n",
              "\n",
              "<text class=\"displacy-token\" fill=\"currentColor\" text-anchor=\"middle\" y=\"309.5\">\n",
              "    <tspan class=\"displacy-word\" fill=\"currentColor\" x=\"400\">pay</tspan>\n",
              "    <tspan class=\"displacy-tag\" dy=\"2em\" fill=\"currentColor\" x=\"400\">VERB</tspan>\n",
              "</text>\n",
              "\n",
              "<text class=\"displacy-token\" fill=\"currentColor\" text-anchor=\"middle\" y=\"309.5\">\n",
              "    <tspan class=\"displacy-word\" fill=\"currentColor\" x=\"575\">in</tspan>\n",
              "    <tspan class=\"displacy-tag\" dy=\"2em\" fill=\"currentColor\" x=\"575\">ADP</tspan>\n",
              "</text>\n",
              "\n",
              "<text class=\"displacy-token\" fill=\"currentColor\" text-anchor=\"middle\" y=\"309.5\">\n",
              "    <tspan class=\"displacy-word\" fill=\"currentColor\" x=\"750\">5000</tspan>\n",
              "    <tspan class=\"displacy-tag\" dy=\"2em\" fill=\"currentColor\" x=\"750\">NUM</tspan>\n",
              "</text>\n",
              "\n",
              "<text class=\"displacy-token\" fill=\"currentColor\" text-anchor=\"middle\" y=\"309.5\">\n",
              "    <tspan class=\"displacy-word\" fill=\"currentColor\" x=\"925\">euros,</tspan>\n",
              "    <tspan class=\"displacy-tag\" dy=\"2em\" fill=\"currentColor\" x=\"925\">NOUN</tspan>\n",
              "</text>\n",
              "\n",
              "<text class=\"displacy-token\" fill=\"currentColor\" text-anchor=\"middle\" y=\"309.5\">\n",
              "    <tspan class=\"displacy-word\" fill=\"currentColor\" x=\"1100\">please?</tspan>\n",
              "    <tspan class=\"displacy-tag\" dy=\"2em\" fill=\"currentColor\" x=\"1100\">INTJ</tspan>\n",
              "</text>\n",
              "\n",
              "<g class=\"displacy-arrow\">\n",
              "    <path class=\"displacy-arc\" id=\"arrow-375c82046e0f43f0a1edd9071987cfff-0-0\" stroke-width=\"2px\" d=\"M70,264.5 C70,89.5 395.0,89.5 395.0,264.5\" fill=\"none\" stroke=\"currentColor\"/>\n",
              "    <text dy=\"1.25em\" style=\"font-size: 0.8em; letter-spacing: 1px\">\n",
              "        <textPath xlink:href=\"#arrow-375c82046e0f43f0a1edd9071987cfff-0-0\" class=\"displacy-label\" startOffset=\"50%\" side=\"left\" fill=\"currentColor\" text-anchor=\"middle\">aux</textPath>\n",
              "    </text>\n",
              "    <path class=\"displacy-arrowhead\" d=\"M70,266.5 L62,254.5 78,254.5\" fill=\"currentColor\"/>\n",
              "</g>\n",
              "\n",
              "<g class=\"displacy-arrow\">\n",
              "    <path class=\"displacy-arc\" id=\"arrow-375c82046e0f43f0a1edd9071987cfff-0-1\" stroke-width=\"2px\" d=\"M245,264.5 C245,177.0 390.0,177.0 390.0,264.5\" fill=\"none\" stroke=\"currentColor\"/>\n",
              "    <text dy=\"1.25em\" style=\"font-size: 0.8em; letter-spacing: 1px\">\n",
              "        <textPath xlink:href=\"#arrow-375c82046e0f43f0a1edd9071987cfff-0-1\" class=\"displacy-label\" startOffset=\"50%\" side=\"left\" fill=\"currentColor\" text-anchor=\"middle\">nsubj</textPath>\n",
              "    </text>\n",
              "    <path class=\"displacy-arrowhead\" d=\"M245,266.5 L237,254.5 253,254.5\" fill=\"currentColor\"/>\n",
              "</g>\n",
              "\n",
              "<g class=\"displacy-arrow\">\n",
              "    <path class=\"displacy-arc\" id=\"arrow-375c82046e0f43f0a1edd9071987cfff-0-2\" stroke-width=\"2px\" d=\"M420,264.5 C420,177.0 565.0,177.0 565.0,264.5\" fill=\"none\" stroke=\"currentColor\"/>\n",
              "    <text dy=\"1.25em\" style=\"font-size: 0.8em; letter-spacing: 1px\">\n",
              "        <textPath xlink:href=\"#arrow-375c82046e0f43f0a1edd9071987cfff-0-2\" class=\"displacy-label\" startOffset=\"50%\" side=\"left\" fill=\"currentColor\" text-anchor=\"middle\">prep</textPath>\n",
              "    </text>\n",
              "    <path class=\"displacy-arrowhead\" d=\"M565.0,266.5 L573.0,254.5 557.0,254.5\" fill=\"currentColor\"/>\n",
              "</g>\n",
              "\n",
              "<g class=\"displacy-arrow\">\n",
              "    <path class=\"displacy-arc\" id=\"arrow-375c82046e0f43f0a1edd9071987cfff-0-3\" stroke-width=\"2px\" d=\"M770,264.5 C770,177.0 915.0,177.0 915.0,264.5\" fill=\"none\" stroke=\"currentColor\"/>\n",
              "    <text dy=\"1.25em\" style=\"font-size: 0.8em; letter-spacing: 1px\">\n",
              "        <textPath xlink:href=\"#arrow-375c82046e0f43f0a1edd9071987cfff-0-3\" class=\"displacy-label\" startOffset=\"50%\" side=\"left\" fill=\"currentColor\" text-anchor=\"middle\">nummod</textPath>\n",
              "    </text>\n",
              "    <path class=\"displacy-arrowhead\" d=\"M770,266.5 L762,254.5 778,254.5\" fill=\"currentColor\"/>\n",
              "</g>\n",
              "\n",
              "<g class=\"displacy-arrow\">\n",
              "    <path class=\"displacy-arc\" id=\"arrow-375c82046e0f43f0a1edd9071987cfff-0-4\" stroke-width=\"2px\" d=\"M595,264.5 C595,89.5 920.0,89.5 920.0,264.5\" fill=\"none\" stroke=\"currentColor\"/>\n",
              "    <text dy=\"1.25em\" style=\"font-size: 0.8em; letter-spacing: 1px\">\n",
              "        <textPath xlink:href=\"#arrow-375c82046e0f43f0a1edd9071987cfff-0-4\" class=\"displacy-label\" startOffset=\"50%\" side=\"left\" fill=\"currentColor\" text-anchor=\"middle\">pobj</textPath>\n",
              "    </text>\n",
              "    <path class=\"displacy-arrowhead\" d=\"M920.0,266.5 L928.0,254.5 912.0,254.5\" fill=\"currentColor\"/>\n",
              "</g>\n",
              "\n",
              "<g class=\"displacy-arrow\">\n",
              "    <path class=\"displacy-arc\" id=\"arrow-375c82046e0f43f0a1edd9071987cfff-0-5\" stroke-width=\"2px\" d=\"M420,264.5 C420,2.0 1100.0,2.0 1100.0,264.5\" fill=\"none\" stroke=\"currentColor\"/>\n",
              "    <text dy=\"1.25em\" style=\"font-size: 0.8em; letter-spacing: 1px\">\n",
              "        <textPath xlink:href=\"#arrow-375c82046e0f43f0a1edd9071987cfff-0-5\" class=\"displacy-label\" startOffset=\"50%\" side=\"left\" fill=\"currentColor\" text-anchor=\"middle\">intj</textPath>\n",
              "    </text>\n",
              "    <path class=\"displacy-arrowhead\" d=\"M1100.0,266.5 L1108.0,254.5 1092.0,254.5\" fill=\"currentColor\"/>\n",
              "</g>\n",
              "</svg>"
            ],
            "text/plain": [
              "<IPython.core.display.HTML object>"
            ]
          },
          "metadata": {
            "tags": []
          }
        }
      ]
    },
    {
      "cell_type": "code",
      "metadata": {
        "id": "V6r4dpAQp-2T",
        "colab_type": "code",
        "outputId": "7c4ce728-b48e-4b9c-c02c-fbace25f737e",
        "colab": {
          "base_uri": "https://localhost:8080/",
          "height": 440
        }
      },
      "source": [
        "doc = nlp(\"I am about to withdraw 5000 euros , please\")\n",
        "displacy.render(doc, style=\"dep\",jupyter=True)"
      ],
      "execution_count": 6,
      "outputs": [
        {
          "output_type": "display_data",
          "data": {
            "text/html": [
              "<svg xmlns=\"http://www.w3.org/2000/svg\" xmlns:xlink=\"http://www.w3.org/1999/xlink\" xml:lang=\"en\" id=\"344c8092711b471789e5aac2a8123fe5-0\" class=\"displacy\" width=\"1450\" height=\"399.5\" direction=\"ltr\" style=\"max-width: none; height: 399.5px; color: #000000; background: #ffffff; font-family: Arial; direction: ltr\">\n",
              "<text class=\"displacy-token\" fill=\"currentColor\" text-anchor=\"middle\" y=\"309.5\">\n",
              "    <tspan class=\"displacy-word\" fill=\"currentColor\" x=\"50\">I</tspan>\n",
              "    <tspan class=\"displacy-tag\" dy=\"2em\" fill=\"currentColor\" x=\"50\">PRON</tspan>\n",
              "</text>\n",
              "\n",
              "<text class=\"displacy-token\" fill=\"currentColor\" text-anchor=\"middle\" y=\"309.5\">\n",
              "    <tspan class=\"displacy-word\" fill=\"currentColor\" x=\"225\">am</tspan>\n",
              "    <tspan class=\"displacy-tag\" dy=\"2em\" fill=\"currentColor\" x=\"225\">VERB</tspan>\n",
              "</text>\n",
              "\n",
              "<text class=\"displacy-token\" fill=\"currentColor\" text-anchor=\"middle\" y=\"309.5\">\n",
              "    <tspan class=\"displacy-word\" fill=\"currentColor\" x=\"400\">about</tspan>\n",
              "    <tspan class=\"displacy-tag\" dy=\"2em\" fill=\"currentColor\" x=\"400\">ADJ</tspan>\n",
              "</text>\n",
              "\n",
              "<text class=\"displacy-token\" fill=\"currentColor\" text-anchor=\"middle\" y=\"309.5\">\n",
              "    <tspan class=\"displacy-word\" fill=\"currentColor\" x=\"575\">to</tspan>\n",
              "    <tspan class=\"displacy-tag\" dy=\"2em\" fill=\"currentColor\" x=\"575\">PART</tspan>\n",
              "</text>\n",
              "\n",
              "<text class=\"displacy-token\" fill=\"currentColor\" text-anchor=\"middle\" y=\"309.5\">\n",
              "    <tspan class=\"displacy-word\" fill=\"currentColor\" x=\"750\">withdraw</tspan>\n",
              "    <tspan class=\"displacy-tag\" dy=\"2em\" fill=\"currentColor\" x=\"750\">VERB</tspan>\n",
              "</text>\n",
              "\n",
              "<text class=\"displacy-token\" fill=\"currentColor\" text-anchor=\"middle\" y=\"309.5\">\n",
              "    <tspan class=\"displacy-word\" fill=\"currentColor\" x=\"925\">5000</tspan>\n",
              "    <tspan class=\"displacy-tag\" dy=\"2em\" fill=\"currentColor\" x=\"925\">NUM</tspan>\n",
              "</text>\n",
              "\n",
              "<text class=\"displacy-token\" fill=\"currentColor\" text-anchor=\"middle\" y=\"309.5\">\n",
              "    <tspan class=\"displacy-word\" fill=\"currentColor\" x=\"1100\">euros ,</tspan>\n",
              "    <tspan class=\"displacy-tag\" dy=\"2em\" fill=\"currentColor\" x=\"1100\">NOUN</tspan>\n",
              "</text>\n",
              "\n",
              "<text class=\"displacy-token\" fill=\"currentColor\" text-anchor=\"middle\" y=\"309.5\">\n",
              "    <tspan class=\"displacy-word\" fill=\"currentColor\" x=\"1275\">please</tspan>\n",
              "    <tspan class=\"displacy-tag\" dy=\"2em\" fill=\"currentColor\" x=\"1275\">INTJ</tspan>\n",
              "</text>\n",
              "\n",
              "<g class=\"displacy-arrow\">\n",
              "    <path class=\"displacy-arc\" id=\"arrow-344c8092711b471789e5aac2a8123fe5-0-0\" stroke-width=\"2px\" d=\"M70,264.5 C70,177.0 215.0,177.0 215.0,264.5\" fill=\"none\" stroke=\"currentColor\"/>\n",
              "    <text dy=\"1.25em\" style=\"font-size: 0.8em; letter-spacing: 1px\">\n",
              "        <textPath xlink:href=\"#arrow-344c8092711b471789e5aac2a8123fe5-0-0\" class=\"displacy-label\" startOffset=\"50%\" side=\"left\" fill=\"currentColor\" text-anchor=\"middle\">nsubj</textPath>\n",
              "    </text>\n",
              "    <path class=\"displacy-arrowhead\" d=\"M70,266.5 L62,254.5 78,254.5\" fill=\"currentColor\"/>\n",
              "</g>\n",
              "\n",
              "<g class=\"displacy-arrow\">\n",
              "    <path class=\"displacy-arc\" id=\"arrow-344c8092711b471789e5aac2a8123fe5-0-1\" stroke-width=\"2px\" d=\"M245,264.5 C245,177.0 390.0,177.0 390.0,264.5\" fill=\"none\" stroke=\"currentColor\"/>\n",
              "    <text dy=\"1.25em\" style=\"font-size: 0.8em; letter-spacing: 1px\">\n",
              "        <textPath xlink:href=\"#arrow-344c8092711b471789e5aac2a8123fe5-0-1\" class=\"displacy-label\" startOffset=\"50%\" side=\"left\" fill=\"currentColor\" text-anchor=\"middle\">acomp</textPath>\n",
              "    </text>\n",
              "    <path class=\"displacy-arrowhead\" d=\"M390.0,266.5 L398.0,254.5 382.0,254.5\" fill=\"currentColor\"/>\n",
              "</g>\n",
              "\n",
              "<g class=\"displacy-arrow\">\n",
              "    <path class=\"displacy-arc\" id=\"arrow-344c8092711b471789e5aac2a8123fe5-0-2\" stroke-width=\"2px\" d=\"M595,264.5 C595,177.0 740.0,177.0 740.0,264.5\" fill=\"none\" stroke=\"currentColor\"/>\n",
              "    <text dy=\"1.25em\" style=\"font-size: 0.8em; letter-spacing: 1px\">\n",
              "        <textPath xlink:href=\"#arrow-344c8092711b471789e5aac2a8123fe5-0-2\" class=\"displacy-label\" startOffset=\"50%\" side=\"left\" fill=\"currentColor\" text-anchor=\"middle\">aux</textPath>\n",
              "    </text>\n",
              "    <path class=\"displacy-arrowhead\" d=\"M595,266.5 L587,254.5 603,254.5\" fill=\"currentColor\"/>\n",
              "</g>\n",
              "\n",
              "<g class=\"displacy-arrow\">\n",
              "    <path class=\"displacy-arc\" id=\"arrow-344c8092711b471789e5aac2a8123fe5-0-3\" stroke-width=\"2px\" d=\"M420,264.5 C420,89.5 745.0,89.5 745.0,264.5\" fill=\"none\" stroke=\"currentColor\"/>\n",
              "    <text dy=\"1.25em\" style=\"font-size: 0.8em; letter-spacing: 1px\">\n",
              "        <textPath xlink:href=\"#arrow-344c8092711b471789e5aac2a8123fe5-0-3\" class=\"displacy-label\" startOffset=\"50%\" side=\"left\" fill=\"currentColor\" text-anchor=\"middle\">xcomp</textPath>\n",
              "    </text>\n",
              "    <path class=\"displacy-arrowhead\" d=\"M745.0,266.5 L753.0,254.5 737.0,254.5\" fill=\"currentColor\"/>\n",
              "</g>\n",
              "\n",
              "<g class=\"displacy-arrow\">\n",
              "    <path class=\"displacy-arc\" id=\"arrow-344c8092711b471789e5aac2a8123fe5-0-4\" stroke-width=\"2px\" d=\"M945,264.5 C945,177.0 1090.0,177.0 1090.0,264.5\" fill=\"none\" stroke=\"currentColor\"/>\n",
              "    <text dy=\"1.25em\" style=\"font-size: 0.8em; letter-spacing: 1px\">\n",
              "        <textPath xlink:href=\"#arrow-344c8092711b471789e5aac2a8123fe5-0-4\" class=\"displacy-label\" startOffset=\"50%\" side=\"left\" fill=\"currentColor\" text-anchor=\"middle\">nummod</textPath>\n",
              "    </text>\n",
              "    <path class=\"displacy-arrowhead\" d=\"M945,266.5 L937,254.5 953,254.5\" fill=\"currentColor\"/>\n",
              "</g>\n",
              "\n",
              "<g class=\"displacy-arrow\">\n",
              "    <path class=\"displacy-arc\" id=\"arrow-344c8092711b471789e5aac2a8123fe5-0-5\" stroke-width=\"2px\" d=\"M770,264.5 C770,89.5 1095.0,89.5 1095.0,264.5\" fill=\"none\" stroke=\"currentColor\"/>\n",
              "    <text dy=\"1.25em\" style=\"font-size: 0.8em; letter-spacing: 1px\">\n",
              "        <textPath xlink:href=\"#arrow-344c8092711b471789e5aac2a8123fe5-0-5\" class=\"displacy-label\" startOffset=\"50%\" side=\"left\" fill=\"currentColor\" text-anchor=\"middle\">dobj</textPath>\n",
              "    </text>\n",
              "    <path class=\"displacy-arrowhead\" d=\"M1095.0,266.5 L1103.0,254.5 1087.0,254.5\" fill=\"currentColor\"/>\n",
              "</g>\n",
              "\n",
              "<g class=\"displacy-arrow\">\n",
              "    <path class=\"displacy-arc\" id=\"arrow-344c8092711b471789e5aac2a8123fe5-0-6\" stroke-width=\"2px\" d=\"M245,264.5 C245,2.0 1275.0,2.0 1275.0,264.5\" fill=\"none\" stroke=\"currentColor\"/>\n",
              "    <text dy=\"1.25em\" style=\"font-size: 0.8em; letter-spacing: 1px\">\n",
              "        <textPath xlink:href=\"#arrow-344c8092711b471789e5aac2a8123fe5-0-6\" class=\"displacy-label\" startOffset=\"50%\" side=\"left\" fill=\"currentColor\" text-anchor=\"middle\">intj</textPath>\n",
              "    </text>\n",
              "    <path class=\"displacy-arrowhead\" d=\"M1275.0,266.5 L1283.0,254.5 1267.0,254.5\" fill=\"currentColor\"/>\n",
              "</g>\n",
              "</svg>"
            ],
            "text/plain": [
              "<IPython.core.display.HTML object>"
            ]
          },
          "metadata": {
            "tags": []
          }
        }
      ]
    },
    {
      "cell_type": "code",
      "metadata": {
        "id": "igsbjJwQOzsP",
        "colab_type": "code",
        "outputId": "70b5ef9c-5205-416f-8a50-38db734f5bcf",
        "colab": {
          "base_uri": "https://localhost:8080/",
          "height": 34
        }
      },
      "source": [
        "doc[7].pos_"
      ],
      "execution_count": 7,
      "outputs": [
        {
          "output_type": "execute_result",
          "data": {
            "text/plain": [
              "'PUNCT'"
            ]
          },
          "metadata": {
            "tags": []
          },
          "execution_count": 7
        }
      ]
    },
    {
      "cell_type": "code",
      "metadata": {
        "ExecuteTime": {
          "end_time": "2019-11-11T11:45:55.767176Z",
          "start_time": "2019-11-11T11:45:55.760799Z"
        },
        "id": "FRXg7v7rjKcn",
        "colab_type": "code",
        "outputId": "32584d2a-b210-458c-e429-390a4cbcf68e",
        "colab": {
          "base_uri": "https://localhost:8080/",
          "height": 34
        }
      },
      "source": [
        "for sentence in doc.sents:\n",
        "  try: \n",
        "    #verb = [token for token in doc if token.pos_ == 'VERB'][-1]\n",
        "    for i in range(0,len(sentence)):\n",
        "      if sentence[i].pos_ == 'VERB':\n",
        "        sentence_subtree = []\n",
        "        #sentence_subtree.append(sentence[i])\n",
        "        for tok in sentence[i:]:\n",
        "          if tok.pos_ not in  ['PUNCT','INTJ']:\n",
        "            sentence_subtree.append(tok)\n",
        "  except IndexError:\n",
        "    next\n",
        "\n",
        "  if sentence_subtree:\n",
        "      print(sentence_subtree)\n",
        "  else:\n",
        "      print(\"----- No success in parsing. Original:\",sentence)\n"
      ],
      "execution_count": 8,
      "outputs": [
        {
          "output_type": "stream",
          "text": [
            "[withdraw, 5000, euros]\n"
          ],
          "name": "stdout"
        }
      ]
    },
    {
      "cell_type": "markdown",
      "metadata": {
        "id": "avnEx27qGqzi",
        "colab_type": "text"
      },
      "source": [
        "deposit, 5000, euros]\n",
        "[put, in, 5000, euros]\n",
        "[pay, in, 5000, euros]\n",
        "[pay, up, 5000EUR]\n",
        "[pay, in, 5000, euros]\n",
        "[deposit, money]\n",
        "[take, out, 5000, euros]\n",
        "----- No success in parsing. Original: I am about to get out 5000 euros.\n",
        "[withdraw, 5000, euros]\n",
        "[withdraw, 5000, USD]\n",
        "[withdraw, $, 5000]\n",
        "[check, my, account]\n",
        "[see, my, balance]\n",
        "[query, my, account]\n",
        "[see, my, account, balance]"
      ]
    },
    {
      "cell_type": "markdown",
      "metadata": {
        "id": "w8ytZyEPjKcq",
        "colab_type": "text"
      },
      "source": [
        "As we can see, even in this simple case, some noise remains, that is: with our method we can not achieve success by sentence 8. Please observe, and let's discuss, why!"
      ]
    },
    {
      "cell_type": "code",
      "metadata": {
        "ExecuteTime": {
          "end_time": "2019-11-11T11:45:55.786989Z",
          "start_time": "2019-11-11T11:45:55.769377Z"
        },
        "id": "dpoK2wE8jKcr",
        "colab_type": "code",
        "outputId": "6c7e9612-3576-4ca6-c4e2-d8eb0da277b0",
        "colab": {
          "base_uri": "https://localhost:8080/",
          "height": 54
        }
      },
      "source": [
        "from spacy import displacy\n",
        "\n",
        "doc=nlp(test_texts[7])\n",
        "\n",
        "displacy.render(doc, style=\"dep\")\n"
      ],
      "execution_count": 9,
      "outputs": [
        {
          "output_type": "execute_result",
          "data": {
            "text/plain": [
              "'<svg xmlns=\"http://www.w3.org/2000/svg\" xmlns:xlink=\"http://www.w3.org/1999/xlink\" xml:lang=\"en\" id=\"a3e7d3463ce243188f121fcb0532dde0-0\" class=\"displacy\" width=\"1450\" height=\"399.5\" direction=\"ltr\" style=\"max-width: none; height: 399.5px; color: #000000; background: #ffffff; font-family: Arial; direction: ltr\">\\n<text class=\"displacy-token\" fill=\"currentColor\" text-anchor=\"middle\" y=\"309.5\">\\n    <tspan class=\"displacy-word\" fill=\"currentColor\" x=\"50\">I</tspan>\\n    <tspan class=\"displacy-tag\" dy=\"2em\" fill=\"currentColor\" x=\"50\">PRON</tspan>\\n</text>\\n\\n<text class=\"displacy-token\" fill=\"currentColor\" text-anchor=\"middle\" y=\"309.5\">\\n    <tspan class=\"displacy-word\" fill=\"currentColor\" x=\"225\">am</tspan>\\n    <tspan class=\"displacy-tag\" dy=\"2em\" fill=\"currentColor\" x=\"225\">VERB</tspan>\\n</text>\\n\\n<text class=\"displacy-token\" fill=\"currentColor\" text-anchor=\"middle\" y=\"309.5\">\\n    <tspan class=\"displacy-word\" fill=\"currentColor\" x=\"400\">about</tspan>\\n    <tspan class=\"displacy-tag\" dy=\"2em\" fill=\"currentColor\" x=\"400\">ADJ</tspan>\\n</text>\\n\\n<text class=\"displacy-token\" fill=\"currentColor\" text-anchor=\"middle\" y=\"309.5\">\\n    <tspan class=\"displacy-word\" fill=\"currentColor\" x=\"575\">to</tspan>\\n    <tspan class=\"displacy-tag\" dy=\"2em\" fill=\"currentColor\" x=\"575\">PART</tspan>\\n</text>\\n\\n<text class=\"displacy-token\" fill=\"currentColor\" text-anchor=\"middle\" y=\"309.5\">\\n    <tspan class=\"displacy-word\" fill=\"currentColor\" x=\"750\">get</tspan>\\n    <tspan class=\"displacy-tag\" dy=\"2em\" fill=\"currentColor\" x=\"750\">VERB</tspan>\\n</text>\\n\\n<text class=\"displacy-token\" fill=\"currentColor\" text-anchor=\"middle\" y=\"309.5\">\\n    <tspan class=\"displacy-word\" fill=\"currentColor\" x=\"925\">out</tspan>\\n    <tspan class=\"displacy-tag\" dy=\"2em\" fill=\"currentColor\" x=\"925\">PART</tspan>\\n</text>\\n\\n<text class=\"displacy-token\" fill=\"currentColor\" text-anchor=\"middle\" y=\"309.5\">\\n    <tspan class=\"displacy-word\" fill=\"currentColor\" x=\"1100\">5000</tspan>\\n    <tspan class=\"displacy-tag\" dy=\"2em\" fill=\"currentColor\" x=\"1100\">NUM</tspan>\\n</text>\\n\\n<text class=\"displacy-token\" fill=\"currentColor\" text-anchor=\"middle\" y=\"309.5\">\\n    <tspan class=\"displacy-word\" fill=\"currentColor\" x=\"1275\">euros.</tspan>\\n    <tspan class=\"displacy-tag\" dy=\"2em\" fill=\"currentColor\" x=\"1275\">NOUN</tspan>\\n</text>\\n\\n<g class=\"displacy-arrow\">\\n    <path class=\"displacy-arc\" id=\"arrow-a3e7d3463ce243188f121fcb0532dde0-0-0\" stroke-width=\"2px\" d=\"M70,264.5 C70,177.0 215.0,177.0 215.0,264.5\" fill=\"none\" stroke=\"currentColor\"/>\\n    <text dy=\"1.25em\" style=\"font-size: 0.8em; letter-spacing: 1px\">\\n        <textPath xlink:href=\"#arrow-a3e7d3463ce243188f121fcb0532dde0-0-0\" class=\"displacy-label\" startOffset=\"50%\" side=\"left\" fill=\"currentColor\" text-anchor=\"middle\">nsubj</textPath>\\n    </text>\\n    <path class=\"displacy-arrowhead\" d=\"M70,266.5 L62,254.5 78,254.5\" fill=\"currentColor\"/>\\n</g>\\n\\n<g class=\"displacy-arrow\">\\n    <path class=\"displacy-arc\" id=\"arrow-a3e7d3463ce243188f121fcb0532dde0-0-1\" stroke-width=\"2px\" d=\"M245,264.5 C245,177.0 390.0,177.0 390.0,264.5\" fill=\"none\" stroke=\"currentColor\"/>\\n    <text dy=\"1.25em\" style=\"font-size: 0.8em; letter-spacing: 1px\">\\n        <textPath xlink:href=\"#arrow-a3e7d3463ce243188f121fcb0532dde0-0-1\" class=\"displacy-label\" startOffset=\"50%\" side=\"left\" fill=\"currentColor\" text-anchor=\"middle\">acomp</textPath>\\n    </text>\\n    <path class=\"displacy-arrowhead\" d=\"M390.0,266.5 L398.0,254.5 382.0,254.5\" fill=\"currentColor\"/>\\n</g>\\n\\n<g class=\"displacy-arrow\">\\n    <path class=\"displacy-arc\" id=\"arrow-a3e7d3463ce243188f121fcb0532dde0-0-2\" stroke-width=\"2px\" d=\"M595,264.5 C595,177.0 740.0,177.0 740.0,264.5\" fill=\"none\" stroke=\"currentColor\"/>\\n    <text dy=\"1.25em\" style=\"font-size: 0.8em; letter-spacing: 1px\">\\n        <textPath xlink:href=\"#arrow-a3e7d3463ce243188f121fcb0532dde0-0-2\" class=\"displacy-label\" startOffset=\"50%\" side=\"left\" fill=\"currentColor\" text-anchor=\"middle\">aux</textPath>\\n    </text>\\n    <path class=\"displacy-arrowhead\" d=\"M595,266.5 L587,254.5 603,254.5\" fill=\"currentColor\"/>\\n</g>\\n\\n<g class=\"displacy-arrow\">\\n    <path class=\"displacy-arc\" id=\"arrow-a3e7d3463ce243188f121fcb0532dde0-0-3\" stroke-width=\"2px\" d=\"M420,264.5 C420,89.5 745.0,89.5 745.0,264.5\" fill=\"none\" stroke=\"currentColor\"/>\\n    <text dy=\"1.25em\" style=\"font-size: 0.8em; letter-spacing: 1px\">\\n        <textPath xlink:href=\"#arrow-a3e7d3463ce243188f121fcb0532dde0-0-3\" class=\"displacy-label\" startOffset=\"50%\" side=\"left\" fill=\"currentColor\" text-anchor=\"middle\">xcomp</textPath>\\n    </text>\\n    <path class=\"displacy-arrowhead\" d=\"M745.0,266.5 L753.0,254.5 737.0,254.5\" fill=\"currentColor\"/>\\n</g>\\n\\n<g class=\"displacy-arrow\">\\n    <path class=\"displacy-arc\" id=\"arrow-a3e7d3463ce243188f121fcb0532dde0-0-4\" stroke-width=\"2px\" d=\"M770,264.5 C770,177.0 915.0,177.0 915.0,264.5\" fill=\"none\" stroke=\"currentColor\"/>\\n    <text dy=\"1.25em\" style=\"font-size: 0.8em; letter-spacing: 1px\">\\n        <textPath xlink:href=\"#arrow-a3e7d3463ce243188f121fcb0532dde0-0-4\" class=\"displacy-label\" startOffset=\"50%\" side=\"left\" fill=\"currentColor\" text-anchor=\"middle\">prt</textPath>\\n    </text>\\n    <path class=\"displacy-arrowhead\" d=\"M915.0,266.5 L923.0,254.5 907.0,254.5\" fill=\"currentColor\"/>\\n</g>\\n\\n<g class=\"displacy-arrow\">\\n    <path class=\"displacy-arc\" id=\"arrow-a3e7d3463ce243188f121fcb0532dde0-0-5\" stroke-width=\"2px\" d=\"M1120,264.5 C1120,177.0 1265.0,177.0 1265.0,264.5\" fill=\"none\" stroke=\"currentColor\"/>\\n    <text dy=\"1.25em\" style=\"font-size: 0.8em; letter-spacing: 1px\">\\n        <textPath xlink:href=\"#arrow-a3e7d3463ce243188f121fcb0532dde0-0-5\" class=\"displacy-label\" startOffset=\"50%\" side=\"left\" fill=\"currentColor\" text-anchor=\"middle\">nummod</textPath>\\n    </text>\\n    <path class=\"displacy-arrowhead\" d=\"M1120,266.5 L1112,254.5 1128,254.5\" fill=\"currentColor\"/>\\n</g>\\n\\n<g class=\"displacy-arrow\">\\n    <path class=\"displacy-arc\" id=\"arrow-a3e7d3463ce243188f121fcb0532dde0-0-6\" stroke-width=\"2px\" d=\"M770,264.5 C770,2.0 1275.0,2.0 1275.0,264.5\" fill=\"none\" stroke=\"currentColor\"/>\\n    <text dy=\"1.25em\" style=\"font-size: 0.8em; letter-spacing: 1px\">\\n        <textPath xlink:href=\"#arrow-a3e7d3463ce243188f121fcb0532dde0-0-6\" class=\"displacy-label\" startOffset=\"50%\" side=\"left\" fill=\"currentColor\" text-anchor=\"middle\">dobj</textPath>\\n    </text>\\n    <path class=\"displacy-arrowhead\" d=\"M1275.0,266.5 L1283.0,254.5 1267.0,254.5\" fill=\"currentColor\"/>\\n</g>\\n</svg>'"
            ]
          },
          "metadata": {
            "tags": []
          },
          "execution_count": 9
        }
      ]
    },
    {
      "cell_type": "markdown",
      "metadata": {
        "id": "wM2Sbg1MjKct",
        "colab_type": "text"
      },
      "source": [
        "It is worth noting, that some addon libraries, like [Textacy](https://spacy.io/universe/project/textacy) have built in functions that can come in handy in these topics.\n",
        "\n",
        "Like:\n",
        "\n",
        "`textacy.spacier.utils.get_main_verbs_of_sent(sent)`\n",
        "Return the main (non-auxiliary) verbs in a sentence.\n",
        "\n",
        "`textacy.spacier.utils.get_subjects_of_verb(verb)`\n",
        "Return all subjects of a verb according to the dependency parse.\n",
        "\n",
        "`textacy.spacier.utils.get_objects_of_verb(verb)`\n",
        "Return all objects of a verb according to the dependency parse, including open clausal complements.\n",
        "\n",
        "`textacy.spacier.utils.get_span_for_compound_noun(noun)`\n",
        "Return document indexes spanning all (adjacent) tokens in a compound noun.\n",
        "\n",
        "`textacy.spacier.utils.get_span_for_verb_auxiliaries(verb)`\n",
        "Return document indexes spanning all (adjacent) tokens around a verb that are auxiliary verbs or negations.\n",
        "\n",
        "None the less, if we want to carry out some definite actions for these sentences, we have to try another route."
      ]
    },
    {
      "cell_type": "markdown",
      "metadata": {
        "id": "cIRnJj0QjKcu",
        "colab_type": "text"
      },
      "source": [
        "## Second try: detecting \"intents\" and \"entities\" with the help of WordNet\n",
        "\n",
        "In processing chat utterances, the two common tasks are to:\n",
        "\n",
        "1. Detect the overall intent of the given utterance\n",
        "2. Extract some key parameters needed for action.\n",
        "\n",
        "The first is called **\"intent detection\"** the second **\"entity extraction\"**.\n",
        "\n",
        "More on this can be found in the Theory section on chatbots, discussed later.\n",
        "\n",
        "Though the standard practice for the first step is to build up a sentence classifier, and the second is done usually with some token level classifier / matching, now we will utilize the same rule based matching mechanism of SpaCy that we did before, albeit with a twist.\n",
        "\n",
        "One of the main problems, as we saw before is the **variety of utterances**, that is, people tend to formulate the same intent in myriad ways. We will intend to mitigate this by **increasing coverage with WorNet synonyms**.\n",
        "\n",
        "For this we need a connection between our analysis pipeline and WordNet. Luckily, we have it as an extension.\n"
      ]
    },
    {
      "cell_type": "markdown",
      "metadata": {
        "id": "wW-xO-IijKcu",
        "colab_type": "text"
      },
      "source": [
        "### Install extension and register it to the pipeline"
      ]
    },
    {
      "cell_type": "code",
      "metadata": {
        "ExecuteTime": {
          "end_time": "2019-11-11T11:45:56.816094Z",
          "start_time": "2019-11-11T11:45:55.788687Z"
        },
        "id": "hFuS6XpojKcv",
        "colab_type": "code",
        "outputId": "25d403ad-c187-4767-8704-f0578d86e2ad",
        "colab": {
          "base_uri": "https://localhost:8080/",
          "height": 156
        }
      },
      "source": [
        "!pip install spacy-wordnet\n",
        "!python -m nltk.downloader wordnet"
      ],
      "execution_count": 10,
      "outputs": [
        {
          "output_type": "stream",
          "text": [
            "Requirement already satisfied: spacy-wordnet in /usr/local/lib/python3.6/dist-packages (0.0.4)\n",
            "Requirement already satisfied: nltk<3.4,>=3.3 in /usr/local/lib/python3.6/dist-packages (from spacy-wordnet) (3.3)\n",
            "Requirement already satisfied: six in /usr/local/lib/python3.6/dist-packages (from nltk<3.4,>=3.3->spacy-wordnet) (1.12.0)\n",
            "/usr/lib/python3.6/runpy.py:125: RuntimeWarning: 'nltk.downloader' found in sys.modules after import of package 'nltk', but prior to execution of 'nltk.downloader'; this may result in unpredictable behaviour\n",
            "  warn(RuntimeWarning(msg))\n",
            "[nltk_data] Downloading package wordnet to /root/nltk_data...\n",
            "[nltk_data]   Package wordnet is already up-to-date!\n"
          ],
          "name": "stdout"
        }
      ]
    },
    {
      "cell_type": "code",
      "metadata": {
        "ExecuteTime": {
          "end_time": "2019-11-11T11:45:57.312343Z",
          "start_time": "2019-11-11T11:45:56.822682Z"
        },
        "id": "31xoNQRNjKcy",
        "colab_type": "code",
        "colab": {}
      },
      "source": [
        "from spacy_wordnet.wordnet_annotator import WordnetAnnotator \n",
        "#import nltk\n",
        "#nltk.download('wordnet')\n",
        "nlp.add_pipe(WordnetAnnotator(nlp.lang), after='tagger') #Register to the pipeline"
      ],
      "execution_count": 0,
      "outputs": []
    },
    {
      "cell_type": "markdown",
      "metadata": {
        "id": "bZgFwz_JjKc0",
        "colab_type": "text"
      },
      "source": [
        "### Setting up a custom detector for intents\n",
        "\n",
        "As said, we will hijack the entity detector capability of SpaCy to classify intents.\n",
        "\n",
        "For this, we need to define custom rules with `EntityRuler`, and some patterns that match our intents.\n",
        "\n",
        "We have all in all 3 intents in mind:\n",
        "\n",
        "`INTENTS = [\"TAKEOUT_INTENT\",\"PAYIN_INTENT\",\"BALANCE_INTENT\"]`\n",
        "\n",
        "First define patterns **one for each**, register it, try to run the pipeline, and see the result.\n",
        "\n",
        "After it, you will have to **get back to this cell and iteratively refine the pattern** based on the results of WordNet enrichment below.\n",
        "\n",
        "First make it run through, then refine!\n",
        "All in all 7 patterns are enough in total to detect the three intents in all their forms seen here with the help of WordNet synsets.\n",
        "\n",
        "#### Set up EntityRuler"
      ]
    },
    {
      "cell_type": "code",
      "metadata": {
        "ExecuteTime": {
          "end_time": "2019-11-11T11:45:58.608620Z",
          "start_time": "2019-11-11T11:45:57.315205Z"
        },
        "id": "uQxxRyvljKc1",
        "colab_type": "code",
        "colab": {}
      },
      "source": [
        "# Construction from class\n",
        "from spacy.pipeline import EntityRuler\n",
        "ruler = EntityRuler(nlp, overwrite_ents=True)\n",
        "\n",
        "INTENTS = [\"TAKEOUT_INTENT\",\"PAYIN_INTENT\",\"BALANCE_INTENT\"]\n",
        "\n",
        "ruler = EntityRuler(nlp)\n",
        "\n",
        "patterns = [{\"label\": \"PAYIN_INTENT\", \"pattern\": \"deposit\"},\n",
        "            {\"label\": \"TAKEOUT_INTENT\", \"pattern\": \"withdraw\"},\n",
        "            {\"label\": \"TAKEOUT_INTENT\", \"pattern\":  \"out\"},\n",
        "            {\"label\": \"PAYIN_INTENT\", \"pattern\":  \"in\"},\n",
        "            {\"label\": \"PAYIN_INTENT\", \"pattern\":  \"up\"},\n",
        "            {\"label\": \"BALANCE_INTENT\", \"pattern\": \"check\"},\n",
        "            {\"label\": \"BALANCE_INTENT\", \"pattern\":  \"my\"}\n",
        "            ]\n",
        "\n",
        "# Add the patterns to the ruler\n",
        "ruler.add_patterns(patterns)\n",
        "\n",
        "# Add the ruler to the pipeline\n",
        "nlp.add_pipe(ruler)"
      ],
      "execution_count": 0,
      "outputs": []
    },
    {
      "cell_type": "markdown",
      "metadata": {
        "id": "34nWoyzujKc3",
        "colab_type": "text"
      },
      "source": [
        "#### Define a `detect_intent` function\n",
        "\n",
        "The function takes in as an input an analysed sentence (`Doc`), a list on intents (eg. `INTENTS`), ad gives back the found intent or `None`."
      ]
    },
    {
      "cell_type": "code",
      "metadata": {
        "ExecuteTime": {
          "end_time": "2019-11-11T11:45:58.613673Z",
          "start_time": "2019-11-11T11:45:58.610722Z"
        },
        "id": "UiU1PWF9jKc3",
        "colab_type": "code",
        "colab": {}
      },
      "source": [
        "def detect_intent(analysed_sentence, intents):\n",
        "    # In this case, we do not do proper intent detection,\n",
        "    # which would be a whole sentence classification task, based on it's semantics,\n",
        "    # but we do an intelligent entity matching based on our rules,\n",
        "    # where we treat intents as special entities.\n",
        "\n",
        "    \n",
        "    found= [(ent.text, ent.label_) for ent in analysed_sentence.ents if ent.label_ in intents]\n",
        "    \n",
        "    \n",
        "    return found"
      ],
      "execution_count": 0,
      "outputs": []
    },
    {
      "cell_type": "code",
      "metadata": {
        "id": "FV0ydhiNa7TM",
        "colab_type": "code",
        "outputId": "48ca04ad-8df8-4e96-9ca2-253195946653",
        "colab": {
          "base_uri": "https://localhost:8080/",
          "height": 34
        }
      },
      "source": [
        "doc = nlp(\"I am about to withdraw 5000 euros , please\")\n",
        "detect_intent(doc,INTENTS)"
      ],
      "execution_count": 14,
      "outputs": [
        {
          "output_type": "execute_result",
          "data": {
            "text/plain": [
              "[('withdraw', 'TAKEOUT_INTENT')]"
            ]
          },
          "metadata": {
            "tags": []
          },
          "execution_count": 14
        }
      ]
    },
    {
      "cell_type": "markdown",
      "metadata": {
        "id": "Z-MoqaOcjKc5",
        "colab_type": "text"
      },
      "source": [
        "### Setitng up a function for detecting \"real\" entities\n",
        "\n",
        "In SpaCy's world, monetary units and numbers are considered to be entities by default, thus the built in Named Entity Recognizer (`ner` in the pipeline) detects and tags those.\n",
        "\n",
        "In our case we are only interested in the monetary entities. **Please bear in mind that MULTIPLE categories can mean money, so some times normal numbers, sometimes formal money, etc. Use multiple numeric categories for detection!**\n",
        "\n",
        "More on this [here](https://spacy.io/usage/linguistic-features/#named-entities) and [here](https://spacy.io/api/annotation#named-entities)."
      ]
    },
    {
      "cell_type": "code",
      "metadata": {
        "ExecuteTime": {
          "end_time": "2019-11-11T11:45:58.622131Z",
          "start_time": "2019-11-11T11:45:58.614805Z"
        },
        "id": "JSfOHTEmjKc6",
        "colab_type": "code",
        "colab": {}
      },
      "source": [
        "MONEY = [\"MONEY\", \"CARDINAL\", \"QUANTITY\"]\n",
        "\n",
        "def detect_money(analysed_sentence, money):\n",
        "    \n",
        "    #found_money = [(ent.text, ent.label_) for ent in analysed_sentence.ents if ent.label_ in MONEY]\n",
        "    only_numbers = [(ent.text) for ent in analysed_sentence.ents if ent.label_ in MONEY]\n",
        "    if only_numbers:\n",
        "      only_numbers = only_numbers[0]\n",
        "    \n",
        "        \n",
        "    # Please return only the numbers from the money!!!\n",
        "    \n",
        "    return only_numbers "
      ],
      "execution_count": 0,
      "outputs": []
    },
    {
      "cell_type": "code",
      "metadata": {
        "id": "iiqOSEFudF3w",
        "colab_type": "code",
        "outputId": "e22188a6-d6f5-4a10-979a-ea1db90ec1b8",
        "colab": {
          "base_uri": "https://localhost:8080/",
          "height": 34
        }
      },
      "source": [
        "doc = nlp(\"I am about to withdraw 5000 euros , please\")\n",
        "detect_money(doc,INTENTS)"
      ],
      "execution_count": 31,
      "outputs": [
        {
          "output_type": "execute_result",
          "data": {
            "text/plain": [
              "'5000'"
            ]
          },
          "metadata": {
            "tags": []
          },
          "execution_count": 31
        }
      ]
    },
    {
      "cell_type": "markdown",
      "metadata": {
        "id": "qDkbb4NBjKc9",
        "colab_type": "text"
      },
      "source": [
        "### Enriching intent detection with WordNet\n",
        "\n",
        "As we well saw, if we don't want to manually set up the patterns that match all test cases - which is unsustainable for a much bigger corpus than this - we need some semantic help.\n",
        "\n",
        "Let's define a super crude `enrich_sentence` function, that generates sentence variants from the input. It takes in an analysed sentence (`doc`), a set of domains (in our case eg. `ECONOMY_DOMAINS`), and **for each token in the sentence searches for the sysnonyms inside our domains, then replaces the token with it's synonym, and appends the new sentence to a list.**\n",
        "\n",
        "**Finally we expect to get back a set of sentence variants as texts in a list.**"
      ]
    },
    {
      "cell_type": "code",
      "metadata": {
        "id": "MI9ww0dOyZ88",
        "colab_type": "code",
        "colab": {}
      },
      "source": [
        "sentence = nlp('I want to withdraw 5,000 euros')\n",
        "for j, word in enumerate(sentence[7:]):\n",
        "      print(word,j)"
      ],
      "execution_count": 0,
      "outputs": []
    },
    {
      "cell_type": "code",
      "metadata": {
        "ExecuteTime": {
          "end_time": "2019-11-11T11:45:58.626815Z",
          "start_time": "2019-11-11T11:45:58.623370Z"
        },
        "id": "rkvhLLQSjKc-",
        "colab_type": "code",
        "colab": {}
      },
      "source": [
        "ECONOMY_DOMAINS = ['finance', 'banking']\n",
        "\n",
        "def append_new_sen(sen,enriched_sentences,analysed_sentence,i,domains):\n",
        "  for word in analysed_sentence[i:]:\n",
        "      i += 1\n",
        "      print(word,i)\n",
        "      synsets = word._.wordnet.wordnet_synsets_for_domain(domains) \n",
        "      if synsets:\n",
        "        for s in synsets:\n",
        "          for lem in s.lemma_names():\n",
        "            sen[i-1] = lem\n",
        "            enriched_sentences.append(sen)\n",
        "            print('---',i,lem,sen)\n",
        "            \n",
        "   \n",
        "          for sen in enriched_sentences:\n",
        "            print(len(enriched_sentences),sen,enriched_sentences)\n",
        "            append_new_sen(sen,enriched_sentences,analysed_sentence,i,domains)\n",
        "  return analysed_sentence\n",
        "\n",
        "\n",
        "def enrich_sentence(analysed_sentence, domains):\n",
        "\n",
        "    enriched_sentences_=[]\n",
        "\n",
        "    sen = [tok.text for tok in analysed_sentence]\n",
        "    sen_n = len(sen)\n",
        "    synsets = [word._.wordnet.wordnet_synsets_for_domain(domains) for word in sentence]\n",
        "    synonym_l = [w[0].lemma_names() for w in synsets if w]\n",
        "    for syns in synonym_l:\n",
        "      syn_w = [s for s in syns if s in sen][0]\n",
        "      #print(syn_w,syns)\n",
        "      for syn in syns:\n",
        "        for i in range(len(sen)):\n",
        "          if sen[i] == syn_w:\n",
        "            sen_ = sen.copy()\n",
        "            sen_[i] = syn\n",
        "            enriched_sentences_.extend(sen_)\n",
        "      sen = [tok for tok in enriched_sentences_]\n",
        "      #print('--',sen)\n",
        "\n",
        "    enriched_sentences=[]\n",
        "\n",
        "    for i in range(0, len(enriched_sentences_), sen_n):\n",
        "      if enriched_sentences_[i:i + sen_n] not in enriched_sentences:\n",
        "        enriched_sentences.append(enriched_sentences_[i:i + sen_n])\n",
        "      #print(enriched_sentences[i:i + 6])\n",
        "      #print(syn in sen)\n",
        "    #lem in s.lemma_names()\n",
        "    enriched_sentences\n",
        "\n",
        "    if len(enriched_sentences)==0:\n",
        "      enriched_sentences.append(sen)\n",
        "    return enriched_sentences\n",
        "\n",
        "    \n",
        "    #Please bear in mind that WordNet lemmas can be of multiple words, thus containing a \"_\" which we don't need.\n",
        "    \n"
      ],
      "execution_count": 0,
      "outputs": []
    },
    {
      "cell_type": "code",
      "metadata": {
        "id": "UgSjyucehjBw",
        "colab_type": "code",
        "outputId": "542e46b7-50c5-4326-cb74-37706c8baa08",
        "colab": {
          "base_uri": "https://localhost:8080/",
          "height": 221
        }
      },
      "source": [
        "sentence = nlp('I want to withdraw 5,000 euros')\n",
        "enrich_sentence(sentence,ECONOMY_DOMAINS)\n"
      ],
      "execution_count": 19,
      "outputs": [
        {
          "output_type": "execute_result",
          "data": {
            "text/plain": [
              "[['I', 'want', 'to', 'withdraw', '5,000', 'euros'],\n",
              " ['I', 'need', 'to', 'withdraw', '5,000', 'euros'],\n",
              " ['I', 'require', 'to', 'withdraw', '5,000', 'euros'],\n",
              " ['I', 'want', 'to', 'draw', '5,000', 'euros'],\n",
              " ['I', 'need', 'to', 'draw', '5,000', 'euros'],\n",
              " ['I', 'require', 'to', 'draw', '5,000', 'euros'],\n",
              " ['I', 'want', 'to', 'take_out', '5,000', 'euros'],\n",
              " ['I', 'need', 'to', 'take_out', '5,000', 'euros'],\n",
              " ['I', 'require', 'to', 'take_out', '5,000', 'euros'],\n",
              " ['I', 'want', 'to', 'draw_off', '5,000', 'euros'],\n",
              " ['I', 'need', 'to', 'draw_off', '5,000', 'euros'],\n",
              " ['I', 'require', 'to', 'draw_off', '5,000', 'euros']]"
            ]
          },
          "metadata": {
            "tags": []
          },
          "execution_count": 19
        }
      ]
    },
    {
      "cell_type": "markdown",
      "metadata": {
        "id": "-PaFQY5vjKc_",
        "colab_type": "text"
      },
      "source": [
        "#### Full search for intents\n",
        "\n",
        "Based on the `detect_intent` and `enrich_sentence` functions we set up the full logic that searches for intents.\n",
        "\n",
        "The function has to accept an analysed sentence (`Doc`), the list of intents and the list of domains as above, and then **try to find the intent in the default sentence. If not found, try to enrich the sentence, then search in the enriched ones. Return an intent if found.**"
      ]
    },
    {
      "cell_type": "code",
      "metadata": {
        "ExecuteTime": {
          "end_time": "2019-11-11T11:45:58.632646Z",
          "start_time": "2019-11-11T11:45:58.628020Z"
        },
        "id": "Nsm_3J_BjKdA",
        "colab_type": "code",
        "colab": {}
      },
      "source": [
        "def search_for_intents(analysed_sentence, intents, domains):\n",
        "    found_intent = []\n",
        "    found_intent = [(ent.text, ent.label_) for ent in analysed_sentence.ents if ent.label_ in intents]\n",
        "    if len(found_intent)<1:\n",
        "      enrich = enrich_sentence(analysed_sentence, domains)\n",
        "      for sen in enrich:\n",
        "        docs = nlp(' '.join(s for s in sen))\n",
        "        found_intent = [(ent.text, ent.label_) for ent in docs.ents if ent.label_ in intents]\n",
        "        if len(found_intent)>0:\n",
        "          break\n",
        "    \n",
        "    return found_intent[0][1]"
      ],
      "execution_count": 0,
      "outputs": []
    },
    {
      "cell_type": "markdown",
      "metadata": {
        "id": "XdsqOJjRjKdC",
        "colab_type": "text"
      },
      "source": [
        "#### Let's try this out!"
      ]
    },
    {
      "cell_type": "code",
      "metadata": {
        "ExecuteTime": {
          "end_time": "2019-11-11T11:45:58.694647Z",
          "start_time": "2019-11-11T11:45:58.634052Z"
        },
        "id": "jUm41nLkjKdC",
        "colab_type": "code",
        "colab": {
          "base_uri": "https://localhost:8080/",
          "height": 34
        },
        "outputId": "5f728d85-8571-4bc3-b8aa-6f652150d45f"
      },
      "source": [
        "sentence = nlp(\"I would like to take_out 5000 euros.\")\n",
        "\n",
        "found_intent = search_for_intents(sentence,INTENTS,ECONOMY_DOMAINS)\n",
        "\n",
        "print(found_intent)"
      ],
      "execution_count": 21,
      "outputs": [
        {
          "output_type": "stream",
          "text": [
            "TAKEOUT_INTENT\n"
          ],
          "name": "stdout"
        }
      ]
    },
    {
      "cell_type": "markdown",
      "metadata": {
        "id": "FxcIKvh4jKdG",
        "colab_type": "text"
      },
      "source": [
        "## Finally: parse the full query\n",
        "\n",
        "Refine the original patterns and all the functions until the tests pass at the end of the notebook. Use **the least amount of handmade patterns possible!**"
      ]
    },
    {
      "cell_type": "code",
      "metadata": {
        "ExecuteTime": {
          "end_time": "2019-11-11T11:45:58.700317Z",
          "start_time": "2019-11-11T11:45:58.696151Z"
        },
        "id": "sLONnTajjKdG",
        "colab_type": "code",
        "colab": {}
      },
      "source": [
        "def parse_query(query, intents, domains, money):\n",
        "    \n",
        "    analysed_sentence = nlp(query)\n",
        "    found_intent = search_for_intents(analysed_sentence,intents, domains)\n",
        "    print(found_intent)\n",
        "    if found_intent == intents[0] or found_intent == intents[1]:\n",
        "        amount = detect_money(analysed_sentence,money)\n",
        "        if amount:\n",
        "            print(\"Executing\",found_intent,\"with\",amount)\n",
        "            return (found_intent, amount)\n",
        "        else:\n",
        "            print(\"No amount was given, please add one!\")\n",
        "            return (found_intent, None)\n",
        "    elif found_intent == intents[-1]:\n",
        "        print(\"Getting you your account balance, one moment...\")\n",
        "        return (found_intent, None)\n",
        "    else:\n",
        "        print(\"Can't parse what you are asking for, sorry!\")\n",
        "        return (None, None)"
      ],
      "execution_count": 0,
      "outputs": []
    },
    {
      "cell_type": "code",
      "metadata": {
        "ExecuteTime": {
          "end_time": "2019-11-11T11:45:58.757534Z",
          "start_time": "2019-11-11T11:45:58.701701Z"
        },
        "id": "fmw7QSAPjKdI",
        "colab_type": "code",
        "colab": {
          "base_uri": "https://localhost:8080/",
          "height": 68
        },
        "outputId": "afac1441-64ca-48d2-bbb1-dd8c3bc50612"
      },
      "source": [
        "parse_query(\"I would like to withdraw 5000.\",INTENTS, ECONOMY_DOMAINS, MONEY)"
      ],
      "execution_count": 33,
      "outputs": [
        {
          "output_type": "stream",
          "text": [
            "TAKEOUT_INTENT\n",
            "Executing TAKEOUT_INTENT with 5000\n"
          ],
          "name": "stdout"
        },
        {
          "output_type": "execute_result",
          "data": {
            "text/plain": [
              "('TAKEOUT_INTENT', '5000')"
            ]
          },
          "metadata": {
            "tags": []
          },
          "execution_count": 33
        }
      ]
    },
    {
      "cell_type": "code",
      "metadata": {
        "ExecuteTime": {
          "end_time": "2019-11-11T11:45:58.763117Z",
          "start_time": "2019-11-11T11:45:58.758974Z"
        },
        "id": "MexZ2jE_jKdO",
        "colab_type": "code",
        "colab": {}
      },
      "source": [
        "tests = [\n",
        "    (\"I would like to deposit 5000 euros.\",(\"PAYIN_INTENT\",\"5000\")),\n",
        "    (\"I would like to put in 5000 euros.\",(\"PAYIN_INTENT\",\"5000\")),\n",
        "    (\"I would like to pay in 5000 euros.\",(\"PAYIN_INTENT\",\"5000\")),\n",
        "    (\"I would like to pay up 5000 EUR.\",(\"PAYIN_INTENT\",\"5000\")),\n",
        "    (\"Can I pay in 5000 euros, please?\",(\"PAYIN_INTENT\",\"5000\")),\n",
        "    \n",
        "    \n",
        "    (\"I would like to deposit money.\",(\"PAYIN_INTENT\",None)),\n",
        "    \n",
        "\n",
        "    (\"I am about to take out 5000 euros.\",(\"TAKEOUT_INTENT\",\"5000\")),\n",
        "    (\"I am about to get out 5000 euros.\",(\"TAKEOUT_INTENT\",\"5000\")),\n",
        "    (\"I am about to withdraw 5000 euros.\",(\"TAKEOUT_INTENT\",\"5000\")),\n",
        "    (\"I want to withdraw 5000 USD.\",(\"TAKEOUT_INTENT\",\"5000\")),\n",
        "    (\"Can I withdraw $5000.\",(\"TAKEOUT_INTENT\",\"5000\")),\n",
        "\n",
        "    \n",
        "    (\"Can I check my account, please?\",(\"BALANCE_INTENT\",None)),\n",
        "    (\"May I see my balance, please?\",(\"BALANCE_INTENT\",None)),\n",
        "    (\"Could I query my account, please?\",(\"BALANCE_INTENT\",None)),\n",
        "    (\"I would like to see my account balance.\",(\"BALANCE_INTENT\",None)),\n",
        "\n",
        "]"
      ],
      "execution_count": 0,
      "outputs": []
    },
    {
      "cell_type": "code",
      "metadata": {
        "ExecuteTime": {
          "end_time": "2019-11-11T11:45:59.303171Z",
          "start_time": "2019-11-11T11:45:58.764596Z"
        },
        "id": "nx0OLuzUjKdQ",
        "colab_type": "code",
        "colab": {
          "base_uri": "https://localhost:8080/",
          "height": 527
        },
        "outputId": "635e2a05-3bfb-43c7-8188-0b3065a4d44c"
      },
      "source": [
        "for test in tests:\n",
        "    try:\n",
        "        assert parse_query(test[0],INTENTS, ECONOMY_DOMAINS, MONEY) == test[1]\n",
        "    except:\n",
        "        print(test[0])\n",
        "        print(\"---ERROR: \",parse_query(test[0],INTENTS, ECONOMY_DOMAINS, MONEY),test[1])\n",
        "        raise"
      ],
      "execution_count": 38,
      "outputs": [
        {
          "output_type": "stream",
          "text": [
            "PAYIN_INTENT\n",
            "Executing PAYIN_INTENT with 5000\n",
            "PAYIN_INTENT\n",
            "Executing PAYIN_INTENT with 5000\n",
            "PAYIN_INTENT\n",
            "Executing PAYIN_INTENT with 5000\n",
            "PAYIN_INTENT\n",
            "Executing PAYIN_INTENT with 5000\n",
            "PAYIN_INTENT\n",
            "Executing PAYIN_INTENT with 5000\n",
            "PAYIN_INTENT\n",
            "No amount was given, please add one!\n",
            "TAKEOUT_INTENT\n",
            "Executing TAKEOUT_INTENT with 5000\n",
            "TAKEOUT_INTENT\n",
            "Executing TAKEOUT_INTENT with 5000\n",
            "TAKEOUT_INTENT\n",
            "Executing TAKEOUT_INTENT with 5000\n",
            "TAKEOUT_INTENT\n",
            "Executing TAKEOUT_INTENT with 5000\n",
            "TAKEOUT_INTENT\n",
            "Executing TAKEOUT_INTENT with 5000\n",
            "BALANCE_INTENT\n",
            "Getting you your account balance, one moment...\n",
            "BALANCE_INTENT\n",
            "Getting you your account balance, one moment...\n",
            "BALANCE_INTENT\n",
            "Getting you your account balance, one moment...\n",
            "BALANCE_INTENT\n",
            "Getting you your account balance, one moment...\n"
          ],
          "name": "stdout"
        }
      ]
    },
    {
      "cell_type": "markdown",
      "metadata": {
        "id": "D11t9J7gjKdS",
        "colab_type": "text"
      },
      "source": [
        "A more elaborate and very nice example on the power of rule based matching and it's combination with machine learning models can be found [here](https://github.com/pmbaumgartner/binder-notebooks/blob/master/rule-based-matching-with-spacy-matcher.ipynb)"
      ]
    },
    {
      "cell_type": "code",
      "metadata": {
        "id": "m2vTB9OrEfna",
        "colab_type": "code",
        "colab": {}
      },
      "source": [
        ""
      ],
      "execution_count": 0,
      "outputs": []
    }
  ]
}